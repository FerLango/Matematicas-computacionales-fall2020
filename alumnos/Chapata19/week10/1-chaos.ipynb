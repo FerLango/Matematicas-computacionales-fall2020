{
 "cells": [
  {
   "cell_type": "markdown",
   "metadata": {},
   "source": [
    "<div class=\"alert alert-warning\">\n",
    "    \n",
    "Lectura recomendada: [Best Practices for Scientific Computing](http://arxiv.org/pdf/1210.0530v3.pdf)\n",
    "</div>"
   ]
  },
  {
   "cell_type": "markdown",
   "metadata": {},
   "source": [
    "# Caos: Primera parte"
   ]
  },
  {
   "cell_type": "markdown",
   "metadata": {},
   "source": [
    "## Introducción"
   ]
  },
  {
   "cell_type": "markdown",
   "metadata": {},
   "source": [
    "- Edward Lorenz la definió como:\n",
    "\n",
    "    **Caos** Cuando el presente determina el futuro, pero el presente aproximado no determina aproximadamente el futuro."
   ]
  },
  {
   "cell_type": "markdown",
   "metadata": {},
   "source": [
    "- La **teoría del caos** estudia el comportamiento de los sistemas dinámicos que son muy sensibles a las condiciones iniciales (El famoso _efecto mariposa_ según [Jurassic Park](http://en.wikipedia.org/wiki/Jurassic_Park_%28film%29)). \n",
    "        - Aunque no es lo único, ve más adelante.\n",
    "        \n",
    "- Este hecho hace que la predicción  a largo plazo sea imposible.\n",
    "\n",
    "- Entonces la afirmación **determinismo** $\\to$ **predictibilidad** es falsa.\n",
    "\n"
   ]
  },
  {
   "cell_type": "markdown",
   "metadata": {},
   "source": [
    "Chaos was the law of nature; Order was the dream of man\n",
    "-- Henry Adams"
   ]
  },
  {
   "cell_type": "markdown",
   "metadata": {},
   "source": [
    "- Para saber **muchísimo más** recomiendo: [Chaos Book](http://chaosbook.org/)"
   ]
  },
  {
   "cell_type": "markdown",
   "metadata": {},
   "source": [
    "Durante siglos en física se estuvo trabajando con sistemas como el [oscilador armónico](http://en.wikipedia.org/wiki/Harmonic_oscillator) y el problema de dos cuerpos con fuerza central (también conocido como [_problema de Kepler_](http://en.wikipedia.org/wiki/Kepler_problem)) los cuales se consideraban como paradigmáticos para resolver problemas. La explosión del caos en el siglo XX nos señalaba que esos problemas y métodos no eran la norma, si no al contrario: eran casos especiales."
   ]
  },
  {
   "cell_type": "markdown",
   "metadata": {},
   "source": [
    "A lo largo del curso (sobre todo en la última parte) podría quedar el sabor de boca de que las herramientas analíticas son un fraude y que hemos sido engañados durante toda nuestra educación y que el único camino son las simulaciones y la estadística."
   ]
  },
  {
   "cell_type": "markdown",
   "metadata": {},
   "source": [
    "Pero eso no es cierto: Existen teorías que tienen el mismo poder predictivo, y el estudio del caso general sigue abriendo el camino para la comprehensión científica del mundo."
   ]
  },
  {
   "cell_type": "markdown",
   "metadata": {},
   "source": [
    "Lo que si es cierto, es que, partiendo de la definición de que un **sistema determinístico** es aquel que su estado futuro esta _completamente_ determinado por sus condiciones actuales (en contraste con un sistema estocástico en el cual el futuro está determinado sólo parcialmente) ya no implica **predictibilidad**."
   ]
  },
  {
   "cell_type": "markdown",
   "metadata": {},
   "source": [
    "## Sensitividad a condiciones iniciales"
   ]
  },
  {
   "cell_type": "markdown",
   "metadata": {},
   "source": [
    "Una de las características que puede indicar **caos** es la sensibiliad a condiciones iniciales, la cual se puede expresar matemáticamente como:"
   ]
  },
  {
   "cell_type": "markdown",
   "metadata": {},
   "source": [
    "$$\n",
    "|\\delta\\mathbf{x}(t)| = e^{\\lambda t}|\\delta\\mathbf{x}(0)|\n",
    "$$"
   ]
  },
  {
   "cell_type": "markdown",
   "metadata": {},
   "source": [
    "a $\\lambda$ se le conoce como _exponente de Lyapunov_. Si este exponente positivo indica que con el paso del tiempo la diferencia $\\delta$ crece exponencialmente."
   ]
  },
  {
   "cell_type": "markdown",
   "metadata": {},
   "source": [
    "<div class=\"alert alert-danger\">\n",
    "    \n",
    "**NOTA** La sensibilidad es una idea muy importante pero no determina completamente si el sistema es caotico o no, para ello se necesita otra característica: _mezcla topológica_ (topological mixing), la cual verémos más adelante, pero se puede entender como que las trayectorias del sistema, luego de diverger se vuelven a aproximar un número infinito de veces.\n",
    "</div>"
   ]
  },
  {
   "cell_type": "markdown",
   "metadata": {},
   "source": [
    "### Mapeos"
   ]
  },
  {
   "cell_type": "markdown",
   "metadata": {},
   "source": [
    "A los sistemas dinámicos discretos, en una dimensión se les conoce como **mapas**, ya que son funciones\n",
    "\n",
    "$$\n",
    "f: \\mathrm{R} \\to \\mathrm{R}\n",
    "$$\n",
    "\n",
    "y los cuales producen la _secuencia_ de puntos:\n",
    "\n",
    "$$\n",
    "\\{x, f(x), f^2(x), f^3(x), \\ldots\\}\n",
    "$$\n",
    "\n",
    "la cual se conoce como _órbita_ de $x$ bajo $f$."
   ]
  },
  {
   "cell_type": "markdown",
   "metadata": {},
   "source": [
    "Los sistemas dinámicos discretos, se pueden pensar como ecuaciones de diferencias de primer orden\n",
    "\n",
    "$$\n",
    "y = x_{n+1} = f(x_n)\n",
    "$$\n",
    "\n",
    "y regularmente \n",
    "\n",
    "$$\n",
    "y=f(x) = f(x, a)\n",
    "$$\n",
    "\n",
    "existe un parámetro $a$ que puede influir muchísimo en el comportamiento del sistema."
   ]
  },
  {
   "cell_type": "markdown",
   "metadata": {},
   "source": [
    "### Comportamientos"
   ]
  },
  {
   "cell_type": "markdown",
   "metadata": {},
   "source": [
    "Pueden pasar lo siguiente:\n",
    "\n",
    "- Si $f(x) = x$ hemos alcanzado un _punto fijo_.\n",
    "\n",
    "- Si $f^n(x) = x$, pero $f^k(x) \\neq x$ para $k \\leq n$, se dice que la órbita tiene _periodo_ de orden $n$."
   ]
  },
  {
   "cell_type": "markdown",
   "metadata": {},
   "source": [
    "### Mapeo logístico"
   ]
  },
  {
   "cell_type": "markdown",
   "metadata": {},
   "source": [
    "$$\n",
    "x_{n+1} = rx_n(1 -x_n)\n",
    "$$"
   ]
  },
  {
   "cell_type": "markdown",
   "metadata": {},
   "source": [
    "Donde, para fines de esta clase, $r$ esta contenido en \n",
    "\n",
    "$$\n",
    "0 \\leq r \\leq 4\n",
    "$$\n",
    "\n",
    "la razón de esto, es que el cuadro unitario mapea al cuadro unitario, i.e.\n",
    "\n",
    "$$ \n",
    "0 \\leq x \\leq 1 \\to 0 \\leq f(x) \\leq 1\n",
    "$$"
   ]
  },
  {
   "cell_type": "markdown",
   "metadata": {},
   "source": [
    "<div class=\"alert alert-info\">\n",
    "    \n",
    "**Ejercicio** ¿Por qué?\n",
    "</div>"
   ]
  },
  {
   "cell_type": "markdown",
   "metadata": {},
   "source": [
    "<div class=\"alert alert-info\">\n",
    "    \n",
    "**Ejercicio**  Define la función `logistic_map` que recibe como parámetros $x$ y $r$ regresa $rx(1−x)$. \n",
    "</div>"
   ]
  },
  {
   "cell_type": "code",
   "execution_count": 1,
   "metadata": {},
   "outputs": [],
   "source": [
    "def logistic_map(x,r):\n",
    "    return r*x*(1-x)"
   ]
  },
  {
   "cell_type": "markdown",
   "metadata": {},
   "source": [
    "Los _puntos fijos_ del mapeo logístico son:"
   ]
  },
  {
   "cell_type": "markdown",
   "metadata": {},
   "source": [
    "$$\n",
    "x = f(x)\n",
    "$$\n",
    "\n",
    "$$\n",
    "x = rx(1-x)\n",
    "$$\n",
    "\n",
    "$$\n",
    "1 = r(1-x)\n",
    "$$\n",
    "\n",
    "$$\n",
    "x = 1 - \\frac{1}{r}\n",
    "$$"
   ]
  },
  {
   "cell_type": "markdown",
   "metadata": {},
   "source": [
    "El punto fijo se dice _estable_ si $|f(x) - x_0| < |x - x_0|$ e _inestable_ si la desigualdad se invierte."
   ]
  },
  {
   "cell_type": "markdown",
   "metadata": {},
   "source": [
    "<div class=\"alert alert-info\">\n",
    "    \n",
    "**Ejercicio** Calcule el punto fijo para $r = 2$ usando SymPy\n",
    "</div>"
   ]
  },
  {
   "cell_type": "code",
   "execution_count": 3,
   "metadata": {},
   "outputs": [
    {
     "data": {
      "text/latex": [
       "$\\displaystyle x = \\frac{1}{2}$"
      ],
      "text/plain": [
       "Eq(x, 1/2)"
      ]
     },
     "execution_count": 3,
     "metadata": {},
     "output_type": "execute_result"
    }
   ],
   "source": [
    "from sympy import *\n",
    "x = Symbol('x')\n",
    "r = Symbol('r')\n",
    "fijo = Eq(x, 1-1/r)\n",
    "fijo.subs(r,2)"
   ]
  },
  {
   "cell_type": "markdown",
   "metadata": {},
   "source": [
    "<div class=\"alert alert-warning\">\n",
    "\n",
    "**Teorema:**\n",
    "\n",
    "Sea $f(x_0) = x_0.$, entonces, \n",
    "\n",
    "<ul>\n",
    "<li>Si $f'(x)$ es contínua y $|f'(x_0)| < 1$ entonces $x_0$ es estable.</li>\n",
    "\n",
    "\n",
    "<li>Si $f'(x)$ es contínua y $|f'(x_0)| > 1$ entonces $x_0$ es inestable.</li>\n",
    "</ul>\n",
    "</div>"
   ]
  },
  {
   "cell_type": "markdown",
   "metadata": {},
   "source": [
    "<div class=\"alert alert-info\">\n",
    "    \n",
    "**Ejercicio** ¿Cuáles son las condiciones de estabilidad para el parámetro $r$? Los valores de $r$ para cuales cambia de estable a inestable y viceversa, se llaman _puntos de bifurcación_.\n",
    "</div>"
   ]
  },
  {
   "cell_type": "code",
   "execution_count": 4,
   "metadata": {},
   "outputs": [
    {
     "data": {
      "text/latex": [
       "$\\displaystyle - r \\left(1 - \\frac{1}{r}\\right) + 1$"
      ],
      "text/plain": [
       "-r*(1 - 1/r) + 1"
      ]
     },
     "execution_count": 4,
     "metadata": {},
     "output_type": "execute_result"
    }
   ],
   "source": [
    "Derivative(r*x*(1-x),x).doit().subs(x,1-1/r)"
   ]
  },
  {
   "cell_type": "code",
   "execution_count": 5,
   "metadata": {},
   "outputs": [
    {
     "data": {
      "text/latex": [
       "$\\displaystyle r = 1$"
      ],
      "text/plain": [
       "Eq(r, 1)"
      ]
     },
     "execution_count": 5,
     "metadata": {},
     "output_type": "execute_result"
    }
   ],
   "source": [
    "Eq(Derivative(r*x*(1-x),x).doit().subs(x,1-1/r),1).simplify()"
   ]
  },
  {
   "cell_type": "code",
   "execution_count": 6,
   "metadata": {},
   "outputs": [
    {
     "data": {
      "text/latex": [
       "$\\displaystyle r = 3$"
      ],
      "text/plain": [
       "Eq(r, 3)"
      ]
     },
     "execution_count": 6,
     "metadata": {},
     "output_type": "execute_result"
    }
   ],
   "source": [
    "Eq(Derivative(r*x*(1-x),x).doit().subs(x,1-1/r),-1).simplify()"
   ]
  },
  {
   "cell_type": "code",
   "execution_count": 7,
   "metadata": {},
   "outputs": [
    {
     "data": {
      "text/latex": [
       "$\\displaystyle \\left|{r - 2}\\right| = 1$"
      ],
      "text/plain": [
       "Eq(Abs(r - 2), 1)"
      ]
     },
     "execution_count": 7,
     "metadata": {},
     "output_type": "execute_result"
    }
   ],
   "source": [
    "simplify(Eq(abs(diff(r * x * (1 - x), x)).subs(x, 1 - 1/r),1))"
   ]
  },
  {
   "cell_type": "markdown",
   "metadata": {},
   "source": [
    "<div class=\"alert alert-info\">\n",
    "    \n",
    "**Ejercicio** Programa un control para cambiar $r$ entre $0$ y $4$ (con un slider) y otro para definid $x_0$. Grafica `logistic_map` respecto al número de iteraciones $N$. ¿Qué observas? ¿Puedes ver algún _periodo_?¿Está cerca de los puntos fijos?\n",
    "</div>"
   ]
  },
  {
   "cell_type": "code",
   "execution_count": 2,
   "metadata": {},
   "outputs": [],
   "source": [
    "from ipywidgets import interact, fixed, widgets\n",
    "\n",
    "def logistic_map_r(n, x, r):\n",
    "    if n == 1:\n",
    "        return logistic_map(x,r)\n",
    "    else:\n",
    "        return logistic_map(logistic_map_r(n-1,x,r),r)"
   ]
  },
  {
   "cell_type": "code",
   "execution_count": 9,
   "metadata": {},
   "outputs": [
    {
     "data": {
      "text/plain": [
       "0.5"
      ]
     },
     "execution_count": 9,
     "metadata": {},
     "output_type": "execute_result"
    }
   ],
   "source": [
    "logistic_map_r(8,.1,2)"
   ]
  },
  {
   "cell_type": "code",
   "execution_count": 3,
   "metadata": {},
   "outputs": [],
   "source": [
    "import matplotlib.pyplot as plt\n",
    "\n",
    "def plotLogisticMap(n, x, r):\n",
    "    Y = [x]\n",
    "    for i in range(0, n):\n",
    "        Y.append(logistic_map_r(i+1, x, r))\n",
    "    plt.figure(figsize = (8,6), dpi = 80)\n",
    "    plt.plot(range(1,n+2),Y)"
   ]
  },
  {
   "cell_type": "code",
   "execution_count": 4,
   "metadata": {},
   "outputs": [
    {
     "data": {
      "application/vnd.jupyter.widget-view+json": {
       "model_id": "cb20aa740e7e4db2b50b91fb99a48605",
       "version_major": 2,
       "version_minor": 0
      },
      "text/plain": [
       "interactive(children=(IntSlider(value=20, description='n', max=60, min=-20), FloatSlider(value=0.0, descriptio…"
      ]
     },
     "metadata": {},
     "output_type": "display_data"
    },
    {
     "data": {
      "text/plain": [
       "<function __main__.plotLogisticMap(n, x, r)>"
      ]
     },
     "execution_count": 4,
     "metadata": {},
     "output_type": "execute_result"
    }
   ],
   "source": [
    "interact(plotLogisticMap, n=20, r=(0,4,.1),x=(0,1,.1))"
   ]
  },
  {
   "cell_type": "markdown",
   "metadata": {},
   "source": [
    "<div class=\"alert alert-info\">\n",
    "    \n",
    "**Ejercicio** ¿Qué sucede para (a) $x_0 = 0.35$ en $r = 2.8$ y (b) para $x_0 = 0.35$ en $r=3.1$. ¿Porqué escogí estos valores?\n",
    "</div>"
   ]
  },
  {
   "cell_type": "code",
   "execution_count": 5,
   "metadata": {},
   "outputs": [
    {
     "data": {
      "image/png": "[encoded data removed]",
      "text/plain": [
       "<Figure size 640x480 with 1 Axes>"
      ]
     },
     "metadata": {
      "needs_background": "light"
     },
     "output_type": "display_data"
    }
   ],
   "source": [
    "plotLogisticMap(20, 0.35, 2.8)"
   ]
  },
  {
   "cell_type": "code",
   "execution_count": 13,
   "metadata": {},
   "outputs": [
    {
     "data": {
      "image/png": "[encoded data removed]",
      "text/plain": [
       "<Figure size 640x480 with 1 Axes>"
      ]
     },
     "metadata": {
      "needs_background": "light"
     },
     "output_type": "display_data"
    }
   ],
   "source": [
    "plotLogisticMap(20, 0.35, 3.1)"
   ]
  },
  {
   "cell_type": "markdown",
   "metadata": {},
   "source": [
    "<div class=\"alert alert-info\">\n",
    "    \n",
    "**Ejercicio** Define una función `iterar` que reciba una función `g`, un punto inicial `x0`, un entero `N` y el parámetro `r` regrese $g(g( \\ldots(g(x_0, r),r) \\ldots)$. En otras palabras que itere `g`, `N` veces a partir del punto `x0`.\n",
    "</div>"
   ]
  },
  {
   "cell_type": "code",
   "execution_count": 7,
   "metadata": {},
   "outputs": [],
   "source": [
    "def iterar(g, x0, N, r):\n",
    "    if N == 1:\n",
    "        return g(x0,r)\n",
    "    else:\n",
    "        return g(iterar(g, x0, N-1, r), r)"
   ]
  },
  {
   "cell_type": "markdown",
   "metadata": {},
   "source": [
    "<div class=\"alert alert-info\">\n",
    "    \n",
    "**Ejercicio** Define una función `iterarLista` que reciba una función `g`, un punto inicial `x0`, un entero `N` y el parámetro $r$ regrese la lista $[x_0, g(x), g(g(x)), \\ldots g(g(\\ldots(g(x))\\ldots))]$ En otras palabras que itere `g`, `N-1` veces a partir del punto `x0` y devuelva la órbita completa empezando desde `x0`.\n",
    "</div>"
   ]
  },
  {
   "cell_type": "code",
   "execution_count": 8,
   "metadata": {},
   "outputs": [],
   "source": [
    "def iterarLista(g, x0, N, r):\n",
    "    Y = [x0]\n",
    "    for i in range(0, N):\n",
    "        Y.append(iterar(g, x0, i+1, r))\n",
    "    return Y"
   ]
  },
  {
   "cell_type": "markdown",
   "metadata": {},
   "source": [
    "<div class=\"alert alert-info\">\n",
    "    \n",
    "**Ejercicio** Usa las funciones recién definidas para calcular iteraciones para $r = \\{ 0.8, 1.2, 2.8, 3.2\\}$,\n",
    "</div>"
   ]
  },
  {
   "cell_type": "code",
   "execution_count": 9,
   "metadata": {},
   "outputs": [
    {
     "name": "stdout",
     "output_type": "stream",
     "text": [
      "[0.1, 0.07200000000000002, 0.053452800000000016, 0.04047647853772801, 0.031070506578330284, 0.024084104159436976, 0.018803248069019493, 0.014759748744859528, 0.011633518849478518, 0.009198544070925876, 0.007291144686320888, 0.005790387116387219, 0.004605486826743676, 0.0036674210542658936, 0.002923176861661297, 0.002331705518957396, 0.0018610149346642076, 0.0014860412464617315, 0.0011870663423004368, 0.0009485257726395314, 0.000758100857198536]\n",
      "[0.1, 0.07200000000000002, 0.053452800000000016, 0.04047647853772801, 0.031070506578330284, 0.024084104159436976, 0.018803248069019493, 0.014759748744859528, 0.011633518849478518, 0.009198544070925876, 0.007291144686320888, 0.005790387116387219, 0.004605486826743676, 0.0036674210542658936, 0.002923176861661297, 0.002331705518957396, 0.0018610149346642076, 0.0014860412464617315, 0.0011870663423004368, 0.0009485257726395314, 0.000758100857198536]\n",
      "[0.1, 0.07200000000000002, 0.053452800000000016, 0.04047647853772801, 0.031070506578330284, 0.024084104159436976, 0.018803248069019493, 0.014759748744859528, 0.011633518849478518, 0.009198544070925876, 0.007291144686320888, 0.005790387116387219, 0.004605486826743676, 0.0036674210542658936, 0.002923176861661297, 0.002331705518957396, 0.0018610149346642076, 0.0014860412464617315, 0.0011870663423004368, 0.0009485257726395314, 0.000758100857198536]\n",
      "[0.1, 0.07200000000000002, 0.053452800000000016, 0.04047647853772801, 0.031070506578330284, 0.024084104159436976, 0.018803248069019493, 0.014759748744859528, 0.011633518849478518, 0.009198544070925876, 0.007291144686320888, 0.005790387116387219, 0.004605486826743676, 0.0036674210542658936, 0.002923176861661297, 0.002331705518957396, 0.0018610149346642076, 0.0014860412464617315, 0.0011870663423004368, 0.0009485257726395314, 0.000758100857198536]\n"
     ]
    }
   ],
   "source": [
    "r=[0.8,1.2,2.8, 3.2]\n",
    "\n",
    "for i in r:\n",
    "    print(iterarLista(logistic_map, .1, 20, .8))"
   ]
  },
  {
   "cell_type": "markdown",
   "metadata": {},
   "source": [
    "## Diagrama de CobWeb"
   ]
  },
  {
   "cell_type": "markdown",
   "metadata": {},
   "source": [
    "<div class=\"alert alert-info\">\n",
    "    \n",
    "**Ejercicio** Dibuja en una gráfica `logistic_map`, como ejes usa $N_{n+1}$ y $N_n$, además agrega la línea $y = x$ en la misma gráfica. ¿Qué observas para los distintos valores de $r$? Grafícala junto a la gráfica anterior.\n",
    "</div>"
   ]
  },
  {
   "cell_type": "code",
   "execution_count": 10,
   "metadata": {},
   "outputs": [],
   "source": [
    "import matplotlib.pyplot as plt\n",
    "import numpy as np\n",
    "\n",
    "def cobWeb(n, x, r, g = logistic_map):\n",
    "    Y = [x]\n",
    "    V = [] \n",
    "    for i in range(0, n):\n",
    "        Y.append(iterar(g, x, i+1, r))\n",
    "        V.append([Y[i],Y[i]])\n",
    "        V.append([Y[i],Y[i+1]])\n",
    "                   \n",
    "    V = np.array(V)\n",
    "    plt.figure(figsize = (8,6), dpi = 80)\n",
    "    X = np.linspace(0,1,50)\n",
    "    plt.plot(X,g(X ,r))\n",
    "    plt.plot(X,X)\n",
    "    plt.plot(V[:,0], V[:,1])"
   ]
  },
  {
   "cell_type": "code",
   "execution_count": 11,
   "metadata": {},
   "outputs": [
    {
     "data": {
      "image/png": "[encoded data removed]",
      "text/plain": [
       "<Figure size 640x480 with 1 Axes>"
      ]
     },
     "metadata": {
      "needs_background": "light"
     },
     "output_type": "display_data"
    }
   ],
   "source": [
    "cobWeb(30, .1, 2.8, logistic_map)"
   ]
  },
  {
   "cell_type": "code",
   "execution_count": 13,
   "metadata": {},
   "outputs": [
    {
     "data": {
      "application/vnd.jupyter.widget-view+json": {
       "model_id": "ae51f395a0eb442eadb71b47258f2d77",
       "version_major": 2,
       "version_minor": 0
      },
      "text/plain": [
       "interactive(children=(IntSlider(value=15, description='n', max=30, min=1), FloatSlider(value=0.0, description=…"
      ]
     },
     "metadata": {},
     "output_type": "display_data"
    },
    {
     "data": {
      "text/plain": [
       "<function __main__.cobWeb(n, x, r, g=<function logistic_map at 0x7f61dd510940>)>"
      ]
     },
     "execution_count": 13,
     "metadata": {},
     "output_type": "execute_result"
    }
   ],
   "source": [
    "from ipywidgets import interact, fixed, widgets\n",
    "interact(cobWeb, n = (1,30,1), x= (0,1,.05), r=(0,4,.05), g = fixed(logistic_map))"
   ]
  },
  {
   "cell_type": "markdown",
   "metadata": {},
   "source": [
    "<div class=\"alert alert-info\">\n",
    "    \n",
    "**Ejercicio** Agrega los segmentos de línea $(x_0, x_0), (x_0. f(x_0)), (f(x_0), f(x_0)), (f(x_0), f(f(x_0))), \\ldots$\n",
    "</div>"
   ]
  },
  {
   "cell_type": "markdown",
   "metadata": {},
   "source": [
    "## Diagrama de Bifurcación"
   ]
  },
  {
   "cell_type": "markdown",
   "metadata": {},
   "source": [
    "<div class=\"alert alert-info\">\n",
    "    \n",
    "**Ejercicio** ¿Qué hace el siguiente código? Modificalo para que use nuestras funciones.\n",
    "</div>"
   ]
  },
  {
   "cell_type": "code",
   "execution_count": 20,
   "metadata": {},
   "outputs": [],
   "source": [
    "import math\n",
    "from PIL import Image\n",
    "imgx = 1000\n",
    "imgy = 500\n",
    "image = Image.new(\"RGB\", (imgx, imgy))\n",
    "\n",
    "xa = 1\n",
    "xb = 4\n",
    "maxit = 5000\n",
    "\n",
    "for i in range(imgx):\n",
    "    r = xa + (xb - xa) * float(i) / (imgx - 1)\n",
    "    x = 0.5\n",
    "    for j in range(maxit):\n",
    "        x = r * x * (1 - x)\n",
    "        if j > maxit / 2:\n",
    "            image.putpixel((i, int(x * imgy)), (255, 255, 255))\n",
    "\n",
    "image.save(\"bifurcacion.png\", \"PNG\")"
   ]
  },
  {
   "cell_type": "markdown",
   "metadata": {},
   "source": [
    "<img src=\"./bifurcacion.png\"/>"
   ]
  },
  {
   "cell_type": "markdown",
   "metadata": {},
   "source": [
    "### Pasos para producir el diagrama de bifurcación"
   ]
  },
  {
   "cell_type": "markdown",
   "metadata": {},
   "source": [
    "1. Escoje un valor inicial para `r`\n",
    "2. Escoje un valor al azar para `x` en `[0,1]`\n",
    "3. Calcula la órbita de `x` bajo el `g` (en el caso anterior el mapeo logístico)\n",
    "4. Ignora las primeras `n` iteraciones y dibuja el valor de `x` para la iteración `n+1`\n",
    "5. Incrementa `r` y repite hasta `r` final."
   ]
  },
  {
   "cell_type": "markdown",
   "metadata": {},
   "source": [
    "<div class=\"alert alert-info\">\n",
    "**Ejercicio** Repite todo lo anterior para el mapeo\n",
    "\n",
    "$$\n",
    "f(x,\\mu) = 1 - \\mu x^2\n",
    "$$\n",
    "\n",
    "¿Qué diferencia observas? ¿Cuáles son sus puntos fijos? ¿Cuáles son los valores interesantes?\n",
    "</div>"
   ]
  }
 ],
 "metadata": {
  "kernelspec": {
   "display_name": "Python 3",
   "language": "python",
   "name": "python3"
  },
  "language_info": {
   "codemirror_mode": {
    "name": "ipython",
    "version": 3
   },
   "file_extension": ".py",
   "mimetype": "text/x-python",
   "name": "python",
   "nbconvert_exporter": "python",
   "pygments_lexer": "ipython3",
   "version": "3.8.5"
  }
 },
 "nbformat": 4,
 "nbformat_minor": 1
}
