{
 "cells": [
  {
   "cell_type": "markdown",
   "metadata": {},
   "source": [
    "# Epidemias: de la influenza a la invasión Zombie"
   ]
  },
  {
   "cell_type": "markdown",
   "metadata": {},
   "source": [
    "### Temas principales"
   ]
  },
  {
   "cell_type": "markdown",
   "metadata": {},
   "source": [
    "- Sistemas de ecuaciones diferenciales\n",
    "- Agentes"
   ]
  },
  {
   "cell_type": "markdown",
   "metadata": {},
   "source": [
    "## Introducción"
   ]
  },
  {
   "cell_type": "markdown",
   "metadata": {},
   "source": [
    "## Preguntas a responder"
   ]
  },
  {
   "cell_type": "markdown",
   "metadata": {},
   "source": [
    "- En el artículo _WHEN ZOMBIES ATTACK!: MATHEMATICAL MODELLING OF AN OUTBREAK OF ZOMBIE INFECTION_ se muestra el modelado básico del modelo **SIR** para una epidemia. Reproduzca los modelos ahí presentados. \n",
    "\n",
    "- ¿Cuáles son las diferencias entre una epidemia normal (influenza, gripe, peste) y una epidemia zombie?\n",
    "\n",
    "- Se han hecho muchas críticas al artículo (e.g. _Zombie Apocalypse: An Epidemic Model_) indicando que hay errores y que las gráficas no corresponden ¿Es cierto? Si es afirmativa la respuesta, ¿Cuáles son esos errores?\n",
    "\n",
    "- De la presentación _Zombie Apocalypse: An Epidemic Model_ se presentan varios `upgrades`, desarróllalos y coméntalos ¿Por qué son `upgrades`? ¿Qué mejoras proponen?\n",
    "\n",
    "- **Agentes** Use la clase agente para modelar una epidemia Zombie como se describe en [Agent-Based Computational Model of Humanity’s Prospects for Post Zombie Outbreak Survival](http://thetortoiseslens.blogspot.mx/2010/03/agent-based-computational-model-of.html). Utiliza el diagrama del artículo _SimZombie: A Case-Study in Agent-Based Simulation Construction_ como guía.\n",
    "\n",
    "- **Agentes** Use la clase agente para modelar una epidemia Zombie como se describe en [Zombie Infection Simulator](http://asymptote.wordpress.com/2008/01/13/asymptotes-zombie-infection-simulator/) (Esta incluye humanos que pelean  y humanos en pánico)"
   ]
  },
  {
   "cell_type": "markdown",
   "metadata": {},
   "source": [
    "## Preguntas extra"
   ]
  },
  {
   "cell_type": "markdown",
   "metadata": {},
   "source": [
    "- ¿Cómo modelarías una infección de hombres lobos?\n",
    "    - Tip: Necesitas llevar el paso del tiempo\n",
    "- Implementa el agente hombre-lobo\n",
    "- Discute el ejemplo de [z0mb1e](http://www.elliemary.com/agent-based-zombie-model.html), es una de las simulaciones más completas. ¿Qué hay de diferente a la tuya?\n",
    "- Desarrolla el agente descrito en ese artículo.\n",
    "- Desarrolla una simulación de dicho artículo."
   ]
  },
  {
   "cell_type": "markdown",
   "metadata": {},
   "source": [
    "## Bibliografía"
   ]
  },
  {
   "cell_type": "markdown",
   "metadata": {},
   "source": [
    "- **Philip Munz, Ioan Hudea, Joe Imad, Robert J. Smith?** _WHEN ZOMBIES ATTACK!: MATHEMATICAL MODELLING OF AN OUTBREAK OF ZOMBIE INFECTION_ In: **Infectious Disease Modelling Research Progress** `2009 Nova Science Publishers`\n",
    "\n",
    "- **Matthew Crossley and Martyn Amos** _SimZombie: A Case-Study in Agent-Based Simulation Construction_\n",
    "\n",
    "- [**Zombie Infection Simulator**](http://asymptote.wordpress.com/2008/01/13/asymptotes-zombie-infection-simulator/)\n",
    "\n",
    "- [**Agent-Based Computational Model of Humanity’s Prospects for Post Zombie Outbreak Survival**](http://thetortoiseslens.blogspot.mx/2010/03/agent-based-computational-model-of.html)"
   ]
  },
  {
   "cell_type": "code",
   "execution_count": 2,
   "metadata": {},
   "outputs": [
    {
     "ename": "NameError",
     "evalue": "name 'OD' is not defined",
     "output_type": "error",
     "traceback": [
      "\u001b[0;31m---------------------------------------------------------------------------\u001b[0m",
      "\u001b[0;31mNameError\u001b[0m                                 Traceback (most recent call last)",
      "\u001b[0;32m<ipython-input-2-fded5621ed7d>\u001b[0m in \u001b[0;36m<module>\u001b[0;34m\u001b[0m\n\u001b[1;32m      2\u001b[0m \u001b[0;34m\u001b[0m\u001b[0m\n\u001b[1;32m      3\u001b[0m \u001b[0;31m# initialize the population vector from the origin-destination flow matrix\u001b[0m\u001b[0;34m\u001b[0m\u001b[0;34m\u001b[0m\u001b[0;34m\u001b[0m\u001b[0m\n\u001b[0;32m----> 4\u001b[0;31m \u001b[0mN_k\u001b[0m \u001b[0;34m=\u001b[0m \u001b[0mnp\u001b[0m\u001b[0;34m.\u001b[0m\u001b[0mabs\u001b[0m\u001b[0;34m(\u001b[0m\u001b[0mnp\u001b[0m\u001b[0;34m.\u001b[0m\u001b[0mdiagonal\u001b[0m\u001b[0;34m(\u001b[0m\u001b[0mOD\u001b[0m\u001b[0;34m)\u001b[0m \u001b[0;34m+\u001b[0m \u001b[0mOD\u001b[0m\u001b[0;34m.\u001b[0m\u001b[0msum\u001b[0m\u001b[0;34m(\u001b[0m\u001b[0maxis\u001b[0m\u001b[0;34m=\u001b[0m\u001b[0;36m0\u001b[0m\u001b[0;34m)\u001b[0m \u001b[0;34m-\u001b[0m \u001b[0mOD\u001b[0m\u001b[0;34m.\u001b[0m\u001b[0msum\u001b[0m\u001b[0;34m(\u001b[0m\u001b[0maxis\u001b[0m\u001b[0;34m=\u001b[0m\u001b[0;36m1\u001b[0m\u001b[0;34m)\u001b[0m\u001b[0;34m)\u001b[0m\u001b[0;34m\u001b[0m\u001b[0;34m\u001b[0m\u001b[0m\n\u001b[0m\u001b[1;32m      5\u001b[0m \u001b[0mlocs_len\u001b[0m \u001b[0;34m=\u001b[0m \u001b[0mlen\u001b[0m\u001b[0;34m(\u001b[0m\u001b[0mN_k\u001b[0m\u001b[0;34m)\u001b[0m                 \u001b[0;31m# number of locations\u001b[0m\u001b[0;34m\u001b[0m\u001b[0;34m\u001b[0m\u001b[0m\n\u001b[1;32m      6\u001b[0m \u001b[0mSIR\u001b[0m \u001b[0;34m=\u001b[0m \u001b[0mnp\u001b[0m\u001b[0;34m.\u001b[0m\u001b[0mzeros\u001b[0m\u001b[0;34m(\u001b[0m\u001b[0mshape\u001b[0m\u001b[0;34m=\u001b[0m\u001b[0;34m(\u001b[0m\u001b[0mlocs_len\u001b[0m\u001b[0;34m,\u001b[0m \u001b[0;36m3\u001b[0m\u001b[0;34m)\u001b[0m\u001b[0;34m)\u001b[0m \u001b[0;31m# make a numpy array with 3 columns for keeping track of the S, I, R groups\u001b[0m\u001b[0;34m\u001b[0m\u001b[0;34m\u001b[0m\u001b[0m\n",
      "\u001b[0;31mNameError\u001b[0m: name 'OD' is not defined"
     ]
    }
   ],
   "source": [
    "import numpy as np\n",
    "\n",
    "# initialize the population vector from the origin-destination flow matrix\n",
    "N_k = np.abs(np.diagonal(OD) + OD.sum(axis=0) - OD.sum(axis=1))\n",
    "locs_len = len(N_k)                 # number of locations\n",
    "SIR = np.zeros(shape=(locs_len, 3)) # make a numpy array with 3 columns for keeping track of the S, I, R groups\n",
    "SIR[:,0] = N_k                      # initialize the S group with the respective populations\n",
    "  \n",
    "first_infections = np.where(SIR[:, 0]<=thresh, SIR[:, 0]//20, 0)   # for demo purposes, randomly introduce infections\n",
    "SIR[:, 0] = SIR[:, 0] - first_infections\n",
    "SIR[:, 1] = SIR[:, 1] + first_infections                           # move infections to the I group\n",
    "  \n",
    "# row normalize the SIR matrix for keeping track of group proportions\n",
    "row_sums = SIR.sum(axis=1)\n",
    "SIR_n = SIR / row_sums[:, np.newaxis]\n",
    "  \n",
    "# initialize parameters\n",
    "beta = 1.6\n",
    "gamma = 0.04\n",
    "public_trans = 0.5                                 # alpha\n",
    "R0 = beta/gamma\n",
    "beta_vec = np.random.gamma(1.6, 2, locs_len)\n",
    "gamma_vec = np.full(locs_len, gamma)\n",
    "public_trans_vec = np.full(locs_len, public_trans)\n",
    "  \n",
    "# make copy of the SIR matrices \n",
    "SIR_sim = SIR.copy()\n",
    "SIR_nsim = SIR_n.copy()\n",
    "  \n",
    "# run model\n",
    "print(SIR_sim.sum(axis=0).sum() == N_k.sum())\n",
    "from tqdm import tqdm_notebook\n",
    "infected_pop_norm = []\n",
    "susceptible_pop_norm = []\n",
    "recovered_pop_norm = []\n",
    "for time_step in tqdm_notebook(range(100)):\n",
    "    infected_mat = np.array([SIR_nsim[:,1],]*locs_len).transpose()\n",
    "    OD_infected = np.round(OD*infected_mat)\n",
    "    inflow_infected = OD_infected.sum(axis=0)\n",
    "    inflow_infected = np.round(inflow_infected*public_trans_vec)\n",
    "    print('total infected inflow: ', inflow_infected.sum())\n",
    "    new_infect = beta_vec*SIR_sim[:, 0]*inflow_infected/(N_k + OD.sum(axis=0))\n",
    "    new_recovered = gamma_vec*SIR_sim[:, 1]\n",
    "    new_infect = np.where(new_infect>SIR_sim[:, 0], SIR_sim[:, 0], new_infect)\n",
    "    SIR_sim[:, 0] = SIR_sim[:, 0] - new_infect\n",
    "    SIR_sim[:, 1] = SIR_sim[:, 1] + new_infect - new_recovered\n",
    "    SIR_sim[:, 2] = SIR_sim[:, 2] + new_recovered\n",
    "    SIR_sim = np.where(SIR_sim<0,0,SIR_sim)\n",
    "    # recompute the normalized SIR matrix\n",
    "    row_sums = SIR_sim.sum(axis=1)\n",
    "    SIR_nsim = SIR_sim / row_sums[:, np.newaxis]\n",
    "    S = SIR_sim[:,0].sum()/N_k.sum()\n",
    "    I = SIR_sim[:,1].sum()/N_k.sum()\n",
    "    R = SIR_sim[:,2].sum()/N_k.sum()\n",
    "    print(S, I, R, (S+I+R)*N_k.sum(), N_k.sum())\n",
    "    print('\\n')\n",
    "    infected_pop_norm.append(I)\n",
    "    susceptible_pop_norm.append(S)\n",
    "    recovered_pop_norm.append(R)"
   ]
  }
 ],
 "metadata": {
  "kernelspec": {
   "display_name": "Python 3",
   "language": "python",
   "name": "python3"
  },
  "language_info": {
   "codemirror_mode": {
    "name": "ipython",
    "version": 3
   },
   "file_extension": ".py",
   "mimetype": "text/x-python",
   "name": "python",
   "nbconvert_exporter": "python",
   "pygments_lexer": "ipython3",
   "version": "3.8.5"
  }
 },
 "nbformat": 4,
 "nbformat_minor": 1
}
