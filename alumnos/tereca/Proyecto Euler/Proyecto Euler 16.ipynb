{
 "cells": [
  {
   "cell_type": "markdown",
   "metadata": {},
   "source": [
    "**187550 Ana Teresa Calderón Juárez**\n",
    "# 6\n",
    "2^15 = 32768 y la suma de sus dígitos es 3 + 2 + 7 + 6 + 8 = 26.\n",
    "\n",
    "¿Cuál es la suma de los dígitos del número 2^1000?\n"
   ]
  },
  {
   "cell_type": "code",
   "execution_count": 15,
   "metadata": {},
   "outputs": [
    {
     "name": "stdout",
     "output_type": "stream",
     "text": [
      "La suma de todos sun dígitos es  1366\n"
     ]
    }
   ],
   "source": [
    "#Convierto a cadena de texto\n",
    "num=str(2**1000)\n",
    "\n",
    "#Hago una lista con los dígitos del número\n",
    "digitos=[int(i) for i in num]\n",
    "\n",
    "#COn sum, se suman los dígitos\n",
    "print('La suma de todos sun dígitos es ',sum(digitos))"
   ]
  },
  {
   "cell_type": "code",
   "execution_count": null,
   "metadata": {},
   "outputs": [],
   "source": []
  }
 ],
 "metadata": {
  "kernelspec": {
   "display_name": "Python 3",
   "language": "python",
   "name": "python3"
  },
  "language_info": {
   "codemirror_mode": {
    "name": "ipython",
    "version": 3
   },
   "file_extension": ".py",
   "mimetype": "text/x-python",
   "name": "python",
   "nbconvert_exporter": "python",
   "pygments_lexer": "ipython3",
   "version": "3.8.5"
  }
 },
 "nbformat": 4,
 "nbformat_minor": 4
}
