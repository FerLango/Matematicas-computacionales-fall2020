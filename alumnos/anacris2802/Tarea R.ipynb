{
 "cells": [
  {
   "cell_type": "markdown",
   "metadata": {},
   "source": [
    "## Parte 1\n",
    "De la base de datos de proyecciones poblacionales de CONAPO ([aquí](http://www.conapo.gob.mx/work/models/CONAPO/Datos_Abiertos/Proyecciones2018/pob_mit_proyecciones.csv) la base), hacer al menos 5 visualizaciones para entender el crecimiento poblacional. Se tienen muchas variables y categorías por explorar, se espera un análisis y contexto de las gráficas así como una interpretación. \n",
    "\n",
    "\n"
   ]
  },
  {
   "cell_type": "code",
   "execution_count": 1,
   "metadata": {},
   "outputs": [
    {
     "name": "stderr",
     "output_type": "stream",
     "text": [
      "Updating HTML index of packages in '.Library'\n",
      "\n",
      "Making 'packages.html' ...\n",
      " done\n",
      "\n"
     ]
    }
   ],
   "source": [
    "install.packages(\"readxl\")"
   ]
  },
  {
   "cell_type": "code",
   "execution_count": 2,
   "metadata": {},
   "outputs": [],
   "source": [
    "library(readxl)"
   ]
  },
  {
   "cell_type": "code",
   "execution_count": 4,
   "metadata": {},
   "outputs": [],
   "source": [
    "datos <- read.csv('pob_mit_proyecciones.csv',fileEncoding = \"Latin1\", check.names = F)"
   ]
  },
  {
   "cell_type": "code",
   "execution_count": 70,
   "metadata": {},
   "outputs": [
    {
     "data": {
      "text/html": [
       "<table>\n",
       "<caption>A data.frame: 6 × 7</caption>\n",
       "<thead>\n",
       "\t<tr><th></th><th scope=col>RENGLON</th><th scope=col>AÑO</th><th scope=col>ENTIDAD</th><th scope=col>CVE_GEO</th><th scope=col>EDAD</th><th scope=col>SEXO</th><th scope=col>POBLACION</th></tr>\n",
       "\t<tr><th></th><th scope=col>&lt;int&gt;</th><th scope=col>&lt;int&gt;</th><th scope=col>&lt;fct&gt;</th><th scope=col>&lt;int&gt;</th><th scope=col>&lt;int&gt;</th><th scope=col>&lt;fct&gt;</th><th scope=col>&lt;int&gt;</th></tr>\n",
       "</thead>\n",
       "<tbody>\n",
       "\t<tr><th scope=row>1</th><td>1</td><td>1950</td><td>República Mexicana</td><td>0</td><td>0</td><td>Hombres</td><td>572103</td></tr>\n",
       "\t<tr><th scope=row>2</th><td>2</td><td>1950</td><td>República Mexicana</td><td>0</td><td>0</td><td>Mujeres</td><td>559162</td></tr>\n",
       "\t<tr><th scope=row>3</th><td>3</td><td>1950</td><td>República Mexicana</td><td>0</td><td>1</td><td>Hombres</td><td>514540</td></tr>\n",
       "\t<tr><th scope=row>4</th><td>4</td><td>1950</td><td>República Mexicana</td><td>0</td><td>1</td><td>Mujeres</td><td>505269</td></tr>\n",
       "\t<tr><th scope=row>5</th><td>5</td><td>1950</td><td>República Mexicana</td><td>0</td><td>2</td><td>Hombres</td><td>478546</td></tr>\n",
       "\t<tr><th scope=row>6</th><td>6</td><td>1950</td><td>República Mexicana</td><td>0</td><td>2</td><td>Mujeres</td><td>469322</td></tr>\n",
       "</tbody>\n",
       "</table>\n"
      ],
      "text/latex": [
       "A data.frame: 6 × 7\n",
       "\\begin{tabular}{r|lllllll}\n",
       "  & RENGLON & AÑO & ENTIDAD & CVE\\_GEO & EDAD & SEXO & POBLACION\\\\\n",
       "  & <int> & <int> & <fct> & <int> & <int> & <fct> & <int>\\\\\n",
       "\\hline\n",
       "\t1 & 1 & 1950 & República Mexicana & 0 & 0 & Hombres & 572103\\\\\n",
       "\t2 & 2 & 1950 & República Mexicana & 0 & 0 & Mujeres & 559162\\\\\n",
       "\t3 & 3 & 1950 & República Mexicana & 0 & 1 & Hombres & 514540\\\\\n",
       "\t4 & 4 & 1950 & República Mexicana & 0 & 1 & Mujeres & 505269\\\\\n",
       "\t5 & 5 & 1950 & República Mexicana & 0 & 2 & Hombres & 478546\\\\\n",
       "\t6 & 6 & 1950 & República Mexicana & 0 & 2 & Mujeres & 469322\\\\\n",
       "\\end{tabular}\n"
      ],
      "text/markdown": [
       "\n",
       "A data.frame: 6 × 7\n",
       "\n",
       "| <!--/--> | RENGLON &lt;int&gt; | AÑO &lt;int&gt; | ENTIDAD &lt;fct&gt; | CVE_GEO &lt;int&gt; | EDAD &lt;int&gt; | SEXO &lt;fct&gt; | POBLACION &lt;int&gt; |\n",
       "|---|---|---|---|---|---|---|---|\n",
       "| 1 | 1 | 1950 | República Mexicana | 0 | 0 | Hombres | 572103 |\n",
       "| 2 | 2 | 1950 | República Mexicana | 0 | 0 | Mujeres | 559162 |\n",
       "| 3 | 3 | 1950 | República Mexicana | 0 | 1 | Hombres | 514540 |\n",
       "| 4 | 4 | 1950 | República Mexicana | 0 | 1 | Mujeres | 505269 |\n",
       "| 5 | 5 | 1950 | República Mexicana | 0 | 2 | Hombres | 478546 |\n",
       "| 6 | 6 | 1950 | República Mexicana | 0 | 2 | Mujeres | 469322 |\n",
       "\n"
      ],
      "text/plain": [
       "  RENGLON AÑO  ENTIDAD            CVE_GEO EDAD SEXO    POBLACION\n",
       "1 1       1950 República Mexicana 0       0    Hombres 572103   \n",
       "2 2       1950 República Mexicana 0       0    Mujeres 559162   \n",
       "3 3       1950 República Mexicana 0       1    Hombres 514540   \n",
       "4 4       1950 República Mexicana 0       1    Mujeres 505269   \n",
       "5 5       1950 República Mexicana 0       2    Hombres 478546   \n",
       "6 6       1950 República Mexicana 0       2    Mujeres 469322   "
      ]
     },
     "metadata": {},
     "output_type": "display_data"
    }
   ],
   "source": [
    "head(datos)"
   ]
  },
  {
   "cell_type": "code",
   "execution_count": 6,
   "metadata": {},
   "outputs": [],
   "source": [
    "library(dplyr)\n",
    "library(ggplot2)\n",
    "library(tidyr)"
   ]
  },
  {
   "cell_type": "code",
   "execution_count": 7,
   "metadata": {},
   "outputs": [
    {
     "data": {
      "text/html": [
       "<style>\n",
       ".list-inline {list-style: none; margin:0; padding: 0}\n",
       ".list-inline>li {display: inline-block}\n",
       ".list-inline>li:not(:last-child)::after {content: \"\\00b7\"; padding: 0 .5ex}\n",
       "</style>\n",
       "<ol class=list-inline><li>'RENGLON'</li><li>'AÑO'</li><li>'ENTIDAD'</li><li>'CVE_GEO'</li><li>'EDAD'</li><li>'SEXO'</li><li>'POBLACION'</li></ol>\n"
      ],
      "text/latex": [
       "\\begin{enumerate*}\n",
       "\\item 'RENGLON'\n",
       "\\item 'AÑO'\n",
       "\\item 'ENTIDAD'\n",
       "\\item 'CVE\\_GEO'\n",
       "\\item 'EDAD'\n",
       "\\item 'SEXO'\n",
       "\\item 'POBLACION'\n",
       "\\end{enumerate*}\n"
      ],
      "text/markdown": [
       "1. 'RENGLON'\n",
       "2. 'AÑO'\n",
       "3. 'ENTIDAD'\n",
       "4. 'CVE_GEO'\n",
       "5. 'EDAD'\n",
       "6. 'SEXO'\n",
       "7. 'POBLACION'\n",
       "\n",
       "\n"
      ],
      "text/plain": [
       "[1] \"RENGLON\"   \"AÑO\"       \"ENTIDAD\"   \"CVE_GEO\"   \"EDAD\"      \"SEXO\"     \n",
       "[7] \"POBLACION\""
      ]
     },
     "metadata": {},
     "output_type": "display_data"
    }
   ],
   "source": [
    "names(datos)\n"
   ]
  },
  {
   "cell_type": "code",
   "execution_count": 69,
   "metadata": {},
   "outputs": [
    {
     "name": "stderr",
     "output_type": "stream",
     "text": [
      "`summarise()` ungrouping output (override with `.groups` argument)\n",
      "\n"
     ]
    },
    {
     "data": {
      "image/png": "[encoded data removed]",
      "text/plain": [
       "plot without title"
      ]
     },
     "metadata": {
      "image/png": {
       "height": 420,
       "width": 420
      }
     },
     "output_type": "display_data"
    }
   ],
   "source": [
    "#Visualización en la cual podemos observar la población total de la República Mexicana por años \n",
    "# desde 1950 hasta la población estimada del año 2050\n",
    "\n",
    "datos %>%\n",
    "group_by(AÑO)%>%\n",
    "summarise(Pob_Total=sum(POBLACION,na.rm=FALSE))%>%\n",
    "ggplot(aes(AÑO,Pob_Total, fill=AÑO)) + geom_bar(stat='identity') + xlab(\"Año\")+\n",
    "       ylab(\"Población\")  + theme(legend.position=\"none\")+ggtitle(\"Población por año en la República Mexicana\")"
   ]
  },
  {
   "cell_type": "code",
   "execution_count": 65,
   "metadata": {},
   "outputs": [
    {
     "name": "stderr",
     "output_type": "stream",
     "text": [
      "`summarise()` ungrouping output (override with `.groups` argument)\n",
      "\n"
     ]
    },
    {
     "data": {
      "text/html": [
       "<table>\n",
       "<caption>A tibble: 1 × 1</caption>\n",
       "<thead>\n",
       "\t<tr><th scope=col>max(Pob_Total)</th></tr>\n",
       "\t<tr><th scope=col>&lt;int&gt;</th></tr>\n",
       "</thead>\n",
       "<tbody>\n",
       "\t<tr><td>296419188</td></tr>\n",
       "</tbody>\n",
       "</table>\n"
      ],
      "text/latex": [
       "A tibble: 1 × 1\n",
       "\\begin{tabular}{l}\n",
       " max(Pob\\_Total)\\\\\n",
       " <int>\\\\\n",
       "\\hline\n",
       "\t 296419188\\\\\n",
       "\\end{tabular}\n"
      ],
      "text/markdown": [
       "\n",
       "A tibble: 1 × 1\n",
       "\n",
       "| max(Pob_Total) &lt;int&gt; |\n",
       "|---|\n",
       "| 296419188 |\n",
       "\n"
      ],
      "text/plain": [
       "  max(Pob_Total)\n",
       "1 296419188     "
      ]
     },
     "metadata": {},
     "output_type": "display_data"
    }
   ],
   "source": [
    "datos %>%\n",
    "group_by(AÑO)%>%\n",
    "summarise(Pob_Total=sum(POBLACION,na.rm=FALSE))%>%\n",
    "summarise(max(Pob_Total))"
   ]
  },
  {
   "cell_type": "markdown",
   "metadata": {},
   "source": [
    "## Parte 2\n",
    "\n",
    "Con la misma base de datos, se requiere hacer todas las visualizaciones interactivas; las mismas 5 o más visualizaciones, ahora interactivas (recuerden plot.ly). Sugerencia: el año tiene que ser una de estas categorías ya que son proyecciones. "
   ]
  },
  {
   "cell_type": "code",
   "execution_count": null,
   "metadata": {},
   "outputs": [],
   "source": []
  },
  {
   "cell_type": "markdown",
   "metadata": {},
   "source": [
    "## Parte 3 \n",
    "\n",
    "Hacer todos los ejercicios hechos durante la clase. \n",
    "\n",
    "- Ejercicios durante la sesión 1\n",
    "- Visualizaciones interactivas para el cruce de variables filtrado por sexo."
   ]
  },
  {
   "cell_type": "code",
   "execution_count": 158,
   "metadata": {},
   "outputs": [],
   "source": [
    "library(dplyr)\n",
    "library(ggplot2)\n",
    "library(tidyr)"
   ]
  },
  {
   "cell_type": "markdown",
   "metadata": {},
   "source": [
    "### Velocidad de la Luz\n",
    "Tenemos 5 experimentos con 20 corridas de mediciones de la velocidad de la luz.\n",
    "\n",
    "* ¿Cómo exponen los resultados? \n",
    "* ¿Los resultados se ven equivalentes entre los experimentos?"
   ]
  },
  {
   "cell_type": "code",
   "execution_count": 159,
   "metadata": {},
   "outputs": [
    {
     "name": "stderr",
     "output_type": "stream",
     "text": [
      "\n",
      "Attaching package: ‘MASS’\n",
      "\n",
      "\n",
      "The following object is masked from ‘package:dplyr’:\n",
      "\n",
      "    select\n",
      "\n",
      "\n"
     ]
    },
    {
     "data": {
      "text/html": [
       "<style>\n",
       ".list-inline {list-style: none; margin:0; padding: 0}\n",
       ".list-inline>li {display: inline-block}\n",
       ".list-inline>li:not(:last-child)::after {content: \"\\00b7\"; padding: 0 .5ex}\n",
       "</style>\n",
       "<ol class=list-inline><li>'Speed'</li><li>'Run'</li><li>'Expt'</li></ol>\n"
      ],
      "text/latex": [
       "\\begin{enumerate*}\n",
       "\\item 'Speed'\n",
       "\\item 'Run'\n",
       "\\item 'Expt'\n",
       "\\end{enumerate*}\n"
      ],
      "text/markdown": [
       "1. 'Speed'\n",
       "2. 'Run'\n",
       "3. 'Expt'\n",
       "\n",
       "\n"
      ],
      "text/plain": [
       "[1] \"Speed\" \"Run\"   \"Expt\" "
      ]
     },
     "metadata": {},
     "output_type": "display_data"
    }
   ],
   "source": [
    "library(MASS)\n",
    "vl <- data.frame(michelson)\n",
    "names(vl)"
   ]
  },
  {
   "cell_type": "code",
   "execution_count": 160,
   "metadata": {},
   "outputs": [
    {
     "data": {
      "image/png": "[encoded data removed]",
      "text/plain": [
       "plot without title"
      ]
     },
     "metadata": {
      "image/png": {
       "height": 420,
       "width": 420
      }
     },
     "output_type": "display_data"
    }
   ],
   "source": [
    "ggplot(vl,aes(Speed, fill=Expt)) + \n",
    "    geom_histogram(binwidth=100) + xlab(\"Run\")+\n",
    "       ylab(\"Speed\") + facet_grid(~Expt) +\n",
    "       theme(legend.position=\"none\")"
   ]
  },
  {
   "cell_type": "markdown",
   "metadata": {},
   "source": [
    "### Prima\n",
    "¿Qué dice este gráfico de barras?"
   ]
  },
  {
   "cell_type": "code",
   "execution_count": 161,
   "metadata": {},
   "outputs": [
    {
     "data": {
      "image/png": "[encoded data removed]",
      "text/plain": [
       "plot without title"
      ]
     },
     "metadata": {
      "image/png": {
       "height": 420,
       "width": 420
      }
     },
     "output_type": "display_data"
    }
   ],
   "source": [
    "ggplot(Pima.tr2, aes(type))+geom_bar()"
   ]
  },
  {
   "cell_type": "markdown",
   "metadata": {},
   "source": [
    "¿Por qué la parte superior izquierda está vacía?"
   ]
  },
  {
   "cell_type": "code",
   "execution_count": 162,
   "metadata": {},
   "outputs": [
    {
     "data": {
      "image/png": "[encoded data removed]",
      "text/plain": [
       "plot without title"
      ]
     },
     "metadata": {
      "image/png": {
       "height": 420,
       "width": 420
      }
     },
     "output_type": "display_data"
    }
   ],
   "source": [
    "ggplot(Pima.tr2, aes(age,npreg))+geom_point()\n"
   ]
  },
  {
   "cell_type": "markdown",
   "metadata": {},
   "source": [
    "### Titanic\n",
    "\n",
    "* ¿Qué se les ocurre para graficar todo?\n",
    "\n",
    "* ¿Cuántos pasajeros en total viajaban por clase?\n",
    "\n",
    "* Exploren una por una las otras variables categóricas del dataset"
   ]
  },
  {
   "cell_type": "code",
   "execution_count": 163,
   "metadata": {},
   "outputs": [
    {
     "name": "stderr",
     "output_type": "stream",
     "text": [
      "`summarise()` ungrouping output (override with `.groups` argument)\n",
      "\n"
     ]
    },
    {
     "data": {
      "text/html": [
       "<table>\n",
       "<caption>A tibble: 4 × 2</caption>\n",
       "<thead>\n",
       "\t<tr><th scope=col>Class</th><th scope=col>Cantidad_Pasajeros</th></tr>\n",
       "\t<tr><th scope=col>&lt;fct&gt;</th><th scope=col>&lt;dbl&gt;</th></tr>\n",
       "</thead>\n",
       "<tbody>\n",
       "\t<tr><td>1st </td><td>325</td></tr>\n",
       "\t<tr><td>2nd </td><td>285</td></tr>\n",
       "\t<tr><td>3rd </td><td>706</td></tr>\n",
       "\t<tr><td>Crew</td><td>885</td></tr>\n",
       "</tbody>\n",
       "</table>\n"
      ],
      "text/latex": [
       "A tibble: 4 × 2\n",
       "\\begin{tabular}{ll}\n",
       " Class & Cantidad\\_Pasajeros\\\\\n",
       " <fct> & <dbl>\\\\\n",
       "\\hline\n",
       "\t 1st  & 325\\\\\n",
       "\t 2nd  & 285\\\\\n",
       "\t 3rd  & 706\\\\\n",
       "\t Crew & 885\\\\\n",
       "\\end{tabular}\n"
      ],
      "text/markdown": [
       "\n",
       "A tibble: 4 × 2\n",
       "\n",
       "| Class &lt;fct&gt; | Cantidad_Pasajeros &lt;dbl&gt; |\n",
       "|---|---|\n",
       "| 1st  | 325 |\n",
       "| 2nd  | 285 |\n",
       "| 3rd  | 706 |\n",
       "| Crew | 885 |\n",
       "\n"
      ],
      "text/plain": [
       "  Class Cantidad_Pasajeros\n",
       "1 1st   325               \n",
       "2 2nd   285               \n",
       "3 3rd   706               \n",
       "4 Crew  885               "
      ]
     },
     "metadata": {},
     "output_type": "display_data"
    }
   ],
   "source": [
    "t<- data.frame(Titanic)\n",
    "t %>%\n",
    "    group_by(Class) %>%\n",
    "    summarise(Cantidad_Pasajeros=sum(Freq,na.rm=TRUE)) %>%\n",
    "    arrange(Class)\n"
   ]
  },
  {
   "cell_type": "code",
   "execution_count": 165,
   "metadata": {},
   "outputs": [
    {
     "data": {
      "image/png": "[encoded data removed]",
      "text/plain": [
       "plot without title"
      ]
     },
     "metadata": {
      "image/png": {
       "height": 420,
       "width": 420
      }
     },
     "output_type": "display_data"
    }
   ],
   "source": [
    "ggplot(t,aes(Freq, fill=Survived)) + \n",
    "    geom_histogram(binwidth=100) + xlab(\" \")+\n",
    "       ylab(\"Age\") + facet_grid(Survived~Class) +\n",
    "       theme(legend.position=\"none\")"
   ]
  },
  {
   "cell_type": "code",
   "execution_count": 166,
   "metadata": {},
   "outputs": [],
   "source": [
    "### TERMINAR TITANIC"
   ]
  },
  {
   "cell_type": "markdown",
   "metadata": {},
   "source": [
    "### Swiss\n",
    "\n",
    "Tenemos datos de fertilidad y otras variables socioeconómicas de 47 provincias franco-parlantes en Swiza en 1888."
   ]
  },
  {
   "cell_type": "code",
   "execution_count": 168,
   "metadata": {},
   "outputs": [
    {
     "data": {
      "text/html": [
       "<table>\n",
       "<caption>A data.frame: 6 × 6</caption>\n",
       "<thead>\n",
       "\t<tr><th></th><th scope=col>Fertility</th><th scope=col>Agriculture</th><th scope=col>Examination</th><th scope=col>Education</th><th scope=col>Catholic</th><th scope=col>Infant.Mortality</th></tr>\n",
       "\t<tr><th></th><th scope=col>&lt;dbl&gt;</th><th scope=col>&lt;dbl&gt;</th><th scope=col>&lt;int&gt;</th><th scope=col>&lt;int&gt;</th><th scope=col>&lt;dbl&gt;</th><th scope=col>&lt;dbl&gt;</th></tr>\n",
       "</thead>\n",
       "<tbody>\n",
       "\t<tr><th scope=row>Courtelary</th><td>80.2</td><td>17.0</td><td>15</td><td>12</td><td> 9.96</td><td>22.2</td></tr>\n",
       "\t<tr><th scope=row>Delemont</th><td>83.1</td><td>45.1</td><td> 6</td><td> 9</td><td>84.84</td><td>22.2</td></tr>\n",
       "\t<tr><th scope=row>Franches-Mnt</th><td>92.5</td><td>39.7</td><td> 5</td><td> 5</td><td>93.40</td><td>20.2</td></tr>\n",
       "\t<tr><th scope=row>Moutier</th><td>85.8</td><td>36.5</td><td>12</td><td> 7</td><td>33.77</td><td>20.3</td></tr>\n",
       "\t<tr><th scope=row>Neuveville</th><td>76.9</td><td>43.5</td><td>17</td><td>15</td><td> 5.16</td><td>20.6</td></tr>\n",
       "\t<tr><th scope=row>Porrentruy</th><td>76.1</td><td>35.3</td><td> 9</td><td> 7</td><td>90.57</td><td>26.6</td></tr>\n",
       "</tbody>\n",
       "</table>\n"
      ],
      "text/latex": [
       "A data.frame: 6 × 6\n",
       "\\begin{tabular}{r|llllll}\n",
       "  & Fertility & Agriculture & Examination & Education & Catholic & Infant.Mortality\\\\\n",
       "  & <dbl> & <dbl> & <int> & <int> & <dbl> & <dbl>\\\\\n",
       "\\hline\n",
       "\tCourtelary & 80.2 & 17.0 & 15 & 12 &  9.96 & 22.2\\\\\n",
       "\tDelemont & 83.1 & 45.1 &  6 &  9 & 84.84 & 22.2\\\\\n",
       "\tFranches-Mnt & 92.5 & 39.7 &  5 &  5 & 93.40 & 20.2\\\\\n",
       "\tMoutier & 85.8 & 36.5 & 12 &  7 & 33.77 & 20.3\\\\\n",
       "\tNeuveville & 76.9 & 43.5 & 17 & 15 &  5.16 & 20.6\\\\\n",
       "\tPorrentruy & 76.1 & 35.3 &  9 &  7 & 90.57 & 26.6\\\\\n",
       "\\end{tabular}\n"
      ],
      "text/markdown": [
       "\n",
       "A data.frame: 6 × 6\n",
       "\n",
       "| <!--/--> | Fertility &lt;dbl&gt; | Agriculture &lt;dbl&gt; | Examination &lt;int&gt; | Education &lt;int&gt; | Catholic &lt;dbl&gt; | Infant.Mortality &lt;dbl&gt; |\n",
       "|---|---|---|---|---|---|---|\n",
       "| Courtelary | 80.2 | 17.0 | 15 | 12 |  9.96 | 22.2 |\n",
       "| Delemont | 83.1 | 45.1 |  6 |  9 | 84.84 | 22.2 |\n",
       "| Franches-Mnt | 92.5 | 39.7 |  5 |  5 | 93.40 | 20.2 |\n",
       "| Moutier | 85.8 | 36.5 | 12 |  7 | 33.77 | 20.3 |\n",
       "| Neuveville | 76.9 | 43.5 | 17 | 15 |  5.16 | 20.6 |\n",
       "| Porrentruy | 76.1 | 35.3 |  9 |  7 | 90.57 | 26.6 |\n",
       "\n"
      ],
      "text/plain": [
       "             Fertility Agriculture Examination Education Catholic\n",
       "Courtelary   80.2      17.0        15          12         9.96   \n",
       "Delemont     83.1      45.1         6           9        84.84   \n",
       "Franches-Mnt 92.5      39.7         5           5        93.40   \n",
       "Moutier      85.8      36.5        12           7        33.77   \n",
       "Neuveville   76.9      43.5        17          15         5.16   \n",
       "Porrentruy   76.1      35.3         9           7        90.57   \n",
       "             Infant.Mortality\n",
       "Courtelary   22.2            \n",
       "Delemont     22.2            \n",
       "Franches-Mnt 20.2            \n",
       "Moutier      20.3            \n",
       "Neuveville   20.6            \n",
       "Porrentruy   26.6            "
      ]
     },
     "metadata": {},
     "output_type": "display_data"
    }
   ],
   "source": [
    "head(data.frame(swiss))"
   ]
  },
  {
   "cell_type": "markdown",
   "metadata": {},
   "source": [
    "* ¿Cómo conjuntarían todas las variables?\n",
    "* Hagan gráficas para cada variable. ¿Se ve algo especial o raro? \n",
    "* Hagan un scatterplot de Fertilidad vs el p"
   ]
  },
  {
   "cell_type": "code",
   "execution_count": null,
   "metadata": {},
   "outputs": [],
   "source": []
  },
  {
   "cell_type": "markdown",
   "metadata": {},
   "source": [
    "### Galaxias\n",
    "\n",
    "Usando el conjunto $galaxies$ de MASS, que contiene velocidades para 82 planetas.\n",
    "\n",
    "1. Hagan histogramas, boxplots y la aproximación de la densidad. \n",
    "2. Cambien los anchos de las bandas y expliquen cuál es el mejor? \n",
    "3. Elijan el número de gráficas que se requieren para este experimento"
   ]
  },
  {
   "cell_type": "code",
   "execution_count": 172,
   "metadata": {},
   "outputs": [
    {
     "data": {
      "text/html": [
       "<table>\n",
       "<caption>A data.frame: 6 × 1</caption>\n",
       "<thead>\n",
       "\t<tr><th></th><th scope=col>galaxies</th></tr>\n",
       "\t<tr><th></th><th scope=col>&lt;dbl&gt;</th></tr>\n",
       "</thead>\n",
       "<tbody>\n",
       "\t<tr><th scope=row>1</th><td> 9172</td></tr>\n",
       "\t<tr><th scope=row>2</th><td> 9350</td></tr>\n",
       "\t<tr><th scope=row>3</th><td> 9483</td></tr>\n",
       "\t<tr><th scope=row>4</th><td> 9558</td></tr>\n",
       "\t<tr><th scope=row>5</th><td> 9775</td></tr>\n",
       "\t<tr><th scope=row>6</th><td>10227</td></tr>\n",
       "</tbody>\n",
       "</table>\n"
      ],
      "text/latex": [
       "A data.frame: 6 × 1\n",
       "\\begin{tabular}{r|l}\n",
       "  & galaxies\\\\\n",
       "  & <dbl>\\\\\n",
       "\\hline\n",
       "\t1 &  9172\\\\\n",
       "\t2 &  9350\\\\\n",
       "\t3 &  9483\\\\\n",
       "\t4 &  9558\\\\\n",
       "\t5 &  9775\\\\\n",
       "\t6 & 10227\\\\\n",
       "\\end{tabular}\n"
      ],
      "text/markdown": [
       "\n",
       "A data.frame: 6 × 1\n",
       "\n",
       "| <!--/--> | galaxies &lt;dbl&gt; |\n",
       "|---|---|\n",
       "| 1 |  9172 |\n",
       "| 2 |  9350 |\n",
       "| 3 |  9483 |\n",
       "| 4 |  9558 |\n",
       "| 5 |  9775 |\n",
       "| 6 | 10227 |\n",
       "\n"
      ],
      "text/plain": [
       "  galaxies\n",
       "1  9172   \n",
       "2  9350   \n",
       "3  9483   \n",
       "4  9558   \n",
       "5  9775   \n",
       "6 10227   "
      ]
     },
     "metadata": {},
     "output_type": "display_data"
    },
    {
     "data": {
      "text/html": [
       "'galaxies'"
      ],
      "text/latex": [
       "'galaxies'"
      ],
      "text/markdown": [
       "'galaxies'"
      ],
      "text/plain": [
       "[1] \"galaxies\""
      ]
     },
     "metadata": {},
     "output_type": "display_data"
    }
   ],
   "source": [
    "galaxias <- data.frame(galaxies)\n",
    "head(galaxias)\n",
    "names(galaxias)"
   ]
  },
  {
   "cell_type": "markdown",
   "metadata": {},
   "source": [
    "### Estudiantes. \n",
    "\n",
    "El conjunto $survey$ contiene información de estudiantes tomando su primer curso de estadística: \n",
    "\n",
    "1. Hacer el histograma y poner encima la estimación de la densidad, ¿hay bimodalidad?\n",
    "2. Jueguen con los anchos para tener mejores estimaciones de la densidad, ¿cuál es mejor?\n",
    "3. Comparen las distribuciones de hombres y mujeres, que compartan la escala, con distintas estimaciones de densidad. \n"
   ]
  },
  {
   "cell_type": "code",
   "execution_count": null,
   "metadata": {},
   "outputs": [],
   "source": []
  },
  {
   "cell_type": "markdown",
   "metadata": {},
   "source": [
    "### Presupuesto\n",
    "\n",
    "El conjunto $zuni$ del paquete $lawstat$, contiene 3 variabbles, distrito, ingreso por estudiante en dólares y el número de estudiantes. \n",
    "\n",
    "1. ¿Considerarías el 5% más bajo outliers o extremos?\n",
    "2. Quitando el 5% inferior hagan el gráfico de estimación de densidad ¿Es simétrico? \n",
    "3. Hagan un Q-Q plot y comenten si es normal o no. "
   ]
  },
  {
   "cell_type": "code",
   "execution_count": null,
   "metadata": {},
   "outputs": [],
   "source": []
  }
 ],
 "metadata": {
  "kernelspec": {
   "display_name": "R",
   "language": "R",
   "name": "ir"
  },
  "language_info": {
   "codemirror_mode": "r",
   "file_extension": ".r",
   "mimetype": "text/x-r-source",
   "name": "R",
   "pygments_lexer": "r",
   "version": "3.6.3"
  }
 },
 "nbformat": 4,
 "nbformat_minor": 4
}
