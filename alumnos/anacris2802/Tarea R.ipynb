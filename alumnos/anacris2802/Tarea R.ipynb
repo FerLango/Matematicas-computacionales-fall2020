{
 "cells": [
  {
   "cell_type": "markdown",
   "metadata": {},
   "source": [
    "## Parte 1\n",
    "De la base de datos de proyecciones poblacionales de CONAPO ([aquí](http://www.conapo.gob.mx/work/models/CONAPO/Datos_Abiertos/Proyecciones2018/pob_mit_proyecciones.csv) la base), hacer al menos 5 visualizaciones para entender el crecimiento poblacional. Se tienen muchas variables y categorías por explorar, se espera un análisis y contexto de las gráficas así como una interpretación. \n",
    "\n",
    "\n"
   ]
  },
  {
   "cell_type": "code",
   "execution_count": 1,
   "metadata": {},
   "outputs": [
    {
     "name": "stderr",
     "output_type": "stream",
     "text": [
      "Updating HTML index of packages in '.Library'\n",
      "\n",
      "Making 'packages.html' ...\n",
      " done\n",
      "\n"
     ]
    }
   ],
   "source": [
    "install.packages(\"readxl\")"
   ]
  },
  {
   "cell_type": "code",
   "execution_count": 2,
   "metadata": {},
   "outputs": [],
   "source": [
    "library(readxl)"
   ]
  },
  {
   "cell_type": "code",
   "execution_count": 4,
   "metadata": {},
   "outputs": [],
   "source": [
    "datos <- read.csv('pob_mit_proyecciones.csv',fileEncoding = \"Latin1\", check.names = F)"
   ]
  },
  {
   "cell_type": "code",
   "execution_count": 70,
   "metadata": {},
   "outputs": [
    {
     "data": {
      "text/html": [
       "<table>\n",
       "<caption>A data.frame: 6 × 7</caption>\n",
       "<thead>\n",
       "\t<tr><th></th><th scope=col>RENGLON</th><th scope=col>AÑO</th><th scope=col>ENTIDAD</th><th scope=col>CVE_GEO</th><th scope=col>EDAD</th><th scope=col>SEXO</th><th scope=col>POBLACION</th></tr>\n",
       "\t<tr><th></th><th scope=col>&lt;int&gt;</th><th scope=col>&lt;int&gt;</th><th scope=col>&lt;fct&gt;</th><th scope=col>&lt;int&gt;</th><th scope=col>&lt;int&gt;</th><th scope=col>&lt;fct&gt;</th><th scope=col>&lt;int&gt;</th></tr>\n",
       "</thead>\n",
       "<tbody>\n",
       "\t<tr><th scope=row>1</th><td>1</td><td>1950</td><td>República Mexicana</td><td>0</td><td>0</td><td>Hombres</td><td>572103</td></tr>\n",
       "\t<tr><th scope=row>2</th><td>2</td><td>1950</td><td>República Mexicana</td><td>0</td><td>0</td><td>Mujeres</td><td>559162</td></tr>\n",
       "\t<tr><th scope=row>3</th><td>3</td><td>1950</td><td>República Mexicana</td><td>0</td><td>1</td><td>Hombres</td><td>514540</td></tr>\n",
       "\t<tr><th scope=row>4</th><td>4</td><td>1950</td><td>República Mexicana</td><td>0</td><td>1</td><td>Mujeres</td><td>505269</td></tr>\n",
       "\t<tr><th scope=row>5</th><td>5</td><td>1950</td><td>República Mexicana</td><td>0</td><td>2</td><td>Hombres</td><td>478546</td></tr>\n",
       "\t<tr><th scope=row>6</th><td>6</td><td>1950</td><td>República Mexicana</td><td>0</td><td>2</td><td>Mujeres</td><td>469322</td></tr>\n",
       "</tbody>\n",
       "</table>\n"
      ],
      "text/latex": [
       "A data.frame: 6 × 7\n",
       "\\begin{tabular}{r|lllllll}\n",
       "  & RENGLON & AÑO & ENTIDAD & CVE\\_GEO & EDAD & SEXO & POBLACION\\\\\n",
       "  & <int> & <int> & <fct> & <int> & <int> & <fct> & <int>\\\\\n",
       "\\hline\n",
       "\t1 & 1 & 1950 & República Mexicana & 0 & 0 & Hombres & 572103\\\\\n",
       "\t2 & 2 & 1950 & República Mexicana & 0 & 0 & Mujeres & 559162\\\\\n",
       "\t3 & 3 & 1950 & República Mexicana & 0 & 1 & Hombres & 514540\\\\\n",
       "\t4 & 4 & 1950 & República Mexicana & 0 & 1 & Mujeres & 505269\\\\\n",
       "\t5 & 5 & 1950 & República Mexicana & 0 & 2 & Hombres & 478546\\\\\n",
       "\t6 & 6 & 1950 & República Mexicana & 0 & 2 & Mujeres & 469322\\\\\n",
       "\\end{tabular}\n"
      ],
      "text/markdown": [
       "\n",
       "A data.frame: 6 × 7\n",
       "\n",
       "| <!--/--> | RENGLON &lt;int&gt; | AÑO &lt;int&gt; | ENTIDAD &lt;fct&gt; | CVE_GEO &lt;int&gt; | EDAD &lt;int&gt; | SEXO &lt;fct&gt; | POBLACION &lt;int&gt; |\n",
       "|---|---|---|---|---|---|---|---|\n",
       "| 1 | 1 | 1950 | República Mexicana | 0 | 0 | Hombres | 572103 |\n",
       "| 2 | 2 | 1950 | República Mexicana | 0 | 0 | Mujeres | 559162 |\n",
       "| 3 | 3 | 1950 | República Mexicana | 0 | 1 | Hombres | 514540 |\n",
       "| 4 | 4 | 1950 | República Mexicana | 0 | 1 | Mujeres | 505269 |\n",
       "| 5 | 5 | 1950 | República Mexicana | 0 | 2 | Hombres | 478546 |\n",
       "| 6 | 6 | 1950 | República Mexicana | 0 | 2 | Mujeres | 469322 |\n",
       "\n"
      ],
      "text/plain": [
       "  RENGLON AÑO  ENTIDAD            CVE_GEO EDAD SEXO    POBLACION\n",
       "1 1       1950 República Mexicana 0       0    Hombres 572103   \n",
       "2 2       1950 República Mexicana 0       0    Mujeres 559162   \n",
       "3 3       1950 República Mexicana 0       1    Hombres 514540   \n",
       "4 4       1950 República Mexicana 0       1    Mujeres 505269   \n",
       "5 5       1950 República Mexicana 0       2    Hombres 478546   \n",
       "6 6       1950 República Mexicana 0       2    Mujeres 469322   "
      ]
     },
     "metadata": {},
     "output_type": "display_data"
    }
   ],
   "source": [
    "head(datos)"
   ]
  },
  {
   "cell_type": "code",
   "execution_count": 2,
   "metadata": {},
   "outputs": [],
   "source": [
    "library(dplyr)\n",
    "library(ggplot2)\n",
    "library(tidyr)"
   ]
  },
  {
   "cell_type": "code",
   "execution_count": 7,
   "metadata": {},
   "outputs": [
    {
     "data": {
      "text/html": [
       "<style>\n",
       ".list-inline {list-style: none; margin:0; padding: 0}\n",
       ".list-inline>li {display: inline-block}\n",
       ".list-inline>li:not(:last-child)::after {content: \"\\00b7\"; padding: 0 .5ex}\n",
       "</style>\n",
       "<ol class=list-inline><li>'RENGLON'</li><li>'AÑO'</li><li>'ENTIDAD'</li><li>'CVE_GEO'</li><li>'EDAD'</li><li>'SEXO'</li><li>'POBLACION'</li></ol>\n"
      ],
      "text/latex": [
       "\\begin{enumerate*}\n",
       "\\item 'RENGLON'\n",
       "\\item 'AÑO'\n",
       "\\item 'ENTIDAD'\n",
       "\\item 'CVE\\_GEO'\n",
       "\\item 'EDAD'\n",
       "\\item 'SEXO'\n",
       "\\item 'POBLACION'\n",
       "\\end{enumerate*}\n"
      ],
      "text/markdown": [
       "1. 'RENGLON'\n",
       "2. 'AÑO'\n",
       "3. 'ENTIDAD'\n",
       "4. 'CVE_GEO'\n",
       "5. 'EDAD'\n",
       "6. 'SEXO'\n",
       "7. 'POBLACION'\n",
       "\n",
       "\n"
      ],
      "text/plain": [
       "[1] \"RENGLON\"   \"AÑO\"       \"ENTIDAD\"   \"CVE_GEO\"   \"EDAD\"      \"SEXO\"     \n",
       "[7] \"POBLACION\""
      ]
     },
     "metadata": {},
     "output_type": "display_data"
    }
   ],
   "source": [
    "names(datos)\n"
   ]
  },
  {
   "cell_type": "code",
   "execution_count": 69,
   "metadata": {},
   "outputs": [
    {
     "name": "stderr",
     "output_type": "stream",
     "text": [
      "`summarise()` ungrouping output (override with `.groups` argument)\n",
      "\n"
     ]
    },
    {
     "data": {
      "image/png": "[encoded data removed]",
      "text/plain": [
       "plot without title"
      ]
     },
     "metadata": {
      "image/png": {
       "height": 420,
       "width": 420
      }
     },
     "output_type": "display_data"
    }
   ],
   "source": [
    "#Visualización en la cual podemos observar la población total de la República Mexicana por años \n",
    "# desde 1950 hasta la población estimada del año 2050\n",
    "\n",
    "datos %>%\n",
    "group_by(AÑO)%>%\n",
    "summarise(Pob_Total=sum(POBLACION,na.rm=FALSE))%>%\n",
    "ggplot(aes(AÑO,Pob_Total, fill=AÑO)) + geom_bar(stat='identity') + xlab(\"Año\")+\n",
    "       ylab(\"Población\")  + theme(legend.position=\"none\")+ggtitle(\"Población por año en la República Mexicana\")"
   ]
  },
  {
   "cell_type": "code",
   "execution_count": 65,
   "metadata": {},
   "outputs": [
    {
     "name": "stderr",
     "output_type": "stream",
     "text": [
      "`summarise()` ungrouping output (override with `.groups` argument)\n",
      "\n"
     ]
    },
    {
     "data": {
      "text/html": [
       "<table>\n",
       "<caption>A tibble: 1 × 1</caption>\n",
       "<thead>\n",
       "\t<tr><th scope=col>max(Pob_Total)</th></tr>\n",
       "\t<tr><th scope=col>&lt;int&gt;</th></tr>\n",
       "</thead>\n",
       "<tbody>\n",
       "\t<tr><td>296419188</td></tr>\n",
       "</tbody>\n",
       "</table>\n"
      ],
      "text/latex": [
       "A tibble: 1 × 1\n",
       "\\begin{tabular}{l}\n",
       " max(Pob\\_Total)\\\\\n",
       " <int>\\\\\n",
       "\\hline\n",
       "\t 296419188\\\\\n",
       "\\end{tabular}\n"
      ],
      "text/markdown": [
       "\n",
       "A tibble: 1 × 1\n",
       "\n",
       "| max(Pob_Total) &lt;int&gt; |\n",
       "|---|\n",
       "| 296419188 |\n",
       "\n"
      ],
      "text/plain": [
       "  max(Pob_Total)\n",
       "1 296419188     "
      ]
     },
     "metadata": {},
     "output_type": "display_data"
    }
   ],
   "source": [
    "datos %>%\n",
    "group_by(AÑO)%>%\n",
    "summarise(Pob_Total=sum(POBLACION,na.rm=FALSE))%>%\n",
    "summarise(max(Pob_Total))"
   ]
  },
  {
   "cell_type": "markdown",
   "metadata": {},
   "source": [
    "## Parte 2\n",
    "\n",
    "Con la misma base de datos, se requiere hacer todas las visualizaciones interactivas; las mismas 5 o más visualizaciones, ahora interactivas (recuerden plot.ly). Sugerencia: el año tiene que ser una de estas categorías ya que son proyecciones. "
   ]
  },
  {
   "cell_type": "code",
   "execution_count": null,
   "metadata": {},
   "outputs": [],
   "source": []
  },
  {
   "cell_type": "markdown",
   "metadata": {},
   "source": [
    "## Parte 3 \n",
    "\n",
    "Hacer todos los ejercicios hechos durante la clase. \n",
    "\n",
    "- Ejercicios durante la sesión 1\n",
    "- Visualizaciones interactivas para el cruce de variables filtrado por sexo."
   ]
  },
  {
   "cell_type": "code",
   "execution_count": 3,
   "metadata": {},
   "outputs": [],
   "source": [
    "library(dplyr)\n",
    "library(ggplot2)\n",
    "library(tidyr)"
   ]
  },
  {
   "cell_type": "markdown",
   "metadata": {},
   "source": [
    "### Velocidad de la Luz\n",
    "Tenemos 5 experimentos con 20 corridas de mediciones de la velocidad de la luz.\n",
    "\n",
    "* ¿Cómo exponen los resultados? \n",
    "* ¿Los resultados se ven equivalentes entre los experimentos?"
   ]
  },
  {
   "cell_type": "code",
   "execution_count": 4,
   "metadata": {},
   "outputs": [
    {
     "name": "stderr",
     "output_type": "stream",
     "text": [
      "\n",
      "Attaching package: ‘MASS’\n",
      "\n",
      "\n",
      "The following object is masked from ‘package:dplyr’:\n",
      "\n",
      "    select\n",
      "\n",
      "\n"
     ]
    },
    {
     "data": {
      "text/html": [
       "<style>\n",
       ".list-inline {list-style: none; margin:0; padding: 0}\n",
       ".list-inline>li {display: inline-block}\n",
       ".list-inline>li:not(:last-child)::after {content: \"\\00b7\"; padding: 0 .5ex}\n",
       "</style>\n",
       "<ol class=list-inline><li>'Speed'</li><li>'Run'</li><li>'Expt'</li></ol>\n"
      ],
      "text/latex": [
       "\\begin{enumerate*}\n",
       "\\item 'Speed'\n",
       "\\item 'Run'\n",
       "\\item 'Expt'\n",
       "\\end{enumerate*}\n"
      ],
      "text/markdown": [
       "1. 'Speed'\n",
       "2. 'Run'\n",
       "3. 'Expt'\n",
       "\n",
       "\n"
      ],
      "text/plain": [
       "[1] \"Speed\" \"Run\"   \"Expt\" "
      ]
     },
     "metadata": {},
     "output_type": "display_data"
    }
   ],
   "source": [
    "library(MASS)\n",
    "vl <- data.frame(michelson)\n",
    "names(vl)"
   ]
  },
  {
   "cell_type": "code",
   "execution_count": 5,
   "metadata": {},
   "outputs": [
    {
     "data": {
      "image/png": "[encoded data removed]",
      "text/plain": [
       "plot without title"
      ]
     },
     "metadata": {
      "image/png": {
       "height": 420,
       "width": 420
      }
     },
     "output_type": "display_data"
    }
   ],
   "source": [
    "ggplot(vl,aes(Speed, fill=Expt)) + \n",
    "    geom_histogram(binwidth=100) + xlab(\"Run\")+\n",
    "       ylab(\"Speed\") + facet_grid(~Expt) +\n",
    "       theme(legend.position=\"none\")"
   ]
  },
  {
   "cell_type": "markdown",
   "metadata": {},
   "source": [
    "### Prima\n",
    "¿Qué dice este gráfico de barras?"
   ]
  },
  {
   "cell_type": "code",
   "execution_count": 10,
   "metadata": {},
   "outputs": [
    {
     "data": {
      "image/png": "[encoded data removed]",
      "text/plain": [
       "plot without title"
      ]
     },
     "metadata": {
      "image/png": {
       "height": 420,
       "width": 420
      }
     },
     "output_type": "display_data"
    }
   ],
   "source": [
    "ggplot(Pima.tr2, aes(type))+geom_bar()\n"
   ]
  },
  {
   "cell_type": "code",
   "execution_count": null,
   "metadata": {},
   "outputs": [],
   "source": []
  },
  {
   "cell_type": "markdown",
   "metadata": {},
   "source": [
    "¿Por qué la parte superior izquierda está vacía?"
   ]
  },
  {
   "cell_type": "code",
   "execution_count": 7,
   "metadata": {},
   "outputs": [
    {
     "data": {
      "image/png": "[encoded data removed]",
      "text/plain": [
       "plot without title"
      ]
     },
     "metadata": {
      "image/png": {
       "height": 420,
       "width": 420
      }
     },
     "output_type": "display_data"
    }
   ],
   "source": [
    "ggplot(Pima.tr2, aes(age,npreg))+geom_point()\n"
   ]
  },
  {
   "cell_type": "markdown",
   "metadata": {},
   "source": [
    "### Titanic\n",
    "\n",
    "* ¿Qué se les ocurre para graficar todo?\n",
    "\n",
    "* ¿Cuántos pasajeros en total viajaban por clase?\n",
    "\n",
    "* Exploren una por una las otras variables categóricas del dataset"
   ]
  },
  {
   "cell_type": "code",
   "execution_count": 12,
   "metadata": {},
   "outputs": [
    {
     "name": "stderr",
     "output_type": "stream",
     "text": [
      "`summarise()` ungrouping output (override with `.groups` argument)\n",
      "\n"
     ]
    },
    {
     "data": {
      "text/html": [
       "<table>\n",
       "<caption>A tibble: 4 × 2</caption>\n",
       "<thead>\n",
       "\t<tr><th scope=col>Class</th><th scope=col>Cantidad_Pasajeros</th></tr>\n",
       "\t<tr><th scope=col>&lt;fct&gt;</th><th scope=col>&lt;dbl&gt;</th></tr>\n",
       "</thead>\n",
       "<tbody>\n",
       "\t<tr><td>1st </td><td>325</td></tr>\n",
       "\t<tr><td>2nd </td><td>285</td></tr>\n",
       "\t<tr><td>3rd </td><td>706</td></tr>\n",
       "\t<tr><td>Crew</td><td>885</td></tr>\n",
       "</tbody>\n",
       "</table>\n"
      ],
      "text/latex": [
       "A tibble: 4 × 2\n",
       "\\begin{tabular}{ll}\n",
       " Class & Cantidad\\_Pasajeros\\\\\n",
       " <fct> & <dbl>\\\\\n",
       "\\hline\n",
       "\t 1st  & 325\\\\\n",
       "\t 2nd  & 285\\\\\n",
       "\t 3rd  & 706\\\\\n",
       "\t Crew & 885\\\\\n",
       "\\end{tabular}\n"
      ],
      "text/markdown": [
       "\n",
       "A tibble: 4 × 2\n",
       "\n",
       "| Class &lt;fct&gt; | Cantidad_Pasajeros &lt;dbl&gt; |\n",
       "|---|---|\n",
       "| 1st  | 325 |\n",
       "| 2nd  | 285 |\n",
       "| 3rd  | 706 |\n",
       "| Crew | 885 |\n",
       "\n"
      ],
      "text/plain": [
       "  Class Cantidad_Pasajeros\n",
       "1 1st   325               \n",
       "2 2nd   285               \n",
       "3 3rd   706               \n",
       "4 Crew  885               "
      ]
     },
     "metadata": {},
     "output_type": "display_data"
    }
   ],
   "source": [
    "t<- data.frame(Titanic)\n",
    "t %>%\n",
    "    group_by(Class) %>%\n",
    "    summarise(Cantidad_Pasajeros=sum(Freq,na.rm=TRUE)) %>%\n",
    "    arrange(Class)\n"
   ]
  },
  {
   "cell_type": "code",
   "execution_count": 35,
   "metadata": {},
   "outputs": [
    {
     "data": {
      "image/png": "[encoded data removed]",
      "text/plain": [
       "plot without title"
      ]
     },
     "metadata": {
      "image/png": {
       "height": 420,
       "width": 420
      }
     },
     "output_type": "display_data"
    }
   ],
   "source": [
    "ggplot(t,aes(Class,Freq, fill=Class)) + \n",
    "    geom_bar(stat='identity')+\n",
    "       theme(legend.position=\"none\")"
   ]
  },
  {
   "cell_type": "code",
   "execution_count": 41,
   "metadata": {},
   "outputs": [
    {
     "data": {
      "image/png": "[encoded data removed]",
      "text/plain": [
       "plot without title"
      ]
     },
     "metadata": {
      "image/png": {
       "height": 420,
       "width": 420
      }
     },
     "output_type": "display_data"
    }
   ],
   "source": [
    "ggplot(t,aes(Age,Freq, fill=Class)) + \n",
    "    geom_bar(stat='identity')+facet_grid(~Class)+\n",
    "       theme(legend.position=\"none\")\n"
   ]
  },
  {
   "cell_type": "code",
   "execution_count": 43,
   "metadata": {},
   "outputs": [
    {
     "data": {
      "image/png": "[encoded data removed]",
      "text/plain": [
       "plot without title"
      ]
     },
     "metadata": {
      "image/png": {
       "height": 420,
       "width": 420
      }
     },
     "output_type": "display_data"
    }
   ],
   "source": [
    "ggplot(t,aes(Survived,Freq, fill=Class)) + \n",
    "    geom_bar(stat='identity')+facet_grid(~Class)+\n",
    "       theme(legend.position=\"none\")"
   ]
  },
  {
   "cell_type": "code",
   "execution_count": 46,
   "metadata": {},
   "outputs": [
    {
     "data": {
      "image/png": "[encoded data removed]",
      "text/plain": [
       "plot without title"
      ]
     },
     "metadata": {
      "image/png": {
       "height": 420,
       "width": 420
      }
     },
     "output_type": "display_data"
    }
   ],
   "source": [
    "ggplot(t,aes(Class,Freq,fill=Class)) + \n",
    "    geom_bar(stat='identity')+facet_grid(~Sex)+\n",
    "       theme(legend.position=\"none\")"
   ]
  },
  {
   "cell_type": "markdown",
   "metadata": {},
   "source": [
    "### Swiss\n",
    "\n",
    "Tenemos datos de fertilidad y otras variables socioeconómicas de 47 provincias franco-parlantes en Swiza en 1888."
   ]
  },
  {
   "cell_type": "code",
   "execution_count": 168,
   "metadata": {},
   "outputs": [
    {
     "data": {
      "text/html": [
       "<table>\n",
       "<caption>A data.frame: 6 × 6</caption>\n",
       "<thead>\n",
       "\t<tr><th></th><th scope=col>Fertility</th><th scope=col>Agriculture</th><th scope=col>Examination</th><th scope=col>Education</th><th scope=col>Catholic</th><th scope=col>Infant.Mortality</th></tr>\n",
       "\t<tr><th></th><th scope=col>&lt;dbl&gt;</th><th scope=col>&lt;dbl&gt;</th><th scope=col>&lt;int&gt;</th><th scope=col>&lt;int&gt;</th><th scope=col>&lt;dbl&gt;</th><th scope=col>&lt;dbl&gt;</th></tr>\n",
       "</thead>\n",
       "<tbody>\n",
       "\t<tr><th scope=row>Courtelary</th><td>80.2</td><td>17.0</td><td>15</td><td>12</td><td> 9.96</td><td>22.2</td></tr>\n",
       "\t<tr><th scope=row>Delemont</th><td>83.1</td><td>45.1</td><td> 6</td><td> 9</td><td>84.84</td><td>22.2</td></tr>\n",
       "\t<tr><th scope=row>Franches-Mnt</th><td>92.5</td><td>39.7</td><td> 5</td><td> 5</td><td>93.40</td><td>20.2</td></tr>\n",
       "\t<tr><th scope=row>Moutier</th><td>85.8</td><td>36.5</td><td>12</td><td> 7</td><td>33.77</td><td>20.3</td></tr>\n",
       "\t<tr><th scope=row>Neuveville</th><td>76.9</td><td>43.5</td><td>17</td><td>15</td><td> 5.16</td><td>20.6</td></tr>\n",
       "\t<tr><th scope=row>Porrentruy</th><td>76.1</td><td>35.3</td><td> 9</td><td> 7</td><td>90.57</td><td>26.6</td></tr>\n",
       "</tbody>\n",
       "</table>\n"
      ],
      "text/latex": [
       "A data.frame: 6 × 6\n",
       "\\begin{tabular}{r|llllll}\n",
       "  & Fertility & Agriculture & Examination & Education & Catholic & Infant.Mortality\\\\\n",
       "  & <dbl> & <dbl> & <int> & <int> & <dbl> & <dbl>\\\\\n",
       "\\hline\n",
       "\tCourtelary & 80.2 & 17.0 & 15 & 12 &  9.96 & 22.2\\\\\n",
       "\tDelemont & 83.1 & 45.1 &  6 &  9 & 84.84 & 22.2\\\\\n",
       "\tFranches-Mnt & 92.5 & 39.7 &  5 &  5 & 93.40 & 20.2\\\\\n",
       "\tMoutier & 85.8 & 36.5 & 12 &  7 & 33.77 & 20.3\\\\\n",
       "\tNeuveville & 76.9 & 43.5 & 17 & 15 &  5.16 & 20.6\\\\\n",
       "\tPorrentruy & 76.1 & 35.3 &  9 &  7 & 90.57 & 26.6\\\\\n",
       "\\end{tabular}\n"
      ],
      "text/markdown": [
       "\n",
       "A data.frame: 6 × 6\n",
       "\n",
       "| <!--/--> | Fertility &lt;dbl&gt; | Agriculture &lt;dbl&gt; | Examination &lt;int&gt; | Education &lt;int&gt; | Catholic &lt;dbl&gt; | Infant.Mortality &lt;dbl&gt; |\n",
       "|---|---|---|---|---|---|---|\n",
       "| Courtelary | 80.2 | 17.0 | 15 | 12 |  9.96 | 22.2 |\n",
       "| Delemont | 83.1 | 45.1 |  6 |  9 | 84.84 | 22.2 |\n",
       "| Franches-Mnt | 92.5 | 39.7 |  5 |  5 | 93.40 | 20.2 |\n",
       "| Moutier | 85.8 | 36.5 | 12 |  7 | 33.77 | 20.3 |\n",
       "| Neuveville | 76.9 | 43.5 | 17 | 15 |  5.16 | 20.6 |\n",
       "| Porrentruy | 76.1 | 35.3 |  9 |  7 | 90.57 | 26.6 |\n",
       "\n"
      ],
      "text/plain": [
       "             Fertility Agriculture Examination Education Catholic\n",
       "Courtelary   80.2      17.0        15          12         9.96   \n",
       "Delemont     83.1      45.1         6           9        84.84   \n",
       "Franches-Mnt 92.5      39.7         5           5        93.40   \n",
       "Moutier      85.8      36.5        12           7        33.77   \n",
       "Neuveville   76.9      43.5        17          15         5.16   \n",
       "Porrentruy   76.1      35.3         9           7        90.57   \n",
       "             Infant.Mortality\n",
       "Courtelary   22.2            \n",
       "Delemont     22.2            \n",
       "Franches-Mnt 20.2            \n",
       "Moutier      20.3            \n",
       "Neuveville   20.6            \n",
       "Porrentruy   26.6            "
      ]
     },
     "metadata": {},
     "output_type": "display_data"
    }
   ],
   "source": [
    "head(data.frame(swiss))"
   ]
  },
  {
   "cell_type": "markdown",
   "metadata": {},
   "source": [
    "* ¿Cómo conjuntarían todas las variables?\n",
    "* Hagan gráficas para cada variable. ¿Se ve algo especial o raro? \n",
    "* Hagan un scatterplot de Fertilidad vs el p"
   ]
  },
  {
   "cell_type": "code",
   "execution_count": 87,
   "metadata": {},
   "outputs": [
    {
     "data": {
      "text/html": [
       "<style>\n",
       ".list-inline {list-style: none; margin:0; padding: 0}\n",
       ".list-inline>li {display: inline-block}\n",
       ".list-inline>li:not(:last-child)::after {content: \"\\00b7\"; padding: 0 .5ex}\n",
       "</style>\n",
       "<ol class=list-inline><li>'Fertility'</li><li>'Agriculture'</li><li>'Examination'</li><li>'Education'</li><li>'Catholic'</li><li>'Infant.Mortality'</li></ol>\n"
      ],
      "text/latex": [
       "\\begin{enumerate*}\n",
       "\\item 'Fertility'\n",
       "\\item 'Agriculture'\n",
       "\\item 'Examination'\n",
       "\\item 'Education'\n",
       "\\item 'Catholic'\n",
       "\\item 'Infant.Mortality'\n",
       "\\end{enumerate*}\n"
      ],
      "text/markdown": [
       "1. 'Fertility'\n",
       "2. 'Agriculture'\n",
       "3. 'Examination'\n",
       "4. 'Education'\n",
       "5. 'Catholic'\n",
       "6. 'Infant.Mortality'\n",
       "\n",
       "\n"
      ],
      "text/plain": [
       "[1] \"Fertility\"        \"Agriculture\"      \"Examination\"      \"Education\"       \n",
       "[5] \"Catholic\"         \"Infant.Mortality\""
      ]
     },
     "metadata": {},
     "output_type": "display_data"
    }
   ],
   "source": [
    "s<-data.frame(swiss)\n",
    "names(s)"
   ]
  },
  {
   "cell_type": "code",
   "execution_count": 91,
   "metadata": {},
   "outputs": [
    {
     "name": "stderr",
     "output_type": "stream",
     "text": [
      "ERROR while rich displaying an object: Error: Aesthetics must be either length 1 or the same as the data (47): x\n",
      "\n",
      "Traceback:\n",
      "1. FUN(X[[i]], ...)\n",
      "2. tryCatch(withCallingHandlers({\n",
      " .     if (!mime %in% names(repr::mime2repr)) \n",
      " .         stop(\"No repr_* for mimetype \", mime, \" in repr::mime2repr\")\n",
      " .     rpr <- repr::mime2repr[[mime]](obj)\n",
      " .     if (is.null(rpr)) \n",
      " .         return(NULL)\n",
      " .     prepare_content(is.raw(rpr), rpr)\n",
      " . }, error = error_handler), error = outer_handler)\n",
      "3. tryCatchList(expr, classes, parentenv, handlers)\n",
      "4. tryCatchOne(expr, names, parentenv, handlers[[1L]])\n",
      "5. doTryCatch(return(expr), name, parentenv, handler)\n",
      "6. withCallingHandlers({\n",
      " .     if (!mime %in% names(repr::mime2repr)) \n",
      " .         stop(\"No repr_* for mimetype \", mime, \" in repr::mime2repr\")\n",
      " .     rpr <- repr::mime2repr[[mime]](obj)\n",
      " .     if (is.null(rpr)) \n",
      " .         return(NULL)\n",
      " .     prepare_content(is.raw(rpr), rpr)\n",
      " . }, error = error_handler)\n",
      "7. repr::mime2repr[[mime]](obj)\n",
      "8. repr_text.default(obj)\n",
      "9. paste(capture.output(print(obj)), collapse = \"\\n\")\n",
      "10. capture.output(print(obj))\n",
      "11. evalVis(expr)\n",
      "12. withVisible(eval(expr, pf))\n",
      "13. eval(expr, pf)\n",
      "14. eval(expr, pf)\n",
      "15. print(obj)\n",
      "16. print.ggplot(obj)\n",
      "17. ggplot_build(x)\n",
      "18. ggplot_build.ggplot(x)\n",
      "19. by_layer(function(l, d) l$compute_aesthetics(d, plot))\n",
      "20. f(l = layers[[i]], d = data[[i]])\n",
      "21. l$compute_aesthetics(d, plot)\n",
      "22. f(..., self = self)\n",
      "23. check_aesthetics(evaled, n)\n",
      "24. abort(glue(\"Aesthetics must be either length 1 or the same as the data ({n}): \", \n",
      "  .     glue_collapse(names(which(!good)), \", \", last = \" and \")))\n",
      "25. signal_abort(cnd)\n"
     ]
    },
    {
     "data": {
      "image/png": "[encoded data removed]",
      "text/plain": [
       "plot without title"
      ]
     },
     "metadata": {
      "image/png": {
       "height": 420,
       "width": 420
      }
     },
     "output_type": "display_data"
    }
   ],
   "source": [
    "ggplot(s,aes(names(s[0]),Fertility)) +geom_bar(stat='identity')+\n",
    "       theme(legend.position=\"none\")\n",
    "    "
   ]
  },
  {
   "cell_type": "code",
   "execution_count": null,
   "metadata": {},
   "outputs": [],
   "source": []
  },
  {
   "cell_type": "code",
   "execution_count": null,
   "metadata": {},
   "outputs": [],
   "source": []
  },
  {
   "cell_type": "markdown",
   "metadata": {},
   "source": [
    "### Galaxias\n",
    "\n",
    "Usando el conjunto $galaxies$ de MASS, que contiene velocidades para 82 planetas.\n",
    "\n",
    "1. Hagan histogramas, boxplots y la aproximación de la densidad. \n",
    "2. Cambien los anchos de las bandas y expliquen cuál es el mejor? \n",
    "3. Elijan el número de gráficas que se requieren para este experimento"
   ]
  },
  {
   "cell_type": "code",
   "execution_count": 172,
   "metadata": {},
   "outputs": [
    {
     "data": {
      "text/html": [
       "<table>\n",
       "<caption>A data.frame: 6 × 1</caption>\n",
       "<thead>\n",
       "\t<tr><th></th><th scope=col>galaxies</th></tr>\n",
       "\t<tr><th></th><th scope=col>&lt;dbl&gt;</th></tr>\n",
       "</thead>\n",
       "<tbody>\n",
       "\t<tr><th scope=row>1</th><td> 9172</td></tr>\n",
       "\t<tr><th scope=row>2</th><td> 9350</td></tr>\n",
       "\t<tr><th scope=row>3</th><td> 9483</td></tr>\n",
       "\t<tr><th scope=row>4</th><td> 9558</td></tr>\n",
       "\t<tr><th scope=row>5</th><td> 9775</td></tr>\n",
       "\t<tr><th scope=row>6</th><td>10227</td></tr>\n",
       "</tbody>\n",
       "</table>\n"
      ],
      "text/latex": [
       "A data.frame: 6 × 1\n",
       "\\begin{tabular}{r|l}\n",
       "  & galaxies\\\\\n",
       "  & <dbl>\\\\\n",
       "\\hline\n",
       "\t1 &  9172\\\\\n",
       "\t2 &  9350\\\\\n",
       "\t3 &  9483\\\\\n",
       "\t4 &  9558\\\\\n",
       "\t5 &  9775\\\\\n",
       "\t6 & 10227\\\\\n",
       "\\end{tabular}\n"
      ],
      "text/markdown": [
       "\n",
       "A data.frame: 6 × 1\n",
       "\n",
       "| <!--/--> | galaxies &lt;dbl&gt; |\n",
       "|---|---|\n",
       "| 1 |  9172 |\n",
       "| 2 |  9350 |\n",
       "| 3 |  9483 |\n",
       "| 4 |  9558 |\n",
       "| 5 |  9775 |\n",
       "| 6 | 10227 |\n",
       "\n"
      ],
      "text/plain": [
       "  galaxies\n",
       "1  9172   \n",
       "2  9350   \n",
       "3  9483   \n",
       "4  9558   \n",
       "5  9775   \n",
       "6 10227   "
      ]
     },
     "metadata": {},
     "output_type": "display_data"
    },
    {
     "data": {
      "text/html": [
       "'galaxies'"
      ],
      "text/latex": [
       "'galaxies'"
      ],
      "text/markdown": [
       "'galaxies'"
      ],
      "text/plain": [
       "[1] \"galaxies\""
      ]
     },
     "metadata": {},
     "output_type": "display_data"
    }
   ],
   "source": [
    "galaxias <- data.frame(galaxies)\n",
    "head(galaxias)\n",
    "names(galaxias)"
   ]
  },
  {
   "cell_type": "markdown",
   "metadata": {},
   "source": [
    "### Estudiantes. \n",
    "\n",
    "El conjunto $survey$ contiene información de estudiantes tomando su primer curso de estadística: \n",
    "\n",
    "1. Hacer el histograma y poner encima la estimación de la densidad, ¿hay bimodalidad?\n",
    "2. Jueguen con los anchos para tener mejores estimaciones de la densidad, ¿cuál es mejor?\n",
    "3. Comparen las distribuciones de hombres y mujeres, que compartan la escala, con distintas estimaciones de densidad. \n"
   ]
  },
  {
   "cell_type": "code",
   "execution_count": 114,
   "metadata": {},
   "outputs": [
    {
     "data": {
      "text/html": [
       "<table>\n",
       "<caption>A data.frame: 6 × 12</caption>\n",
       "<thead>\n",
       "\t<tr><th></th><th scope=col>Sex</th><th scope=col>Wr.Hnd</th><th scope=col>NW.Hnd</th><th scope=col>W.Hnd</th><th scope=col>Fold</th><th scope=col>Pulse</th><th scope=col>Clap</th><th scope=col>Exer</th><th scope=col>Smoke</th><th scope=col>Height</th><th scope=col>M.I</th><th scope=col>Age</th></tr>\n",
       "\t<tr><th></th><th scope=col>&lt;fct&gt;</th><th scope=col>&lt;dbl&gt;</th><th scope=col>&lt;dbl&gt;</th><th scope=col>&lt;fct&gt;</th><th scope=col>&lt;fct&gt;</th><th scope=col>&lt;int&gt;</th><th scope=col>&lt;fct&gt;</th><th scope=col>&lt;fct&gt;</th><th scope=col>&lt;fct&gt;</th><th scope=col>&lt;dbl&gt;</th><th scope=col>&lt;fct&gt;</th><th scope=col>&lt;dbl&gt;</th></tr>\n",
       "</thead>\n",
       "<tbody>\n",
       "\t<tr><th scope=row>1</th><td>Female</td><td>18.5</td><td>18.0</td><td>Right</td><td>R on L </td><td> 92</td><td>Left   </td><td>Some</td><td>Never</td><td>173.00</td><td>Metric  </td><td>18.250</td></tr>\n",
       "\t<tr><th scope=row>2</th><td>Male  </td><td>19.5</td><td>20.5</td><td>Left </td><td>R on L </td><td>104</td><td>Left   </td><td>None</td><td>Regul</td><td>177.80</td><td>Imperial</td><td>17.583</td></tr>\n",
       "\t<tr><th scope=row>3</th><td>Male  </td><td>18.0</td><td>13.3</td><td>Right</td><td>L on R </td><td> 87</td><td>Neither</td><td>None</td><td>Occas</td><td>    NA</td><td>NA      </td><td>16.917</td></tr>\n",
       "\t<tr><th scope=row>4</th><td>Male  </td><td>18.8</td><td>18.9</td><td>Right</td><td>R on L </td><td> NA</td><td>Neither</td><td>None</td><td>Never</td><td>160.00</td><td>Metric  </td><td>20.333</td></tr>\n",
       "\t<tr><th scope=row>5</th><td>Male  </td><td>20.0</td><td>20.0</td><td>Right</td><td>Neither</td><td> 35</td><td>Right  </td><td>Some</td><td>Never</td><td>165.00</td><td>Metric  </td><td>23.667</td></tr>\n",
       "\t<tr><th scope=row>6</th><td>Female</td><td>18.0</td><td>17.7</td><td>Right</td><td>L on R </td><td> 64</td><td>Right  </td><td>Some</td><td>Never</td><td>172.72</td><td>Imperial</td><td>21.000</td></tr>\n",
       "</tbody>\n",
       "</table>\n"
      ],
      "text/latex": [
       "A data.frame: 6 × 12\n",
       "\\begin{tabular}{r|llllllllllll}\n",
       "  & Sex & Wr.Hnd & NW.Hnd & W.Hnd & Fold & Pulse & Clap & Exer & Smoke & Height & M.I & Age\\\\\n",
       "  & <fct> & <dbl> & <dbl> & <fct> & <fct> & <int> & <fct> & <fct> & <fct> & <dbl> & <fct> & <dbl>\\\\\n",
       "\\hline\n",
       "\t1 & Female & 18.5 & 18.0 & Right & R on L  &  92 & Left    & Some & Never & 173.00 & Metric   & 18.250\\\\\n",
       "\t2 & Male   & 19.5 & 20.5 & Left  & R on L  & 104 & Left    & None & Regul & 177.80 & Imperial & 17.583\\\\\n",
       "\t3 & Male   & 18.0 & 13.3 & Right & L on R  &  87 & Neither & None & Occas &     NA & NA       & 16.917\\\\\n",
       "\t4 & Male   & 18.8 & 18.9 & Right & R on L  &  NA & Neither & None & Never & 160.00 & Metric   & 20.333\\\\\n",
       "\t5 & Male   & 20.0 & 20.0 & Right & Neither &  35 & Right   & Some & Never & 165.00 & Metric   & 23.667\\\\\n",
       "\t6 & Female & 18.0 & 17.7 & Right & L on R  &  64 & Right   & Some & Never & 172.72 & Imperial & 21.000\\\\\n",
       "\\end{tabular}\n"
      ],
      "text/markdown": [
       "\n",
       "A data.frame: 6 × 12\n",
       "\n",
       "| <!--/--> | Sex &lt;fct&gt; | Wr.Hnd &lt;dbl&gt; | NW.Hnd &lt;dbl&gt; | W.Hnd &lt;fct&gt; | Fold &lt;fct&gt; | Pulse &lt;int&gt; | Clap &lt;fct&gt; | Exer &lt;fct&gt; | Smoke &lt;fct&gt; | Height &lt;dbl&gt; | M.I &lt;fct&gt; | Age &lt;dbl&gt; |\n",
       "|---|---|---|---|---|---|---|---|---|---|---|---|---|\n",
       "| 1 | Female | 18.5 | 18.0 | Right | R on L  |  92 | Left    | Some | Never | 173.00 | Metric   | 18.250 |\n",
       "| 2 | Male   | 19.5 | 20.5 | Left  | R on L  | 104 | Left    | None | Regul | 177.80 | Imperial | 17.583 |\n",
       "| 3 | Male   | 18.0 | 13.3 | Right | L on R  |  87 | Neither | None | Occas |     NA | NA       | 16.917 |\n",
       "| 4 | Male   | 18.8 | 18.9 | Right | R on L  |  NA | Neither | None | Never | 160.00 | Metric   | 20.333 |\n",
       "| 5 | Male   | 20.0 | 20.0 | Right | Neither |  35 | Right   | Some | Never | 165.00 | Metric   | 23.667 |\n",
       "| 6 | Female | 18.0 | 17.7 | Right | L on R  |  64 | Right   | Some | Never | 172.72 | Imperial | 21.000 |\n",
       "\n"
      ],
      "text/plain": [
       "  Sex    Wr.Hnd NW.Hnd W.Hnd Fold    Pulse Clap    Exer Smoke Height M.I     \n",
       "1 Female 18.5   18.0   Right R on L   92   Left    Some Never 173.00 Metric  \n",
       "2 Male   19.5   20.5   Left  R on L  104   Left    None Regul 177.80 Imperial\n",
       "3 Male   18.0   13.3   Right L on R   87   Neither None Occas     NA NA      \n",
       "4 Male   18.8   18.9   Right R on L   NA   Neither None Never 160.00 Metric  \n",
       "5 Male   20.0   20.0   Right Neither  35   Right   Some Never 165.00 Metric  \n",
       "6 Female 18.0   17.7   Right L on R   64   Right   Some Never 172.72 Imperial\n",
       "  Age   \n",
       "1 18.250\n",
       "2 17.583\n",
       "3 16.917\n",
       "4 20.333\n",
       "5 23.667\n",
       "6 21.000"
      ]
     },
     "metadata": {},
     "output_type": "display_data"
    }
   ],
   "source": [
    "surv <- data.frame(survey)\n",
    "head(surv)"
   ]
  },
  {
   "cell_type": "code",
   "execution_count": 151,
   "metadata": {},
   "outputs": [
    {
     "data": {
      "image/png": "[encoded data removed]",
      "text/plain": [
       "plot without title"
      ]
     },
     "metadata": {
      "image/png": {
       "height": 420,
       "width": 420
      }
     },
     "output_type": "display_data"
    },
    {
     "data": {
      "image/png": "[encoded data removed]",
      "text/plain": [
       "plot without title"
      ]
     },
     "metadata": {
      "image/png": {
       "height": 420,
       "width": 420
      }
     },
     "output_type": "display_data"
    }
   ],
   "source": [
    "ggplot(surv,aes(Age)) +geom_histogram(binwidth=1)\n",
    "ggplot(surv,aes(Age)) + geom_density(kernel = \"gaussian\",color='red')"
   ]
  },
  {
   "cell_type": "markdown",
   "metadata": {},
   "source": [
    "### Presupuesto\n",
    "\n",
    "El conjunto $zuni$ del paquete $lawstat$, contiene 3 variabbles, distrito, ingreso por estudiante en dólares y el número de estudiantes. \n",
    "\n",
    "1. ¿Considerarías el 5% más bajo outliers o extremos?\n",
    "2. Quitando el 5% inferior hagan el gráfico de estimación de densidad ¿Es simétrico? \n",
    "3. Hagan un Q-Q plot y comenten si es normal o no. "
   ]
  },
  {
   "cell_type": "code",
   "execution_count": 100,
   "metadata": {},
   "outputs": [
    {
     "name": "stderr",
     "output_type": "stream",
     "text": [
      "also installing the dependencies ‘boot’, ‘gbRd’, ‘rbibutils’, ‘Kendall’, ‘mvtnorm’, ‘Rdpack’\n",
      "\n",
      "\n",
      "Updating HTML index of packages in '.Library'\n",
      "\n",
      "Making 'packages.html' ...\n",
      " done\n",
      "\n"
     ]
    }
   ],
   "source": [
    "install.packages('lawstat')\n"
   ]
  },
  {
   "cell_type": "code",
   "execution_count": 103,
   "metadata": {},
   "outputs": [],
   "source": [
    "library(lawstat)\n"
   ]
  },
  {
   "cell_type": "code",
   "execution_count": 155,
   "metadata": {},
   "outputs": [
    {
     "data": {
      "text/html": [
       "<table>\n",
       "<caption>A data.frame: 6 × 3</caption>\n",
       "<thead>\n",
       "\t<tr><th></th><th scope=col>District</th><th scope=col>Revenue</th><th scope=col>Mem</th></tr>\n",
       "\t<tr><th></th><th scope=col>&lt;fct&gt;</th><th scope=col>&lt;int&gt;</th><th scope=col>&lt;dbl&gt;</th></tr>\n",
       "</thead>\n",
       "<tbody>\n",
       "\t<tr><th scope=row>1</th><td>Mosquero    </td><td>6520</td><td>  57.0</td></tr>\n",
       "\t<tr><th scope=row>2</th><td>Corona      </td><td>5791</td><td>  81.0</td></tr>\n",
       "\t<tr><th scope=row>3</th><td>Los Alamos  </td><td>5611</td><td>3509.5</td></tr>\n",
       "\t<tr><th scope=row>4</th><td>Vaughn      </td><td>4641</td><td> 111.5</td></tr>\n",
       "\t<tr><th scope=row>5</th><td>Hondo Valley</td><td>3690</td><td> 157.5</td></tr>\n",
       "\t<tr><th scope=row>6</th><td>Maxwell     </td><td>3591</td><td> 152.0</td></tr>\n",
       "</tbody>\n",
       "</table>\n"
      ],
      "text/latex": [
       "A data.frame: 6 × 3\n",
       "\\begin{tabular}{r|lll}\n",
       "  & District & Revenue & Mem\\\\\n",
       "  & <fct> & <int> & <dbl>\\\\\n",
       "\\hline\n",
       "\t1 & Mosquero     & 6520 &   57.0\\\\\n",
       "\t2 & Corona       & 5791 &   81.0\\\\\n",
       "\t3 & Los Alamos   & 5611 & 3509.5\\\\\n",
       "\t4 & Vaughn       & 4641 &  111.5\\\\\n",
       "\t5 & Hondo Valley & 3690 &  157.5\\\\\n",
       "\t6 & Maxwell      & 3591 &  152.0\\\\\n",
       "\\end{tabular}\n"
      ],
      "text/markdown": [
       "\n",
       "A data.frame: 6 × 3\n",
       "\n",
       "| <!--/--> | District &lt;fct&gt; | Revenue &lt;int&gt; | Mem &lt;dbl&gt; |\n",
       "|---|---|---|---|\n",
       "| 1 | Mosquero     | 6520 |   57.0 |\n",
       "| 2 | Corona       | 5791 |   81.0 |\n",
       "| 3 | Los Alamos   | 5611 | 3509.5 |\n",
       "| 4 | Vaughn       | 4641 |  111.5 |\n",
       "| 5 | Hondo Valley | 3690 |  157.5 |\n",
       "| 6 | Maxwell      | 3591 |  152.0 |\n",
       "\n"
      ],
      "text/plain": [
       "  District     Revenue Mem   \n",
       "1 Mosquero     6520      57.0\n",
       "2 Corona       5791      81.0\n",
       "3 Los Alamos   5611    3509.5\n",
       "4 Vaughn       4641     111.5\n",
       "5 Hondo Valley 3690     157.5\n",
       "6 Maxwell      3591     152.0"
      ]
     },
     "metadata": {},
     "output_type": "display_data"
    }
   ],
   "source": [
    "z <- data.frame(zuni)\n",
    "head(z)"
   ]
  },
  {
   "cell_type": "code",
   "execution_count": 171,
   "metadata": {},
   "outputs": [
    {
     "data": {
      "image/png": "[encoded data removed]",
      "text/plain": [
       "plot without title"
      ]
     },
     "metadata": {
      "image/png": {
       "height": 420,
       "width": 420
      }
     },
     "output_type": "display_data"
    },
    {
     "data": {
      "image/png": "[encoded data removed]",
      "text/plain": [
       "plot without title"
      ]
     },
     "metadata": {
      "image/png": {
       "height": 420,
       "width": 420
      }
     },
     "output_type": "display_data"
    }
   ],
   "source": [
    "\n",
    "ggplot(z,aes(Revenue)) +geom_histogram(binwidth=100)\n",
    "ggplot(z,aes(Revenue)) +geom_density(kernel = \"gaussian\",color='red')"
   ]
  },
  {
   "cell_type": "code",
   "execution_count": 190,
   "metadata": {},
   "outputs": [
    {
     "data": {
      "text/html": [
       "<table>\n",
       "<caption>A data.frame: 89 × 3</caption>\n",
       "<thead>\n",
       "\t<tr><th></th><th scope=col>District</th><th scope=col>Revenue</th><th scope=col>Mem</th></tr>\n",
       "\t<tr><th></th><th scope=col>&lt;fct&gt;</th><th scope=col>&lt;int&gt;</th><th scope=col>&lt;dbl&gt;</th></tr>\n",
       "</thead>\n",
       "<tbody>\n",
       "\t<tr><th scope=row>1</th><td>Mosquero      </td><td>6520</td><td>  57.0</td></tr>\n",
       "\t<tr><th scope=row>2</th><td>Corona        </td><td>5791</td><td>  81.0</td></tr>\n",
       "\t<tr><th scope=row>3</th><td>Los Alamos    </td><td>5611</td><td>3509.5</td></tr>\n",
       "\t<tr><th scope=row>4</th><td>Vaughn        </td><td>4641</td><td> 111.5</td></tr>\n",
       "\t<tr><th scope=row>5</th><td>Hondo Valley  </td><td>3690</td><td> 157.5</td></tr>\n",
       "\t<tr><th scope=row>6</th><td>Maxwell       </td><td>3591</td><td> 152.0</td></tr>\n",
       "\t<tr><th scope=row>7</th><td>Mora          </td><td>3530</td><td> 707.5</td></tr>\n",
       "\t<tr><th scope=row>8</th><td>Roy           </td><td>3516</td><td> 113.0</td></tr>\n",
       "\t<tr><th scope=row>9</th><td>Logan         </td><td>3484</td><td> 278.0</td></tr>\n",
       "\t<tr><th scope=row>10</th><td>Cuba          </td><td>3404</td><td> 773.0</td></tr>\n",
       "\t<tr><th scope=row>11</th><td>Silver City   </td><td>3391</td><td>3837.5</td></tr>\n",
       "\t<tr><th scope=row>12</th><td>Texico        </td><td>3335</td><td> 498.0</td></tr>\n",
       "\t<tr><th scope=row>13</th><td>Zuni          </td><td>3320</td><td>1696.0</td></tr>\n",
       "\t<tr><th scope=row>14</th><td>Springer      </td><td>3295</td><td> 285.5</td></tr>\n",
       "\t<tr><th scope=row>15</th><td>Jemez Valley  </td><td>3286</td><td> 513.5</td></tr>\n",
       "\t<tr><th scope=row>16</th><td>Ruidoso       </td><td>3278</td><td>2408.0</td></tr>\n",
       "\t<tr><th scope=row>17</th><td>Tatum         </td><td>3266</td><td> 369.0</td></tr>\n",
       "\t<tr><th scope=row>18</th><td>Penasco       </td><td>3259</td><td> 709.5</td></tr>\n",
       "\t<tr><th scope=row>19</th><td>Raton         </td><td>3249</td><td>1479.5</td></tr>\n",
       "\t<tr><th scope=row>20</th><td>Tularosa      </td><td>3246</td><td>1140.5</td></tr>\n",
       "\t<tr><th scope=row>21</th><td>Bernalillo    </td><td>3244</td><td>3528.5</td></tr>\n",
       "\t<tr><th scope=row>22</th><td>Las Vegas West</td><td>3241</td><td>2130.5</td></tr>\n",
       "\t<tr><th scope=row>23</th><td>Mesa Vista    </td><td>3233</td><td> 572.0</td></tr>\n",
       "\t<tr><th scope=row>24</th><td>Hatch         </td><td>3206</td><td>1410.5</td></tr>\n",
       "\t<tr><th scope=row>25</th><td>Loving        </td><td>3204</td><td> 556.5</td></tr>\n",
       "\t<tr><th scope=row>26</th><td>Mountainair   </td><td>3195</td><td> 365.0</td></tr>\n",
       "\t<tr><th scope=row>27</th><td>Cobre         </td><td>3194</td><td>2067.0</td></tr>\n",
       "\t<tr><th scope=row>28</th><td>Melrose       </td><td>3187</td><td> 287.5</td></tr>\n",
       "\t<tr><th scope=row>29</th><td>Taos          </td><td>3164</td><td>3326.5</td></tr>\n",
       "\t<tr><th scope=row>30</th><td>Pojoaque      </td><td>3155</td><td>1937.5</td></tr>\n",
       "\t<tr><th scope=row>⋮</th><td>⋮</td><td>⋮</td><td>⋮</td></tr>\n",
       "\t<tr><th scope=row>60</th><td>Portales      </td><td>2975</td><td> 2806.5</td></tr>\n",
       "\t<tr><th scope=row>61</th><td>Las Cruces    </td><td>2974</td><td>21365.5</td></tr>\n",
       "\t<tr><th scope=row>62</th><td>Socorro       </td><td>2968</td><td> 2204.5</td></tr>\n",
       "\t<tr><th scope=row>63</th><td>Bloomfield    </td><td>2968</td><td> 3358.5</td></tr>\n",
       "\t<tr><th scope=row>64</th><td>Artesia       </td><td>2964</td><td> 3861.0</td></tr>\n",
       "\t<tr><th scope=row>65</th><td>Lovington     </td><td>2963</td><td> 2909.0</td></tr>\n",
       "\t<tr><th scope=row>66</th><td>Capitan       </td><td>2962</td><td>  622.5</td></tr>\n",
       "\t<tr><th scope=row>67</th><td>Rio Rancho    </td><td>2959</td><td> 8590.5</td></tr>\n",
       "\t<tr><th scope=row>68</th><td>Belen         </td><td>2948</td><td> 4732.5</td></tr>\n",
       "\t<tr><th scope=row>69</th><td>Farmington    </td><td>2948</td><td>10153.0</td></tr>\n",
       "\t<tr><th scope=row>70</th><td>Truth or Cons.</td><td>2945</td><td> 1771.0</td></tr>\n",
       "\t<tr><th scope=row>71</th><td>Aztec         </td><td>2942</td><td> 3283.5</td></tr>\n",
       "\t<tr><th scope=row>72</th><td>House         </td><td>2936</td><td>  119.0</td></tr>\n",
       "\t<tr><th scope=row>73</th><td>Grady         </td><td>2915</td><td>  159.5</td></tr>\n",
       "\t<tr><th scope=row>74</th><td>Deming        </td><td>2912</td><td> 5326.0</td></tr>\n",
       "\t<tr><th scope=row>75</th><td>Los Lunas     </td><td>2887</td><td> 7946.5</td></tr>\n",
       "\t<tr><th scope=row>76</th><td>Cloudcroft    </td><td>2884</td><td>  545.0</td></tr>\n",
       "\t<tr><th scope=row>77</th><td>Dexter        </td><td>2883</td><td> 1161.5</td></tr>\n",
       "\t<tr><th scope=row>78</th><td>Carrizozo     </td><td>2880</td><td>  222.5</td></tr>\n",
       "\t<tr><th scope=row>79</th><td>Moriarty      </td><td>2870</td><td> 4643.5</td></tr>\n",
       "\t<tr><th scope=row>80</th><td>Gallup        </td><td>2861</td><td>13815.0</td></tr>\n",
       "\t<tr><th scope=row>81</th><td>Quemado       </td><td>2858</td><td>  214.5</td></tr>\n",
       "\t<tr><th scope=row>82</th><td>Eunice        </td><td>2849</td><td>  780.0</td></tr>\n",
       "\t<tr><th scope=row>83</th><td>Hobbs         </td><td>2848</td><td> 8114.5</td></tr>\n",
       "\t<tr><th scope=row>84</th><td>Gadsden       </td><td>2829</td><td>12000.5</td></tr>\n",
       "\t<tr><th scope=row>85</th><td>Lake Arturn   </td><td>2787</td><td>  245.5</td></tr>\n",
       "\t<tr><th scope=row>86</th><td>Dulce         </td><td>2783</td><td>  718.0</td></tr>\n",
       "\t<tr><th scope=row>87</th><td>Hagerman      </td><td>2777</td><td>  475.5</td></tr>\n",
       "\t<tr><th scope=row>88</th><td>Floyd         </td><td>2725</td><td>  261.5</td></tr>\n",
       "\t<tr><th scope=row>89</th><td>Des Moines    </td><td>2672</td><td>  196.5</td></tr>\n",
       "</tbody>\n",
       "</table>\n"
      ],
      "text/latex": [
       "A data.frame: 89 × 3\n",
       "\\begin{tabular}{r|lll}\n",
       "  & District & Revenue & Mem\\\\\n",
       "  & <fct> & <int> & <dbl>\\\\\n",
       "\\hline\n",
       "\t1 & Mosquero       & 6520 &   57.0\\\\\n",
       "\t2 & Corona         & 5791 &   81.0\\\\\n",
       "\t3 & Los Alamos     & 5611 & 3509.5\\\\\n",
       "\t4 & Vaughn         & 4641 &  111.5\\\\\n",
       "\t5 & Hondo Valley   & 3690 &  157.5\\\\\n",
       "\t6 & Maxwell        & 3591 &  152.0\\\\\n",
       "\t7 & Mora           & 3530 &  707.5\\\\\n",
       "\t8 & Roy            & 3516 &  113.0\\\\\n",
       "\t9 & Logan          & 3484 &  278.0\\\\\n",
       "\t10 & Cuba           & 3404 &  773.0\\\\\n",
       "\t11 & Silver City    & 3391 & 3837.5\\\\\n",
       "\t12 & Texico         & 3335 &  498.0\\\\\n",
       "\t13 & Zuni           & 3320 & 1696.0\\\\\n",
       "\t14 & Springer       & 3295 &  285.5\\\\\n",
       "\t15 & Jemez Valley   & 3286 &  513.5\\\\\n",
       "\t16 & Ruidoso        & 3278 & 2408.0\\\\\n",
       "\t17 & Tatum          & 3266 &  369.0\\\\\n",
       "\t18 & Penasco        & 3259 &  709.5\\\\\n",
       "\t19 & Raton          & 3249 & 1479.5\\\\\n",
       "\t20 & Tularosa       & 3246 & 1140.5\\\\\n",
       "\t21 & Bernalillo     & 3244 & 3528.5\\\\\n",
       "\t22 & Las Vegas West & 3241 & 2130.5\\\\\n",
       "\t23 & Mesa Vista     & 3233 &  572.0\\\\\n",
       "\t24 & Hatch          & 3206 & 1410.5\\\\\n",
       "\t25 & Loving         & 3204 &  556.5\\\\\n",
       "\t26 & Mountainair    & 3195 &  365.0\\\\\n",
       "\t27 & Cobre          & 3194 & 2067.0\\\\\n",
       "\t28 & Melrose        & 3187 &  287.5\\\\\n",
       "\t29 & Taos           & 3164 & 3326.5\\\\\n",
       "\t30 & Pojoaque       & 3155 & 1937.5\\\\\n",
       "\t⋮ & ⋮ & ⋮ & ⋮\\\\\n",
       "\t60 & Portales       & 2975 &  2806.5\\\\\n",
       "\t61 & Las Cruces     & 2974 & 21365.5\\\\\n",
       "\t62 & Socorro        & 2968 &  2204.5\\\\\n",
       "\t63 & Bloomfield     & 2968 &  3358.5\\\\\n",
       "\t64 & Artesia        & 2964 &  3861.0\\\\\n",
       "\t65 & Lovington      & 2963 &  2909.0\\\\\n",
       "\t66 & Capitan        & 2962 &   622.5\\\\\n",
       "\t67 & Rio Rancho     & 2959 &  8590.5\\\\\n",
       "\t68 & Belen          & 2948 &  4732.5\\\\\n",
       "\t69 & Farmington     & 2948 & 10153.0\\\\\n",
       "\t70 & Truth or Cons. & 2945 &  1771.0\\\\\n",
       "\t71 & Aztec          & 2942 &  3283.5\\\\\n",
       "\t72 & House          & 2936 &   119.0\\\\\n",
       "\t73 & Grady          & 2915 &   159.5\\\\\n",
       "\t74 & Deming         & 2912 &  5326.0\\\\\n",
       "\t75 & Los Lunas      & 2887 &  7946.5\\\\\n",
       "\t76 & Cloudcroft     & 2884 &   545.0\\\\\n",
       "\t77 & Dexter         & 2883 &  1161.5\\\\\n",
       "\t78 & Carrizozo      & 2880 &   222.5\\\\\n",
       "\t79 & Moriarty       & 2870 &  4643.5\\\\\n",
       "\t80 & Gallup         & 2861 & 13815.0\\\\\n",
       "\t81 & Quemado        & 2858 &   214.5\\\\\n",
       "\t82 & Eunice         & 2849 &   780.0\\\\\n",
       "\t83 & Hobbs          & 2848 &  8114.5\\\\\n",
       "\t84 & Gadsden        & 2829 & 12000.5\\\\\n",
       "\t85 & Lake Arturn    & 2787 &   245.5\\\\\n",
       "\t86 & Dulce          & 2783 &   718.0\\\\\n",
       "\t87 & Hagerman       & 2777 &   475.5\\\\\n",
       "\t88 & Floyd          & 2725 &   261.5\\\\\n",
       "\t89 & Des Moines     & 2672 &   196.5\\\\\n",
       "\\end{tabular}\n"
      ],
      "text/markdown": [
       "\n",
       "A data.frame: 89 × 3\n",
       "\n",
       "| <!--/--> | District &lt;fct&gt; | Revenue &lt;int&gt; | Mem &lt;dbl&gt; |\n",
       "|---|---|---|---|\n",
       "| 1 | Mosquero       | 6520 |   57.0 |\n",
       "| 2 | Corona         | 5791 |   81.0 |\n",
       "| 3 | Los Alamos     | 5611 | 3509.5 |\n",
       "| 4 | Vaughn         | 4641 |  111.5 |\n",
       "| 5 | Hondo Valley   | 3690 |  157.5 |\n",
       "| 6 | Maxwell        | 3591 |  152.0 |\n",
       "| 7 | Mora           | 3530 |  707.5 |\n",
       "| 8 | Roy            | 3516 |  113.0 |\n",
       "| 9 | Logan          | 3484 |  278.0 |\n",
       "| 10 | Cuba           | 3404 |  773.0 |\n",
       "| 11 | Silver City    | 3391 | 3837.5 |\n",
       "| 12 | Texico         | 3335 |  498.0 |\n",
       "| 13 | Zuni           | 3320 | 1696.0 |\n",
       "| 14 | Springer       | 3295 |  285.5 |\n",
       "| 15 | Jemez Valley   | 3286 |  513.5 |\n",
       "| 16 | Ruidoso        | 3278 | 2408.0 |\n",
       "| 17 | Tatum          | 3266 |  369.0 |\n",
       "| 18 | Penasco        | 3259 |  709.5 |\n",
       "| 19 | Raton          | 3249 | 1479.5 |\n",
       "| 20 | Tularosa       | 3246 | 1140.5 |\n",
       "| 21 | Bernalillo     | 3244 | 3528.5 |\n",
       "| 22 | Las Vegas West | 3241 | 2130.5 |\n",
       "| 23 | Mesa Vista     | 3233 |  572.0 |\n",
       "| 24 | Hatch          | 3206 | 1410.5 |\n",
       "| 25 | Loving         | 3204 |  556.5 |\n",
       "| 26 | Mountainair    | 3195 |  365.0 |\n",
       "| 27 | Cobre          | 3194 | 2067.0 |\n",
       "| 28 | Melrose        | 3187 |  287.5 |\n",
       "| 29 | Taos           | 3164 | 3326.5 |\n",
       "| 30 | Pojoaque       | 3155 | 1937.5 |\n",
       "| ⋮ | ⋮ | ⋮ | ⋮ |\n",
       "| 60 | Portales       | 2975 |  2806.5 |\n",
       "| 61 | Las Cruces     | 2974 | 21365.5 |\n",
       "| 62 | Socorro        | 2968 |  2204.5 |\n",
       "| 63 | Bloomfield     | 2968 |  3358.5 |\n",
       "| 64 | Artesia        | 2964 |  3861.0 |\n",
       "| 65 | Lovington      | 2963 |  2909.0 |\n",
       "| 66 | Capitan        | 2962 |   622.5 |\n",
       "| 67 | Rio Rancho     | 2959 |  8590.5 |\n",
       "| 68 | Belen          | 2948 |  4732.5 |\n",
       "| 69 | Farmington     | 2948 | 10153.0 |\n",
       "| 70 | Truth or Cons. | 2945 |  1771.0 |\n",
       "| 71 | Aztec          | 2942 |  3283.5 |\n",
       "| 72 | House          | 2936 |   119.0 |\n",
       "| 73 | Grady          | 2915 |   159.5 |\n",
       "| 74 | Deming         | 2912 |  5326.0 |\n",
       "| 75 | Los Lunas      | 2887 |  7946.5 |\n",
       "| 76 | Cloudcroft     | 2884 |   545.0 |\n",
       "| 77 | Dexter         | 2883 |  1161.5 |\n",
       "| 78 | Carrizozo      | 2880 |   222.5 |\n",
       "| 79 | Moriarty       | 2870 |  4643.5 |\n",
       "| 80 | Gallup         | 2861 | 13815.0 |\n",
       "| 81 | Quemado        | 2858 |   214.5 |\n",
       "| 82 | Eunice         | 2849 |   780.0 |\n",
       "| 83 | Hobbs          | 2848 |  8114.5 |\n",
       "| 84 | Gadsden        | 2829 | 12000.5 |\n",
       "| 85 | Lake Arturn    | 2787 |   245.5 |\n",
       "| 86 | Dulce          | 2783 |   718.0 |\n",
       "| 87 | Hagerman       | 2777 |   475.5 |\n",
       "| 88 | Floyd          | 2725 |   261.5 |\n",
       "| 89 | Des Moines     | 2672 |   196.5 |\n",
       "\n"
      ],
      "text/plain": [
       "   District       Revenue Mem    \n",
       "1  Mosquero       6520      57.0 \n",
       "2  Corona         5791      81.0 \n",
       "3  Los Alamos     5611    3509.5 \n",
       "4  Vaughn         4641     111.5 \n",
       "5  Hondo Valley   3690     157.5 \n",
       "6  Maxwell        3591     152.0 \n",
       "7  Mora           3530     707.5 \n",
       "8  Roy            3516     113.0 \n",
       "9  Logan          3484     278.0 \n",
       "10 Cuba           3404     773.0 \n",
       "11 Silver City    3391    3837.5 \n",
       "12 Texico         3335     498.0 \n",
       "13 Zuni           3320    1696.0 \n",
       "14 Springer       3295     285.5 \n",
       "15 Jemez Valley   3286     513.5 \n",
       "16 Ruidoso        3278    2408.0 \n",
       "17 Tatum          3266     369.0 \n",
       "18 Penasco        3259     709.5 \n",
       "19 Raton          3249    1479.5 \n",
       "20 Tularosa       3246    1140.5 \n",
       "21 Bernalillo     3244    3528.5 \n",
       "22 Las Vegas West 3241    2130.5 \n",
       "23 Mesa Vista     3233     572.0 \n",
       "24 Hatch          3206    1410.5 \n",
       "25 Loving         3204     556.5 \n",
       "26 Mountainair    3195     365.0 \n",
       "27 Cobre          3194    2067.0 \n",
       "28 Melrose        3187     287.5 \n",
       "29 Taos           3164    3326.5 \n",
       "30 Pojoaque       3155    1937.5 \n",
       "⋮  ⋮              ⋮       ⋮      \n",
       "60 Portales       2975     2806.5\n",
       "61 Las Cruces     2974    21365.5\n",
       "62 Socorro        2968     2204.5\n",
       "63 Bloomfield     2968     3358.5\n",
       "64 Artesia        2964     3861.0\n",
       "65 Lovington      2963     2909.0\n",
       "66 Capitan        2962      622.5\n",
       "67 Rio Rancho     2959     8590.5\n",
       "68 Belen          2948     4732.5\n",
       "69 Farmington     2948    10153.0\n",
       "70 Truth or Cons. 2945     1771.0\n",
       "71 Aztec          2942     3283.5\n",
       "72 House          2936      119.0\n",
       "73 Grady          2915      159.5\n",
       "74 Deming         2912     5326.0\n",
       "75 Los Lunas      2887     7946.5\n",
       "76 Cloudcroft     2884      545.0\n",
       "77 Dexter         2883     1161.5\n",
       "78 Carrizozo      2880      222.5\n",
       "79 Moriarty       2870     4643.5\n",
       "80 Gallup         2861    13815.0\n",
       "81 Quemado        2858      214.5\n",
       "82 Eunice         2849      780.0\n",
       "83 Hobbs          2848     8114.5\n",
       "84 Gadsden        2829    12000.5\n",
       "85 Lake Arturn    2787      245.5\n",
       "86 Dulce          2783      718.0\n",
       "87 Hagerman       2777      475.5\n",
       "88 Floyd          2725      261.5\n",
       "89 Des Moines     2672      196.5"
      ]
     },
     "metadata": {},
     "output_type": "display_data"
    },
    {
     "data": {
      "text/html": [
       "1"
      ],
      "text/latex": [
       "1"
      ],
      "text/markdown": [
       "1"
      ],
      "text/plain": [
       "[1] 1"
      ]
     },
     "metadata": {},
     "output_type": "display_data"
    }
   ],
   "source": [
    "z %>%\n",
    "arrange(desc(Revenue))\n",
    "\n",
    "length(z[1])"
   ]
  },
  {
   "cell_type": "code",
   "execution_count": null,
   "metadata": {},
   "outputs": [],
   "source": [
    "ggplot(aes(Revenue)) +geom_density(kernel = \"gaussian\",color='red')"
   ]
  }
 ],
 "metadata": {
  "kernelspec": {
   "display_name": "R",
   "language": "R",
   "name": "ir"
  },
  "language_info": {
   "codemirror_mode": "r",
   "file_extension": ".r",
   "mimetype": "text/x-r-source",
   "name": "R",
   "pygments_lexer": "r",
   "version": "3.6.3"
  }
 },
 "nbformat": 4,
 "nbformat_minor": 4
}
