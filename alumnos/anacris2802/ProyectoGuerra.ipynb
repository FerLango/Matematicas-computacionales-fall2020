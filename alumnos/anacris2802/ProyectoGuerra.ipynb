{
 "cells": [
  {
   "cell_type": "code",
   "execution_count": 1,
   "metadata": {},
   "outputs": [],
   "source": [
    "import numpy as np \n",
    "from sympy import *"
   ]
  },
  {
   "cell_type": "markdown",
   "metadata": {},
   "source": [
    "## Introducción\n",
    "Queremos modelar una batalla, y queremos hacerlo de manera muy simple. El modelo que vamos a considerar fué propuesto por Frederick Lanchester en 1916.\n",
    "\n",
    "### Las suposiciones son las siguientes:\n",
    "\n",
    "Hay dos lados en la batalla: azules y rojos.\n",
    "Los principales factores que deciden el resultado de la batalla son\n",
    "- Hay dos lados en la batalla: **azules** y **rojos**.\n",
    "- Los principales factores que deciden el resultado de la batalla son el número de tropas y el entrenamiento/equipo.\n",
    "- Sea $x$ el número de tropas de los **rojos** y $y$ el número de tropas de los **azules**.\n",
    "- Sea $a$ la potencia de fuego de los **rojos** y sea $b$ la potencia de fuego de los **azules**.\n",
    "    - La _potencia de fuego_ está basada en el entrenamiento, equipo, etc.\n",
    "    \n",
    "Con estas suposiciones tenemos el modelo de Lanchester:\n",
    "\n",
    "$$\n",
    "\\frac{dx}{dt} = -ay\n",
    "$$\n",
    "\n",
    "\n",
    "$$\n",
    "\\frac{dy}{dt} = -bx\n",
    "$$\n",
    "\n",
    "con condiciones iniciales $x(0) = x_0$ y $y(0) = y_0$."
   ]
  },
  {
   "cell_type": "markdown",
   "metadata": {},
   "source": [
    "- Usando **Simpy** resuelva las ecuaciones de manera explícita.\n"
   ]
  },
  {
   "cell_type": "code",
   "execution_count": 2,
   "metadata": {},
   "outputs": [],
   "source": [
    "t = Symbol('t')                          #tiempo\n",
    "x = Function('x')                        #Número de tropas rojas\n",
    "dx = Derivative(x(t), t)                 #Cambio de la fuerza (número) de la tropa roja\n",
    "\n",
    "y1 = Function('y')                        #Número de tropas azules\n",
    "dy = Derivative(y1(t), t)                 #Cambio de la fuerza (número) de la tropa azul\n",
    "\n",
    "\n",
    "a = Symbol('a')                          #Potencia de fuego de x\n",
    "b = Symbol('b')                          #Potencia de fuego de y\n",
    "\n",
    "x0 = Symbol('x_0')                       #Simbolo de la condición inicial en x\n",
    "y0 = Symbol('y_0')                       #Símbolo de la condición inicial en y"
   ]
  },
  {
   "cell_type": "code",
   "execution_count": 3,
   "metadata": {},
   "outputs": [
    {
     "data": {
      "text/latex": [
       "$\\displaystyle \\frac{d}{d t} x{\\left(t \\right)} = - a y{\\left(t \\right)}$"
      ],
      "text/plain": [
       "Eq(Derivative(x(t), t), -a*y(t))"
      ]
     },
     "execution_count": 3,
     "metadata": {},
     "output_type": "execute_result"
    }
   ],
   "source": [
    "ode1 = Eq(dx,-a*y1(t))                     #Vamos a declarar las ecuaciones diferenciales para ver si se puede resolver con funciones y/o métodos de Python\n",
    "ode1"
   ]
  },
  {
   "cell_type": "code",
   "execution_count": 4,
   "metadata": {},
   "outputs": [
    {
     "data": {
      "text/latex": [
       "$\\displaystyle \\frac{d}{d t} y{\\left(t \\right)} = - b x{\\left(t \\right)}$"
      ],
      "text/plain": [
       "Eq(Derivative(y(t), t), -b*x(t))"
      ]
     },
     "execution_count": 4,
     "metadata": {},
     "output_type": "execute_result"
    }
   ],
   "source": [
    "ode2 = Eq(dy,-b*x(t))                     #Vamos a declarar las ecuaciones diferenciales para ver si se puede resolver con funciones y/o métodos de Python\n",
    "ode2"
   ]
  },
  {
   "cell_type": "code",
   "execution_count": 5,
   "metadata": {},
   "outputs": [
    {
     "data": {
      "text/latex": [
       "$\\displaystyle x{\\left(t \\right)} = C_{1} - a \\int y{\\left(t \\right)}\\, dt$"
      ],
      "text/plain": [
       "Eq(x(t), C1 - a*Integral(y(t), t))"
      ]
     },
     "execution_count": 5,
     "metadata": {},
     "output_type": "execute_result"
    }
   ],
   "source": [
    "dsolve(ode1)  "
   ]
  },
  {
   "cell_type": "code",
   "execution_count": 6,
   "metadata": {},
   "outputs": [
    {
     "data": {
      "text/latex": [
       "$\\displaystyle y{\\left(t \\right)} = C_{1} - b \\int x{\\left(t \\right)}\\, dt$"
      ],
      "text/plain": [
       "Eq(y(t), C1 - b*Integral(x(t), t))"
      ]
     },
     "execution_count": 6,
     "metadata": {},
     "output_type": "execute_result"
    }
   ],
   "source": [
    "dsolve(ode2)  "
   ]
  },
  {
   "cell_type": "code",
   "execution_count": 7,
   "metadata": {},
   "outputs": [],
   "source": [
    "#Definimos la función que caracteriza al sistema para poder utilizar otros métodos de resolución\n",
    "\n",
    "def Lanchester(estado, tiempo,a=a,b=b):\n",
    "    l1 = -a*estado[1]                          # Si tomamos como condiciones iniciales coordenadas (x,y)\n",
    "    l2 = -b*estado[0]\n",
    "    return np.array([l1,l2])"
   ]
  },
  {
   "cell_type": "code",
   "execution_count": 8,
   "metadata": {},
   "outputs": [],
   "source": [
    "# Usaremos el método de Runge-Kutta 2. Las variables son:\n",
    "# y -> el estado inicial \n",
    "# t -> tiempo\n",
    "# dt -> cambio en el tiempo\n",
    "# derivadas -> la función que tiene el sistema\n",
    "\n",
    "def RK2(y, t, dt, derivadas):\n",
    "    k0 = dt*derivadas(y, t)\n",
    "    k1 = dt*derivadas(y + k0, t + dt)\n",
    "    y_next = y + 0.5*(k0 + k1)\n",
    "    \n",
    "    return y_next"
   ]
  },
  {
   "cell_type": "code",
   "execution_count": 9,
   "metadata": {},
   "outputs": [],
   "source": [
    "N = 100 # -> definimos el número de steps\n",
    "\n",
    "time = np.linspace(0,100,N)   # -> el tiempo\n",
    "\n",
    "dt = 100/float(N-1)  # -> La variación del tiempo\n",
    "\n",
    "y = np.zeros([N,2], dtype=Symbol)   #Este arreglo va a tener las condiciones iniciales y va a guardar las soluciones\n",
    "y[0,0]=x0\n",
    "y[0,1]=y0"
   ]
  },
  {
   "cell_type": "code",
   "execution_count": 10,
   "metadata": {},
   "outputs": [],
   "source": [
    "#Esto hace la resolución del método de Runge-Kutta2\n",
    "\n",
    "for i in range(0,N-1):\n",
    "    y[i+1] = RK2(y[i], time[i], dt, Lanchester)"
   ]
  },
  {
   "cell_type": "code",
   "execution_count": 11,
   "metadata": {},
   "outputs": [
    {
     "data": {
      "text/latex": [
       "$\\displaystyle - 0.505050505050505 a y_{0} - 0.505050505050505 a \\left(- 1.01010101010101 b x_{0} + y_{0}\\right) - 0.505050505050505 a \\left(- 0.505050505050505 b x_{0} - 0.505050505050505 b \\left(- 1.01010101010101 a y_{0} + x_{0}\\right) + y_{0}\\right) - 0.505050505050505 a \\left(- 0.505050505050505 b x_{0} - 0.505050505050505 b \\left(- 1.01010101010101 a y_{0} + x_{0}\\right) - 1.01010101010101 b \\left(- 0.505050505050505 a y_{0} - 0.505050505050505 a \\left(- 1.01010101010101 b x_{0} + y_{0}\\right) + x_{0}\\right) + y_{0}\\right) + x_{0}$"
      ],
      "text/plain": [
       "-0.505050505050505*a*y_0 - 0.505050505050505*a*(-1.01010101010101*b*x_0 + y_0) - 0.505050505050505*a*(-0.505050505050505*b*x_0 - 0.505050505050505*b*(-1.01010101010101*a*y_0 + x_0) + y_0) - 0.505050505050505*a*(-0.505050505050505*b*x_0 - 0.505050505050505*b*(-1.01010101010101*a*y_0 + x_0) - 1.01010101010101*b*(-0.505050505050505*a*y_0 - 0.505050505050505*a*(-1.01010101010101*b*x_0 + y_0) + x_0) + y_0) + x_0"
      ]
     },
     "execution_count": 11,
     "metadata": {},
     "output_type": "execute_result"
    }
   ],
   "source": [
    "#Aquí vemos que el arreglo si tiene soluciones\n",
    "\n",
    "y[2,0]"
   ]
  },
  {
   "cell_type": "markdown",
   "metadata": {},
   "source": [
    "- Deduzca e interprete la **Ley de cuadrados de Lanchester**. \n",
    "$$\n",
    "x^2 - \\frac{b}{a}y^2 = K,\n",
    "$$\n",
    "para varios valores de $K$. ¿Qué sucede cuando $K=0$?"
   ]
  },
  {
   "cell_type": "code",
   "execution_count": 12,
   "metadata": {},
   "outputs": [
    {
     "data": {
      "text/latex": [
       "$\\displaystyle \\frac{d}{d t} x{\\left(t \\right)} = - a y{\\left(t \\right)}$"
      ],
      "text/plain": [
       "Eq(Derivative(x(t), t), -a*y(t))"
      ]
     },
     "execution_count": 12,
     "metadata": {},
     "output_type": "execute_result"
    }
   ],
   "source": [
    "ode1"
   ]
  },
  {
   "cell_type": "code",
   "execution_count": 13,
   "metadata": {},
   "outputs": [
    {
     "data": {
      "text/latex": [
       "$\\displaystyle \\frac{d}{d t} y{\\left(t \\right)} = - b x{\\left(t \\right)}$"
      ],
      "text/plain": [
       "Eq(Derivative(y(t), t), -b*x(t))"
      ]
     },
     "execution_count": 13,
     "metadata": {},
     "output_type": "execute_result"
    }
   ],
   "source": [
    "ode2"
   ]
  },
  {
   "cell_type": "markdown",
   "metadata": {},
   "source": [
    "Primero, multiplicamos la primer ecuación por bx y la segunda por ay\n",
    "$$\n",
    "(1) \\ bx\\frac{dx}{dt} = -bxay\n",
    "$$\n",
    "\n",
    "$$\n",
    "(2) \\  ay\\frac{dy}{dt} =-bxay\n",
    "$$\n",
    "Igualamos (1) con (2)\n",
    "$$\n",
    "ay\\frac{dy}{dt} = bx\\frac{dx}{dt}\n",
    "$$ \n",
    "Despejamos\n",
    "\n",
    "$$\n",
    "\\frac{dy}{dx} = \\frac{bx}{ay}\n",
    "$$ Integramos desde la condición incial a lo largo de un periodo\n",
    "$$ \n",
    "a\\int_{y_0}^{y_t} y \\mathrm{d}y = b\\int_{x_0}^{x^t} x \\mathrm{d}x\n",
    "$$\n",
    "Por lo que$$\n",
    "ay_t^{2} - ay_0^{2}= bx_t^{2} - bx_0^{2}\n",
    "$$\n",
    "Así$$\n",
    "ay_t^{2} - bx_t^{2} = ay_0^2 - bx_0^2\n",
    "\\\\ $$\n",
    "$$\n",
    " \\quad\\mathrm{Como}\\quad  \\frac{ay_0^2 - bx_0^2}{a} \\quad\\mathrm{constante, tenemos}\\quad \n",
    "$$$$\n",
    "(3) \\ \\  \\  \\ y_t^{2} - \\frac{b}{a}x_t^{2}  = K\n",
    "$$"
   ]
  },
  {
   "cell_type": "markdown",
   "metadata": {},
   "source": [
    "- Modele combate entre guerrillas (_GUERCOM_): El territorio es grande y hay muchos lugares dónde esconderse. Las fuerzas **azules** deben de encontrar a las fuerzas **rojas** primero antes de inflingir daños, entre más **rojos** más fácil encontrarlos. \n",
    "$$\n",
    "\\frac{dx}{dt} = -axy\n",
    "$$\n",
    "$$\n",
    "\\frac{dy}{dt} = -bxy\n",
    "$$\n",
    "Explique estas ecuaciones e indique los posibles casos. ¿Qué pasa si $x_0 = 3y_0$?¿Qué tan efectivo deben de ser los **azules** para lograr un empate?"
   ]
  },
  {
   "cell_type": "markdown",
   "metadata": {},
   "source": [
    "Este modelo representa el combate de 2 fuerzas que no tienen la ubicación de la fuerza contraria. Así mismo, no conocen el daño que han infligido al equipo contrario. Esto ahrá que concentren su fuego en una área determinada en la que creen que se encuentra el enemigo. \n",
    "\n",
    "Siendo 'ax' la tasa a la cuál Y aniquila a X. Esta se multiplica por Y, siendo Y la cantidad de elemenots de Y que disparan a X. \n",
    "De la misma manera, 'by' la tasa a la cuál X aniquila a Y. Esta se multiplica por X (cantidad de X que dispara a Y)\n",
    "\n"
   ]
  },
  {
   "cell_type": "code",
   "execution_count": 14,
   "metadata": {},
   "outputs": [],
   "source": [
    "#VALORES PARA EL MODELO GUERRACOM\n",
    "tC = Symbol('t')                          #tiempo\n",
    "xC = Function('x')                        #Número de tropas rojas \n",
    "dxC = Derivative(x(t), t)                 #Cambio de la fuerza (número) de la tropa roja\n",
    "\n",
    "y1C = Function('y')                        #Número de tropas azules\n",
    "dyC = Derivative(y1(t), t)                 #Cambio de la fuerza (número) de la tropa azul\n",
    "\n",
    "\n",
    "aC = Symbol('a')                          #Potencia de fuego de x\n",
    "bC = Symbol('b')                          #Potencia de fuego de y\n",
    "\n",
    "x0C = Symbol('x_0')                       #Simbolo de la condición inicial en x\n",
    "y0C = Symbol('y_0')                       #Símbolo de la condición inicial en y"
   ]
  },
  {
   "cell_type": "code",
   "execution_count": 15,
   "metadata": {},
   "outputs": [
    {
     "data": {
      "text/latex": [
       "$\\displaystyle \\frac{d}{d t} x{\\left(t \\right)} = - a x{\\left(t \\right)} y{\\left(t \\right)}$"
      ],
      "text/plain": [
       "Eq(Derivative(x(t), t), -a*x(t)*y(t))"
      ]
     },
     "execution_count": 15,
     "metadata": {},
     "output_type": "execute_result"
    }
   ],
   "source": [
    "ode1C = Eq(dxC,-aC*y1C(tC)*xC(tC))                     #Vamos a declarar las ecuaciones diferenciales para ver si se puede resolver con funciones y/o métodos de Python\n",
    "ode1C"
   ]
  },
  {
   "cell_type": "code",
   "execution_count": 16,
   "metadata": {},
   "outputs": [
    {
     "data": {
      "text/latex": [
       "$\\displaystyle \\frac{d}{d t} y{\\left(t \\right)} = - b x{\\left(t \\right)} y{\\left(t \\right)}$"
      ],
      "text/plain": [
       "Eq(Derivative(y(t), t), -b*x(t)*y(t))"
      ]
     },
     "execution_count": 16,
     "metadata": {},
     "output_type": "execute_result"
    }
   ],
   "source": [
    "ode2C = Eq(dyC,-bC*xC(tC)*y1C(tC))                     #Vamos a declarar las ecuaciones diferenciales para ver si se puede resolver con funciones y/o métodos de Python\n",
    "ode2C"
   ]
  },
  {
   "cell_type": "code",
   "execution_count": 17,
   "metadata": {},
   "outputs": [
    {
     "data": {
      "text/latex": [
       "$\\displaystyle x{\\left(t \\right)} = C_{1} e^{- a \\int y{\\left(t \\right)}\\, dt}$"
      ],
      "text/plain": [
       "Eq(x(t), C1*exp(-a*Integral(y(t), t)))"
      ]
     },
     "execution_count": 17,
     "metadata": {},
     "output_type": "execute_result"
    }
   ],
   "source": [
    "dsolve(ode1C)  "
   ]
  },
  {
   "cell_type": "code",
   "execution_count": 18,
   "metadata": {},
   "outputs": [
    {
     "data": {
      "text/latex": [
       "$\\displaystyle y{\\left(t \\right)} = C_{1} e^{- b \\int x{\\left(t \\right)}\\, dt}$"
      ],
      "text/plain": [
       "Eq(y(t), C1*exp(-b*Integral(x(t), t)))"
      ]
     },
     "execution_count": 18,
     "metadata": {},
     "output_type": "execute_result"
    }
   ],
   "source": [
    "dsolve(ode2C)  "
   ]
  },
  {
   "cell_type": "code",
   "execution_count": 42,
   "metadata": {},
   "outputs": [],
   "source": [
    "#Definimos la función que caracteriza al sistema para poder utilizar otros métodos de resolución\n",
    "\n",
    "def LanchesterC(estado, tiempo,a=a,b=b):\n",
    "    l1 = -a*estado[1]*estado[0]                         \n",
    "    l2 = -b*estado[0]*estado[1]\n",
    "    return np.array([l1,l2])"
   ]
  },
  {
   "cell_type": "code",
   "execution_count": 20,
   "metadata": {},
   "outputs": [],
   "source": [
    "# Usaremos el método de Runge-Kutta 2. Las variables son:\n",
    "# y -> el estado inicial \n",
    "# t -> tiempo\n",
    "# dt -> cambio en el tiempo\n",
    "# derivadas -> la función que tiene el sistema\n",
    "\n",
    "def RK2(y, t, dt, derivadas):\n",
    "    k0 = dt*derivadas(y, t)\n",
    "    k1 = dt*derivadas(y + k0, t + dt)\n",
    "    y_next = y + 0.5*(k0 + k1)\n",
    "    \n",
    "    return y_next"
   ]
  },
  {
   "cell_type": "code",
   "execution_count": 21,
   "metadata": {},
   "outputs": [],
   "source": [
    "N = 10 # -> definimos el número de steps\n",
    "\n",
    "time = np.linspace(0,100,N)   # -> el tiempo\n",
    "\n",
    "dt = 100/float(N-1)  # -> La variación del tiempo\n",
    "\n",
    "yC = np.zeros([N,2], dtype=Symbol)   #Este arreglo va a tener las condiciones iniciales y va a guardar las soluciones\n",
    "yC[0,0]=x0C\n",
    "yC[0,1]=y0C"
   ]
  },
  {
   "cell_type": "code",
   "execution_count": 22,
   "metadata": {},
   "outputs": [],
   "source": [
    "#Esto hace la resolución del método de Runge-Kutta2\n",
    "\n",
    "for i in range(0,N-1):\n",
    "    yC[i+1] = RK2(yC[i], time[i], dt, LanchesterC)"
   ]
  },
  {
   "cell_type": "code",
   "execution_count": 32,
   "metadata": {},
   "outputs": [
    {
     "data": {
      "text/latex": [
       "$\\displaystyle - 5.55555555555556 a x_{0} y_{0} - 5.55555555555556 a \\left(- 11.1111111111111 a x_{0} y_{0} + x_{0}\\right) \\left(- 11.1111111111111 b x_{0} y_{0} + y_{0}\\right) + x_{0}$"
      ],
      "text/plain": [
       "-5.55555555555556*a*x_0*y_0 - 5.55555555555556*a*(-11.1111111111111*a*x_0*y_0 + x_0)*(-11.1111111111111*b*x_0*y_0 + y_0) + x_0"
      ]
     },
     "execution_count": 32,
     "metadata": {},
     "output_type": "execute_result"
    }
   ],
   "source": [
    "#Aquí vemos que el arreglo si tiene soluciones\n",
    "\n",
    "yC[1,0]"
   ]
  },
  {
   "cell_type": "code",
   "execution_count": 43,
   "metadata": {},
   "outputs": [],
   "source": [
    "#Si x0=3y0\n",
    "yC2 = np.zeros([N,2], dtype=Symbol) \n",
    "yC2[0,0]=3*y0C\n",
    "yC2[0,1]=y0C\n",
    "\n",
    "for i in range(0,N-1):\n",
    "    yC2[i+1] = RK2(yC2[i], time[i], dt, LanchesterC)"
   ]
  },
  {
   "cell_type": "code",
   "execution_count": 44,
   "metadata": {},
   "outputs": [
    {
     "data": {
      "text/latex": [
       "$\\displaystyle - 16.6666666666667 a y_{0}^{2} - 5.55555555555556 a \\left(- 33.3333333333333 a y_{0}^{2} + 3 y_{0}\\right) \\left(- 33.3333333333333 b y_{0}^{2} + y_{0}\\right) + 3 y_{0}$"
      ],
      "text/plain": [
       "-16.6666666666667*a*y_0**2 - 5.55555555555556*a*(-33.3333333333333*a*y_0**2 + 3*y_0)*(-33.3333333333333*b*y_0**2 + y_0) + 3*y_0"
      ]
     },
     "execution_count": 44,
     "metadata": {},
     "output_type": "execute_result"
    }
   ],
   "source": [
    "yC2[1,0]"
   ]
  },
  {
   "cell_type": "code",
   "execution_count": null,
   "metadata": {},
   "outputs": [],
   "source": []
  },
  {
   "cell_type": "code",
   "execution_count": null,
   "metadata": {},
   "outputs": [],
   "source": []
  },
  {
   "cell_type": "code",
   "execution_count": null,
   "metadata": {},
   "outputs": [],
   "source": []
  },
  {
   "cell_type": "markdown",
   "metadata": {},
   "source": [
    "- El modelo _VIETNAM_ es la unión de los últimos dos modelos: las tropas de **EU** contra el **Vietcong**\n",
    "$$\n",
    "\\frac{dx}{dt} = -axy\n",
    "$$\n",
    "$$\n",
    "\\frac{dy}{dt} = -bx,\n",
    "$$\n",
    "donde $a$ es proporcional a la razón entre el área de un guerrillero $A_g \\sim 2$ sq. ft. y el área ocupada por la guerrilla $A_x$\n",
    "$$\n",
    "a = c_1\\frac{A_g}{A_x},\n",
    "$$\n",
    "un guerrillero cubre aproximadamente $1,000$ sq.ft. y si están dispersados $A_x = (1,000)sq.ft. \\times x_0$.\n",
    "$b$ representa la efectividad de la guerrilla contra una fuerza convencional, y depende de la probabilidad de que un disparo de un guerrillero mate a un soldado. \n",
    "$$\n",
    "b = c_2p_x\n",
    "$$\n",
    "$c_1$ y $c_2$ son las tasas de disparo (depende de la tecnología del armamento) y se suponen aproximadas $c_1 \\sim c_2$. ¿Cuáles son las condiciones de empate? ¿Cuántos soldados convencionales debe de tener el ejército convencional para derrotar a la guerrilla? En Vietnam, las tropas de EUA nunca fueron mayores a las del Vietcong por más de 6 a 1. ¿Pudo haber ganado EUA?\n"
   ]
  },
  {
   "cell_type": "code",
   "execution_count": 61,
   "metadata": {},
   "outputs": [],
   "source": [
    "#VALORES PARA EL MODELO VIETNAM\n",
    "tV = Symbol('t')                          #tiempo\n",
    "xV = Function('x')                        #Número de tropas rojas \n",
    "dxV = Derivative(xV(tV), tV)                 #Cambio de la fuerza (número) de la tropa roja\n",
    "\n",
    "y1V = Function('y')                        #Número de tropas azules\n",
    "dyV = Derivative(y1V(tV), tV)                 #Cambio de la fuerza (número) de la tropa azul\n",
    "\n",
    "\n",
    "aV = Symbol('a')                          #Potencia de fuego de x\n",
    "bV = Symbol('b')                          #Potencia de fuego de y\n",
    "\n",
    "Ag= Symbol('A_g')                         #Area de un guerrillero \n",
    "Ax= Symbol('A_x')                         #Area ocupada por la guerrilla \n",
    "c1,c2= symbols('c_1 c_2')                 #Tasas de disparo tal que c1~c2 (aproximadas)\n",
    "\n",
    "px= Symbol('p_x')                         #Probabilidad de que un guerrillero mate a un soldado\n",
    "\n",
    "x0V = Symbol('x_0')                       #Simbolo de la condición inicial en x\n",
    "y0V = Symbol('y_0')                       #Símbolo de la condición inicial en y\n"
   ]
  },
  {
   "cell_type": "code",
   "execution_count": 64,
   "metadata": {},
   "outputs": [],
   "source": [
    "#Condiciones: \n",
    "Ax=1000*x0\n",
    "aV=c1*(Ag/Ax)\n",
    "bV=c2*px"
   ]
  },
  {
   "cell_type": "code",
   "execution_count": 65,
   "metadata": {},
   "outputs": [
    {
     "data": {
      "text/latex": [
       "$\\displaystyle \\frac{d}{d t} x{\\left(t \\right)} = - \\frac{A_{g} c_{1} x{\\left(t \\right)} y{\\left(t \\right)}}{1000 x_{0}}$"
      ],
      "text/plain": [
       "Eq(Derivative(x(t), t), -A_g*c_1*x(t)*y(t)/(1000*x_0))"
      ]
     },
     "execution_count": 65,
     "metadata": {},
     "output_type": "execute_result"
    }
   ],
   "source": [
    "ode1V = Eq(dxV,-aV*y1V(tV)*xV(tV))                     #Vamos a declarar las ecuaciones diferenciales para ver si se puede resolver con funciones y/o métodos de Python\n",
    "ode1V"
   ]
  },
  {
   "cell_type": "code",
   "execution_count": 66,
   "metadata": {},
   "outputs": [
    {
     "data": {
      "text/latex": [
       "$\\displaystyle \\frac{d}{d t} y{\\left(t \\right)} = - c_{2} p_{x} x{\\left(t \\right)}$"
      ],
      "text/plain": [
       "Eq(Derivative(y(t), t), -c_2*p_x*x(t))"
      ]
     },
     "execution_count": 66,
     "metadata": {},
     "output_type": "execute_result"
    }
   ],
   "source": [
    "ode2V = Eq(dyV,-bV*xV(tV))                     #Vamos a declarar las ecuaciones diferenciales para ver si se puede resolver con funciones y/o métodos de Python\n",
    "ode2V"
   ]
  },
  {
   "cell_type": "code",
   "execution_count": null,
   "metadata": {},
   "outputs": [],
   "source": []
  },
  {
   "cell_type": "code",
   "execution_count": null,
   "metadata": {},
   "outputs": [],
   "source": []
  },
  {
   "cell_type": "code",
   "execution_count": null,
   "metadata": {},
   "outputs": [],
   "source": []
  },
  {
   "cell_type": "code",
   "execution_count": null,
   "metadata": {},
   "outputs": [],
   "source": []
  },
  {
   "cell_type": "code",
   "execution_count": null,
   "metadata": {},
   "outputs": [],
   "source": []
  },
  {
   "cell_type": "code",
   "execution_count": null,
   "metadata": {},
   "outputs": [],
   "source": []
  },
  {
   "cell_type": "code",
   "execution_count": null,
   "metadata": {},
   "outputs": [],
   "source": []
  },
  {
   "cell_type": "code",
   "execution_count": null,
   "metadata": {},
   "outputs": [],
   "source": []
  },
  {
   "cell_type": "code",
   "execution_count": null,
   "metadata": {},
   "outputs": [],
   "source": []
  },
  {
   "cell_type": "code",
   "execution_count": null,
   "metadata": {},
   "outputs": [],
   "source": []
  },
  {
   "cell_type": "code",
   "execution_count": null,
   "metadata": {},
   "outputs": [],
   "source": []
  },
  {
   "cell_type": "code",
   "execution_count": null,
   "metadata": {},
   "outputs": [],
   "source": []
  },
  {
   "cell_type": "markdown",
   "metadata": {},
   "source": [
    "- Es posible modificar las ecuaciones para modelar combate convencional (_CONCON_):\n",
    "$$\n",
    "\\frac{dx}{dt} = -cx-ay+P(t)\n",
    "$$\n",
    "$$\n",
    "\\frac{dy}{dt} = -bx-dy+Q(t)\n",
    "$$\n",
    "donde ${d,c}$ son la tasa de pérdidas operacionales (enfermedades, deserciones, etc.) -proporcional al número de las tropas, y ${a,b}$ es la tasa de pérdidas en combate. ${P,Q}$ es la tasa de refuerzos. \n",
    "La batalla de Iwo Jima, en la segunda guerra mundial, fué modelada por Engel en 1954, aplicando estas ecuaciones y dió una _comprobación empírica_ de las ecuaciones de Lanchester, aunque en este caso, sólo el ejército de EUA tuvo refuerzos:\n",
    "$$\n",
    "\\frac{dx}{dt} = -ay\n",
    "$$\n",
    "$$\n",
    "\\frac{dy}{dt} = -bx+Q(t)\n",
    "$$\n",
    "Resuelva las ecuaciones con $x_0 = 21,500$, $y_0=0$ y \n",
    "$$Q(t) = 54,000 \\mathcal{U}_{[0,1]} + 6,000 \\mathcal{U}_{[2_3]} + 13,000 \\mathcal{U}_{[5,6]},$$\n",
    "donde $\\mathcal{U}$ es la función escalón. "
   ]
  },
  {
   "cell_type": "code",
   "execution_count": null,
   "metadata": {},
   "outputs": [],
   "source": []
  },
  {
   "cell_type": "markdown",
   "metadata": {},
   "source": [
    "- Encuentre los valores de $a$ y $b$ para ajustar los datos empíricos mostrados en la figura siguiente:"
   ]
  },
  {
   "cell_type": "markdown",
   "metadata": {},
   "source": [
    "<img src=\"imagenes/iwo_jima.png\"/>"
   ]
  },
  {
   "cell_type": "code",
   "execution_count": null,
   "metadata": {},
   "outputs": [],
   "source": []
  },
  {
   "cell_type": "markdown",
   "metadata": {},
   "source": [
    "- Si no hubiera habido refuerzos ¿Cuál hubiera sido el resultado de la batalla?\n",
    "- ¿Puede sugerir (buscando alguna referencia de tropas cercanas japonesas) cómo intervenir para ganar esta batalla?"
   ]
  },
  {
   "cell_type": "code",
   "execution_count": null,
   "metadata": {},
   "outputs": [],
   "source": []
  },
  {
   "cell_type": "markdown",
   "metadata": {},
   "source": [
    "- **This is Sparta!** Es posible simular la batalla del Termópilas: Suponga que sólo $C$ unidades de cada lado caben en el estrecho (o paso) de Termópilas, entonces las ecuaciones se convierten en \n",
    "$$\n",
    "\\frac{dx}{dt} = -a \\min(y,C)\n",
    "$$\n",
    "$$\n",
    "\\frac{dy}{dt} = -b \\min(x,C)\n",
    "$$\n",
    "Separe en cuatro casos el espacio $x-y$ y dibuje las regiones de manera analítica. ¿Obtiene el mismo resultado numérico? Utilice los datos \"históricos\" ¿El resultado es parecido a la vida real?"
   ]
  },
  {
   "cell_type": "code",
   "execution_count": null,
   "metadata": {},
   "outputs": [],
   "source": []
  },
  {
   "cell_type": "markdown",
   "metadata": {},
   "source": [
    "- **Agentes** Use la clase agente para modelar el último escenario, suponga únicamente combate cuerpo a cuerpo, asigne una probabilidad de herir, morir y matar para los agentes que estén uno enfrente de otro. Agregue un valor de `cohesión` / `miedo`. Si pasa de un límite el miedo huye el agente. Agregue un atributo de `moral`. ¿Los resultados coinciden con el modelo de Lanchester?"
   ]
  },
  {
   "cell_type": "code",
   "execution_count": null,
   "metadata": {},
   "outputs": [],
   "source": []
  },
  {
   "cell_type": "markdown",
   "metadata": {},
   "source": [
    "## Preguntas extra\n",
    "- Usando como base a **Chen, 2012** (Incluido en el repo) simule la batalla de Trafalgar con Lanchester.\n",
    "- ¿Cómo modelaría fatiga o abastecimiento en Lanchester?\n",
    "- ¿Cómo incluiría a un tercer combatiente? ¿Se ve afectadas las ecuaciones si los **rojos** tienen fuerzas regulares e irregulares?"
   ]
  },
  {
   "cell_type": "code",
   "execution_count": null,
   "metadata": {},
   "outputs": [],
   "source": []
  },
  {
   "cell_type": "markdown",
   "metadata": {},
   "source": [
    "## Bibliografía\n",
    "- **Wikipedia** [_Lanchester laws_](http://en.wikipedia.org/wiki/Lanchester%27s_laws)\n",
    "- **J.H. Engel** _A verification of Lanchester's Law_ `Journal of the Operations Research Society of America, Vol. 2, No. 2. (May, 1954), pp. 163-171`\n",
    "- **Alex Chen** _This Means War! Modeling Combat with Applications to Real Time Strategy Games_ (2012)\n",
    "- **Marcin Waniek** _An Agent-Based Simulation of the Battle of Kokenhausen_"
   ]
  }
 ],
 "metadata": {
  "kernelspec": {
   "display_name": "Python 3",
   "language": "python",
   "name": "python3"
  },
  "language_info": {
   "codemirror_mode": {
    "name": "ipython",
    "version": 3
   },
   "file_extension": ".py",
   "mimetype": "text/x-python",
   "name": "python",
   "nbconvert_exporter": "python",
   "pygments_lexer": "ipython3",
   "version": "3.8.5"
  }
 },
 "nbformat": 4,
 "nbformat_minor": 4
}
