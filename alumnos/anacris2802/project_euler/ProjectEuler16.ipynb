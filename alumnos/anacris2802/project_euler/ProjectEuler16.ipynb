{
 "cells": [
  {
   "cell_type": "markdown",
   "metadata": {},
   "source": [
    "# Power digit sum\n",
    "## Problem 16\n",
    "\n",
    "2^15 = 32768 and the sum of its digits is 3 + 2 + 7 + 6 + 8 = 26.\n",
    "\n",
    "What is the sum of the digits of the number 2^1000?"
   ]
  },
  {
   "cell_type": "code",
   "execution_count": 35,
   "metadata": {},
   "outputs": [
    {
     "name": "stdout",
     "output_type": "stream",
     "text": [
      "La SUMA de los dígitos del número 2^1000 es: 1366\n"
     ]
    }
   ],
   "source": [
    "# Se define una base y una potencia\n",
    "p=1000\n",
    "b=2\n",
    "\n",
    "def sumaDig(p,b):\n",
    "    \n",
    "    #Se define el número que se usará\n",
    "    n=b**p\n",
    "\n",
    "    #Se pasa a string para poder separarlo\n",
    "    num=str(n)\n",
    "    s=[]\n",
    "\n",
    "    #Se separa cada uno de los dígitos\n",
    "    for c in num:\n",
    "        s.append(c)\n",
    "\n",
    "    #Se vuelve a pasar a int para poder sumar los dígitos\n",
    "    for i in range(len(s)):\n",
    "        s[i]=int(s[i])\n",
    "\n",
    "    #Se suman los números\n",
    "    res=0\n",
    "    for r in s:\n",
    "        res+=r\n",
    "    \n",
    "    return 'La SUMA de los dígitos del número '+str(b)+'^'+str(p)+' es: '+str(res)\n",
    "    \n",
    "print(sumaDig(p,b))"
   ]
  }
 ],
 "metadata": {
  "kernelspec": {
   "display_name": "Python 3",
   "language": "python",
   "name": "python3"
  },
  "language_info": {
   "codemirror_mode": {
    "name": "ipython",
    "version": 3
   },
   "file_extension": ".py",
   "mimetype": "text/x-python",
   "name": "python",
   "nbconvert_exporter": "python",
   "pygments_lexer": "ipython3",
   "version": "3.8.5"
  }
 },
 "nbformat": 4,
 "nbformat_minor": 4
}
