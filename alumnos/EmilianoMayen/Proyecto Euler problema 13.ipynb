{
 "cells": [
  {
   "cell_type": "markdown",
   "metadata": {},
   "source": [
    "Copie todos los numeros en un archivo tipo txt y lo subi a mi carpeta. El nombre del archivo es \"numbers.txt\""
   ]
  },
  {
   "cell_type": "code",
   "execution_count": 1,
   "metadata": {},
   "outputs": [],
   "source": [
    "import numpy as np"
   ]
  },
  {
   "cell_type": "code",
   "execution_count": 2,
   "metadata": {},
   "outputs": [
    {
     "name": "stdout",
     "output_type": "stream",
     "text": [
      "5537376230390876622526148042985288507818241647706112\n"
     ]
    }
   ],
   "source": [
    "nums=np.loadtxt('numbers.txt')\n",
    "suma=int(np.sum(nums))\n",
    "print(suma)"
   ]
  },
  {
   "cell_type": "markdown",
   "metadata": {},
   "source": [
    "No se si se refiere a los primeros 10 digitos, leyendo la suma desde la derecha o la izquierda,\n",
    "entonces hare las 2."
   ]
  },
  {
   "cell_type": "markdown",
   "metadata": {},
   "source": [
    "A continuacion los primeros 10 digitos de deracha a izquierda."
   ]
  },
  {
   "cell_type": "code",
   "execution_count": 3,
   "metadata": {},
   "outputs": [
    {
     "name": "stdout",
     "output_type": "stream",
     "text": [
      "[2, 1, 1, 6, 0, 7, 7, 4, 6, 1]\n"
     ]
    }
   ],
   "source": [
    "digitos=[]\n",
    "numero=suma\n",
    "for j in range (10):\n",
    "    residuo=numero%10  # El ultimo digito siempre es el residuo del numero cuando lo divides por 10\n",
    "    digitos.append(residuo) \n",
    "    numero=numero//10   # Actualizamos el numero del que queremos los digitos para obtener el siguiente digito\n",
    "print(digitos)"
   ]
  },
  {
   "cell_type": "markdown",
   "metadata": {},
   "source": [
    "Ahora, de izquierda a derecha."
   ]
  },
  {
   "cell_type": "code",
   "execution_count": 6,
   "metadata": {},
   "outputs": [
    {
     "data": {
      "text/plain": [
       "'5537376230'"
      ]
     },
     "execution_count": 6,
     "metadata": {},
     "output_type": "execute_result"
    }
   ],
   "source": [
    "str(numero)[:10]  # Convertimos a string y usamos 'slicing'"
   ]
  }
 ],
 "metadata": {
  "kernelspec": {
   "display_name": "Python 3",
   "language": "python",
   "name": "python3"
  },
  "language_info": {
   "codemirror_mode": {
    "name": "ipython",
    "version": 3
   },
   "file_extension": ".py",
   "mimetype": "text/x-python",
   "name": "python",
   "nbconvert_exporter": "python",
   "pygments_lexer": "ipython3",
   "version": "3.8.5"
  }
 },
 "nbformat": 4,
 "nbformat_minor": 4
}
