{
 "cells": [
  {
   "cell_type": "markdown",
   "metadata": {},
   "source": [
    "R es un ambiente de computo estadístico, es un proyecto GNU similar al lenguaje de S\n",
    "\n",
    "\n",
    " R está enfocado al manejo y modelado de información\n",
    " \n",
    " Miles de paquetes, maneja muchoooos tipos de datos"
   ]
  },
  {
   "cell_type": "code",
   "execution_count": 2,
   "metadata": {},
   "outputs": [
    {
     "data": {
      "text/html": [
       "3"
      ],
      "text/latex": [
       "3"
      ],
      "text/markdown": [
       "3"
      ],
      "text/plain": [
       "[1] 3"
      ]
     },
     "metadata": {},
     "output_type": "display_data"
    },
    {
     "data": {
      "text/html": [
       "<style>\n",
       ".list-inline {list-style: none; margin:0; padding: 0}\n",
       ".list-inline>li {display: inline-block}\n",
       ".list-inline>li:not(:last-child)::after {content: \"\\00b7\"; padding: 0 .5ex}\n",
       "</style>\n",
       "<ol class=list-inline><li>1</li><li>2</li><li>3</li><li>4</li></ol>\n"
      ],
      "text/latex": [
       "\\begin{enumerate*}\n",
       "\\item 1\n",
       "\\item 2\n",
       "\\item 3\n",
       "\\item 4\n",
       "\\end{enumerate*}\n"
      ],
      "text/markdown": [
       "1. 1\n",
       "2. 2\n",
       "3. 3\n",
       "4. 4\n",
       "\n",
       "\n"
      ],
      "text/plain": [
       "[1] 1 2 3 4"
      ]
     },
     "metadata": {},
     "output_type": "display_data"
    }
   ],
   "source": [
    " x <- 3\n",
    "\n",
    "v <- c(1,2,3,4)\n",
    "\n",
    "x\n",
    "v"
   ]
  },
  {
   "cell_type": "code",
   "execution_count": 4,
   "metadata": {},
   "outputs": [
    {
     "data": {
      "text/html": [
       "<style>\n",
       ".list-inline {list-style: none; margin:0; padding: 0}\n",
       ".list-inline>li {display: inline-block}\n",
       ".list-inline>li:not(:last-child)::after {content: \"\\00b7\"; padding: 0 .5ex}\n",
       "</style>\n",
       "<ol class=list-inline><li>1</li><li>1.5</li><li>2</li><li>2.5</li><li>3</li><li>3.5</li><li>4</li><li>4.5</li><li>5</li><li>5.5</li><li>6</li><li>6.5</li><li>7</li><li>7.5</li><li>8</li><li>8.5</li><li>9</li><li>9.5</li><li>10</li><li>10.5</li><li>11</li><li>11.5</li><li>12</li><li>12.5</li><li>13</li><li>13.5</li><li>14</li><li>14.5</li><li>15</li><li>15.5</li><li>16</li><li>16.5</li><li>17</li><li>17.5</li><li>18</li><li>18.5</li><li>19</li><li>19.5</li><li>20</li></ol>\n"
      ],
      "text/latex": [
       "\\begin{enumerate*}\n",
       "\\item 1\n",
       "\\item 1.5\n",
       "\\item 2\n",
       "\\item 2.5\n",
       "\\item 3\n",
       "\\item 3.5\n",
       "\\item 4\n",
       "\\item 4.5\n",
       "\\item 5\n",
       "\\item 5.5\n",
       "\\item 6\n",
       "\\item 6.5\n",
       "\\item 7\n",
       "\\item 7.5\n",
       "\\item 8\n",
       "\\item 8.5\n",
       "\\item 9\n",
       "\\item 9.5\n",
       "\\item 10\n",
       "\\item 10.5\n",
       "\\item 11\n",
       "\\item 11.5\n",
       "\\item 12\n",
       "\\item 12.5\n",
       "\\item 13\n",
       "\\item 13.5\n",
       "\\item 14\n",
       "\\item 14.5\n",
       "\\item 15\n",
       "\\item 15.5\n",
       "\\item 16\n",
       "\\item 16.5\n",
       "\\item 17\n",
       "\\item 17.5\n",
       "\\item 18\n",
       "\\item 18.5\n",
       "\\item 19\n",
       "\\item 19.5\n",
       "\\item 20\n",
       "\\end{enumerate*}\n"
      ],
      "text/markdown": [
       "1. 1\n",
       "2. 1.5\n",
       "3. 2\n",
       "4. 2.5\n",
       "5. 3\n",
       "6. 3.5\n",
       "7. 4\n",
       "8. 4.5\n",
       "9. 5\n",
       "10. 5.5\n",
       "11. 6\n",
       "12. 6.5\n",
       "13. 7\n",
       "14. 7.5\n",
       "15. 8\n",
       "16. 8.5\n",
       "17. 9\n",
       "18. 9.5\n",
       "19. 10\n",
       "20. 10.5\n",
       "21. 11\n",
       "22. 11.5\n",
       "23. 12\n",
       "24. 12.5\n",
       "25. 13\n",
       "26. 13.5\n",
       "27. 14\n",
       "28. 14.5\n",
       "29. 15\n",
       "30. 15.5\n",
       "31. 16\n",
       "32. 16.5\n",
       "33. 17\n",
       "34. 17.5\n",
       "35. 18\n",
       "36. 18.5\n",
       "37. 19\n",
       "38. 19.5\n",
       "39. 20\n",
       "\n",
       "\n"
      ],
      "text/plain": [
       " [1]  1.0  1.5  2.0  2.5  3.0  3.5  4.0  4.5  5.0  5.5  6.0  6.5  7.0  7.5  8.0\n",
       "[16]  8.5  9.0  9.5 10.0 10.5 11.0 11.5 12.0 12.5 13.0 13.5 14.0 14.5 15.0 15.5\n",
       "[31] 16.0 16.5 17.0 17.5 18.0 18.5 19.0 19.5 20.0"
      ]
     },
     "metadata": {},
     "output_type": "display_data"
    }
   ],
   "source": [
    "h <- seq(1,20,by=0.5)\n",
    "h"
   ]
  },
  {
   "cell_type": "code",
   "execution_count": 6,
   "metadata": {},
   "outputs": [
    {
     "data": {
      "text/html": [
       "3"
      ],
      "text/latex": [
       "3"
      ],
      "text/markdown": [
       "3"
      ],
      "text/plain": [
       "[1] 3"
      ]
     },
     "metadata": {},
     "output_type": "display_data"
    }
   ],
   "source": [
    "h[5]"
   ]
  },
  {
   "cell_type": "code",
   "execution_count": 7,
   "metadata": {},
   "outputs": [
    {
     "data": {
      "text/html": [
       "<style>\n",
       ".list-inline {list-style: none; margin:0; padding: 0}\n",
       ".list-inline>li {display: inline-block}\n",
       ".list-inline>li:not(:last-child)::after {content: \"\\00b7\"; padding: 0 .5ex}\n",
       "</style>\n",
       "<ol class=list-inline><li>5.5</li><li>6</li><li>6.5</li><li>7</li><li>7.5</li><li>8</li><li>8.5</li><li>9</li><li>9.5</li><li>10</li><li>10.5</li><li>11</li><li>11.5</li><li>12</li><li>12.5</li><li>13</li><li>13.5</li><li>14</li><li>14.5</li><li>15</li><li>15.5</li><li>16</li><li>16.5</li><li>17</li><li>17.5</li><li>18</li><li>18.5</li><li>19</li><li>19.5</li><li>20</li></ol>\n"
      ],
      "text/latex": [
       "\\begin{enumerate*}\n",
       "\\item 5.5\n",
       "\\item 6\n",
       "\\item 6.5\n",
       "\\item 7\n",
       "\\item 7.5\n",
       "\\item 8\n",
       "\\item 8.5\n",
       "\\item 9\n",
       "\\item 9.5\n",
       "\\item 10\n",
       "\\item 10.5\n",
       "\\item 11\n",
       "\\item 11.5\n",
       "\\item 12\n",
       "\\item 12.5\n",
       "\\item 13\n",
       "\\item 13.5\n",
       "\\item 14\n",
       "\\item 14.5\n",
       "\\item 15\n",
       "\\item 15.5\n",
       "\\item 16\n",
       "\\item 16.5\n",
       "\\item 17\n",
       "\\item 17.5\n",
       "\\item 18\n",
       "\\item 18.5\n",
       "\\item 19\n",
       "\\item 19.5\n",
       "\\item 20\n",
       "\\end{enumerate*}\n"
      ],
      "text/markdown": [
       "1. 5.5\n",
       "2. 6\n",
       "3. 6.5\n",
       "4. 7\n",
       "5. 7.5\n",
       "6. 8\n",
       "7. 8.5\n",
       "8. 9\n",
       "9. 9.5\n",
       "10. 10\n",
       "11. 10.5\n",
       "12. 11\n",
       "13. 11.5\n",
       "14. 12\n",
       "15. 12.5\n",
       "16. 13\n",
       "17. 13.5\n",
       "18. 14\n",
       "19. 14.5\n",
       "20. 15\n",
       "21. 15.5\n",
       "22. 16\n",
       "23. 16.5\n",
       "24. 17\n",
       "25. 17.5\n",
       "26. 18\n",
       "27. 18.5\n",
       "28. 19\n",
       "29. 19.5\n",
       "30. 20\n",
       "\n",
       "\n"
      ],
      "text/plain": [
       " [1]  5.5  6.0  6.5  7.0  7.5  8.0  8.5  9.0  9.5 10.0 10.5 11.0 11.5 12.0 12.5\n",
       "[16] 13.0 13.5 14.0 14.5 15.0 15.5 16.0 16.5 17.0 17.5 18.0 18.5 19.0 19.5 20.0"
      ]
     },
     "metadata": {},
     "output_type": "display_data"
    }
   ],
   "source": [
    "h[h>5]"
   ]
  },
  {
   "cell_type": "code",
   "execution_count": 8,
   "metadata": {},
   "outputs": [
    {
     "data": {
      "text/html": [
       "<style>\n",
       ".list-inline {list-style: none; margin:0; padding: 0}\n",
       ".list-inline>li {display: inline-block}\n",
       ".list-inline>li:not(:last-child)::after {content: \"\\00b7\"; padding: 0 .5ex}\n",
       "</style>\n",
       "<ol class=list-inline><li>M</li><li>F</li><li>M</li><li>M</li><li>F</li><li>F</li></ol>\n",
       "\n",
       "<details>\n",
       "\t<summary style=display:list-item;cursor:pointer>\n",
       "\t\t<strong>Levels</strong>:\n",
       "\t</summary>\n",
       "\t<style>\n",
       "\t.list-inline {list-style: none; margin:0; padding: 0}\n",
       "\t.list-inline>li {display: inline-block}\n",
       "\t.list-inline>li:not(:last-child)::after {content: \"\\00b7\"; padding: 0 .5ex}\n",
       "\t</style>\n",
       "\t<ol class=list-inline><li>'F'</li><li>'M'</li></ol>\n",
       "</details>"
      ],
      "text/latex": [
       "\\begin{enumerate*}\n",
       "\\item M\n",
       "\\item F\n",
       "\\item M\n",
       "\\item M\n",
       "\\item F\n",
       "\\item F\n",
       "\\end{enumerate*}\n",
       "\n",
       "\\emph{Levels}: \\begin{enumerate*}\n",
       "\\item 'F'\n",
       "\\item 'M'\n",
       "\\end{enumerate*}\n"
      ],
      "text/markdown": [
       "1. M\n",
       "2. F\n",
       "3. M\n",
       "4. M\n",
       "5. F\n",
       "6. F\n",
       "\n",
       "\n",
       "\n",
       "**Levels**: 1. 'F'\n",
       "2. 'M'\n",
       "\n",
       "\n"
      ],
      "text/plain": [
       "[1] M F M M F F\n",
       "Levels: F M"
      ]
     },
     "metadata": {},
     "output_type": "display_data"
    }
   ],
   "source": [
    "f <- c('M','F','M','M','F','F')\n",
    "f <- factor(f)\n",
    "f"
   ]
  },
  {
   "cell_type": "code",
   "execution_count": 14,
   "metadata": {},
   "outputs": [],
   "source": [
    "f <- factor(f,levels=c(\"M\",\"F\"),labels=c(\"Hombre\",\"Mujer\"))"
   ]
  },
  {
   "cell_type": "code",
   "execution_count": 15,
   "metadata": {},
   "outputs": [
    {
     "data": {
      "text/html": [
       "<style>\n",
       ".list-inline {list-style: none; margin:0; padding: 0}\n",
       ".list-inline>li {display: inline-block}\n",
       ".list-inline>li:not(:last-child)::after {content: \"\\00b7\"; padding: 0 .5ex}\n",
       "</style>\n",
       "<ol class=list-inline><li>Hombre</li><li>Mujer</li><li>Hombre</li><li>Hombre</li><li>Mujer</li><li>Mujer</li></ol>\n",
       "\n",
       "<details>\n",
       "\t<summary style=display:list-item;cursor:pointer>\n",
       "\t\t<strong>Levels</strong>:\n",
       "\t</summary>\n",
       "\t<style>\n",
       "\t.list-inline {list-style: none; margin:0; padding: 0}\n",
       "\t.list-inline>li {display: inline-block}\n",
       "\t.list-inline>li:not(:last-child)::after {content: \"\\00b7\"; padding: 0 .5ex}\n",
       "\t</style>\n",
       "\t<ol class=list-inline><li>'Hombre'</li><li>'Mujer'</li></ol>\n",
       "</details>"
      ],
      "text/latex": [
       "\\begin{enumerate*}\n",
       "\\item Hombre\n",
       "\\item Mujer\n",
       "\\item Hombre\n",
       "\\item Hombre\n",
       "\\item Mujer\n",
       "\\item Mujer\n",
       "\\end{enumerate*}\n",
       "\n",
       "\\emph{Levels}: \\begin{enumerate*}\n",
       "\\item 'Hombre'\n",
       "\\item 'Mujer'\n",
       "\\end{enumerate*}\n"
      ],
      "text/markdown": [
       "1. Hombre\n",
       "2. Mujer\n",
       "3. Hombre\n",
       "4. Hombre\n",
       "5. Mujer\n",
       "6. Mujer\n",
       "\n",
       "\n",
       "\n",
       "**Levels**: 1. 'Hombre'\n",
       "2. 'Mujer'\n",
       "\n",
       "\n"
      ],
      "text/plain": [
       "[1] Hombre Mujer  Hombre Hombre Mujer  Mujer \n",
       "Levels: Hombre Mujer"
      ]
     },
     "metadata": {},
     "output_type": "display_data"
    }
   ],
   "source": [
    "f"
   ]
  },
  {
   "cell_type": "code",
   "execution_count": 16,
   "metadata": {},
   "outputs": [
    {
     "data": {
      "text/plain": [
       "f\n",
       "Hombre  Mujer \n",
       "     3      3 "
      ]
     },
     "metadata": {},
     "output_type": "display_data"
    }
   ],
   "source": [
    "table(f)"
   ]
  },
  {
   "cell_type": "code",
   "execution_count": 23,
   "metadata": {},
   "outputs": [],
   "source": [
    "df <- data.frame(var.1=c('A','B','C'),var.2=c(1,2,3))"
   ]
  },
  {
   "cell_type": "code",
   "execution_count": 24,
   "metadata": {},
   "outputs": [
    {
     "data": {
      "text/html": [
       "<table>\n",
       "<caption>A data.frame: 3 × 2</caption>\n",
       "<thead>\n",
       "\t<tr><th scope=col>var.1</th><th scope=col>var.2</th></tr>\n",
       "\t<tr><th scope=col>&lt;fct&gt;</th><th scope=col>&lt;dbl&gt;</th></tr>\n",
       "</thead>\n",
       "<tbody>\n",
       "\t<tr><td>A</td><td>1</td></tr>\n",
       "\t<tr><td>B</td><td>2</td></tr>\n",
       "\t<tr><td>C</td><td>3</td></tr>\n",
       "</tbody>\n",
       "</table>\n"
      ],
      "text/latex": [
       "A data.frame: 3 × 2\n",
       "\\begin{tabular}{ll}\n",
       " var.1 & var.2\\\\\n",
       " <fct> & <dbl>\\\\\n",
       "\\hline\n",
       "\t A & 1\\\\\n",
       "\t B & 2\\\\\n",
       "\t C & 3\\\\\n",
       "\\end{tabular}\n"
      ],
      "text/markdown": [
       "\n",
       "A data.frame: 3 × 2\n",
       "\n",
       "| var.1 &lt;fct&gt; | var.2 &lt;dbl&gt; |\n",
       "|---|---|\n",
       "| A | 1 |\n",
       "| B | 2 |\n",
       "| C | 3 |\n",
       "\n"
      ],
      "text/plain": [
       "  var.1 var.2\n",
       "1 A     1    \n",
       "2 B     2    \n",
       "3 C     3    "
      ]
     },
     "metadata": {},
     "output_type": "display_data"
    }
   ],
   "source": [
    "df"
   ]
  },
  {
   "cell_type": "code",
   "execution_count": 25,
   "metadata": {},
   "outputs": [
    {
     "data": {
      "text/html": [
       "<table>\n",
       "<caption>A data.frame: 3 × 1</caption>\n",
       "<thead>\n",
       "\t<tr><th scope=col>var.1</th></tr>\n",
       "\t<tr><th scope=col>&lt;fct&gt;</th></tr>\n",
       "</thead>\n",
       "<tbody>\n",
       "\t<tr><td>A</td></tr>\n",
       "\t<tr><td>B</td></tr>\n",
       "\t<tr><td>C</td></tr>\n",
       "</tbody>\n",
       "</table>\n"
      ],
      "text/latex": [
       "A data.frame: 3 × 1\n",
       "\\begin{tabular}{l}\n",
       " var.1\\\\\n",
       " <fct>\\\\\n",
       "\\hline\n",
       "\t A\\\\\n",
       "\t B\\\\\n",
       "\t C\\\\\n",
       "\\end{tabular}\n"
      ],
      "text/markdown": [
       "\n",
       "A data.frame: 3 × 1\n",
       "\n",
       "| var.1 &lt;fct&gt; |\n",
       "|---|\n",
       "| A |\n",
       "| B |\n",
       "| C |\n",
       "\n"
      ],
      "text/plain": [
       "  var.1\n",
       "1 A    \n",
       "2 B    \n",
       "3 C    "
      ]
     },
     "metadata": {},
     "output_type": "display_data"
    }
   ],
   "source": [
    "df[1]"
   ]
  },
  {
   "cell_type": "code",
   "execution_count": 26,
   "metadata": {},
   "outputs": [
    {
     "data": {
      "text/html": [
       "<table>\n",
       "<caption>A data.frame: 1 × 2</caption>\n",
       "<thead>\n",
       "\t<tr><th></th><th scope=col>var.1</th><th scope=col>var.2</th></tr>\n",
       "\t<tr><th></th><th scope=col>&lt;fct&gt;</th><th scope=col>&lt;dbl&gt;</th></tr>\n",
       "</thead>\n",
       "<tbody>\n",
       "\t<tr><th scope=row>1</th><td>A</td><td>1</td></tr>\n",
       "</tbody>\n",
       "</table>\n"
      ],
      "text/latex": [
       "A data.frame: 1 × 2\n",
       "\\begin{tabular}{r|ll}\n",
       "  & var.1 & var.2\\\\\n",
       "  & <fct> & <dbl>\\\\\n",
       "\\hline\n",
       "\t1 & A & 1\\\\\n",
       "\\end{tabular}\n"
      ],
      "text/markdown": [
       "\n",
       "A data.frame: 1 × 2\n",
       "\n",
       "| <!--/--> | var.1 &lt;fct&gt; | var.2 &lt;dbl&gt; |\n",
       "|---|---|---|\n",
       "| 1 | A | 1 |\n",
       "\n"
      ],
      "text/plain": [
       "  var.1 var.2\n",
       "1 A     1    "
      ]
     },
     "metadata": {},
     "output_type": "display_data"
    }
   ],
   "source": [
    "df[1,]"
   ]
  },
  {
   "cell_type": "code",
   "execution_count": 28,
   "metadata": {},
   "outputs": [
    {
     "data": {
      "text/html": [
       "<style>\n",
       ".list-inline {list-style: none; margin:0; padding: 0}\n",
       ".list-inline>li {display: inline-block}\n",
       ".list-inline>li:not(:last-child)::after {content: \"\\00b7\"; padding: 0 .5ex}\n",
       "</style>\n",
       "<ol class=list-inline><li>1</li><li>2</li><li>3</li></ol>\n"
      ],
      "text/latex": [
       "\\begin{enumerate*}\n",
       "\\item 1\n",
       "\\item 2\n",
       "\\item 3\n",
       "\\end{enumerate*}\n"
      ],
      "text/markdown": [
       "1. 1\n",
       "2. 2\n",
       "3. 3\n",
       "\n",
       "\n"
      ],
      "text/plain": [
       "[1] 1 2 3"
      ]
     },
     "metadata": {},
     "output_type": "display_data"
    }
   ],
   "source": [
    "df[,2]"
   ]
  },
  {
   "cell_type": "code",
   "execution_count": 30,
   "metadata": {},
   "outputs": [
    {
     "data": {
      "text/html": [
       "<table>\n",
       "<caption>A data.frame: 3 × 1</caption>\n",
       "<thead>\n",
       "\t<tr><th scope=col>var.2</th></tr>\n",
       "\t<tr><th scope=col>&lt;dbl&gt;</th></tr>\n",
       "</thead>\n",
       "<tbody>\n",
       "\t<tr><td>1</td></tr>\n",
       "\t<tr><td>2</td></tr>\n",
       "\t<tr><td>3</td></tr>\n",
       "</tbody>\n",
       "</table>\n"
      ],
      "text/latex": [
       "A data.frame: 3 × 1\n",
       "\\begin{tabular}{l}\n",
       " var.2\\\\\n",
       " <dbl>\\\\\n",
       "\\hline\n",
       "\t 1\\\\\n",
       "\t 2\\\\\n",
       "\t 3\\\\\n",
       "\\end{tabular}\n"
      ],
      "text/markdown": [
       "\n",
       "A data.frame: 3 × 1\n",
       "\n",
       "| var.2 &lt;dbl&gt; |\n",
       "|---|\n",
       "| 1 |\n",
       "| 2 |\n",
       "| 3 |\n",
       "\n"
      ],
      "text/plain": [
       "  var.2\n",
       "1 1    \n",
       "2 2    \n",
       "3 3    "
      ]
     },
     "metadata": {},
     "output_type": "display_data"
    }
   ],
   "source": [
    "df['var.2']"
   ]
  },
  {
   "cell_type": "code",
   "execution_count": 31,
   "metadata": {},
   "outputs": [
    {
     "data": {
      "text/html": [
       "<table>\n",
       "<caption>A data.frame: 2 × 2</caption>\n",
       "<thead>\n",
       "\t<tr><th></th><th scope=col>var.1</th><th scope=col>var.2</th></tr>\n",
       "\t<tr><th></th><th scope=col>&lt;fct&gt;</th><th scope=col>&lt;dbl&gt;</th></tr>\n",
       "</thead>\n",
       "<tbody>\n",
       "\t<tr><th scope=row>2</th><td>B</td><td>2</td></tr>\n",
       "\t<tr><th scope=row>3</th><td>C</td><td>3</td></tr>\n",
       "</tbody>\n",
       "</table>\n"
      ],
      "text/latex": [
       "A data.frame: 2 × 2\n",
       "\\begin{tabular}{r|ll}\n",
       "  & var.1 & var.2\\\\\n",
       "  & <fct> & <dbl>\\\\\n",
       "\\hline\n",
       "\t2 & B & 2\\\\\n",
       "\t3 & C & 3\\\\\n",
       "\\end{tabular}\n"
      ],
      "text/markdown": [
       "\n",
       "A data.frame: 2 × 2\n",
       "\n",
       "| <!--/--> | var.1 &lt;fct&gt; | var.2 &lt;dbl&gt; |\n",
       "|---|---|---|\n",
       "| 2 | B | 2 |\n",
       "| 3 | C | 3 |\n",
       "\n"
      ],
      "text/plain": [
       "  var.1 var.2\n",
       "2 B     2    \n",
       "3 C     3    "
      ]
     },
     "metadata": {},
     "output_type": "display_data"
    }
   ],
   "source": [
    "df[df$var.2>1,]"
   ]
  },
  {
   "cell_type": "code",
   "execution_count": 32,
   "metadata": {},
   "outputs": [
    {
     "data": {
      "text/html": [
       "<style>\n",
       ".list-inline {list-style: none; margin:0; padding: 0}\n",
       ".list-inline>li {display: inline-block}\n",
       ".list-inline>li:not(:last-child)::after {content: \"\\00b7\"; padding: 0 .5ex}\n",
       "</style>\n",
       "<ol class=list-inline><li>3</li><li>2</li></ol>\n"
      ],
      "text/latex": [
       "\\begin{enumerate*}\n",
       "\\item 3\n",
       "\\item 2\n",
       "\\end{enumerate*}\n"
      ],
      "text/markdown": [
       "1. 3\n",
       "2. 2\n",
       "\n",
       "\n"
      ],
      "text/plain": [
       "[1] 3 2"
      ]
     },
     "metadata": {},
     "output_type": "display_data"
    }
   ],
   "source": [
    "dim(df)"
   ]
  },
  {
   "cell_type": "code",
   "execution_count": 33,
   "metadata": {},
   "outputs": [
    {
     "data": {
      "text/html": [
       "3"
      ],
      "text/latex": [
       "3"
      ],
      "text/markdown": [
       "3"
      ],
      "text/plain": [
       "[1] 3"
      ]
     },
     "metadata": {},
     "output_type": "display_data"
    }
   ],
   "source": [
    "nrow(df)"
   ]
  },
  {
   "cell_type": "code",
   "execution_count": 34,
   "metadata": {},
   "outputs": [
    {
     "data": {
      "text/html": [
       "2"
      ],
      "text/latex": [
       "2"
      ],
      "text/markdown": [
       "2"
      ],
      "text/plain": [
       "[1] 2"
      ]
     },
     "metadata": {},
     "output_type": "display_data"
    }
   ],
   "source": [
    "ncol(df)"
   ]
  },
  {
   "cell_type": "code",
   "execution_count": 35,
   "metadata": {},
   "outputs": [
    {
     "data": {
      "text/html": [
       "<style>\n",
       ".list-inline {list-style: none; margin:0; padding: 0}\n",
       ".list-inline>li {display: inline-block}\n",
       ".list-inline>li:not(:last-child)::after {content: \"\\00b7\"; padding: 0 .5ex}\n",
       "</style>\n",
       "<ol class=list-inline><li>'var.1'</li><li>'var.2'</li></ol>\n"
      ],
      "text/latex": [
       "\\begin{enumerate*}\n",
       "\\item 'var.1'\n",
       "\\item 'var.2'\n",
       "\\end{enumerate*}\n"
      ],
      "text/markdown": [
       "1. 'var.1'\n",
       "2. 'var.2'\n",
       "\n",
       "\n"
      ],
      "text/plain": [
       "[1] \"var.1\" \"var.2\""
      ]
     },
     "metadata": {},
     "output_type": "display_data"
    }
   ],
   "source": [
    "names(df)   #Nombres de columnas"
   ]
  },
  {
   "cell_type": "code",
   "execution_count": 36,
   "metadata": {},
   "outputs": [
    {
     "data": {
      "text/html": [
       "'numeric'"
      ],
      "text/latex": [
       "'numeric'"
      ],
      "text/markdown": [
       "'numeric'"
      ],
      "text/plain": [
       "[1] \"numeric\""
      ]
     },
     "metadata": {},
     "output_type": "display_data"
    }
   ],
   "source": [
    "# DPLYR\n",
    "\n",
    "class(v)"
   ]
  },
  {
   "cell_type": "code",
   "execution_count": 38,
   "metadata": {},
   "outputs": [
    {
     "data": {
      "text/html": [
       "'data.frame'"
      ],
      "text/latex": [
       "'data.frame'"
      ],
      "text/markdown": [
       "'data.frame'"
      ],
      "text/plain": [
       "[1] \"data.frame\""
      ]
     },
     "metadata": {},
     "output_type": "display_data"
    }
   ],
   "source": [
    "class(df)"
   ]
  },
  {
   "cell_type": "code",
   "execution_count": 1,
   "metadata": {},
   "outputs": [],
   "source": [
    "if(!require(dplyr, quietly = TRUE, warn.conflicts = FALSE) ){\n",
    "    install.packages('dplyr',\n",
    "\t    dependencies = TRUE, \n",
    "\t    repos = \"http://cran.us.r-project.org\")\n",
    "}\n",
    "if(!require(nycflights13, quietly = TRUE, warn.conflicts = FALSE) ){\n",
    "    install.packages('nycflights13', \n",
    "\t    dependencies = TRUE, \n",
    "\t    repos = \"http://cran.us.r-project.org\")\n",
    "}"
   ]
  },
  {
   "cell_type": "code",
   "execution_count": 2,
   "metadata": {
    "scrolled": true
   },
   "outputs": [],
   "source": [
    "library(dplyr)\n",
    "library(nycflights13)"
   ]
  },
  {
   "cell_type": "code",
   "execution_count": 3,
   "metadata": {},
   "outputs": [
    {
     "data": {
      "text/html": [
       "<table>\n",
       "<caption>A tibble: 336776 × 19</caption>\n",
       "<thead>\n",
       "\t<tr><th scope=col>year</th><th scope=col>month</th><th scope=col>day</th><th scope=col>dep_time</th><th scope=col>sched_dep_time</th><th scope=col>dep_delay</th><th scope=col>arr_time</th><th scope=col>sched_arr_time</th><th scope=col>arr_delay</th><th scope=col>carrier</th><th scope=col>flight</th><th scope=col>tailnum</th><th scope=col>origin</th><th scope=col>dest</th><th scope=col>air_time</th><th scope=col>distance</th><th scope=col>hour</th><th scope=col>minute</th><th scope=col>time_hour</th></tr>\n",
       "\t<tr><th scope=col>&lt;int&gt;</th><th scope=col>&lt;int&gt;</th><th scope=col>&lt;int&gt;</th><th scope=col>&lt;int&gt;</th><th scope=col>&lt;int&gt;</th><th scope=col>&lt;dbl&gt;</th><th scope=col>&lt;int&gt;</th><th scope=col>&lt;int&gt;</th><th scope=col>&lt;dbl&gt;</th><th scope=col>&lt;chr&gt;</th><th scope=col>&lt;int&gt;</th><th scope=col>&lt;chr&gt;</th><th scope=col>&lt;chr&gt;</th><th scope=col>&lt;chr&gt;</th><th scope=col>&lt;dbl&gt;</th><th scope=col>&lt;dbl&gt;</th><th scope=col>&lt;dbl&gt;</th><th scope=col>&lt;dbl&gt;</th><th scope=col>&lt;dttm&gt;</th></tr>\n",
       "</thead>\n",
       "<tbody>\n",
       "\t<tr><td>2013</td><td>1</td><td>1</td><td>517</td><td>515</td><td> 2</td><td> 830</td><td> 819</td><td> 11</td><td>UA</td><td>1545</td><td>N14228</td><td>EWR</td><td>IAH</td><td>227</td><td>1400</td><td>5</td><td>15</td><td>2013-01-01 05:00:00</td></tr>\n",
       "\t<tr><td>2013</td><td>1</td><td>1</td><td>533</td><td>529</td><td> 4</td><td> 850</td><td> 830</td><td> 20</td><td>UA</td><td>1714</td><td>N24211</td><td>LGA</td><td>IAH</td><td>227</td><td>1416</td><td>5</td><td>29</td><td>2013-01-01 05:00:00</td></tr>\n",
       "\t<tr><td>2013</td><td>1</td><td>1</td><td>542</td><td>540</td><td> 2</td><td> 923</td><td> 850</td><td> 33</td><td>AA</td><td>1141</td><td>N619AA</td><td>JFK</td><td>MIA</td><td>160</td><td>1089</td><td>5</td><td>40</td><td>2013-01-01 05:00:00</td></tr>\n",
       "\t<tr><td>2013</td><td>1</td><td>1</td><td>544</td><td>545</td><td>-1</td><td>1004</td><td>1022</td><td>-18</td><td>B6</td><td> 725</td><td>N804JB</td><td>JFK</td><td>BQN</td><td>183</td><td>1576</td><td>5</td><td>45</td><td>2013-01-01 05:00:00</td></tr>\n",
       "\t<tr><td>2013</td><td>1</td><td>1</td><td>554</td><td>600</td><td>-6</td><td> 812</td><td> 837</td><td>-25</td><td>DL</td><td> 461</td><td>N668DN</td><td>LGA</td><td>ATL</td><td>116</td><td> 762</td><td>6</td><td> 0</td><td>2013-01-01 06:00:00</td></tr>\n",
       "\t<tr><td>2013</td><td>1</td><td>1</td><td>554</td><td>558</td><td>-4</td><td> 740</td><td> 728</td><td> 12</td><td>UA</td><td>1696</td><td>N39463</td><td>EWR</td><td>ORD</td><td>150</td><td> 719</td><td>5</td><td>58</td><td>2013-01-01 05:00:00</td></tr>\n",
       "\t<tr><td>2013</td><td>1</td><td>1</td><td>555</td><td>600</td><td>-5</td><td> 913</td><td> 854</td><td> 19</td><td>B6</td><td> 507</td><td>N516JB</td><td>EWR</td><td>FLL</td><td>158</td><td>1065</td><td>6</td><td> 0</td><td>2013-01-01 06:00:00</td></tr>\n",
       "\t<tr><td>2013</td><td>1</td><td>1</td><td>557</td><td>600</td><td>-3</td><td> 709</td><td> 723</td><td>-14</td><td>EV</td><td>5708</td><td>N829AS</td><td>LGA</td><td>IAD</td><td> 53</td><td> 229</td><td>6</td><td> 0</td><td>2013-01-01 06:00:00</td></tr>\n",
       "\t<tr><td>2013</td><td>1</td><td>1</td><td>557</td><td>600</td><td>-3</td><td> 838</td><td> 846</td><td> -8</td><td>B6</td><td>  79</td><td>N593JB</td><td>JFK</td><td>MCO</td><td>140</td><td> 944</td><td>6</td><td> 0</td><td>2013-01-01 06:00:00</td></tr>\n",
       "\t<tr><td>2013</td><td>1</td><td>1</td><td>558</td><td>600</td><td>-2</td><td> 753</td><td> 745</td><td>  8</td><td>AA</td><td> 301</td><td>N3ALAA</td><td>LGA</td><td>ORD</td><td>138</td><td> 733</td><td>6</td><td> 0</td><td>2013-01-01 06:00:00</td></tr>\n",
       "\t<tr><td>2013</td><td>1</td><td>1</td><td>558</td><td>600</td><td>-2</td><td> 849</td><td> 851</td><td> -2</td><td>B6</td><td>  49</td><td>N793JB</td><td>JFK</td><td>PBI</td><td>149</td><td>1028</td><td>6</td><td> 0</td><td>2013-01-01 06:00:00</td></tr>\n",
       "\t<tr><td>2013</td><td>1</td><td>1</td><td>558</td><td>600</td><td>-2</td><td> 853</td><td> 856</td><td> -3</td><td>B6</td><td>  71</td><td>N657JB</td><td>JFK</td><td>TPA</td><td>158</td><td>1005</td><td>6</td><td> 0</td><td>2013-01-01 06:00:00</td></tr>\n",
       "\t<tr><td>2013</td><td>1</td><td>1</td><td>558</td><td>600</td><td>-2</td><td> 924</td><td> 917</td><td>  7</td><td>UA</td><td> 194</td><td>N29129</td><td>JFK</td><td>LAX</td><td>345</td><td>2475</td><td>6</td><td> 0</td><td>2013-01-01 06:00:00</td></tr>\n",
       "\t<tr><td>2013</td><td>1</td><td>1</td><td>558</td><td>600</td><td>-2</td><td> 923</td><td> 937</td><td>-14</td><td>UA</td><td>1124</td><td>N53441</td><td>EWR</td><td>SFO</td><td>361</td><td>2565</td><td>6</td><td> 0</td><td>2013-01-01 06:00:00</td></tr>\n",
       "\t<tr><td>2013</td><td>1</td><td>1</td><td>559</td><td>600</td><td>-1</td><td> 941</td><td> 910</td><td> 31</td><td>AA</td><td> 707</td><td>N3DUAA</td><td>LGA</td><td>DFW</td><td>257</td><td>1389</td><td>6</td><td> 0</td><td>2013-01-01 06:00:00</td></tr>\n",
       "\t<tr><td>2013</td><td>1</td><td>1</td><td>559</td><td>559</td><td> 0</td><td> 702</td><td> 706</td><td> -4</td><td>B6</td><td>1806</td><td>N708JB</td><td>JFK</td><td>BOS</td><td> 44</td><td> 187</td><td>5</td><td>59</td><td>2013-01-01 05:00:00</td></tr>\n",
       "\t<tr><td>2013</td><td>1</td><td>1</td><td>559</td><td>600</td><td>-1</td><td> 854</td><td> 902</td><td> -8</td><td>UA</td><td>1187</td><td>N76515</td><td>EWR</td><td>LAS</td><td>337</td><td>2227</td><td>6</td><td> 0</td><td>2013-01-01 06:00:00</td></tr>\n",
       "\t<tr><td>2013</td><td>1</td><td>1</td><td>600</td><td>600</td><td> 0</td><td> 851</td><td> 858</td><td> -7</td><td>B6</td><td> 371</td><td>N595JB</td><td>LGA</td><td>FLL</td><td>152</td><td>1076</td><td>6</td><td> 0</td><td>2013-01-01 06:00:00</td></tr>\n",
       "\t<tr><td>2013</td><td>1</td><td>1</td><td>600</td><td>600</td><td> 0</td><td> 837</td><td> 825</td><td> 12</td><td>MQ</td><td>4650</td><td>N542MQ</td><td>LGA</td><td>ATL</td><td>134</td><td> 762</td><td>6</td><td> 0</td><td>2013-01-01 06:00:00</td></tr>\n",
       "\t<tr><td>2013</td><td>1</td><td>1</td><td>601</td><td>600</td><td> 1</td><td> 844</td><td> 850</td><td> -6</td><td>B6</td><td> 343</td><td>N644JB</td><td>EWR</td><td>PBI</td><td>147</td><td>1023</td><td>6</td><td> 0</td><td>2013-01-01 06:00:00</td></tr>\n",
       "\t<tr><td>2013</td><td>1</td><td>1</td><td>602</td><td>610</td><td>-8</td><td> 812</td><td> 820</td><td> -8</td><td>DL</td><td>1919</td><td>N971DL</td><td>LGA</td><td>MSP</td><td>170</td><td>1020</td><td>6</td><td>10</td><td>2013-01-01 06:00:00</td></tr>\n",
       "\t<tr><td>2013</td><td>1</td><td>1</td><td>602</td><td>605</td><td>-3</td><td> 821</td><td> 805</td><td> 16</td><td>MQ</td><td>4401</td><td>N730MQ</td><td>LGA</td><td>DTW</td><td>105</td><td> 502</td><td>6</td><td> 5</td><td>2013-01-01 06:00:00</td></tr>\n",
       "\t<tr><td>2013</td><td>1</td><td>1</td><td>606</td><td>610</td><td>-4</td><td> 858</td><td> 910</td><td>-12</td><td>AA</td><td>1895</td><td>N633AA</td><td>EWR</td><td>MIA</td><td>152</td><td>1085</td><td>6</td><td>10</td><td>2013-01-01 06:00:00</td></tr>\n",
       "\t<tr><td>2013</td><td>1</td><td>1</td><td>606</td><td>610</td><td>-4</td><td> 837</td><td> 845</td><td> -8</td><td>DL</td><td>1743</td><td>N3739P</td><td>JFK</td><td>ATL</td><td>128</td><td> 760</td><td>6</td><td>10</td><td>2013-01-01 06:00:00</td></tr>\n",
       "\t<tr><td>2013</td><td>1</td><td>1</td><td>607</td><td>607</td><td> 0</td><td> 858</td><td> 915</td><td>-17</td><td>UA</td><td>1077</td><td>N53442</td><td>EWR</td><td>MIA</td><td>157</td><td>1085</td><td>6</td><td> 7</td><td>2013-01-01 06:00:00</td></tr>\n",
       "\t<tr><td>2013</td><td>1</td><td>1</td><td>608</td><td>600</td><td> 8</td><td> 807</td><td> 735</td><td> 32</td><td>MQ</td><td>3768</td><td>N9EAMQ</td><td>EWR</td><td>ORD</td><td>139</td><td> 719</td><td>6</td><td> 0</td><td>2013-01-01 06:00:00</td></tr>\n",
       "\t<tr><td>2013</td><td>1</td><td>1</td><td>611</td><td>600</td><td>11</td><td> 945</td><td> 931</td><td> 14</td><td>UA</td><td> 303</td><td>N532UA</td><td>JFK</td><td>SFO</td><td>366</td><td>2586</td><td>6</td><td> 0</td><td>2013-01-01 06:00:00</td></tr>\n",
       "\t<tr><td>2013</td><td>1</td><td>1</td><td>613</td><td>610</td><td> 3</td><td> 925</td><td> 921</td><td>  4</td><td>B6</td><td> 135</td><td>N635JB</td><td>JFK</td><td>RSW</td><td>175</td><td>1074</td><td>6</td><td>10</td><td>2013-01-01 06:00:00</td></tr>\n",
       "\t<tr><td>2013</td><td>1</td><td>1</td><td>615</td><td>615</td><td> 0</td><td>1039</td><td>1100</td><td>-21</td><td>B6</td><td> 709</td><td>N794JB</td><td>JFK</td><td>SJU</td><td>182</td><td>1598</td><td>6</td><td>15</td><td>2013-01-01 06:00:00</td></tr>\n",
       "\t<tr><td>2013</td><td>1</td><td>1</td><td>615</td><td>615</td><td> 0</td><td> 833</td><td> 842</td><td> -9</td><td>DL</td><td> 575</td><td>N326NB</td><td>EWR</td><td>ATL</td><td>120</td><td> 746</td><td>6</td><td>15</td><td>2013-01-01 06:00:00</td></tr>\n",
       "\t<tr><td>⋮</td><td>⋮</td><td>⋮</td><td>⋮</td><td>⋮</td><td>⋮</td><td>⋮</td><td>⋮</td><td>⋮</td><td>⋮</td><td>⋮</td><td>⋮</td><td>⋮</td><td>⋮</td><td>⋮</td><td>⋮</td><td>⋮</td><td>⋮</td><td>⋮</td></tr>\n",
       "\t<tr><td>2013</td><td>9</td><td>30</td><td>2123</td><td>2125</td><td> -2</td><td>2223</td><td>2247</td><td>-24</td><td>EV</td><td>5489</td><td>N712EV</td><td>LGA</td><td>CHO</td><td> 45</td><td> 305</td><td>21</td><td>25</td><td>2013-09-30 21:00:00</td></tr>\n",
       "\t<tr><td>2013</td><td>9</td><td>30</td><td>2127</td><td>2129</td><td> -2</td><td>2314</td><td>2323</td><td> -9</td><td>EV</td><td>3833</td><td>N16546</td><td>EWR</td><td>CLT</td><td> 72</td><td> 529</td><td>21</td><td>29</td><td>2013-09-30 21:00:00</td></tr>\n",
       "\t<tr><td>2013</td><td>9</td><td>30</td><td>2128</td><td>2130</td><td> -2</td><td>2328</td><td>2359</td><td>-31</td><td>B6</td><td>  97</td><td>N807JB</td><td>JFK</td><td>DEN</td><td>213</td><td>1626</td><td>21</td><td>30</td><td>2013-09-30 21:00:00</td></tr>\n",
       "\t<tr><td>2013</td><td>9</td><td>30</td><td>2129</td><td>2059</td><td> 30</td><td>2230</td><td>2232</td><td> -2</td><td>EV</td><td>5048</td><td>N751EV</td><td>LGA</td><td>RIC</td><td> 45</td><td> 292</td><td>20</td><td>59</td><td>2013-09-30 20:00:00</td></tr>\n",
       "\t<tr><td>2013</td><td>9</td><td>30</td><td>2131</td><td>2140</td><td> -9</td><td>2225</td><td>2255</td><td>-30</td><td>MQ</td><td>3621</td><td>N807MQ</td><td>JFK</td><td>DCA</td><td> 36</td><td> 213</td><td>21</td><td>40</td><td>2013-09-30 21:00:00</td></tr>\n",
       "\t<tr><td>2013</td><td>9</td><td>30</td><td>2140</td><td>2140</td><td>  0</td><td>  10</td><td>  40</td><td>-30</td><td>AA</td><td> 185</td><td>N335AA</td><td>JFK</td><td>LAX</td><td>298</td><td>2475</td><td>21</td><td>40</td><td>2013-09-30 21:00:00</td></tr>\n",
       "\t<tr><td>2013</td><td>9</td><td>30</td><td>2142</td><td>2129</td><td> 13</td><td>2250</td><td>2239</td><td> 11</td><td>EV</td><td>4509</td><td>N12957</td><td>EWR</td><td>PWM</td><td> 47</td><td> 284</td><td>21</td><td>29</td><td>2013-09-30 21:00:00</td></tr>\n",
       "\t<tr><td>2013</td><td>9</td><td>30</td><td>2145</td><td>2145</td><td>  0</td><td> 115</td><td> 140</td><td>-25</td><td>B6</td><td>1103</td><td>N633JB</td><td>JFK</td><td>SJU</td><td>192</td><td>1598</td><td>21</td><td>45</td><td>2013-09-30 21:00:00</td></tr>\n",
       "\t<tr><td>2013</td><td>9</td><td>30</td><td>2147</td><td>2137</td><td> 10</td><td>  30</td><td>  27</td><td>  3</td><td>B6</td><td>1371</td><td>N627JB</td><td>LGA</td><td>FLL</td><td>139</td><td>1076</td><td>21</td><td>37</td><td>2013-09-30 21:00:00</td></tr>\n",
       "\t<tr><td>2013</td><td>9</td><td>30</td><td>2149</td><td>2156</td><td> -7</td><td>2245</td><td>2308</td><td>-23</td><td>UA</td><td> 523</td><td>N813UA</td><td>EWR</td><td>BOS</td><td> 37</td><td> 200</td><td>21</td><td>56</td><td>2013-09-30 21:00:00</td></tr>\n",
       "\t<tr><td>2013</td><td>9</td><td>30</td><td>2150</td><td>2159</td><td> -9</td><td>2250</td><td>2306</td><td>-16</td><td>EV</td><td>3842</td><td>N10575</td><td>EWR</td><td>MHT</td><td> 39</td><td> 209</td><td>21</td><td>59</td><td>2013-09-30 21:00:00</td></tr>\n",
       "\t<tr><td>2013</td><td>9</td><td>30</td><td>2159</td><td>1845</td><td>194</td><td>2344</td><td>2030</td><td>194</td><td>9E</td><td>3320</td><td>N906XJ</td><td>JFK</td><td>BUF</td><td> 50</td><td> 301</td><td>18</td><td>45</td><td>2013-09-30 18:00:00</td></tr>\n",
       "\t<tr><td>2013</td><td>9</td><td>30</td><td>2203</td><td>2205</td><td> -2</td><td>2339</td><td>2331</td><td>  8</td><td>EV</td><td>5311</td><td>N722EV</td><td>LGA</td><td>BGR</td><td> 61</td><td> 378</td><td>22</td><td> 5</td><td>2013-09-30 22:00:00</td></tr>\n",
       "\t<tr><td>2013</td><td>9</td><td>30</td><td>2207</td><td>2140</td><td> 27</td><td>2257</td><td>2250</td><td>  7</td><td>MQ</td><td>3660</td><td>N532MQ</td><td>LGA</td><td>BNA</td><td> 97</td><td> 764</td><td>21</td><td>40</td><td>2013-09-30 21:00:00</td></tr>\n",
       "\t<tr><td>2013</td><td>9</td><td>30</td><td>2211</td><td>2059</td><td> 72</td><td>2339</td><td>2242</td><td> 57</td><td>EV</td><td>4672</td><td>N12145</td><td>EWR</td><td>STL</td><td>120</td><td> 872</td><td>20</td><td>59</td><td>2013-09-30 20:00:00</td></tr>\n",
       "\t<tr><td>2013</td><td>9</td><td>30</td><td>2231</td><td>2245</td><td>-14</td><td>2335</td><td>2356</td><td>-21</td><td>B6</td><td> 108</td><td>N193JB</td><td>JFK</td><td>PWM</td><td> 48</td><td> 273</td><td>22</td><td>45</td><td>2013-09-30 22:00:00</td></tr>\n",
       "\t<tr><td>2013</td><td>9</td><td>30</td><td>2233</td><td>2113</td><td> 80</td><td> 112</td><td>  30</td><td> 42</td><td>UA</td><td> 471</td><td>N578UA</td><td>EWR</td><td>SFO</td><td>318</td><td>2565</td><td>21</td><td>13</td><td>2013-09-30 21:00:00</td></tr>\n",
       "\t<tr><td>2013</td><td>9</td><td>30</td><td>2235</td><td>2001</td><td>154</td><td>  59</td><td>2249</td><td>130</td><td>B6</td><td>1083</td><td>N804JB</td><td>JFK</td><td>MCO</td><td>123</td><td> 944</td><td>20</td><td> 1</td><td>2013-09-30 20:00:00</td></tr>\n",
       "\t<tr><td>2013</td><td>9</td><td>30</td><td>2237</td><td>2245</td><td> -8</td><td>2345</td><td>2353</td><td> -8</td><td>B6</td><td> 234</td><td>N318JB</td><td>JFK</td><td>BTV</td><td> 43</td><td> 266</td><td>22</td><td>45</td><td>2013-09-30 22:00:00</td></tr>\n",
       "\t<tr><td>2013</td><td>9</td><td>30</td><td>2240</td><td>2245</td><td> -5</td><td>2334</td><td>2351</td><td>-17</td><td>B6</td><td>1816</td><td>N354JB</td><td>JFK</td><td>SYR</td><td> 41</td><td> 209</td><td>22</td><td>45</td><td>2013-09-30 22:00:00</td></tr>\n",
       "\t<tr><td>2013</td><td>9</td><td>30</td><td>2240</td><td>2250</td><td>-10</td><td>2347</td><td>   7</td><td>-20</td><td>B6</td><td>2002</td><td>N281JB</td><td>JFK</td><td>BUF</td><td> 52</td><td> 301</td><td>22</td><td>50</td><td>2013-09-30 22:00:00</td></tr>\n",
       "\t<tr><td>2013</td><td>9</td><td>30</td><td>2241</td><td>2246</td><td> -5</td><td>2345</td><td>   1</td><td>-16</td><td>B6</td><td> 486</td><td>N346JB</td><td>JFK</td><td>ROC</td><td> 47</td><td> 264</td><td>22</td><td>46</td><td>2013-09-30 22:00:00</td></tr>\n",
       "\t<tr><td>2013</td><td>9</td><td>30</td><td>2307</td><td>2255</td><td> 12</td><td>2359</td><td>2358</td><td>  1</td><td>B6</td><td> 718</td><td>N565JB</td><td>JFK</td><td>BOS</td><td> 33</td><td> 187</td><td>22</td><td>55</td><td>2013-09-30 22:00:00</td></tr>\n",
       "\t<tr><td>2013</td><td>9</td><td>30</td><td>2349</td><td>2359</td><td>-10</td><td> 325</td><td> 350</td><td>-25</td><td>B6</td><td> 745</td><td>N516JB</td><td>JFK</td><td>PSE</td><td>196</td><td>1617</td><td>23</td><td>59</td><td>2013-09-30 23:00:00</td></tr>\n",
       "\t<tr><td>2013</td><td>9</td><td>30</td><td>  NA</td><td>1842</td><td> NA</td><td>  NA</td><td>2019</td><td> NA</td><td>EV</td><td>5274</td><td>N740EV</td><td>LGA</td><td>BNA</td><td> NA</td><td> 764</td><td>18</td><td>42</td><td>2013-09-30 18:00:00</td></tr>\n",
       "\t<tr><td>2013</td><td>9</td><td>30</td><td>  NA</td><td>1455</td><td> NA</td><td>  NA</td><td>1634</td><td> NA</td><td>9E</td><td>3393</td><td>NA    </td><td>JFK</td><td>DCA</td><td> NA</td><td> 213</td><td>14</td><td>55</td><td>2013-09-30 14:00:00</td></tr>\n",
       "\t<tr><td>2013</td><td>9</td><td>30</td><td>  NA</td><td>2200</td><td> NA</td><td>  NA</td><td>2312</td><td> NA</td><td>9E</td><td>3525</td><td>NA    </td><td>LGA</td><td>SYR</td><td> NA</td><td> 198</td><td>22</td><td> 0</td><td>2013-09-30 22:00:00</td></tr>\n",
       "\t<tr><td>2013</td><td>9</td><td>30</td><td>  NA</td><td>1210</td><td> NA</td><td>  NA</td><td>1330</td><td> NA</td><td>MQ</td><td>3461</td><td>N535MQ</td><td>LGA</td><td>BNA</td><td> NA</td><td> 764</td><td>12</td><td>10</td><td>2013-09-30 12:00:00</td></tr>\n",
       "\t<tr><td>2013</td><td>9</td><td>30</td><td>  NA</td><td>1159</td><td> NA</td><td>  NA</td><td>1344</td><td> NA</td><td>MQ</td><td>3572</td><td>N511MQ</td><td>LGA</td><td>CLE</td><td> NA</td><td> 419</td><td>11</td><td>59</td><td>2013-09-30 11:00:00</td></tr>\n",
       "\t<tr><td>2013</td><td>9</td><td>30</td><td>  NA</td><td> 840</td><td> NA</td><td>  NA</td><td>1020</td><td> NA</td><td>MQ</td><td>3531</td><td>N839MQ</td><td>LGA</td><td>RDU</td><td> NA</td><td> 431</td><td> 8</td><td>40</td><td>2013-09-30 08:00:00</td></tr>\n",
       "</tbody>\n",
       "</table>\n"
      ],
      "text/latex": [
       "A tibble: 336776 × 19\n",
       "\\begin{tabular}{lllllllllllllllllll}\n",
       " year & month & day & dep\\_time & sched\\_dep\\_time & dep\\_delay & arr\\_time & sched\\_arr\\_time & arr\\_delay & carrier & flight & tailnum & origin & dest & air\\_time & distance & hour & minute & time\\_hour\\\\\n",
       " <int> & <int> & <int> & <int> & <int> & <dbl> & <int> & <int> & <dbl> & <chr> & <int> & <chr> & <chr> & <chr> & <dbl> & <dbl> & <dbl> & <dbl> & <dttm>\\\\\n",
       "\\hline\n",
       "\t 2013 & 1 & 1 & 517 & 515 &  2 &  830 &  819 &  11 & UA & 1545 & N14228 & EWR & IAH & 227 & 1400 & 5 & 15 & 2013-01-01 05:00:00\\\\\n",
       "\t 2013 & 1 & 1 & 533 & 529 &  4 &  850 &  830 &  20 & UA & 1714 & N24211 & LGA & IAH & 227 & 1416 & 5 & 29 & 2013-01-01 05:00:00\\\\\n",
       "\t 2013 & 1 & 1 & 542 & 540 &  2 &  923 &  850 &  33 & AA & 1141 & N619AA & JFK & MIA & 160 & 1089 & 5 & 40 & 2013-01-01 05:00:00\\\\\n",
       "\t 2013 & 1 & 1 & 544 & 545 & -1 & 1004 & 1022 & -18 & B6 &  725 & N804JB & JFK & BQN & 183 & 1576 & 5 & 45 & 2013-01-01 05:00:00\\\\\n",
       "\t 2013 & 1 & 1 & 554 & 600 & -6 &  812 &  837 & -25 & DL &  461 & N668DN & LGA & ATL & 116 &  762 & 6 &  0 & 2013-01-01 06:00:00\\\\\n",
       "\t 2013 & 1 & 1 & 554 & 558 & -4 &  740 &  728 &  12 & UA & 1696 & N39463 & EWR & ORD & 150 &  719 & 5 & 58 & 2013-01-01 05:00:00\\\\\n",
       "\t 2013 & 1 & 1 & 555 & 600 & -5 &  913 &  854 &  19 & B6 &  507 & N516JB & EWR & FLL & 158 & 1065 & 6 &  0 & 2013-01-01 06:00:00\\\\\n",
       "\t 2013 & 1 & 1 & 557 & 600 & -3 &  709 &  723 & -14 & EV & 5708 & N829AS & LGA & IAD &  53 &  229 & 6 &  0 & 2013-01-01 06:00:00\\\\\n",
       "\t 2013 & 1 & 1 & 557 & 600 & -3 &  838 &  846 &  -8 & B6 &   79 & N593JB & JFK & MCO & 140 &  944 & 6 &  0 & 2013-01-01 06:00:00\\\\\n",
       "\t 2013 & 1 & 1 & 558 & 600 & -2 &  753 &  745 &   8 & AA &  301 & N3ALAA & LGA & ORD & 138 &  733 & 6 &  0 & 2013-01-01 06:00:00\\\\\n",
       "\t 2013 & 1 & 1 & 558 & 600 & -2 &  849 &  851 &  -2 & B6 &   49 & N793JB & JFK & PBI & 149 & 1028 & 6 &  0 & 2013-01-01 06:00:00\\\\\n",
       "\t 2013 & 1 & 1 & 558 & 600 & -2 &  853 &  856 &  -3 & B6 &   71 & N657JB & JFK & TPA & 158 & 1005 & 6 &  0 & 2013-01-01 06:00:00\\\\\n",
       "\t 2013 & 1 & 1 & 558 & 600 & -2 &  924 &  917 &   7 & UA &  194 & N29129 & JFK & LAX & 345 & 2475 & 6 &  0 & 2013-01-01 06:00:00\\\\\n",
       "\t 2013 & 1 & 1 & 558 & 600 & -2 &  923 &  937 & -14 & UA & 1124 & N53441 & EWR & SFO & 361 & 2565 & 6 &  0 & 2013-01-01 06:00:00\\\\\n",
       "\t 2013 & 1 & 1 & 559 & 600 & -1 &  941 &  910 &  31 & AA &  707 & N3DUAA & LGA & DFW & 257 & 1389 & 6 &  0 & 2013-01-01 06:00:00\\\\\n",
       "\t 2013 & 1 & 1 & 559 & 559 &  0 &  702 &  706 &  -4 & B6 & 1806 & N708JB & JFK & BOS &  44 &  187 & 5 & 59 & 2013-01-01 05:00:00\\\\\n",
       "\t 2013 & 1 & 1 & 559 & 600 & -1 &  854 &  902 &  -8 & UA & 1187 & N76515 & EWR & LAS & 337 & 2227 & 6 &  0 & 2013-01-01 06:00:00\\\\\n",
       "\t 2013 & 1 & 1 & 600 & 600 &  0 &  851 &  858 &  -7 & B6 &  371 & N595JB & LGA & FLL & 152 & 1076 & 6 &  0 & 2013-01-01 06:00:00\\\\\n",
       "\t 2013 & 1 & 1 & 600 & 600 &  0 &  837 &  825 &  12 & MQ & 4650 & N542MQ & LGA & ATL & 134 &  762 & 6 &  0 & 2013-01-01 06:00:00\\\\\n",
       "\t 2013 & 1 & 1 & 601 & 600 &  1 &  844 &  850 &  -6 & B6 &  343 & N644JB & EWR & PBI & 147 & 1023 & 6 &  0 & 2013-01-01 06:00:00\\\\\n",
       "\t 2013 & 1 & 1 & 602 & 610 & -8 &  812 &  820 &  -8 & DL & 1919 & N971DL & LGA & MSP & 170 & 1020 & 6 & 10 & 2013-01-01 06:00:00\\\\\n",
       "\t 2013 & 1 & 1 & 602 & 605 & -3 &  821 &  805 &  16 & MQ & 4401 & N730MQ & LGA & DTW & 105 &  502 & 6 &  5 & 2013-01-01 06:00:00\\\\\n",
       "\t 2013 & 1 & 1 & 606 & 610 & -4 &  858 &  910 & -12 & AA & 1895 & N633AA & EWR & MIA & 152 & 1085 & 6 & 10 & 2013-01-01 06:00:00\\\\\n",
       "\t 2013 & 1 & 1 & 606 & 610 & -4 &  837 &  845 &  -8 & DL & 1743 & N3739P & JFK & ATL & 128 &  760 & 6 & 10 & 2013-01-01 06:00:00\\\\\n",
       "\t 2013 & 1 & 1 & 607 & 607 &  0 &  858 &  915 & -17 & UA & 1077 & N53442 & EWR & MIA & 157 & 1085 & 6 &  7 & 2013-01-01 06:00:00\\\\\n",
       "\t 2013 & 1 & 1 & 608 & 600 &  8 &  807 &  735 &  32 & MQ & 3768 & N9EAMQ & EWR & ORD & 139 &  719 & 6 &  0 & 2013-01-01 06:00:00\\\\\n",
       "\t 2013 & 1 & 1 & 611 & 600 & 11 &  945 &  931 &  14 & UA &  303 & N532UA & JFK & SFO & 366 & 2586 & 6 &  0 & 2013-01-01 06:00:00\\\\\n",
       "\t 2013 & 1 & 1 & 613 & 610 &  3 &  925 &  921 &   4 & B6 &  135 & N635JB & JFK & RSW & 175 & 1074 & 6 & 10 & 2013-01-01 06:00:00\\\\\n",
       "\t 2013 & 1 & 1 & 615 & 615 &  0 & 1039 & 1100 & -21 & B6 &  709 & N794JB & JFK & SJU & 182 & 1598 & 6 & 15 & 2013-01-01 06:00:00\\\\\n",
       "\t 2013 & 1 & 1 & 615 & 615 &  0 &  833 &  842 &  -9 & DL &  575 & N326NB & EWR & ATL & 120 &  746 & 6 & 15 & 2013-01-01 06:00:00\\\\\n",
       "\t ⋮ & ⋮ & ⋮ & ⋮ & ⋮ & ⋮ & ⋮ & ⋮ & ⋮ & ⋮ & ⋮ & ⋮ & ⋮ & ⋮ & ⋮ & ⋮ & ⋮ & ⋮ & ⋮\\\\\n",
       "\t 2013 & 9 & 30 & 2123 & 2125 &  -2 & 2223 & 2247 & -24 & EV & 5489 & N712EV & LGA & CHO &  45 &  305 & 21 & 25 & 2013-09-30 21:00:00\\\\\n",
       "\t 2013 & 9 & 30 & 2127 & 2129 &  -2 & 2314 & 2323 &  -9 & EV & 3833 & N16546 & EWR & CLT &  72 &  529 & 21 & 29 & 2013-09-30 21:00:00\\\\\n",
       "\t 2013 & 9 & 30 & 2128 & 2130 &  -2 & 2328 & 2359 & -31 & B6 &   97 & N807JB & JFK & DEN & 213 & 1626 & 21 & 30 & 2013-09-30 21:00:00\\\\\n",
       "\t 2013 & 9 & 30 & 2129 & 2059 &  30 & 2230 & 2232 &  -2 & EV & 5048 & N751EV & LGA & RIC &  45 &  292 & 20 & 59 & 2013-09-30 20:00:00\\\\\n",
       "\t 2013 & 9 & 30 & 2131 & 2140 &  -9 & 2225 & 2255 & -30 & MQ & 3621 & N807MQ & JFK & DCA &  36 &  213 & 21 & 40 & 2013-09-30 21:00:00\\\\\n",
       "\t 2013 & 9 & 30 & 2140 & 2140 &   0 &   10 &   40 & -30 & AA &  185 & N335AA & JFK & LAX & 298 & 2475 & 21 & 40 & 2013-09-30 21:00:00\\\\\n",
       "\t 2013 & 9 & 30 & 2142 & 2129 &  13 & 2250 & 2239 &  11 & EV & 4509 & N12957 & EWR & PWM &  47 &  284 & 21 & 29 & 2013-09-30 21:00:00\\\\\n",
       "\t 2013 & 9 & 30 & 2145 & 2145 &   0 &  115 &  140 & -25 & B6 & 1103 & N633JB & JFK & SJU & 192 & 1598 & 21 & 45 & 2013-09-30 21:00:00\\\\\n",
       "\t 2013 & 9 & 30 & 2147 & 2137 &  10 &   30 &   27 &   3 & B6 & 1371 & N627JB & LGA & FLL & 139 & 1076 & 21 & 37 & 2013-09-30 21:00:00\\\\\n",
       "\t 2013 & 9 & 30 & 2149 & 2156 &  -7 & 2245 & 2308 & -23 & UA &  523 & N813UA & EWR & BOS &  37 &  200 & 21 & 56 & 2013-09-30 21:00:00\\\\\n",
       "\t 2013 & 9 & 30 & 2150 & 2159 &  -9 & 2250 & 2306 & -16 & EV & 3842 & N10575 & EWR & MHT &  39 &  209 & 21 & 59 & 2013-09-30 21:00:00\\\\\n",
       "\t 2013 & 9 & 30 & 2159 & 1845 & 194 & 2344 & 2030 & 194 & 9E & 3320 & N906XJ & JFK & BUF &  50 &  301 & 18 & 45 & 2013-09-30 18:00:00\\\\\n",
       "\t 2013 & 9 & 30 & 2203 & 2205 &  -2 & 2339 & 2331 &   8 & EV & 5311 & N722EV & LGA & BGR &  61 &  378 & 22 &  5 & 2013-09-30 22:00:00\\\\\n",
       "\t 2013 & 9 & 30 & 2207 & 2140 &  27 & 2257 & 2250 &   7 & MQ & 3660 & N532MQ & LGA & BNA &  97 &  764 & 21 & 40 & 2013-09-30 21:00:00\\\\\n",
       "\t 2013 & 9 & 30 & 2211 & 2059 &  72 & 2339 & 2242 &  57 & EV & 4672 & N12145 & EWR & STL & 120 &  872 & 20 & 59 & 2013-09-30 20:00:00\\\\\n",
       "\t 2013 & 9 & 30 & 2231 & 2245 & -14 & 2335 & 2356 & -21 & B6 &  108 & N193JB & JFK & PWM &  48 &  273 & 22 & 45 & 2013-09-30 22:00:00\\\\\n",
       "\t 2013 & 9 & 30 & 2233 & 2113 &  80 &  112 &   30 &  42 & UA &  471 & N578UA & EWR & SFO & 318 & 2565 & 21 & 13 & 2013-09-30 21:00:00\\\\\n",
       "\t 2013 & 9 & 30 & 2235 & 2001 & 154 &   59 & 2249 & 130 & B6 & 1083 & N804JB & JFK & MCO & 123 &  944 & 20 &  1 & 2013-09-30 20:00:00\\\\\n",
       "\t 2013 & 9 & 30 & 2237 & 2245 &  -8 & 2345 & 2353 &  -8 & B6 &  234 & N318JB & JFK & BTV &  43 &  266 & 22 & 45 & 2013-09-30 22:00:00\\\\\n",
       "\t 2013 & 9 & 30 & 2240 & 2245 &  -5 & 2334 & 2351 & -17 & B6 & 1816 & N354JB & JFK & SYR &  41 &  209 & 22 & 45 & 2013-09-30 22:00:00\\\\\n",
       "\t 2013 & 9 & 30 & 2240 & 2250 & -10 & 2347 &    7 & -20 & B6 & 2002 & N281JB & JFK & BUF &  52 &  301 & 22 & 50 & 2013-09-30 22:00:00\\\\\n",
       "\t 2013 & 9 & 30 & 2241 & 2246 &  -5 & 2345 &    1 & -16 & B6 &  486 & N346JB & JFK & ROC &  47 &  264 & 22 & 46 & 2013-09-30 22:00:00\\\\\n",
       "\t 2013 & 9 & 30 & 2307 & 2255 &  12 & 2359 & 2358 &   1 & B6 &  718 & N565JB & JFK & BOS &  33 &  187 & 22 & 55 & 2013-09-30 22:00:00\\\\\n",
       "\t 2013 & 9 & 30 & 2349 & 2359 & -10 &  325 &  350 & -25 & B6 &  745 & N516JB & JFK & PSE & 196 & 1617 & 23 & 59 & 2013-09-30 23:00:00\\\\\n",
       "\t 2013 & 9 & 30 &   NA & 1842 &  NA &   NA & 2019 &  NA & EV & 5274 & N740EV & LGA & BNA &  NA &  764 & 18 & 42 & 2013-09-30 18:00:00\\\\\n",
       "\t 2013 & 9 & 30 &   NA & 1455 &  NA &   NA & 1634 &  NA & 9E & 3393 & NA     & JFK & DCA &  NA &  213 & 14 & 55 & 2013-09-30 14:00:00\\\\\n",
       "\t 2013 & 9 & 30 &   NA & 2200 &  NA &   NA & 2312 &  NA & 9E & 3525 & NA     & LGA & SYR &  NA &  198 & 22 &  0 & 2013-09-30 22:00:00\\\\\n",
       "\t 2013 & 9 & 30 &   NA & 1210 &  NA &   NA & 1330 &  NA & MQ & 3461 & N535MQ & LGA & BNA &  NA &  764 & 12 & 10 & 2013-09-30 12:00:00\\\\\n",
       "\t 2013 & 9 & 30 &   NA & 1159 &  NA &   NA & 1344 &  NA & MQ & 3572 & N511MQ & LGA & CLE &  NA &  419 & 11 & 59 & 2013-09-30 11:00:00\\\\\n",
       "\t 2013 & 9 & 30 &   NA &  840 &  NA &   NA & 1020 &  NA & MQ & 3531 & N839MQ & LGA & RDU &  NA &  431 &  8 & 40 & 2013-09-30 08:00:00\\\\\n",
       "\\end{tabular}\n"
      ],
      "text/markdown": [
       "\n",
       "A tibble: 336776 × 19\n",
       "\n",
       "| year &lt;int&gt; | month &lt;int&gt; | day &lt;int&gt; | dep_time &lt;int&gt; | sched_dep_time &lt;int&gt; | dep_delay &lt;dbl&gt; | arr_time &lt;int&gt; | sched_arr_time &lt;int&gt; | arr_delay &lt;dbl&gt; | carrier &lt;chr&gt; | flight &lt;int&gt; | tailnum &lt;chr&gt; | origin &lt;chr&gt; | dest &lt;chr&gt; | air_time &lt;dbl&gt; | distance &lt;dbl&gt; | hour &lt;dbl&gt; | minute &lt;dbl&gt; | time_hour &lt;dttm&gt; |\n",
       "|---|---|---|---|---|---|---|---|---|---|---|---|---|---|---|---|---|---|---|\n",
       "| 2013 | 1 | 1 | 517 | 515 |  2 |  830 |  819 |  11 | UA | 1545 | N14228 | EWR | IAH | 227 | 1400 | 5 | 15 | 2013-01-01 05:00:00 |\n",
       "| 2013 | 1 | 1 | 533 | 529 |  4 |  850 |  830 |  20 | UA | 1714 | N24211 | LGA | IAH | 227 | 1416 | 5 | 29 | 2013-01-01 05:00:00 |\n",
       "| 2013 | 1 | 1 | 542 | 540 |  2 |  923 |  850 |  33 | AA | 1141 | N619AA | JFK | MIA | 160 | 1089 | 5 | 40 | 2013-01-01 05:00:00 |\n",
       "| 2013 | 1 | 1 | 544 | 545 | -1 | 1004 | 1022 | -18 | B6 |  725 | N804JB | JFK | BQN | 183 | 1576 | 5 | 45 | 2013-01-01 05:00:00 |\n",
       "| 2013 | 1 | 1 | 554 | 600 | -6 |  812 |  837 | -25 | DL |  461 | N668DN | LGA | ATL | 116 |  762 | 6 |  0 | 2013-01-01 06:00:00 |\n",
       "| 2013 | 1 | 1 | 554 | 558 | -4 |  740 |  728 |  12 | UA | 1696 | N39463 | EWR | ORD | 150 |  719 | 5 | 58 | 2013-01-01 05:00:00 |\n",
       "| 2013 | 1 | 1 | 555 | 600 | -5 |  913 |  854 |  19 | B6 |  507 | N516JB | EWR | FLL | 158 | 1065 | 6 |  0 | 2013-01-01 06:00:00 |\n",
       "| 2013 | 1 | 1 | 557 | 600 | -3 |  709 |  723 | -14 | EV | 5708 | N829AS | LGA | IAD |  53 |  229 | 6 |  0 | 2013-01-01 06:00:00 |\n",
       "| 2013 | 1 | 1 | 557 | 600 | -3 |  838 |  846 |  -8 | B6 |   79 | N593JB | JFK | MCO | 140 |  944 | 6 |  0 | 2013-01-01 06:00:00 |\n",
       "| 2013 | 1 | 1 | 558 | 600 | -2 |  753 |  745 |   8 | AA |  301 | N3ALAA | LGA | ORD | 138 |  733 | 6 |  0 | 2013-01-01 06:00:00 |\n",
       "| 2013 | 1 | 1 | 558 | 600 | -2 |  849 |  851 |  -2 | B6 |   49 | N793JB | JFK | PBI | 149 | 1028 | 6 |  0 | 2013-01-01 06:00:00 |\n",
       "| 2013 | 1 | 1 | 558 | 600 | -2 |  853 |  856 |  -3 | B6 |   71 | N657JB | JFK | TPA | 158 | 1005 | 6 |  0 | 2013-01-01 06:00:00 |\n",
       "| 2013 | 1 | 1 | 558 | 600 | -2 |  924 |  917 |   7 | UA |  194 | N29129 | JFK | LAX | 345 | 2475 | 6 |  0 | 2013-01-01 06:00:00 |\n",
       "| 2013 | 1 | 1 | 558 | 600 | -2 |  923 |  937 | -14 | UA | 1124 | N53441 | EWR | SFO | 361 | 2565 | 6 |  0 | 2013-01-01 06:00:00 |\n",
       "| 2013 | 1 | 1 | 559 | 600 | -1 |  941 |  910 |  31 | AA |  707 | N3DUAA | LGA | DFW | 257 | 1389 | 6 |  0 | 2013-01-01 06:00:00 |\n",
       "| 2013 | 1 | 1 | 559 | 559 |  0 |  702 |  706 |  -4 | B6 | 1806 | N708JB | JFK | BOS |  44 |  187 | 5 | 59 | 2013-01-01 05:00:00 |\n",
       "| 2013 | 1 | 1 | 559 | 600 | -1 |  854 |  902 |  -8 | UA | 1187 | N76515 | EWR | LAS | 337 | 2227 | 6 |  0 | 2013-01-01 06:00:00 |\n",
       "| 2013 | 1 | 1 | 600 | 600 |  0 |  851 |  858 |  -7 | B6 |  371 | N595JB | LGA | FLL | 152 | 1076 | 6 |  0 | 2013-01-01 06:00:00 |\n",
       "| 2013 | 1 | 1 | 600 | 600 |  0 |  837 |  825 |  12 | MQ | 4650 | N542MQ | LGA | ATL | 134 |  762 | 6 |  0 | 2013-01-01 06:00:00 |\n",
       "| 2013 | 1 | 1 | 601 | 600 |  1 |  844 |  850 |  -6 | B6 |  343 | N644JB | EWR | PBI | 147 | 1023 | 6 |  0 | 2013-01-01 06:00:00 |\n",
       "| 2013 | 1 | 1 | 602 | 610 | -8 |  812 |  820 |  -8 | DL | 1919 | N971DL | LGA | MSP | 170 | 1020 | 6 | 10 | 2013-01-01 06:00:00 |\n",
       "| 2013 | 1 | 1 | 602 | 605 | -3 |  821 |  805 |  16 | MQ | 4401 | N730MQ | LGA | DTW | 105 |  502 | 6 |  5 | 2013-01-01 06:00:00 |\n",
       "| 2013 | 1 | 1 | 606 | 610 | -4 |  858 |  910 | -12 | AA | 1895 | N633AA | EWR | MIA | 152 | 1085 | 6 | 10 | 2013-01-01 06:00:00 |\n",
       "| 2013 | 1 | 1 | 606 | 610 | -4 |  837 |  845 |  -8 | DL | 1743 | N3739P | JFK | ATL | 128 |  760 | 6 | 10 | 2013-01-01 06:00:00 |\n",
       "| 2013 | 1 | 1 | 607 | 607 |  0 |  858 |  915 | -17 | UA | 1077 | N53442 | EWR | MIA | 157 | 1085 | 6 |  7 | 2013-01-01 06:00:00 |\n",
       "| 2013 | 1 | 1 | 608 | 600 |  8 |  807 |  735 |  32 | MQ | 3768 | N9EAMQ | EWR | ORD | 139 |  719 | 6 |  0 | 2013-01-01 06:00:00 |\n",
       "| 2013 | 1 | 1 | 611 | 600 | 11 |  945 |  931 |  14 | UA |  303 | N532UA | JFK | SFO | 366 | 2586 | 6 |  0 | 2013-01-01 06:00:00 |\n",
       "| 2013 | 1 | 1 | 613 | 610 |  3 |  925 |  921 |   4 | B6 |  135 | N635JB | JFK | RSW | 175 | 1074 | 6 | 10 | 2013-01-01 06:00:00 |\n",
       "| 2013 | 1 | 1 | 615 | 615 |  0 | 1039 | 1100 | -21 | B6 |  709 | N794JB | JFK | SJU | 182 | 1598 | 6 | 15 | 2013-01-01 06:00:00 |\n",
       "| 2013 | 1 | 1 | 615 | 615 |  0 |  833 |  842 |  -9 | DL |  575 | N326NB | EWR | ATL | 120 |  746 | 6 | 15 | 2013-01-01 06:00:00 |\n",
       "| ⋮ | ⋮ | ⋮ | ⋮ | ⋮ | ⋮ | ⋮ | ⋮ | ⋮ | ⋮ | ⋮ | ⋮ | ⋮ | ⋮ | ⋮ | ⋮ | ⋮ | ⋮ | ⋮ |\n",
       "| 2013 | 9 | 30 | 2123 | 2125 |  -2 | 2223 | 2247 | -24 | EV | 5489 | N712EV | LGA | CHO |  45 |  305 | 21 | 25 | 2013-09-30 21:00:00 |\n",
       "| 2013 | 9 | 30 | 2127 | 2129 |  -2 | 2314 | 2323 |  -9 | EV | 3833 | N16546 | EWR | CLT |  72 |  529 | 21 | 29 | 2013-09-30 21:00:00 |\n",
       "| 2013 | 9 | 30 | 2128 | 2130 |  -2 | 2328 | 2359 | -31 | B6 |   97 | N807JB | JFK | DEN | 213 | 1626 | 21 | 30 | 2013-09-30 21:00:00 |\n",
       "| 2013 | 9 | 30 | 2129 | 2059 |  30 | 2230 | 2232 |  -2 | EV | 5048 | N751EV | LGA | RIC |  45 |  292 | 20 | 59 | 2013-09-30 20:00:00 |\n",
       "| 2013 | 9 | 30 | 2131 | 2140 |  -9 | 2225 | 2255 | -30 | MQ | 3621 | N807MQ | JFK | DCA |  36 |  213 | 21 | 40 | 2013-09-30 21:00:00 |\n",
       "| 2013 | 9 | 30 | 2140 | 2140 |   0 |   10 |   40 | -30 | AA |  185 | N335AA | JFK | LAX | 298 | 2475 | 21 | 40 | 2013-09-30 21:00:00 |\n",
       "| 2013 | 9 | 30 | 2142 | 2129 |  13 | 2250 | 2239 |  11 | EV | 4509 | N12957 | EWR | PWM |  47 |  284 | 21 | 29 | 2013-09-30 21:00:00 |\n",
       "| 2013 | 9 | 30 | 2145 | 2145 |   0 |  115 |  140 | -25 | B6 | 1103 | N633JB | JFK | SJU | 192 | 1598 | 21 | 45 | 2013-09-30 21:00:00 |\n",
       "| 2013 | 9 | 30 | 2147 | 2137 |  10 |   30 |   27 |   3 | B6 | 1371 | N627JB | LGA | FLL | 139 | 1076 | 21 | 37 | 2013-09-30 21:00:00 |\n",
       "| 2013 | 9 | 30 | 2149 | 2156 |  -7 | 2245 | 2308 | -23 | UA |  523 | N813UA | EWR | BOS |  37 |  200 | 21 | 56 | 2013-09-30 21:00:00 |\n",
       "| 2013 | 9 | 30 | 2150 | 2159 |  -9 | 2250 | 2306 | -16 | EV | 3842 | N10575 | EWR | MHT |  39 |  209 | 21 | 59 | 2013-09-30 21:00:00 |\n",
       "| 2013 | 9 | 30 | 2159 | 1845 | 194 | 2344 | 2030 | 194 | 9E | 3320 | N906XJ | JFK | BUF |  50 |  301 | 18 | 45 | 2013-09-30 18:00:00 |\n",
       "| 2013 | 9 | 30 | 2203 | 2205 |  -2 | 2339 | 2331 |   8 | EV | 5311 | N722EV | LGA | BGR |  61 |  378 | 22 |  5 | 2013-09-30 22:00:00 |\n",
       "| 2013 | 9 | 30 | 2207 | 2140 |  27 | 2257 | 2250 |   7 | MQ | 3660 | N532MQ | LGA | BNA |  97 |  764 | 21 | 40 | 2013-09-30 21:00:00 |\n",
       "| 2013 | 9 | 30 | 2211 | 2059 |  72 | 2339 | 2242 |  57 | EV | 4672 | N12145 | EWR | STL | 120 |  872 | 20 | 59 | 2013-09-30 20:00:00 |\n",
       "| 2013 | 9 | 30 | 2231 | 2245 | -14 | 2335 | 2356 | -21 | B6 |  108 | N193JB | JFK | PWM |  48 |  273 | 22 | 45 | 2013-09-30 22:00:00 |\n",
       "| 2013 | 9 | 30 | 2233 | 2113 |  80 |  112 |   30 |  42 | UA |  471 | N578UA | EWR | SFO | 318 | 2565 | 21 | 13 | 2013-09-30 21:00:00 |\n",
       "| 2013 | 9 | 30 | 2235 | 2001 | 154 |   59 | 2249 | 130 | B6 | 1083 | N804JB | JFK | MCO | 123 |  944 | 20 |  1 | 2013-09-30 20:00:00 |\n",
       "| 2013 | 9 | 30 | 2237 | 2245 |  -8 | 2345 | 2353 |  -8 | B6 |  234 | N318JB | JFK | BTV |  43 |  266 | 22 | 45 | 2013-09-30 22:00:00 |\n",
       "| 2013 | 9 | 30 | 2240 | 2245 |  -5 | 2334 | 2351 | -17 | B6 | 1816 | N354JB | JFK | SYR |  41 |  209 | 22 | 45 | 2013-09-30 22:00:00 |\n",
       "| 2013 | 9 | 30 | 2240 | 2250 | -10 | 2347 |    7 | -20 | B6 | 2002 | N281JB | JFK | BUF |  52 |  301 | 22 | 50 | 2013-09-30 22:00:00 |\n",
       "| 2013 | 9 | 30 | 2241 | 2246 |  -5 | 2345 |    1 | -16 | B6 |  486 | N346JB | JFK | ROC |  47 |  264 | 22 | 46 | 2013-09-30 22:00:00 |\n",
       "| 2013 | 9 | 30 | 2307 | 2255 |  12 | 2359 | 2358 |   1 | B6 |  718 | N565JB | JFK | BOS |  33 |  187 | 22 | 55 | 2013-09-30 22:00:00 |\n",
       "| 2013 | 9 | 30 | 2349 | 2359 | -10 |  325 |  350 | -25 | B6 |  745 | N516JB | JFK | PSE | 196 | 1617 | 23 | 59 | 2013-09-30 23:00:00 |\n",
       "| 2013 | 9 | 30 |   NA | 1842 |  NA |   NA | 2019 |  NA | EV | 5274 | N740EV | LGA | BNA |  NA |  764 | 18 | 42 | 2013-09-30 18:00:00 |\n",
       "| 2013 | 9 | 30 |   NA | 1455 |  NA |   NA | 1634 |  NA | 9E | 3393 | NA     | JFK | DCA |  NA |  213 | 14 | 55 | 2013-09-30 14:00:00 |\n",
       "| 2013 | 9 | 30 |   NA | 2200 |  NA |   NA | 2312 |  NA | 9E | 3525 | NA     | LGA | SYR |  NA |  198 | 22 |  0 | 2013-09-30 22:00:00 |\n",
       "| 2013 | 9 | 30 |   NA | 1210 |  NA |   NA | 1330 |  NA | MQ | 3461 | N535MQ | LGA | BNA |  NA |  764 | 12 | 10 | 2013-09-30 12:00:00 |\n",
       "| 2013 | 9 | 30 |   NA | 1159 |  NA |   NA | 1344 |  NA | MQ | 3572 | N511MQ | LGA | CLE |  NA |  419 | 11 | 59 | 2013-09-30 11:00:00 |\n",
       "| 2013 | 9 | 30 |   NA |  840 |  NA |   NA | 1020 |  NA | MQ | 3531 | N839MQ | LGA | RDU |  NA |  431 |  8 | 40 | 2013-09-30 08:00:00 |\n",
       "\n"
      ],
      "text/plain": [
       "       year month day dep_time sched_dep_time dep_delay arr_time sched_arr_time\n",
       "1      2013 1     1   517      515             2         830      819          \n",
       "2      2013 1     1   533      529             4         850      830          \n",
       "3      2013 1     1   542      540             2         923      850          \n",
       "4      2013 1     1   544      545            -1        1004     1022          \n",
       "5      2013 1     1   554      600            -6         812      837          \n",
       "6      2013 1     1   554      558            -4         740      728          \n",
       "7      2013 1     1   555      600            -5         913      854          \n",
       "8      2013 1     1   557      600            -3         709      723          \n",
       "9      2013 1     1   557      600            -3         838      846          \n",
       "10     2013 1     1   558      600            -2         753      745          \n",
       "11     2013 1     1   558      600            -2         849      851          \n",
       "12     2013 1     1   558      600            -2         853      856          \n",
       "13     2013 1     1   558      600            -2         924      917          \n",
       "14     2013 1     1   558      600            -2         923      937          \n",
       "15     2013 1     1   559      600            -1         941      910          \n",
       "16     2013 1     1   559      559             0         702      706          \n",
       "17     2013 1     1   559      600            -1         854      902          \n",
       "18     2013 1     1   600      600             0         851      858          \n",
       "19     2013 1     1   600      600             0         837      825          \n",
       "20     2013 1     1   601      600             1         844      850          \n",
       "21     2013 1     1   602      610            -8         812      820          \n",
       "22     2013 1     1   602      605            -3         821      805          \n",
       "23     2013 1     1   606      610            -4         858      910          \n",
       "24     2013 1     1   606      610            -4         837      845          \n",
       "25     2013 1     1   607      607             0         858      915          \n",
       "26     2013 1     1   608      600             8         807      735          \n",
       "27     2013 1     1   611      600            11         945      931          \n",
       "28     2013 1     1   613      610             3         925      921          \n",
       "29     2013 1     1   615      615             0        1039     1100          \n",
       "30     2013 1     1   615      615             0         833      842          \n",
       "⋮      ⋮    ⋮     ⋮   ⋮        ⋮              ⋮         ⋮        ⋮             \n",
       "336747 2013 9     30  2123     2125            -2       2223     2247          \n",
       "336748 2013 9     30  2127     2129            -2       2314     2323          \n",
       "336749 2013 9     30  2128     2130            -2       2328     2359          \n",
       "336750 2013 9     30  2129     2059            30       2230     2232          \n",
       "336751 2013 9     30  2131     2140            -9       2225     2255          \n",
       "336752 2013 9     30  2140     2140             0         10       40          \n",
       "336753 2013 9     30  2142     2129            13       2250     2239          \n",
       "336754 2013 9     30  2145     2145             0        115      140          \n",
       "336755 2013 9     30  2147     2137            10         30       27          \n",
       "336756 2013 9     30  2149     2156            -7       2245     2308          \n",
       "336757 2013 9     30  2150     2159            -9       2250     2306          \n",
       "336758 2013 9     30  2159     1845           194       2344     2030          \n",
       "336759 2013 9     30  2203     2205            -2       2339     2331          \n",
       "336760 2013 9     30  2207     2140            27       2257     2250          \n",
       "336761 2013 9     30  2211     2059            72       2339     2242          \n",
       "336762 2013 9     30  2231     2245           -14       2335     2356          \n",
       "336763 2013 9     30  2233     2113            80        112       30          \n",
       "336764 2013 9     30  2235     2001           154         59     2249          \n",
       "336765 2013 9     30  2237     2245            -8       2345     2353          \n",
       "336766 2013 9     30  2240     2245            -5       2334     2351          \n",
       "336767 2013 9     30  2240     2250           -10       2347        7          \n",
       "336768 2013 9     30  2241     2246            -5       2345        1          \n",
       "336769 2013 9     30  2307     2255            12       2359     2358          \n",
       "336770 2013 9     30  2349     2359           -10        325      350          \n",
       "336771 2013 9     30    NA     1842            NA         NA     2019          \n",
       "336772 2013 9     30    NA     1455            NA         NA     1634          \n",
       "336773 2013 9     30    NA     2200            NA         NA     2312          \n",
       "336774 2013 9     30    NA     1210            NA         NA     1330          \n",
       "336775 2013 9     30    NA     1159            NA         NA     1344          \n",
       "336776 2013 9     30    NA      840            NA         NA     1020          \n",
       "       arr_delay carrier flight tailnum origin dest air_time distance hour\n",
       "1       11       UA      1545   N14228  EWR    IAH  227      1400     5   \n",
       "2       20       UA      1714   N24211  LGA    IAH  227      1416     5   \n",
       "3       33       AA      1141   N619AA  JFK    MIA  160      1089     5   \n",
       "4      -18       B6       725   N804JB  JFK    BQN  183      1576     5   \n",
       "5      -25       DL       461   N668DN  LGA    ATL  116       762     6   \n",
       "6       12       UA      1696   N39463  EWR    ORD  150       719     5   \n",
       "7       19       B6       507   N516JB  EWR    FLL  158      1065     6   \n",
       "8      -14       EV      5708   N829AS  LGA    IAD   53       229     6   \n",
       "9       -8       B6        79   N593JB  JFK    MCO  140       944     6   \n",
       "10       8       AA       301   N3ALAA  LGA    ORD  138       733     6   \n",
       "11      -2       B6        49   N793JB  JFK    PBI  149      1028     6   \n",
       "12      -3       B6        71   N657JB  JFK    TPA  158      1005     6   \n",
       "13       7       UA       194   N29129  JFK    LAX  345      2475     6   \n",
       "14     -14       UA      1124   N53441  EWR    SFO  361      2565     6   \n",
       "15      31       AA       707   N3DUAA  LGA    DFW  257      1389     6   \n",
       "16      -4       B6      1806   N708JB  JFK    BOS   44       187     5   \n",
       "17      -8       UA      1187   N76515  EWR    LAS  337      2227     6   \n",
       "18      -7       B6       371   N595JB  LGA    FLL  152      1076     6   \n",
       "19      12       MQ      4650   N542MQ  LGA    ATL  134       762     6   \n",
       "20      -6       B6       343   N644JB  EWR    PBI  147      1023     6   \n",
       "21      -8       DL      1919   N971DL  LGA    MSP  170      1020     6   \n",
       "22      16       MQ      4401   N730MQ  LGA    DTW  105       502     6   \n",
       "23     -12       AA      1895   N633AA  EWR    MIA  152      1085     6   \n",
       "24      -8       DL      1743   N3739P  JFK    ATL  128       760     6   \n",
       "25     -17       UA      1077   N53442  EWR    MIA  157      1085     6   \n",
       "26      32       MQ      3768   N9EAMQ  EWR    ORD  139       719     6   \n",
       "27      14       UA       303   N532UA  JFK    SFO  366      2586     6   \n",
       "28       4       B6       135   N635JB  JFK    RSW  175      1074     6   \n",
       "29     -21       B6       709   N794JB  JFK    SJU  182      1598     6   \n",
       "30      -9       DL       575   N326NB  EWR    ATL  120       746     6   \n",
       "⋮      ⋮         ⋮       ⋮      ⋮       ⋮      ⋮    ⋮        ⋮        ⋮   \n",
       "336747 -24       EV      5489   N712EV  LGA    CHO   45       305     21  \n",
       "336748  -9       EV      3833   N16546  EWR    CLT   72       529     21  \n",
       "336749 -31       B6        97   N807JB  JFK    DEN  213      1626     21  \n",
       "336750  -2       EV      5048   N751EV  LGA    RIC   45       292     20  \n",
       "336751 -30       MQ      3621   N807MQ  JFK    DCA   36       213     21  \n",
       "336752 -30       AA       185   N335AA  JFK    LAX  298      2475     21  \n",
       "336753  11       EV      4509   N12957  EWR    PWM   47       284     21  \n",
       "336754 -25       B6      1103   N633JB  JFK    SJU  192      1598     21  \n",
       "336755   3       B6      1371   N627JB  LGA    FLL  139      1076     21  \n",
       "336756 -23       UA       523   N813UA  EWR    BOS   37       200     21  \n",
       "336757 -16       EV      3842   N10575  EWR    MHT   39       209     21  \n",
       "336758 194       9E      3320   N906XJ  JFK    BUF   50       301     18  \n",
       "336759   8       EV      5311   N722EV  LGA    BGR   61       378     22  \n",
       "336760   7       MQ      3660   N532MQ  LGA    BNA   97       764     21  \n",
       "336761  57       EV      4672   N12145  EWR    STL  120       872     20  \n",
       "336762 -21       B6       108   N193JB  JFK    PWM   48       273     22  \n",
       "336763  42       UA       471   N578UA  EWR    SFO  318      2565     21  \n",
       "336764 130       B6      1083   N804JB  JFK    MCO  123       944     20  \n",
       "336765  -8       B6       234   N318JB  JFK    BTV   43       266     22  \n",
       "336766 -17       B6      1816   N354JB  JFK    SYR   41       209     22  \n",
       "336767 -20       B6      2002   N281JB  JFK    BUF   52       301     22  \n",
       "336768 -16       B6       486   N346JB  JFK    ROC   47       264     22  \n",
       "336769   1       B6       718   N565JB  JFK    BOS   33       187     22  \n",
       "336770 -25       B6       745   N516JB  JFK    PSE  196      1617     23  \n",
       "336771  NA       EV      5274   N740EV  LGA    BNA   NA       764     18  \n",
       "336772  NA       9E      3393   NA      JFK    DCA   NA       213     14  \n",
       "336773  NA       9E      3525   NA      LGA    SYR   NA       198     22  \n",
       "336774  NA       MQ      3461   N535MQ  LGA    BNA   NA       764     12  \n",
       "336775  NA       MQ      3572   N511MQ  LGA    CLE   NA       419     11  \n",
       "336776  NA       MQ      3531   N839MQ  LGA    RDU   NA       431      8  \n",
       "       minute time_hour          \n",
       "1      15     2013-01-01 05:00:00\n",
       "2      29     2013-01-01 05:00:00\n",
       "3      40     2013-01-01 05:00:00\n",
       "4      45     2013-01-01 05:00:00\n",
       "5       0     2013-01-01 06:00:00\n",
       "6      58     2013-01-01 05:00:00\n",
       "7       0     2013-01-01 06:00:00\n",
       "8       0     2013-01-01 06:00:00\n",
       "9       0     2013-01-01 06:00:00\n",
       "10      0     2013-01-01 06:00:00\n",
       "11      0     2013-01-01 06:00:00\n",
       "12      0     2013-01-01 06:00:00\n",
       "13      0     2013-01-01 06:00:00\n",
       "14      0     2013-01-01 06:00:00\n",
       "15      0     2013-01-01 06:00:00\n",
       "16     59     2013-01-01 05:00:00\n",
       "17      0     2013-01-01 06:00:00\n",
       "18      0     2013-01-01 06:00:00\n",
       "19      0     2013-01-01 06:00:00\n",
       "20      0     2013-01-01 06:00:00\n",
       "21     10     2013-01-01 06:00:00\n",
       "22      5     2013-01-01 06:00:00\n",
       "23     10     2013-01-01 06:00:00\n",
       "24     10     2013-01-01 06:00:00\n",
       "25      7     2013-01-01 06:00:00\n",
       "26      0     2013-01-01 06:00:00\n",
       "27      0     2013-01-01 06:00:00\n",
       "28     10     2013-01-01 06:00:00\n",
       "29     15     2013-01-01 06:00:00\n",
       "30     15     2013-01-01 06:00:00\n",
       "⋮      ⋮      ⋮                  \n",
       "336747 25     2013-09-30 21:00:00\n",
       "336748 29     2013-09-30 21:00:00\n",
       "336749 30     2013-09-30 21:00:00\n",
       "336750 59     2013-09-30 20:00:00\n",
       "336751 40     2013-09-30 21:00:00\n",
       "336752 40     2013-09-30 21:00:00\n",
       "336753 29     2013-09-30 21:00:00\n",
       "336754 45     2013-09-30 21:00:00\n",
       "336755 37     2013-09-30 21:00:00\n",
       "336756 56     2013-09-30 21:00:00\n",
       "336757 59     2013-09-30 21:00:00\n",
       "336758 45     2013-09-30 18:00:00\n",
       "336759  5     2013-09-30 22:00:00\n",
       "336760 40     2013-09-30 21:00:00\n",
       "336761 59     2013-09-30 20:00:00\n",
       "336762 45     2013-09-30 22:00:00\n",
       "336763 13     2013-09-30 21:00:00\n",
       "336764  1     2013-09-30 20:00:00\n",
       "336765 45     2013-09-30 22:00:00\n",
       "336766 45     2013-09-30 22:00:00\n",
       "336767 50     2013-09-30 22:00:00\n",
       "336768 46     2013-09-30 22:00:00\n",
       "336769 55     2013-09-30 22:00:00\n",
       "336770 59     2013-09-30 23:00:00\n",
       "336771 42     2013-09-30 18:00:00\n",
       "336772 55     2013-09-30 14:00:00\n",
       "336773  0     2013-09-30 22:00:00\n",
       "336774 10     2013-09-30 12:00:00\n",
       "336775 59     2013-09-30 11:00:00\n",
       "336776 40     2013-09-30 08:00:00"
      ]
     },
     "metadata": {},
     "output_type": "display_data"
    }
   ],
   "source": [
    "flights"
   ]
  },
  {
   "cell_type": "code",
   "execution_count": 10,
   "metadata": {},
   "outputs": [
    {
     "name": "stderr",
     "output_type": "stream",
     "text": [
      "`summarise()` regrouping output by 'carrier' (override with `.groups` argument)\n",
      "\n"
     ]
    },
    {
     "data": {
      "text/html": [
       "<table>\n",
       "<caption>A grouped_df: 185 × 3</caption>\n",
       "<thead>\n",
       "\t<tr><th scope=col>carrier</th><th scope=col>month</th><th scope=col>delay</th></tr>\n",
       "\t<tr><th scope=col>&lt;chr&gt;</th><th scope=col>&lt;int&gt;</th><th scope=col>&lt;dbl&gt;</th></tr>\n",
       "</thead>\n",
       "<tbody>\n",
       "\t<tr><td>OO</td><td> 1</td><td>67.00000</td></tr>\n",
       "\t<tr><td>OO</td><td> 8</td><td>64.00000</td></tr>\n",
       "\t<tr><td>OO</td><td> 6</td><td>61.00000</td></tr>\n",
       "\t<tr><td>HA</td><td> 1</td><td>54.38710</td></tr>\n",
       "\t<tr><td>YV</td><td> 6</td><td>42.79487</td></tr>\n",
       "\t<tr><td>FL</td><td> 7</td><td>41.16270</td></tr>\n",
       "\t<tr><td>FL</td><td> 6</td><td>38.80658</td></tr>\n",
       "\t<tr><td>F9</td><td> 5</td><td>35.94828</td></tr>\n",
       "\t<tr><td>VX</td><td> 7</td><td>35.26337</td></tr>\n",
       "\t<tr><td>YV</td><td> 3</td><td>31.88889</td></tr>\n",
       "\t<tr><td>F9</td><td> 7</td><td>31.81034</td></tr>\n",
       "\t<tr><td>9E</td><td> 7</td><td>31.39883</td></tr>\n",
       "\t<tr><td>WN</td><td> 6</td><td>30.51473</td></tr>\n",
       "\t<tr><td>F9</td><td> 2</td><td>29.77083</td></tr>\n",
       "\t<tr><td>F9</td><td> 6</td><td>29.43636</td></tr>\n",
       "\t<tr><td>9E</td><td> 6</td><td>28.95298</td></tr>\n",
       "\t<tr><td>VX</td><td> 6</td><td>28.41250</td></tr>\n",
       "\t<tr><td>EV</td><td>12</td><td>27.88718</td></tr>\n",
       "\t<tr><td>YV</td><td> 4</td><td>27.11111</td></tr>\n",
       "\t<tr><td>EV</td><td> 7</td><td>26.50472</td></tr>\n",
       "\t<tr><td>EV</td><td> 3</td><td>26.16982</td></tr>\n",
       "\t<tr><td>FL</td><td>12</td><td>26.10577</td></tr>\n",
       "\t<tr><td>EV</td><td> 6</td><td>25.49683</td></tr>\n",
       "\t<tr><td>B6</td><td> 7</td><td>24.90232</td></tr>\n",
       "\t<tr><td>WN</td><td>12</td><td>24.89479</td></tr>\n",
       "\t<tr><td>F9</td><td> 4</td><td>24.63158</td></tr>\n",
       "\t<tr><td>WN</td><td> 7</td><td>24.62817</td></tr>\n",
       "\t<tr><td>EV</td><td> 1</td><td>24.22888</td></tr>\n",
       "\t<tr><td>FL</td><td> 8</td><td>23.41016</td></tr>\n",
       "\t<tr><td>EV</td><td> 4</td><td>22.76755</td></tr>\n",
       "\t<tr><td>⋮</td><td>⋮</td><td>⋮</td></tr>\n",
       "\t<tr><td>AA</td><td>11</td><td> 3.1020328</td></tr>\n",
       "\t<tr><td>AS</td><td>11</td><td> 3.0769231</td></tr>\n",
       "\t<tr><td>AA</td><td>10</td><td> 3.0022173</td></tr>\n",
       "\t<tr><td>B6</td><td>10</td><td> 2.9630649</td></tr>\n",
       "\t<tr><td>AS</td><td> 8</td><td> 2.8709677</td></tr>\n",
       "\t<tr><td>DL</td><td>11</td><td> 2.8539121</td></tr>\n",
       "\t<tr><td>US</td><td> 3</td><td> 2.7226942</td></tr>\n",
       "\t<tr><td>AS</td><td> 7</td><td> 2.4193548</td></tr>\n",
       "\t<tr><td>FL</td><td> 1</td><td> 1.9722222</td></tr>\n",
       "\t<tr><td>US</td><td> 9</td><td> 1.9625830</td></tr>\n",
       "\t<tr><td>US</td><td> 1</td><td> 1.8173633</td></tr>\n",
       "\t<tr><td>HA</td><td> 8</td><td> 1.6774194</td></tr>\n",
       "\t<tr><td>HA</td><td> 6</td><td> 1.4666667</td></tr>\n",
       "\t<tr><td>HA</td><td> 3</td><td> 1.1612903</td></tr>\n",
       "\t<tr><td>VX</td><td> 1</td><td> 1.0634921</td></tr>\n",
       "\t<tr><td>US</td><td> 2</td><td> 0.9801642</td></tr>\n",
       "\t<tr><td>OO</td><td>11</td><td> 0.8000000</td></tr>\n",
       "\t<tr><td>AS</td><td> 2</td><td> 0.7222222</td></tr>\n",
       "\t<tr><td>AS</td><td>10</td><td> 0.6774194</td></tr>\n",
       "\t<tr><td>US</td><td>11</td><td> 0.5761391</td></tr>\n",
       "\t<tr><td>US</td><td>10</td><td> 0.1410468</td></tr>\n",
       "\t<tr><td>HA</td><td> 5</td><td>-1.4516129</td></tr>\n",
       "\t<tr><td>HA</td><td> 7</td><td>-1.7096774</td></tr>\n",
       "\t<tr><td>HA</td><td> 4</td><td>-2.1000000</td></tr>\n",
       "\t<tr><td>HA</td><td>12</td><td>-3.1428571</td></tr>\n",
       "\t<tr><td>AS</td><td> 9</td><td>-4.5166667</td></tr>\n",
       "\t<tr><td>OO</td><td> 9</td><td>-4.9411765</td></tr>\n",
       "\t<tr><td>HA</td><td>10</td><td>-5.0952381</td></tr>\n",
       "\t<tr><td>HA</td><td> 9</td><td>-5.4400000</td></tr>\n",
       "\t<tr><td>HA</td><td>11</td><td>-5.4400000</td></tr>\n",
       "</tbody>\n",
       "</table>\n"
      ],
      "text/latex": [
       "A grouped\\_df: 185 × 3\n",
       "\\begin{tabular}{lll}\n",
       " carrier & month & delay\\\\\n",
       " <chr> & <int> & <dbl>\\\\\n",
       "\\hline\n",
       "\t OO &  1 & 67.00000\\\\\n",
       "\t OO &  8 & 64.00000\\\\\n",
       "\t OO &  6 & 61.00000\\\\\n",
       "\t HA &  1 & 54.38710\\\\\n",
       "\t YV &  6 & 42.79487\\\\\n",
       "\t FL &  7 & 41.16270\\\\\n",
       "\t FL &  6 & 38.80658\\\\\n",
       "\t F9 &  5 & 35.94828\\\\\n",
       "\t VX &  7 & 35.26337\\\\\n",
       "\t YV &  3 & 31.88889\\\\\n",
       "\t F9 &  7 & 31.81034\\\\\n",
       "\t 9E &  7 & 31.39883\\\\\n",
       "\t WN &  6 & 30.51473\\\\\n",
       "\t F9 &  2 & 29.77083\\\\\n",
       "\t F9 &  6 & 29.43636\\\\\n",
       "\t 9E &  6 & 28.95298\\\\\n",
       "\t VX &  6 & 28.41250\\\\\n",
       "\t EV & 12 & 27.88718\\\\\n",
       "\t YV &  4 & 27.11111\\\\\n",
       "\t EV &  7 & 26.50472\\\\\n",
       "\t EV &  3 & 26.16982\\\\\n",
       "\t FL & 12 & 26.10577\\\\\n",
       "\t EV &  6 & 25.49683\\\\\n",
       "\t B6 &  7 & 24.90232\\\\\n",
       "\t WN & 12 & 24.89479\\\\\n",
       "\t F9 &  4 & 24.63158\\\\\n",
       "\t WN &  7 & 24.62817\\\\\n",
       "\t EV &  1 & 24.22888\\\\\n",
       "\t FL &  8 & 23.41016\\\\\n",
       "\t EV &  4 & 22.76755\\\\\n",
       "\t ⋮ & ⋮ & ⋮\\\\\n",
       "\t AA & 11 &  3.1020328\\\\\n",
       "\t AS & 11 &  3.0769231\\\\\n",
       "\t AA & 10 &  3.0022173\\\\\n",
       "\t B6 & 10 &  2.9630649\\\\\n",
       "\t AS &  8 &  2.8709677\\\\\n",
       "\t DL & 11 &  2.8539121\\\\\n",
       "\t US &  3 &  2.7226942\\\\\n",
       "\t AS &  7 &  2.4193548\\\\\n",
       "\t FL &  1 &  1.9722222\\\\\n",
       "\t US &  9 &  1.9625830\\\\\n",
       "\t US &  1 &  1.8173633\\\\\n",
       "\t HA &  8 &  1.6774194\\\\\n",
       "\t HA &  6 &  1.4666667\\\\\n",
       "\t HA &  3 &  1.1612903\\\\\n",
       "\t VX &  1 &  1.0634921\\\\\n",
       "\t US &  2 &  0.9801642\\\\\n",
       "\t OO & 11 &  0.8000000\\\\\n",
       "\t AS &  2 &  0.7222222\\\\\n",
       "\t AS & 10 &  0.6774194\\\\\n",
       "\t US & 11 &  0.5761391\\\\\n",
       "\t US & 10 &  0.1410468\\\\\n",
       "\t HA &  5 & -1.4516129\\\\\n",
       "\t HA &  7 & -1.7096774\\\\\n",
       "\t HA &  4 & -2.1000000\\\\\n",
       "\t HA & 12 & -3.1428571\\\\\n",
       "\t AS &  9 & -4.5166667\\\\\n",
       "\t OO &  9 & -4.9411765\\\\\n",
       "\t HA & 10 & -5.0952381\\\\\n",
       "\t HA &  9 & -5.4400000\\\\\n",
       "\t HA & 11 & -5.4400000\\\\\n",
       "\\end{tabular}\n"
      ],
      "text/markdown": [
       "\n",
       "A grouped_df: 185 × 3\n",
       "\n",
       "| carrier &lt;chr&gt; | month &lt;int&gt; | delay &lt;dbl&gt; |\n",
       "|---|---|---|\n",
       "| OO |  1 | 67.00000 |\n",
       "| OO |  8 | 64.00000 |\n",
       "| OO |  6 | 61.00000 |\n",
       "| HA |  1 | 54.38710 |\n",
       "| YV |  6 | 42.79487 |\n",
       "| FL |  7 | 41.16270 |\n",
       "| FL |  6 | 38.80658 |\n",
       "| F9 |  5 | 35.94828 |\n",
       "| VX |  7 | 35.26337 |\n",
       "| YV |  3 | 31.88889 |\n",
       "| F9 |  7 | 31.81034 |\n",
       "| 9E |  7 | 31.39883 |\n",
       "| WN |  6 | 30.51473 |\n",
       "| F9 |  2 | 29.77083 |\n",
       "| F9 |  6 | 29.43636 |\n",
       "| 9E |  6 | 28.95298 |\n",
       "| VX |  6 | 28.41250 |\n",
       "| EV | 12 | 27.88718 |\n",
       "| YV |  4 | 27.11111 |\n",
       "| EV |  7 | 26.50472 |\n",
       "| EV |  3 | 26.16982 |\n",
       "| FL | 12 | 26.10577 |\n",
       "| EV |  6 | 25.49683 |\n",
       "| B6 |  7 | 24.90232 |\n",
       "| WN | 12 | 24.89479 |\n",
       "| F9 |  4 | 24.63158 |\n",
       "| WN |  7 | 24.62817 |\n",
       "| EV |  1 | 24.22888 |\n",
       "| FL |  8 | 23.41016 |\n",
       "| EV |  4 | 22.76755 |\n",
       "| ⋮ | ⋮ | ⋮ |\n",
       "| AA | 11 |  3.1020328 |\n",
       "| AS | 11 |  3.0769231 |\n",
       "| AA | 10 |  3.0022173 |\n",
       "| B6 | 10 |  2.9630649 |\n",
       "| AS |  8 |  2.8709677 |\n",
       "| DL | 11 |  2.8539121 |\n",
       "| US |  3 |  2.7226942 |\n",
       "| AS |  7 |  2.4193548 |\n",
       "| FL |  1 |  1.9722222 |\n",
       "| US |  9 |  1.9625830 |\n",
       "| US |  1 |  1.8173633 |\n",
       "| HA |  8 |  1.6774194 |\n",
       "| HA |  6 |  1.4666667 |\n",
       "| HA |  3 |  1.1612903 |\n",
       "| VX |  1 |  1.0634921 |\n",
       "| US |  2 |  0.9801642 |\n",
       "| OO | 11 |  0.8000000 |\n",
       "| AS |  2 |  0.7222222 |\n",
       "| AS | 10 |  0.6774194 |\n",
       "| US | 11 |  0.5761391 |\n",
       "| US | 10 |  0.1410468 |\n",
       "| HA |  5 | -1.4516129 |\n",
       "| HA |  7 | -1.7096774 |\n",
       "| HA |  4 | -2.1000000 |\n",
       "| HA | 12 | -3.1428571 |\n",
       "| AS |  9 | -4.5166667 |\n",
       "| OO |  9 | -4.9411765 |\n",
       "| HA | 10 | -5.0952381 |\n",
       "| HA |  9 | -5.4400000 |\n",
       "| HA | 11 | -5.4400000 |\n",
       "\n"
      ],
      "text/plain": [
       "    carrier month delay     \n",
       "1   OO       1    67.00000  \n",
       "2   OO       8    64.00000  \n",
       "3   OO       6    61.00000  \n",
       "4   HA       1    54.38710  \n",
       "5   YV       6    42.79487  \n",
       "6   FL       7    41.16270  \n",
       "7   FL       6    38.80658  \n",
       "8   F9       5    35.94828  \n",
       "9   VX       7    35.26337  \n",
       "10  YV       3    31.88889  \n",
       "11  F9       7    31.81034  \n",
       "12  9E       7    31.39883  \n",
       "13  WN       6    30.51473  \n",
       "14  F9       2    29.77083  \n",
       "15  F9       6    29.43636  \n",
       "16  9E       6    28.95298  \n",
       "17  VX       6    28.41250  \n",
       "18  EV      12    27.88718  \n",
       "19  YV       4    27.11111  \n",
       "20  EV       7    26.50472  \n",
       "21  EV       3    26.16982  \n",
       "22  FL      12    26.10577  \n",
       "23  EV       6    25.49683  \n",
       "24  B6       7    24.90232  \n",
       "25  WN      12    24.89479  \n",
       "26  F9       4    24.63158  \n",
       "27  WN       7    24.62817  \n",
       "28  EV       1    24.22888  \n",
       "29  FL       8    23.41016  \n",
       "30  EV       4    22.76755  \n",
       "⋮   ⋮       ⋮     ⋮         \n",
       "156 AA      11     3.1020328\n",
       "157 AS      11     3.0769231\n",
       "158 AA      10     3.0022173\n",
       "159 B6      10     2.9630649\n",
       "160 AS       8     2.8709677\n",
       "161 DL      11     2.8539121\n",
       "162 US       3     2.7226942\n",
       "163 AS       7     2.4193548\n",
       "164 FL       1     1.9722222\n",
       "165 US       9     1.9625830\n",
       "166 US       1     1.8173633\n",
       "167 HA       8     1.6774194\n",
       "168 HA       6     1.4666667\n",
       "169 HA       3     1.1612903\n",
       "170 VX       1     1.0634921\n",
       "171 US       2     0.9801642\n",
       "172 OO      11     0.8000000\n",
       "173 AS       2     0.7222222\n",
       "174 AS      10     0.6774194\n",
       "175 US      11     0.5761391\n",
       "176 US      10     0.1410468\n",
       "177 HA       5    -1.4516129\n",
       "178 HA       7    -1.7096774\n",
       "179 HA       4    -2.1000000\n",
       "180 HA      12    -3.1428571\n",
       "181 AS       9    -4.5166667\n",
       "182 OO       9    -4.9411765\n",
       "183 HA      10    -5.0952381\n",
       "184 HA       9    -5.4400000\n",
       "185 HA      11    -5.4400000"
      ]
     },
     "metadata": {},
     "output_type": "display_data"
    }
   ],
   "source": [
    "flights %>% \n",
    "group_by(carrier, month) %>%\n",
    "summarise(delay = mean(dep_delay, na.rm = TRUE)) %>% \n",
    "arrange(desc(delay))"
   ]
  },
  {
   "cell_type": "code",
   "execution_count": 6,
   "metadata": {},
   "outputs": [
    {
     "name": "stderr",
     "output_type": "stream",
     "text": [
      "`summarise()` regrouping output by 'month' (override with `.groups` argument)\n",
      "\n"
     ]
    },
    {
     "data": {
      "text/html": [
       "<table>\n",
       "<caption>A grouped_df: 365 × 3</caption>\n",
       "<thead>\n",
       "\t<tr><th scope=col>month</th><th scope=col>day</th><th scope=col>delay</th></tr>\n",
       "\t<tr><th scope=col>&lt;int&gt;</th><th scope=col>&lt;int&gt;</th><th scope=col>&lt;dbl&gt;</th></tr>\n",
       "</thead>\n",
       "<tbody>\n",
       "\t<tr><td> 3</td><td> 8</td><td>83.53692</td></tr>\n",
       "\t<tr><td> 7</td><td> 1</td><td>56.23383</td></tr>\n",
       "\t<tr><td> 9</td><td> 2</td><td>53.02955</td></tr>\n",
       "\t<tr><td> 7</td><td>10</td><td>52.86070</td></tr>\n",
       "\t<tr><td>12</td><td> 5</td><td>52.32799</td></tr>\n",
       "\t<tr><td> 5</td><td>23</td><td>51.14472</td></tr>\n",
       "\t<tr><td> 9</td><td>12</td><td>49.95875</td></tr>\n",
       "\t<tr><td> 6</td><td>28</td><td>48.82778</td></tr>\n",
       "\t<tr><td> 6</td><td>24</td><td>47.15742</td></tr>\n",
       "\t<tr><td> 7</td><td>22</td><td>46.66705</td></tr>\n",
       "\t<tr><td> 4</td><td>19</td><td>46.12783</td></tr>\n",
       "\t<tr><td> 6</td><td>13</td><td>45.79083</td></tr>\n",
       "\t<tr><td> 7</td><td>23</td><td>44.74169</td></tr>\n",
       "\t<tr><td> 6</td><td>30</td><td>44.18818</td></tr>\n",
       "\t<tr><td> 8</td><td> 8</td><td>43.34995</td></tr>\n",
       "\t<tr><td> 5</td><td> 8</td><td>43.21778</td></tr>\n",
       "\t<tr><td> 6</td><td>25</td><td>43.06303</td></tr>\n",
       "\t<tr><td> 6</td><td>27</td><td>40.89123</td></tr>\n",
       "\t<tr><td>12</td><td>17</td><td>40.70560</td></tr>\n",
       "\t<tr><td> 8</td><td>28</td><td>40.52689</td></tr>\n",
       "\t<tr><td>10</td><td> 7</td><td>39.14671</td></tr>\n",
       "\t<tr><td> 2</td><td>11</td><td>39.07360</td></tr>\n",
       "\t<tr><td> 2</td><td>27</td><td>37.76327</td></tr>\n",
       "\t<tr><td> 7</td><td>28</td><td>37.71016</td></tr>\n",
       "\t<tr><td> 7</td><td> 8</td><td>37.29665</td></tr>\n",
       "\t<tr><td> 7</td><td> 7</td><td>36.61745</td></tr>\n",
       "\t<tr><td> 6</td><td>18</td><td>35.95077</td></tr>\n",
       "\t<tr><td> 4</td><td>18</td><td>34.91536</td></tr>\n",
       "\t<tr><td> 4</td><td>12</td><td>34.83843</td></tr>\n",
       "\t<tr><td>12</td><td> 9</td><td>34.80022</td></tr>\n",
       "\t<tr><td>⋮</td><td>⋮</td><td>⋮</td></tr>\n",
       "\t<tr><td>11</td><td>16</td><td> 1.69620253</td></tr>\n",
       "\t<tr><td>10</td><td>20</td><td> 1.61092896</td></tr>\n",
       "\t<tr><td> 1</td><td>12</td><td> 1.59649123</td></tr>\n",
       "\t<tr><td> 9</td><td>14</td><td> 1.38888889</td></tr>\n",
       "\t<tr><td>10</td><td>23</td><td> 0.97940268</td></tr>\n",
       "\t<tr><td>10</td><td>21</td><td> 0.95445344</td></tr>\n",
       "\t<tr><td> 9</td><td> 9</td><td> 0.79474216</td></tr>\n",
       "\t<tr><td> 9</td><td>28</td><td> 0.70250368</td></tr>\n",
       "\t<tr><td> 9</td><td> 4</td><td> 0.60233298</td></tr>\n",
       "\t<tr><td>10</td><td>16</td><td> 0.60206186</td></tr>\n",
       "\t<tr><td>11</td><td>15</td><td> 0.58697864</td></tr>\n",
       "\t<tr><td>10</td><td>30</td><td> 0.56553148</td></tr>\n",
       "\t<tr><td> 9</td><td>25</td><td> 0.47412008</td></tr>\n",
       "\t<tr><td>11</td><td> 6</td><td> 0.46376812</td></tr>\n",
       "\t<tr><td>11</td><td>19</td><td> 0.43904959</td></tr>\n",
       "\t<tr><td>11</td><td> 2</td><td> 0.24486804</td></tr>\n",
       "\t<tr><td> 5</td><td>26</td><td> 0.24142661</td></tr>\n",
       "\t<tr><td>11</td><td>29</td><td> 0.14523449</td></tr>\n",
       "\t<tr><td> 1</td><td>15</td><td> 0.12372304</td></tr>\n",
       "\t<tr><td> 9</td><td>17</td><td>-0.09707724</td></tr>\n",
       "\t<tr><td>10</td><td> 1</td><td>-0.09895833</td></tr>\n",
       "\t<tr><td>10</td><td>19</td><td>-0.10703812</td></tr>\n",
       "\t<tr><td>11</td><td> 5</td><td>-0.18314256</td></tr>\n",
       "\t<tr><td> 9</td><td> 7</td><td>-0.25036390</td></tr>\n",
       "\t<tr><td>10</td><td>29</td><td>-0.34932221</td></tr>\n",
       "\t<tr><td> 9</td><td> 5</td><td>-0.38779731</td></tr>\n",
       "\t<tr><td> 9</td><td> 6</td><td>-0.39792746</td></tr>\n",
       "\t<tr><td>11</td><td> 9</td><td>-0.62885154</td></tr>\n",
       "\t<tr><td>10</td><td> 2</td><td>-0.91991786</td></tr>\n",
       "\t<tr><td> 9</td><td>24</td><td>-1.32983193</td></tr>\n",
       "</tbody>\n",
       "</table>\n"
      ],
      "text/latex": [
       "A grouped\\_df: 365 × 3\n",
       "\\begin{tabular}{lll}\n",
       " month & day & delay\\\\\n",
       " <int> & <int> & <dbl>\\\\\n",
       "\\hline\n",
       "\t  3 &  8 & 83.53692\\\\\n",
       "\t  7 &  1 & 56.23383\\\\\n",
       "\t  9 &  2 & 53.02955\\\\\n",
       "\t  7 & 10 & 52.86070\\\\\n",
       "\t 12 &  5 & 52.32799\\\\\n",
       "\t  5 & 23 & 51.14472\\\\\n",
       "\t  9 & 12 & 49.95875\\\\\n",
       "\t  6 & 28 & 48.82778\\\\\n",
       "\t  6 & 24 & 47.15742\\\\\n",
       "\t  7 & 22 & 46.66705\\\\\n",
       "\t  4 & 19 & 46.12783\\\\\n",
       "\t  6 & 13 & 45.79083\\\\\n",
       "\t  7 & 23 & 44.74169\\\\\n",
       "\t  6 & 30 & 44.18818\\\\\n",
       "\t  8 &  8 & 43.34995\\\\\n",
       "\t  5 &  8 & 43.21778\\\\\n",
       "\t  6 & 25 & 43.06303\\\\\n",
       "\t  6 & 27 & 40.89123\\\\\n",
       "\t 12 & 17 & 40.70560\\\\\n",
       "\t  8 & 28 & 40.52689\\\\\n",
       "\t 10 &  7 & 39.14671\\\\\n",
       "\t  2 & 11 & 39.07360\\\\\n",
       "\t  2 & 27 & 37.76327\\\\\n",
       "\t  7 & 28 & 37.71016\\\\\n",
       "\t  7 &  8 & 37.29665\\\\\n",
       "\t  7 &  7 & 36.61745\\\\\n",
       "\t  6 & 18 & 35.95077\\\\\n",
       "\t  4 & 18 & 34.91536\\\\\n",
       "\t  4 & 12 & 34.83843\\\\\n",
       "\t 12 &  9 & 34.80022\\\\\n",
       "\t ⋮ & ⋮ & ⋮\\\\\n",
       "\t 11 & 16 &  1.69620253\\\\\n",
       "\t 10 & 20 &  1.61092896\\\\\n",
       "\t  1 & 12 &  1.59649123\\\\\n",
       "\t  9 & 14 &  1.38888889\\\\\n",
       "\t 10 & 23 &  0.97940268\\\\\n",
       "\t 10 & 21 &  0.95445344\\\\\n",
       "\t  9 &  9 &  0.79474216\\\\\n",
       "\t  9 & 28 &  0.70250368\\\\\n",
       "\t  9 &  4 &  0.60233298\\\\\n",
       "\t 10 & 16 &  0.60206186\\\\\n",
       "\t 11 & 15 &  0.58697864\\\\\n",
       "\t 10 & 30 &  0.56553148\\\\\n",
       "\t  9 & 25 &  0.47412008\\\\\n",
       "\t 11 &  6 &  0.46376812\\\\\n",
       "\t 11 & 19 &  0.43904959\\\\\n",
       "\t 11 &  2 &  0.24486804\\\\\n",
       "\t  5 & 26 &  0.24142661\\\\\n",
       "\t 11 & 29 &  0.14523449\\\\\n",
       "\t  1 & 15 &  0.12372304\\\\\n",
       "\t  9 & 17 & -0.09707724\\\\\n",
       "\t 10 &  1 & -0.09895833\\\\\n",
       "\t 10 & 19 & -0.10703812\\\\\n",
       "\t 11 &  5 & -0.18314256\\\\\n",
       "\t  9 &  7 & -0.25036390\\\\\n",
       "\t 10 & 29 & -0.34932221\\\\\n",
       "\t  9 &  5 & -0.38779731\\\\\n",
       "\t  9 &  6 & -0.39792746\\\\\n",
       "\t 11 &  9 & -0.62885154\\\\\n",
       "\t 10 &  2 & -0.91991786\\\\\n",
       "\t  9 & 24 & -1.32983193\\\\\n",
       "\\end{tabular}\n"
      ],
      "text/markdown": [
       "\n",
       "A grouped_df: 365 × 3\n",
       "\n",
       "| month &lt;int&gt; | day &lt;int&gt; | delay &lt;dbl&gt; |\n",
       "|---|---|---|\n",
       "|  3 |  8 | 83.53692 |\n",
       "|  7 |  1 | 56.23383 |\n",
       "|  9 |  2 | 53.02955 |\n",
       "|  7 | 10 | 52.86070 |\n",
       "| 12 |  5 | 52.32799 |\n",
       "|  5 | 23 | 51.14472 |\n",
       "|  9 | 12 | 49.95875 |\n",
       "|  6 | 28 | 48.82778 |\n",
       "|  6 | 24 | 47.15742 |\n",
       "|  7 | 22 | 46.66705 |\n",
       "|  4 | 19 | 46.12783 |\n",
       "|  6 | 13 | 45.79083 |\n",
       "|  7 | 23 | 44.74169 |\n",
       "|  6 | 30 | 44.18818 |\n",
       "|  8 |  8 | 43.34995 |\n",
       "|  5 |  8 | 43.21778 |\n",
       "|  6 | 25 | 43.06303 |\n",
       "|  6 | 27 | 40.89123 |\n",
       "| 12 | 17 | 40.70560 |\n",
       "|  8 | 28 | 40.52689 |\n",
       "| 10 |  7 | 39.14671 |\n",
       "|  2 | 11 | 39.07360 |\n",
       "|  2 | 27 | 37.76327 |\n",
       "|  7 | 28 | 37.71016 |\n",
       "|  7 |  8 | 37.29665 |\n",
       "|  7 |  7 | 36.61745 |\n",
       "|  6 | 18 | 35.95077 |\n",
       "|  4 | 18 | 34.91536 |\n",
       "|  4 | 12 | 34.83843 |\n",
       "| 12 |  9 | 34.80022 |\n",
       "| ⋮ | ⋮ | ⋮ |\n",
       "| 11 | 16 |  1.69620253 |\n",
       "| 10 | 20 |  1.61092896 |\n",
       "|  1 | 12 |  1.59649123 |\n",
       "|  9 | 14 |  1.38888889 |\n",
       "| 10 | 23 |  0.97940268 |\n",
       "| 10 | 21 |  0.95445344 |\n",
       "|  9 |  9 |  0.79474216 |\n",
       "|  9 | 28 |  0.70250368 |\n",
       "|  9 |  4 |  0.60233298 |\n",
       "| 10 | 16 |  0.60206186 |\n",
       "| 11 | 15 |  0.58697864 |\n",
       "| 10 | 30 |  0.56553148 |\n",
       "|  9 | 25 |  0.47412008 |\n",
       "| 11 |  6 |  0.46376812 |\n",
       "| 11 | 19 |  0.43904959 |\n",
       "| 11 |  2 |  0.24486804 |\n",
       "|  5 | 26 |  0.24142661 |\n",
       "| 11 | 29 |  0.14523449 |\n",
       "|  1 | 15 |  0.12372304 |\n",
       "|  9 | 17 | -0.09707724 |\n",
       "| 10 |  1 | -0.09895833 |\n",
       "| 10 | 19 | -0.10703812 |\n",
       "| 11 |  5 | -0.18314256 |\n",
       "|  9 |  7 | -0.25036390 |\n",
       "| 10 | 29 | -0.34932221 |\n",
       "|  9 |  5 | -0.38779731 |\n",
       "|  9 |  6 | -0.39792746 |\n",
       "| 11 |  9 | -0.62885154 |\n",
       "| 10 |  2 | -0.91991786 |\n",
       "|  9 | 24 | -1.32983193 |\n",
       "\n"
      ],
      "text/plain": [
       "    month day delay      \n",
       "1    3     8  83.53692   \n",
       "2    7     1  56.23383   \n",
       "3    9     2  53.02955   \n",
       "4    7    10  52.86070   \n",
       "5   12     5  52.32799   \n",
       "6    5    23  51.14472   \n",
       "7    9    12  49.95875   \n",
       "8    6    28  48.82778   \n",
       "9    6    24  47.15742   \n",
       "10   7    22  46.66705   \n",
       "11   4    19  46.12783   \n",
       "12   6    13  45.79083   \n",
       "13   7    23  44.74169   \n",
       "14   6    30  44.18818   \n",
       "15   8     8  43.34995   \n",
       "16   5     8  43.21778   \n",
       "17   6    25  43.06303   \n",
       "18   6    27  40.89123   \n",
       "19  12    17  40.70560   \n",
       "20   8    28  40.52689   \n",
       "21  10     7  39.14671   \n",
       "22   2    11  39.07360   \n",
       "23   2    27  37.76327   \n",
       "24   7    28  37.71016   \n",
       "25   7     8  37.29665   \n",
       "26   7     7  36.61745   \n",
       "27   6    18  35.95077   \n",
       "28   4    18  34.91536   \n",
       "29   4    12  34.83843   \n",
       "30  12     9  34.80022   \n",
       "⋮   ⋮     ⋮   ⋮          \n",
       "336 11    16   1.69620253\n",
       "337 10    20   1.61092896\n",
       "338  1    12   1.59649123\n",
       "339  9    14   1.38888889\n",
       "340 10    23   0.97940268\n",
       "341 10    21   0.95445344\n",
       "342  9     9   0.79474216\n",
       "343  9    28   0.70250368\n",
       "344  9     4   0.60233298\n",
       "345 10    16   0.60206186\n",
       "346 11    15   0.58697864\n",
       "347 10    30   0.56553148\n",
       "348  9    25   0.47412008\n",
       "349 11     6   0.46376812\n",
       "350 11    19   0.43904959\n",
       "351 11     2   0.24486804\n",
       "352  5    26   0.24142661\n",
       "353 11    29   0.14523449\n",
       "354  1    15   0.12372304\n",
       "355  9    17  -0.09707724\n",
       "356 10     1  -0.09895833\n",
       "357 10    19  -0.10703812\n",
       "358 11     5  -0.18314256\n",
       "359  9     7  -0.25036390\n",
       "360 10    29  -0.34932221\n",
       "361  9     5  -0.38779731\n",
       "362  9     6  -0.39792746\n",
       "363 11     9  -0.62885154\n",
       "364 10     2  -0.91991786\n",
       "365  9    24  -1.32983193"
      ]
     },
     "metadata": {},
     "output_type": "display_data"
    }
   ],
   "source": [
    "flights %>% \n",
    "group_by(month, day) %>%\n",
    "summarise(delay = mean(dep_delay, na.rm = TRUE)) %>% \n",
    "arrange(desc(delay))"
   ]
  },
  {
   "cell_type": "code",
   "execution_count": null,
   "metadata": {},
   "outputs": [],
   "source": []
  }
 ],
 "metadata": {
  "kernelspec": {
   "display_name": "R",
   "language": "R",
   "name": "ir"
  },
  "language_info": {
   "codemirror_mode": "r",
   "file_extension": ".r",
   "mimetype": "text/x-r-source",
   "name": "R",
   "pygments_lexer": "r",
   "version": "3.6.3"
  }
 },
 "nbformat": 4,
 "nbformat_minor": 4
}
