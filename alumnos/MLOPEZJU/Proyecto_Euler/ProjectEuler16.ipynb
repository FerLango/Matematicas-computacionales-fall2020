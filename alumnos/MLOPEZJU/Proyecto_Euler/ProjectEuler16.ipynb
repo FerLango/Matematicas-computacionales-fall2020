{
 "cells": [
  {
   "cell_type": "markdown",
   "metadata": {},
   "source": [
    "# Power digit sum\n",
    "\n",
    "## María Fernanda López Juárez\n",
    "\n",
    "### 14-Noviembre-2020\n",
    "\n",
    "\n",
    "\n",
    "##### Descripción del problema:\n",
    "\n",
    "\n",
    "2^15 = 32768 y la suma de los dígitos es 3 + 2 + 7 + 6 + 8 = 26.\n",
    "\n",
    "¿Cuál es el valor de la suma de los dígitos de 2^100?"
   ]
  },
  {
   "cell_type": "code",
   "execution_count": 3,
   "metadata": {},
   "outputs": [
    {
     "name": "stdout",
     "output_type": "stream",
     "text": [
      "El valor de la suma de los digitos de 1267650600228229401496703205376 es: 115\n"
     ]
    }
   ],
   "source": [
    "x = 2**100   # Sea x el numero deseado\n",
    "x = str(x)  # Convertimos a x en string para poder iterarlo\n",
    "\n",
    "suma = 0\n",
    "for i in x:\n",
    "    i = int(i)   # Convertimos a entero cada dígito para poder sumarlo\n",
    "    suma += i   # Se acumula la suma\n",
    "    \n",
    "print(\"El valor de la suma de los digitos de\", x, \"es:\", suma) #imprimimos el resultado"
   ]
  },
  {
   "cell_type": "code",
   "execution_count": null,
   "metadata": {},
   "outputs": [],
   "source": []
  }
 ],
 "metadata": {
  "kernelspec": {
   "display_name": "Python 3",
   "language": "python",
   "name": "python3"
  },
  "language_info": {
   "codemirror_mode": {
    "name": "ipython",
    "version": 3
   },
   "file_extension": ".py",
   "mimetype": "text/x-python",
   "name": "python",
   "nbconvert_exporter": "python",
   "pygments_lexer": "ipython3",
   "version": "3.8.5"
  }
 },
 "nbformat": 4,
 "nbformat_minor": 4
}
