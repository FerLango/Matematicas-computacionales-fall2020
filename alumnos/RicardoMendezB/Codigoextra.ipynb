{
 "cells": [
  {
   "cell_type": "markdown",
   "metadata": {},
   "source": [
    "## Galaxias\n",
    "\n",
    "Usando el conjunto galaxies de MASS, que contiene velocidades para 82 planetas.\n",
    "\n",
    "-Hagan histogramas, boxplots y la aproximación de la densidad.\n",
    "\n",
    "-Cambien los anchos de las bandas y expliquen cuál es el mejor?\n",
    "\n",
    "-Elijan el número de gráficas que se requieren para este experimento"
   ]
  },
  {
   "cell_type": "code",
   "execution_count": 1,
   "metadata": {},
   "outputs": [
    {
     "data": {
      "text/html": [
       "<table>\n",
       "<caption>A data.frame: 6 × 1</caption>\n",
       "<thead>\n",
       "\t<tr><th></th><th scope=col>galaxies</th></tr>\n",
       "\t<tr><th></th><th scope=col>&lt;dbl&gt;</th></tr>\n",
       "</thead>\n",
       "<tbody>\n",
       "\t<tr><th scope=row>1</th><td> 9172</td></tr>\n",
       "\t<tr><th scope=row>2</th><td> 9350</td></tr>\n",
       "\t<tr><th scope=row>3</th><td> 9483</td></tr>\n",
       "\t<tr><th scope=row>4</th><td> 9558</td></tr>\n",
       "\t<tr><th scope=row>5</th><td> 9775</td></tr>\n",
       "\t<tr><th scope=row>6</th><td>10227</td></tr>\n",
       "</tbody>\n",
       "</table>\n"
      ],
      "text/latex": [
       "A data.frame: 6 × 1\n",
       "\\begin{tabular}{r|l}\n",
       "  & galaxies\\\\\n",
       "  & <dbl>\\\\\n",
       "\\hline\n",
       "\t1 &  9172\\\\\n",
       "\t2 &  9350\\\\\n",
       "\t3 &  9483\\\\\n",
       "\t4 &  9558\\\\\n",
       "\t5 &  9775\\\\\n",
       "\t6 & 10227\\\\\n",
       "\\end{tabular}\n"
      ],
      "text/markdown": [
       "\n",
       "A data.frame: 6 × 1\n",
       "\n",
       "| <!--/--> | galaxies &lt;dbl&gt; |\n",
       "|---|---|\n",
       "| 1 |  9172 |\n",
       "| 2 |  9350 |\n",
       "| 3 |  9483 |\n",
       "| 4 |  9558 |\n",
       "| 5 |  9775 |\n",
       "| 6 | 10227 |\n",
       "\n"
      ],
      "text/plain": [
       "  galaxies\n",
       "1  9172   \n",
       "2  9350   \n",
       "3  9483   \n",
       "4  9558   \n",
       "5  9775   \n",
       "6 10227   "
      ]
     },
     "metadata": {},
     "output_type": "display_data"
    }
   ],
   "source": [
    "library(MASS)\n",
    "vl <- data.frame(galaxies)\n",
    "head(vl)"
   ]
  },
  {
   "cell_type": "code",
   "execution_count": 2,
   "metadata": {},
   "outputs": [
    {
     "ename": "ERROR",
     "evalue": "Error in ggplot(vl, aes(galaxies)): could not find function \"ggplot\"\n",
     "output_type": "error",
     "traceback": [
      "Error in ggplot(vl, aes(galaxies)): could not find function \"ggplot\"\nTraceback:\n"
     ]
    }
   ],
   "source": [
    "ggplot(vl, aes(galaxies))+geom_histogram(binwidth=300, fill='wheat3')"
   ]
  },
  {
   "cell_type": "code",
   "execution_count": 3,
   "metadata": {},
   "outputs": [
    {
     "name": "stderr",
     "output_type": "stream",
     "text": [
      "\n",
      "Attaching package: ‘dplyr’\n",
      "\n",
      "\n",
      "The following object is masked from ‘package:MASS’:\n",
      "\n",
      "    select\n",
      "\n",
      "\n",
      "The following objects are masked from ‘package:stats’:\n",
      "\n",
      "    filter, lag\n",
      "\n",
      "\n",
      "The following objects are masked from ‘package:base’:\n",
      "\n",
      "    intersect, setdiff, setequal, union\n",
      "\n",
      "\n"
     ]
    },
    {
     "data": {
      "image/png": "[encoded data removed]",
      "text/plain": [
       "plot without title"
      ]
     },
     "metadata": {
      "image/png": {
       "height": 420,
       "width": 420
      }
     },
     "output_type": "display_data"
    }
   ],
   "source": [
    "library(dplyr)\n",
    "boxplot(scale(vl), pch=16, outcol=\"red\")"
   ]
  },
  {
   "cell_type": "code",
   "execution_count": 4,
   "metadata": {},
   "outputs": [
    {
     "name": "stderr",
     "output_type": "stream",
     "text": [
      "Updating HTML index of packages in '.Library'\n",
      "\n",
      "Making 'packages.html' ...\n",
      " done\n",
      "\n"
     ]
    }
   ],
   "source": [
    "install.packages('qqplotr')"
   ]
  },
  {
   "cell_type": "code",
   "execution_count": 5,
   "metadata": {},
   "outputs": [
    {
     "name": "stderr",
     "output_type": "stream",
     "text": [
      "Loading required package: ggplot2\n",
      "\n",
      "\n",
      "Attaching package: ‘qqplotr’\n",
      "\n",
      "\n",
      "The following objects are masked from ‘package:ggplot2’:\n",
      "\n",
      "    stat_qq_line, StatQqLine\n",
      "\n",
      "\n"
     ]
    }
   ],
   "source": [
    "library(qqplotr)"
   ]
  },
  {
   "cell_type": "code",
   "execution_count": 6,
   "metadata": {},
   "outputs": [
    {
     "ename": "ERROR",
     "evalue": "Error in `[.data.frame`(x, order(x, na.last = na.last, decreasing = decreasing)): undefined columns selected\n",
     "output_type": "error",
     "traceback": [
      "Error in `[.data.frame`(x, order(x, na.last = na.last, decreasing = decreasing)): undefined columns selected\nTraceback:\n",
      "1. qqplot(vl)",
      "2. sort(x)",
      "3. sort.default(x)",
      "4. x[order(x, na.last = na.last, decreasing = decreasing)]",
      "5. `[.data.frame`(x, order(x, na.last = na.last, decreasing = decreasing))",
      "6. stop(\"undefined columns selected\")"
     ]
    }
   ],
   "source": [
    "qqplot(vl)"
   ]
  },
  {
   "cell_type": "code",
   "execution_count": 7,
   "metadata": {},
   "outputs": [
    {
     "data": {
      "image/png": "[encoded data removed]",
      "text/plain": [
       "Plot with title “Galaxies”"
      ]
     },
     "metadata": {
      "image/png": {
       "height": 420,
       "width": 420
      }
     },
     "output_type": "display_data"
    }
   ],
   "source": [
    "with(vl,{\n",
    "    qqnorm(galaxies, main=\"Galaxies\", xlab=\"\",\n",
    "            ylab=\"\", pch=16, ylim=c(55,80))\n",
    "    qqline(galaxies)})"
   ]
  },
  {
   "cell_type": "code",
   "execution_count": null,
   "metadata": {},
   "outputs": [],
   "source": []
  }
 ],
 "metadata": {
  "kernelspec": {
   "display_name": "R",
   "language": "R",
   "name": "ir"
  },
  "language_info": {
   "codemirror_mode": "r",
   "file_extension": ".r",
   "mimetype": "text/x-r-source",
   "name": "R",
   "pygments_lexer": "r",
   "version": "3.6.3"
  }
 },
 "nbformat": 4,
 "nbformat_minor": 4
}
