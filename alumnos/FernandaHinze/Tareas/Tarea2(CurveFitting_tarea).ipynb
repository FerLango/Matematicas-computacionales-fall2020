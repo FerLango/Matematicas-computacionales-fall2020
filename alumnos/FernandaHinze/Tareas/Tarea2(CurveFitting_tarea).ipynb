{
 "cells": [
  {
   "cell_type": "markdown",
   "metadata": {},
   "source": [
    "# Regresion Lineal"
   ]
  },
  {
   "cell_type": "code",
   "execution_count": 36,
   "metadata": {},
   "outputs": [
    {
     "name": "stdout",
     "output_type": "stream",
     "text": [
      "Populating the interactive namespace from numpy and matplotlib\n"
     ]
    }
   ],
   "source": [
    "#Primero voy a importar lo que voy a usar en los ejercicios.\n",
    "%pylab inline\n",
    "from sympy import *\n",
    "import numpy as np\n",
    "import matplotlib.pyplot as plt\n",
    "from ipywidgets import interact, fixed, widgets"
   ]
  },
  {
   "cell_type": "code",
   "execution_count": 6,
   "metadata": {},
   "outputs": [],
   "source": [
    "#Una vez que ya le+i todo veo que voy a usar regresión lineal para todo, así que decido ponerla de una vez. Lo tomo tal cual de la clase:\n",
    "class RegresionLineal:\n",
    "    def __init__(self, alpha=0.03, max_iters=10000, tols=0.00001):\n",
    "        \"\"\"\n",
    "        Parámetros.\n",
    "        ---------------\n",
    "        alpha = Learning rate\n",
    "        max_iters = Número máximo de iteraciones\n",
    "        tols = definición de convergencia\n",
    "        \"\"\"\n",
    "        self.alpha = alpha\n",
    "        self.max_iters = max_iters\n",
    "        self.tols = tols\n",
    "        self.breaking_iteration = None\n",
    "        self.historia = {'costo':[], 'beta':[]}  # Con fines de graficación\n",
    "        \n",
    "    def gradientDescent(self, x, y):\n",
    "        \"\"\"\n",
    "        Parámetros:\n",
    "        ---------------\n",
    "        x = vector de entrenamiento de features\n",
    "        y = vector de entrenamiento de variable a predecir (target)\n",
    "        \"\"\"    \n",
    "        \n",
    "        # ajustamos el vector de features\n",
    "        unos = np.ones((x.shape[0], 1))\n",
    "        Xt = x.reshape(x.shape[0], 1)\n",
    "        Xt = np.concatenate((unos, Xt), axis=1)\n",
    "        \n",
    "        i = 0\n",
    "        prep_J = 0\n",
    "        m, n = Xt.shape\n",
    "        self.beta = np.zeros(n) \n",
    "        \n",
    "        while i < self.max_iters:     \n",
    "            # Actualizamos beta\n",
    "            self.beta = self.beta - self.alpha * self.gradiente(Xt, y)\n",
    "            \n",
    "            J = self.costo(Xt, y)\n",
    "            \n",
    "            if abs(J - prep_J) <= self.tols:\n",
    "                print('La función convergió con beta: %s en la iteración %i' % ( str(self.beta), i ))\n",
    "                self.breaking_iteration = i\n",
    "                break\n",
    "            else:\n",
    "                prep_J = J\n",
    "            \n",
    "            self.historia['costo'].append(J)\n",
    "            self.historia['beta'].append(self.beta)                \n",
    "            i += 1\n",
    "    \n",
    "    def hipotesis(self, x):\n",
    "        return np.dot(x, self.beta)\n",
    "    \n",
    "    def costo(self, x, y):\n",
    "        m = x.shape[0]\n",
    "        error = self.hipotesis(x) - y\n",
    "        return np.dot(error.T, error) / (2 * m) \n",
    "    \n",
    "    def gradiente(self, x, y):\n",
    "        m = x.shape[0]\n",
    "        error = self.hipotesis(x) - y        \n",
    "        return np.dot(x.T, error) / m"
   ]
  },
  {
   "cell_type": "markdown",
   "metadata": {},
   "source": [
    "## Problema 1"
   ]
  },
  {
   "cell_type": "markdown",
   "metadata": {},
   "source": [
    "**(a)** Usando **SimPy** demostrar que \n",
    "\n",
    "$$\n",
    "\\frac{\\partial}{\\partial \\beta_j} \\textbf{J}(\\beta) = \\frac{1}{m}\\sum_{i=1}^{m}\\left(\\hat{y}(x^{(i)}) - y(x^{(i)})\\right) \\cdot x^{(i)}_j\n",
    "$$\n",
    "Para el caso de $\\beta_0, \\beta_1$ en $J(\\beta_0,\\beta_1)$."
   ]
  },
  {
   "cell_type": "code",
   "execution_count": 40,
   "metadata": {},
   "outputs": [],
   "source": [
    "J = Function('J')\n",
    "m = Symbol('m')\n",
    "i = Symbol('i')\n",
    "b0 = Symbol('beta_0')\n",
    "b1 = Symbol('beta_1')\n",
    "x = Symbol('x')\n",
    "y = Symbol('y')\n",
    "n = Symbol('n')"
   ]
  },
  {
   "cell_type": "code",
   "execution_count": 44,
   "metadata": {},
   "outputs": [
    {
     "data": {
      "text/latex": [
       "$\\displaystyle \\frac{\\sum_{i=1}^{n} \\left(- \\beta_{0} - \\beta_{1} {x}_{i} + {y}_{i}\\right)^{2}}{2 n}$"
      ],
      "text/plain": [
       "Sum((-beta_0 - beta_1*x[i] + y[i])**2, (i, 1, n))/(2*n)"
      ]
     },
     "execution_count": 44,
     "metadata": {},
     "output_type": "execute_result"
    }
   ],
   "source": [
    "J = Sum((Indexed(y,i) - b0 - b1*Indexed(x,i))**2, (i, 1, n))/(2*n) #Por prueba y error me doy cuenta que los paréntesis de el 2*n sí es indispensable\n",
    "J"
   ]
  },
  {
   "cell_type": "code",
   "execution_count": 46,
   "metadata": {},
   "outputs": [
    {
     "data": {
      "text/latex": [
       "$\\displaystyle \\frac{\\sum_{i=1}^{n} \\left(\\beta_{0} + \\beta_{1} {x}_{i} - {y}_{i}\\right)}{n}$"
      ],
      "text/plain": [
       "Sum(beta_0 + beta_1*x[i] - y[i], (i, 1, n))/n"
      ]
     },
     "execution_count": 46,
     "metadata": {},
     "output_type": "execute_result"
    }
   ],
   "source": [
    "Jd = Function('Jd') #Jd de la Derivada de J\n",
    "Jd = simplify(Derivative(Sum((Indexed(y,i) - b0 - b1*Indexed(x,i))**2, (i, 1, n))/(2*n), b0).doit())\n",
    "Jd"
   ]
  },
  {
   "cell_type": "code",
   "execution_count": 47,
   "metadata": {},
   "outputs": [
    {
     "data": {
      "text/latex": [
       "$\\displaystyle \\frac{\\sum_{i=1}^{n} \\left(\\beta_{0} + \\beta_{1} {x}_{i} - {y}_{i}\\right) {x}_{i}}{n}$"
      ],
      "text/plain": [
       "Sum((beta_0 + beta_1*x[i] - y[i])*x[i], (i, 1, n))/n"
      ]
     },
     "execution_count": 47,
     "metadata": {},
     "output_type": "execute_result"
    }
   ],
   "source": [
    "#Reescribo para que coincida excatamente \n",
    "Jr = Function('Jr') #Jr de Reescribir J\n",
    "Jr = simplify(Derivative(J, b1).doit())\n",
    "Jr"
   ]
  },
  {
   "cell_type": "markdown",
   "metadata": {},
   "source": [
    "## Problema 2"
   ]
  },
  {
   "cell_type": "markdown",
   "metadata": {},
   "source": [
    "Usando el ejemplo de la clase ( i.e. Los archivos `edad.dat` y `altura.dat` contienen las mediciones de las estaturas (en metros) de varios niños entre las edad de 2 y 8 años. Cada _tupla_ de altura y edad, constituyen un ejemplo de entrenamiento $(x^{(i)}, y^{(i)})$ de nuestros datos. Hay $m = 50$ datos para entrenar que usaremos para realizar un modelo de regresión lineal. ) :"
   ]
  },
  {
   "cell_type": "markdown",
   "metadata": {},
   "source": [
    "**(a)** Grafique $\\textbf{J}(\\beta)$ del ejercicio en $3D$ y en una gráfica de contorno. \n",
    "\n",
    "**(b)** Indique con un punto el valor de $\\textbf{J}(\\beta)$ en la última iteración.\n",
    "\n",
    "**(c)** Modifique el _widget_ para mostrar conforme pasan las iteraciones como el valor de $\\textbf{J}(\\beta)$ se acerca al mínimo en la gráfica de contorno.\n",
    "\n",
    "**(d)** Agrega al _widget_ un control para modificar $\\alpha$ (habrá que agregar el entrenamiento del modelo a la función que estás realizando para este _widget_)"
   ]
  },
  {
   "cell_type": "markdown",
   "metadata": {},
   "source": [
    "**(a)** Grafique $\\textbf{J}(\\beta)$ del ejercicio en $3D$ y en una gráfica de contorno."
   ]
  },
  {
   "cell_type": "code",
   "execution_count": 57,
   "metadata": {},
   "outputs": [
    {
     "ename": "FileNotFoundError",
     "evalue": "[Errno 2] No such file or directory: 'edad.dat'",
     "output_type": "error",
     "traceback": [
      "\u001b[0;31m---------------------------------------------------------------------------\u001b[0m",
      "\u001b[0;31mFileNotFoundError\u001b[0m                         Traceback (most recent call last)",
      "\u001b[0;32m<ipython-input-57-519d0fd22efb>\u001b[0m in \u001b[0;36m<module>\u001b[0;34m\u001b[0m\n\u001b[0;32m----> 1\u001b[0;31m \u001b[0medad\u001b[0m \u001b[0;34m=\u001b[0m \u001b[0mopen\u001b[0m\u001b[0;34m(\u001b[0m\u001b[0;34m\"edad.dat\"\u001b[0m\u001b[0;34m,\u001b[0m \u001b[0;34m\"r\"\u001b[0m\u001b[0;34m)\u001b[0m\u001b[0;34m\u001b[0m\u001b[0;34m\u001b[0m\u001b[0m\n\u001b[0m\u001b[1;32m      2\u001b[0m \u001b[0mcontenido\u001b[0m \u001b[0;34m=\u001b[0m \u001b[0medad\u001b[0m\u001b[0;34m.\u001b[0m\u001b[0mread\u001b[0m\u001b[0;34m(\u001b[0m\u001b[0;34m)\u001b[0m\u001b[0;34m\u001b[0m\u001b[0;34m\u001b[0m\u001b[0m\n",
      "\u001b[0;31mFileNotFoundError\u001b[0m: [Errno 2] No such file or directory: 'edad.dat'"
     ]
    }
   ],
   "source": [
    "edad = open(\"edad.dat\", \"r\") \n",
    "contenido = edad.read()"
   ]
  },
  {
   "cell_type": "markdown",
   "metadata": {},
   "source": [
    "## Problema 3"
   ]
  },
  {
   "cell_type": "markdown",
   "metadata": {},
   "source": [
    "**(a)**  Usando los datos de `chirps.txt`"
   ]
  },
  {
   "cell_type": "code",
   "execution_count": 4,
   "metadata": {},
   "outputs": [
    {
     "name": "stdout",
     "output_type": "stream",
     "text": [
      "#Chirps/Second \tTemperature (º F)\r\n",
      "20.0 \t88.6\r\n",
      "16.0 \t71.6\r\n",
      "19.8 \t93.3\r\n",
      "18.4 \t84.3\r\n",
      "17.1 \t80.6\r\n",
      "15.5 \t75.2\r\n",
      "14.7 \t69.7\r\n",
      "15.7 \t71.6\r\n",
      "15.4 \t69.4\r\n",
      "16.3 \t83.3\r\n",
      "15.0 \t79.6\r\n",
      "17.2 \t82.6\r\n",
      "16.0 \t80.6\r\n",
      "17.0 \t83.5\r\n",
      "14.4 \t76.3\r\n"
     ]
    }
   ],
   "source": [
    "%cat data/chirps.txt"
   ]
  },
  {
   "cell_type": "markdown",
   "metadata": {},
   "source": [
    "Entrenar una regresión lineal. Grafique los datos y el mejor modelo. Explique como llegó a los valores de $\\alpha$. ¿Coinciden con los mostrados en la página web?"
   ]
  },
  {
   "cell_type": "markdown",
   "metadata": {},
   "source": [
    "\n",
    "**NOTA**: Datos obtenidos de [aquí](http://mathbits.com/MathBits/TISection/Statistics2/linearREAL.htm)\n"
   ]
  },
  {
   "cell_type": "code",
   "execution_count": 34,
   "metadata": {},
   "outputs": [
    {
     "ename": "FileNotFoundError",
     "evalue": "[Errno 2] No such file or directory: 'chirps.txt'",
     "output_type": "error",
     "traceback": [
      "\u001b[0;31m---------------------------------------------------------------------------\u001b[0m",
      "\u001b[0;31mFileNotFoundError\u001b[0m                         Traceback (most recent call last)",
      "\u001b[0;32m<ipython-input-34-8781eef513c2>\u001b[0m in \u001b[0;36m<module>\u001b[0;34m\u001b[0m\n\u001b[1;32m      1\u001b[0m \u001b[0;31m#Primero leo los datos y grafico\u001b[0m\u001b[0;34m\u001b[0m\u001b[0;34m\u001b[0m\u001b[0;34m\u001b[0m\u001b[0m\n\u001b[0;32m----> 2\u001b[0;31m \u001b[0marchivo\u001b[0m \u001b[0;34m=\u001b[0m \u001b[0mopen\u001b[0m\u001b[0;34m(\u001b[0m\u001b[0;34m'chirps.txt'\u001b[0m\u001b[0;34m)\u001b[0m\u001b[0;34m\u001b[0m\u001b[0;34m\u001b[0m\u001b[0m\n\u001b[0m\u001b[1;32m      3\u001b[0m \u001b[0mchirps\u001b[0m \u001b[0;34m=\u001b[0m \u001b[0;34m[\u001b[0m\u001b[0;34m]\u001b[0m\u001b[0;34m\u001b[0m\u001b[0;34m\u001b[0m\u001b[0m\n\u001b[1;32m      4\u001b[0m \u001b[0mtemperatura\u001b[0m \u001b[0;34m=\u001b[0m \u001b[0;34m[\u001b[0m\u001b[0;34m]\u001b[0m\u001b[0;34m\u001b[0m\u001b[0;34m\u001b[0m\u001b[0m\n\u001b[1;32m      5\u001b[0m \u001b[0;34m\u001b[0m\u001b[0m\n",
      "\u001b[0;31mFileNotFoundError\u001b[0m: [Errno 2] No such file or directory: 'chirps.txt'"
     ]
    }
   ],
   "source": [
    "#Primero leo los datos y grafico\n",
    "archivo = open('chirps.txt')\n",
    "chirps = []\n",
    "temperatura = []\n",
    "\n",
    "for fila in archivo:\n",
    "    a = linea.split('\\l')\n",
    "    chirps.append((a[0]))\n",
    "    temperatura.append((a[1]))\n",
    "    \n",
    "#Como se guarda como texto, lo pasamos a número\n",
    "for i in range(len(chirps)):\n",
    "    chirps[i] = float(chirps[i])\n",
    "    temperatura[i] = float(temp[i])\n",
    "    \n",
    "#Para graficar, lo convierto en arreglos\n",
    "X = np.array(chirps)\n",
    "Y = np.array(temperatura)"
   ]
  },
  {
   "cell_type": "code",
   "execution_count": 11,
   "metadata": {},
   "outputs": [
    {
     "name": "stdout",
     "output_type": "stream",
     "text": [
      "La función convergió con beta: [4.33442366 4.51690139] en la iteración 6698\n"
     ]
    }
   ],
   "source": [
    "#Aplico la regresión lineal que hicimos en clase, para que funcione correctamente tomo una alpha pequeña\n",
    "r = RegresionLineal(alpha=0.003, max_iters=10000000, tols=0.0001)\n",
    "r.gradientDescent(X, Y)"
   ]
  },
  {
   "cell_type": "markdown",
   "metadata": {},
   "source": [
    "## Problema 4"
   ]
  },
  {
   "cell_type": "markdown",
   "metadata": {},
   "source": [
    "**(a)** Usando los datos del [cuarteto de Anscombe](http://en.wikipedia.org/wiki/Anscombe%27s_quartet) Calcule la regresión lineal ¿Qué sucede?"
   ]
  },
  {
   "cell_type": "code",
   "execution_count": 29,
   "metadata": {},
   "outputs": [
    {
     "ename": "OSError",
     "evalue": "quartet.txt not found.",
     "output_type": "error",
     "traceback": [
      "\u001b[0;31m---------------------------------------------------------------------------\u001b[0m",
      "\u001b[0;31mOSError\u001b[0m                                   Traceback (most recent call last)",
      "\u001b[0;32m<ipython-input-29-a2a65d4e6c0e>\u001b[0m in \u001b[0;36m<module>\u001b[0;34m\u001b[0m\n\u001b[1;32m      1\u001b[0m \u001b[0;31m#Son cuatro gráficas (duh, es un cuarteto), guardo la info en cuatro columnas\u001b[0m\u001b[0;34m\u001b[0m\u001b[0;34m\u001b[0m\u001b[0;34m\u001b[0m\u001b[0m\n\u001b[0;32m----> 2\u001b[0;31m \u001b[0mAnscombe\u001b[0m \u001b[0;34m=\u001b[0m \u001b[0mnp\u001b[0m\u001b[0;34m.\u001b[0m\u001b[0mloadtxt\u001b[0m\u001b[0;34m(\u001b[0m\u001b[0;34m\"quartet.txt\"\u001b[0m\u001b[0;34m,\u001b[0m \u001b[0mdtype\u001b[0m \u001b[0;34m=\u001b[0m \u001b[0;34m\"float\"\u001b[0m\u001b[0;34m,\u001b[0m \u001b[0mdelimiter\u001b[0m \u001b[0;34m=\u001b[0m \u001b[0;34m\",\"\u001b[0m\u001b[0;34m,\u001b[0m \u001b[0mskiprows\u001b[0m \u001b[0;34m=\u001b[0m \u001b[0;36m1\u001b[0m\u001b[0;34m)\u001b[0m\u001b[0;34m\u001b[0m\u001b[0;34m\u001b[0m\u001b[0m\n\u001b[0m",
      "\u001b[0;32m/opt/conda/lib/python3.8/site-packages/numpy/lib/npyio.py\u001b[0m in \u001b[0;36mloadtxt\u001b[0;34m(fname, dtype, comments, delimiter, converters, skiprows, usecols, unpack, ndmin, encoding, max_rows)\u001b[0m\n\u001b[1;32m    959\u001b[0m             \u001b[0mfname\u001b[0m \u001b[0;34m=\u001b[0m \u001b[0mos_fspath\u001b[0m\u001b[0;34m(\u001b[0m\u001b[0mfname\u001b[0m\u001b[0;34m)\u001b[0m\u001b[0;34m\u001b[0m\u001b[0;34m\u001b[0m\u001b[0m\n\u001b[1;32m    960\u001b[0m         \u001b[0;32mif\u001b[0m \u001b[0m_is_string_like\u001b[0m\u001b[0;34m(\u001b[0m\u001b[0mfname\u001b[0m\u001b[0;34m)\u001b[0m\u001b[0;34m:\u001b[0m\u001b[0;34m\u001b[0m\u001b[0;34m\u001b[0m\u001b[0m\n\u001b[0;32m--> 961\u001b[0;31m             \u001b[0mfh\u001b[0m \u001b[0;34m=\u001b[0m \u001b[0mnp\u001b[0m\u001b[0;34m.\u001b[0m\u001b[0mlib\u001b[0m\u001b[0;34m.\u001b[0m\u001b[0m_datasource\u001b[0m\u001b[0;34m.\u001b[0m\u001b[0mopen\u001b[0m\u001b[0;34m(\u001b[0m\u001b[0mfname\u001b[0m\u001b[0;34m,\u001b[0m \u001b[0;34m'rt'\u001b[0m\u001b[0;34m,\u001b[0m \u001b[0mencoding\u001b[0m\u001b[0;34m=\u001b[0m\u001b[0mencoding\u001b[0m\u001b[0;34m)\u001b[0m\u001b[0;34m\u001b[0m\u001b[0;34m\u001b[0m\u001b[0m\n\u001b[0m\u001b[1;32m    962\u001b[0m             \u001b[0mfencoding\u001b[0m \u001b[0;34m=\u001b[0m \u001b[0mgetattr\u001b[0m\u001b[0;34m(\u001b[0m\u001b[0mfh\u001b[0m\u001b[0;34m,\u001b[0m \u001b[0;34m'encoding'\u001b[0m\u001b[0;34m,\u001b[0m \u001b[0;34m'latin1'\u001b[0m\u001b[0;34m)\u001b[0m\u001b[0;34m\u001b[0m\u001b[0;34m\u001b[0m\u001b[0m\n\u001b[1;32m    963\u001b[0m             \u001b[0mfh\u001b[0m \u001b[0;34m=\u001b[0m \u001b[0miter\u001b[0m\u001b[0;34m(\u001b[0m\u001b[0mfh\u001b[0m\u001b[0;34m)\u001b[0m\u001b[0;34m\u001b[0m\u001b[0;34m\u001b[0m\u001b[0m\n",
      "\u001b[0;32m/opt/conda/lib/python3.8/site-packages/numpy/lib/_datasource.py\u001b[0m in \u001b[0;36mopen\u001b[0;34m(path, mode, destpath, encoding, newline)\u001b[0m\n\u001b[1;32m    193\u001b[0m \u001b[0;34m\u001b[0m\u001b[0m\n\u001b[1;32m    194\u001b[0m     \u001b[0mds\u001b[0m \u001b[0;34m=\u001b[0m \u001b[0mDataSource\u001b[0m\u001b[0;34m(\u001b[0m\u001b[0mdestpath\u001b[0m\u001b[0;34m)\u001b[0m\u001b[0;34m\u001b[0m\u001b[0;34m\u001b[0m\u001b[0m\n\u001b[0;32m--> 195\u001b[0;31m     \u001b[0;32mreturn\u001b[0m \u001b[0mds\u001b[0m\u001b[0;34m.\u001b[0m\u001b[0mopen\u001b[0m\u001b[0;34m(\u001b[0m\u001b[0mpath\u001b[0m\u001b[0;34m,\u001b[0m \u001b[0mmode\u001b[0m\u001b[0;34m,\u001b[0m \u001b[0mencoding\u001b[0m\u001b[0;34m=\u001b[0m\u001b[0mencoding\u001b[0m\u001b[0;34m,\u001b[0m \u001b[0mnewline\u001b[0m\u001b[0;34m=\u001b[0m\u001b[0mnewline\u001b[0m\u001b[0;34m)\u001b[0m\u001b[0;34m\u001b[0m\u001b[0;34m\u001b[0m\u001b[0m\n\u001b[0m\u001b[1;32m    196\u001b[0m \u001b[0;34m\u001b[0m\u001b[0m\n\u001b[1;32m    197\u001b[0m \u001b[0;34m\u001b[0m\u001b[0m\n",
      "\u001b[0;32m/opt/conda/lib/python3.8/site-packages/numpy/lib/_datasource.py\u001b[0m in \u001b[0;36mopen\u001b[0;34m(self, path, mode, encoding, newline)\u001b[0m\n\u001b[1;32m    533\u001b[0m                                       encoding=encoding, newline=newline)\n\u001b[1;32m    534\u001b[0m         \u001b[0;32melse\u001b[0m\u001b[0;34m:\u001b[0m\u001b[0;34m\u001b[0m\u001b[0;34m\u001b[0m\u001b[0m\n\u001b[0;32m--> 535\u001b[0;31m             \u001b[0;32mraise\u001b[0m \u001b[0mIOError\u001b[0m\u001b[0;34m(\u001b[0m\u001b[0;34m\"%s not found.\"\u001b[0m \u001b[0;34m%\u001b[0m \u001b[0mpath\u001b[0m\u001b[0;34m)\u001b[0m\u001b[0;34m\u001b[0m\u001b[0;34m\u001b[0m\u001b[0m\n\u001b[0m\u001b[1;32m    536\u001b[0m \u001b[0;34m\u001b[0m\u001b[0m\n\u001b[1;32m    537\u001b[0m \u001b[0;34m\u001b[0m\u001b[0m\n",
      "\u001b[0;31mOSError\u001b[0m: quartet.txt not found."
     ]
    }
   ],
   "source": [
    "#Son cuatro gráficas (duh, es un cuarteto), guardo la info en cuatro columnas\n",
    "Anscombe = np.loadtxt(\"quartet.txt\", dtype = \"float\", delimiter = \",\", skiprows = 1)"
   ]
  },
  {
   "cell_type": "code",
   "execution_count": null,
   "metadata": {},
   "outputs": [],
   "source": []
  },
  {
   "cell_type": "markdown",
   "metadata": {},
   "source": [
    "## Problema 5"
   ]
  },
  {
   "cell_type": "markdown",
   "metadata": {},
   "source": [
    "Use el archivo `radioactive_decay.dat`"
   ]
  },
  {
   "cell_type": "code",
   "execution_count": 22,
   "metadata": {},
   "outputs": [
    {
     "name": "stdout",
     "output_type": "stream",
     "text": [
      "#time   N_(remaining)\r\n",
      "0.0\t10.48\r\n",
      "1.0\t7.54\r\n",
      "2.0\t5.49\r\n",
      "3.0\t4.02\r\n",
      "4.0\t2.74\r\n",
      "5.0\t2.02\r\n",
      "6.0\t1.50\r\n",
      "7.0\t1.09\r\n",
      "8.0\t0.68\r\n",
      "9.0\t0.57\r\n",
      "10.0\t0.37\r\n",
      "11.0\t0.31\r\n",
      "12.0\t0.19\r\n",
      "13.0\t0.15\r\n",
      "14.0\t0.13\r\n",
      "15.0\t0.11\r\n"
     ]
    }
   ],
   "source": [
    "%cat data/radioactive_decay.txt"
   ]
  },
  {
   "cell_type": "markdown",
   "metadata": {},
   "source": [
    "**(a)** Grafique los datos ¿Qué forma tienen?"
   ]
  },
  {
   "cell_type": "code",
   "execution_count": null,
   "metadata": {},
   "outputs": [],
   "source": [
    "datos5 = np.loadtxt('')"
   ]
  },
  {
   "cell_type": "markdown",
   "metadata": {},
   "source": [
    "**(b)** ¿Qué transformación se le ocurre para linearizarlos? Explique y grafique de nuevo. Guarde los datos transformados en un archivo llamado `transform_radioactive_decay.txt`"
   ]
  },
  {
   "cell_type": "markdown",
   "metadata": {},
   "source": [
    "**(c)** Aplique la regresión lineal a este conjunto de datos transformado, leyendo los datos del archivo recién creado."
   ]
  },
  {
   "cell_type": "markdown",
   "metadata": {},
   "source": [
    "**(d)** ¿Cuáles son los valores de $\\beta$ que mejor ajustan? ¿Cuáles son el espacio sin transformar? Explique."
   ]
  }
 ],
 "metadata": {
  "kernelspec": {
   "display_name": "Python 3",
   "language": "python",
   "name": "python3"
  },
  "language_info": {
   "codemirror_mode": {
    "name": "ipython",
    "version": 3
   },
   "file_extension": ".py",
   "mimetype": "text/x-python",
   "name": "python",
   "nbconvert_exporter": "python",
   "pygments_lexer": "ipython3",
   "version": "3.8.5"
  }
 },
 "nbformat": 4,
 "nbformat_minor": 1
}
