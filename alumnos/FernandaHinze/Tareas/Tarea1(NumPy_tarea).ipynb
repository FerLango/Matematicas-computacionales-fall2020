{
 "cells": [
  {
   "cell_type": "markdown",
   "metadata": {},
   "source": [
    "# **Ejercicios de NumPy**"
   ]
  },
  {
   "cell_type": "code",
   "execution_count": 31,
   "metadata": {},
   "outputs": [
    {
     "name": "stdout",
     "output_type": "stream",
     "text": [
      "Populating the interactive namespace from numpy and matplotlib\n"
     ]
    }
   ],
   "source": [
    "%pylab inline\n",
    "import numpy as np\n",
    "\n",
    "#Para las preguntas 5 y 6\n",
    "import math \n",
    "import matplotlib.pyplot as plt"
   ]
  },
  {
   "cell_type": "markdown",
   "metadata": {},
   "source": [
    "**Pregunta 1**\n",
    "\n",
    "Crea los siguientes arreglos con los tipos correctos.\n",
    "\n",
    "1. Un arreglo de $5 \\times 5$ cuya diagonal sean $[0.1, 2.0, 3.0, 4.0, 5.0]$\n",
    "\n",
    "2. Un arreglo de $4 \\times 4$ cuyo último renglón sea $[1,2,3,4]$ y el resto sean $0$."
   ]
  },
  {
   "cell_type": "code",
   "execution_count": 4,
   "metadata": {},
   "outputs": [
    {
     "data": {
      "text/plain": [
       "array([[1., 0., 0., 0., 0.],\n",
       "       [0., 2., 0., 0., 0.],\n",
       "       [0., 0., 3., 0., 0.],\n",
       "       [0., 0., 0., 4., 0.],\n",
       "       [0., 0., 0., 0., 5.]])"
      ]
     },
     "execution_count": 4,
     "metadata": {},
     "output_type": "execute_result"
    }
   ],
   "source": [
    "arr1 = np.eye(5)\n",
    "for i in range(0,5): \n",
    "    arr[i][i] += i \n",
    "arr"
   ]
  },
  {
   "cell_type": "code",
   "execution_count": 6,
   "metadata": {},
   "outputs": [
    {
     "data": {
      "text/plain": [
       "array([[0., 0., 0., 0.],\n",
       "       [0., 0., 0., 0.],\n",
       "       [0., 0., 0., 0.],\n",
       "       [1., 2., 3., 4.]])"
      ]
     },
     "execution_count": 6,
     "metadata": {},
     "output_type": "execute_result"
    }
   ],
   "source": [
    "arr2 = np.zeros((4,4))\n",
    "arr2[3] = np.arange(4) + 1\n",
    "arr2"
   ]
  },
  {
   "cell_type": "markdown",
   "metadata": {},
   "source": [
    "**Pregunta 2**\n",
    "\n",
    "En este ejercicio realizaremos una criba de Eratóstenes.\n",
    "\n",
    "(a) Crea un arreglo de booleanos de shape (100), con todos sus elementos True. El índice representa el número.\n",
    "\n",
    "(b) \"Tacha\" los elementos 0 y 1.\n",
    "\n",
    "(c) Para cada entero subsiguiente, tacha sus múltiplos. Una manera de hacerlo es el código que se muestra. Explica que hace el código, sobretodo explica que hace el slicing.\n",
    "\n",
    "(d) Mira la documentacion de np.nonzero para imprimir todos los números primos.\n",
    "\n",
    "(e) Encapsula lo que acabamos de hacer en una función llamada criba_eratostenes, que reciba como argumento maximo el cual representa el tamaño del array. Muestra el resultado para maximo = {10, 100, 200}, usando un for."
   ]
  },
  {
   "cell_type": "code",
   "execution_count": 11,
   "metadata": {},
   "outputs": [
    {
     "data": {
      "text/plain": [
       "array([ True,  True,  True,  True,  True,  True,  True,  True,  True,\n",
       "        True,  True,  True,  True,  True,  True,  True,  True,  True,\n",
       "        True,  True,  True,  True,  True,  True,  True,  True,  True,\n",
       "        True,  True,  True,  True,  True,  True,  True,  True,  True,\n",
       "        True,  True,  True,  True,  True,  True,  True,  True,  True,\n",
       "        True,  True,  True,  True,  True,  True,  True,  True,  True,\n",
       "        True,  True,  True,  True,  True,  True,  True,  True,  True,\n",
       "        True,  True,  True,  True,  True,  True,  True,  True,  True,\n",
       "        True,  True,  True,  True,  True,  True,  True,  True,  True,\n",
       "        True,  True,  True,  True,  True,  True,  True,  True,  True,\n",
       "        True,  True,  True,  True,  True,  True,  True,  True,  True,\n",
       "        True])"
      ]
     },
     "execution_count": 11,
     "metadata": {},
     "output_type": "execute_result"
    }
   ],
   "source": [
    "#(a) Crea un arreglo de booleanos de shape (100), con todos sus elementos True. El índice representa el número.\n",
    "bool_arr = np.ones((100), dtype=bool)\n",
    "bool_arr"
   ]
  },
  {
   "cell_type": "code",
   "execution_count": 13,
   "metadata": {},
   "outputs": [
    {
     "data": {
      "text/plain": [
       "array([False, False,  True,  True,  True,  True,  True,  True,  True,\n",
       "        True,  True,  True,  True,  True,  True,  True,  True,  True,\n",
       "        True,  True,  True,  True,  True,  True,  True,  True,  True,\n",
       "        True,  True,  True,  True,  True,  True,  True,  True,  True,\n",
       "        True,  True,  True,  True,  True,  True,  True,  True,  True,\n",
       "        True,  True,  True,  True,  True,  True,  True,  True,  True,\n",
       "        True,  True,  True,  True,  True,  True,  True,  True,  True,\n",
       "        True,  True,  True,  True,  True,  True,  True,  True,  True,\n",
       "        True,  True,  True,  True,  True,  True,  True,  True,  True,\n",
       "        True,  True,  True,  True,  True,  True,  True,  True,  True,\n",
       "        True,  True,  True,  True,  True,  True,  True,  True,  True,\n",
       "        True])"
      ]
     },
     "execution_count": 13,
     "metadata": {},
     "output_type": "execute_result"
    }
   ],
   "source": [
    "#(b) \"Tacha\" los elementos 0 y 1.\n",
    "bool_arr[0] = False\n",
    "bool_arr[1] = False\n",
    "bool_arr"
   ]
  },
  {
   "cell_type": "code",
   "execution_count": 14,
   "metadata": {},
   "outputs": [
    {
     "data": {
      "text/plain": [
       "array([False, False,  True,  True, False,  True, False,  True, False,\n",
       "       False, False,  True, False,  True, False, False, False,  True,\n",
       "       False,  True, False, False, False,  True, False, False, False,\n",
       "       False, False,  True, False,  True, False, False, False, False,\n",
       "       False,  True, False, False, False,  True, False,  True, False,\n",
       "       False, False,  True, False, False, False, False, False,  True,\n",
       "       False, False, False, False, False,  True, False,  True, False,\n",
       "       False, False, False, False,  True, False, False, False,  True,\n",
       "       False,  True, False, False, False, False, False,  True, False,\n",
       "       False, False,  True, False, False, False, False, False,  True,\n",
       "       False, False, False, False, False, False, False,  True, False,\n",
       "       False])"
      ]
     },
     "execution_count": 14,
     "metadata": {},
     "output_type": "execute_result"
    }
   ],
   "source": [
    "#(c) Para cada entero subsiguiente, tacha sus múltiplos. Una manera de hacerlo es el código que se muestra. Explica que hace el código, sobretodo explica que hace el slicing.\n",
    "\n",
    "N_max = int(np.sqrt(len(bool_arr))) #len me dice cuántos elementos hay en el arreglo, tomamos la raíz de ese número y lo convertimos en un entero. Ese es el máximo al que llegará nuestro for. \n",
    "for j in range(2, N_max):\n",
    "    bool_arr[2*j::j] = False #marca los valores 2j, 3j, 4j, 5j... como falsos, hasta que no tiene más valores\n",
    "bool_arr"
   ]
  },
  {
   "cell_type": "code",
   "execution_count": 17,
   "metadata": {},
   "outputs": [
    {
     "data": {
      "text/plain": [
       "(array([ 2,  3,  5,  7, 11, 13, 17, 19, 23, 29, 31, 37, 41, 43, 47, 53, 59,\n",
       "        61, 67, 71, 73, 79, 83, 89, 97]),)"
      ]
     },
     "execution_count": 17,
     "metadata": {},
     "output_type": "execute_result"
    }
   ],
   "source": [
    "#(d) Mira la documentacion de np.nonzero para imprimir todos los números primos. --> CHECK\n",
    "np.nonzero(bool_arr)"
   ]
  },
  {
   "cell_type": "code",
   "execution_count": 18,
   "metadata": {},
   "outputs": [],
   "source": [
    "#(e) Encapsula lo que acabamos de hacer en una función llamada criba_eratostenes, que reciba como argumento maximo el cual representa el tamaño del array. Muestra el resultado para maximo = {10, 100, 200}, usando un for.\n",
    "#FALTAAA\n",
    "#FALTAAA\n",
    "#FALTAAA\n",
    "#FALTAAA\n",
    "#FALTAAA"
   ]
  },
  {
   "cell_type": "markdown",
   "metadata": {},
   "source": [
    "**Pregunta 3**\n",
    "\n",
    "Crea un cubo rubik, partiendo de un arreglo de ceros y usando slicing dibuja cada una de las caras como si estuviera resuelto (cada color un entero a partir del $1$). Muestra con indexing que está resuelto (es decir, imprime las seis caras). ¿Cuántos elementos del arreglo quedaron en $0$?"
   ]
  },
  {
   "cell_type": "code",
   "execution_count": 21,
   "metadata": {},
   "outputs": [
    {
     "data": {
      "text/plain": [
       "array([[[1., 1., 1.],\n",
       "        [1., 1., 1.],\n",
       "        [1., 1., 1.]],\n",
       "\n",
       "       [[2., 2., 2.],\n",
       "        [2., 2., 2.],\n",
       "        [2., 2., 2.]],\n",
       "\n",
       "       [[3., 3., 3.],\n",
       "        [3., 3., 3.],\n",
       "        [3., 3., 3.]],\n",
       "\n",
       "       [[4., 4., 4.],\n",
       "        [4., 4., 4.],\n",
       "        [4., 4., 4.]],\n",
       "\n",
       "       [[5., 5., 5.],\n",
       "        [5., 5., 5.],\n",
       "        [5., 5., 5.]],\n",
       "\n",
       "       [[6., 6., 6.],\n",
       "        [6., 6., 6.],\n",
       "        [6., 6., 6.]]])"
      ]
     },
     "execution_count": 21,
     "metadata": {},
     "output_type": "execute_result"
    }
   ],
   "source": [
    "#Cualquier cubo tiene 6 lados, viendo cada cara como una matriz tienen que ser 3x3 (si es un cubo rubik tradicional)\n",
    "crubik = np.zeros((6,3,3))\n",
    "#indexing\n",
    "for i in range(6):\n",
    "    crubik[i] = i + 1\n",
    "crubik"
   ]
  },
  {
   "cell_type": "markdown",
   "metadata": {},
   "source": [
    "Ningún elemento del arreglo quedó en cero. "
   ]
  },
  {
   "cell_type": "markdown",
   "metadata": {},
   "source": [
    "**Pregunta 4**\n",
    "\n",
    "El Sudoku es un pasatiempo que consiste en un arreglo $9 \\times 9$ de celdas, con dígitos del 1 al 9, de tal manera que no se repiten valores en cada columna, cada renglón y en cada subarreglo de $3\\times 3$.\n",
    "\n",
    "(a) Crea una función llamada correcto que reciba un array $1d$ de tamaño 9 e indique si está completo o no (i.e. incluye los números del 1 al 9.\n",
    "\n",
    "(b) Crea una función llamada descomponer3x3 que reciba un array de enteros de $9\\times 9$ y lo separe en sus 9 subarreglos $3\\times3$.\n",
    "\n",
    "(c) Crea la función esSolucion que recibe un array de $9\\times 9$ y devuelve si es o no solución del sudoku."
   ]
  },
  {
   "cell_type": "code",
   "execution_count": 75,
   "metadata": {},
   "outputs": [],
   "source": [
    "#Defino mi primera función\n",
    "def correcto(arr):\n",
    "    if len(arr) == 9:\n",
    "        for i in range (1,10): #again, porque el cero es natural\n",
    "            if i not in arr: \n",
    "                return \"No es un número del 1 al 9\"\n",
    "        else: \n",
    "            return \"Es correcto\"\n",
    "    else: \n",
    "        return \"No son 9 números\""
   ]
  },
  {
   "cell_type": "code",
   "execution_count": 79,
   "metadata": {},
   "outputs": [
    {
     "name": "stdout",
     "output_type": "stream",
     "text": [
      "Es correcto\n",
      "No son 9 números\n",
      "No son 9 números\n"
     ]
    }
   ],
   "source": [
    "#Hago pruebas de que funciona\n",
    "arr = np.arange(1,10) #no suelta error, wuu\n",
    "print (correcto(arr))\n",
    "arr0 = np.arange(0,4) #tampoco suelta error wuuu\n",
    "print (correcto(arr0))"
   ]
  },
  {
   "cell_type": "code",
   "execution_count": 80,
   "metadata": {},
   "outputs": [],
   "source": [
    "#Defino mi segunda función\n",
    "def descomponer3x3(arr):\n",
    "    separar = np.reshape(arr,(9,3,3))\n",
    "    return separar"
   ]
  },
  {
   "cell_type": "code",
   "execution_count": 81,
   "metadata": {},
   "outputs": [
    {
     "name": "stdout",
     "output_type": "stream",
     "text": [
      "[[[1. 0. 0.]\n",
      "  [0. 0. 0.]\n",
      "  [0. 0. 0.]]\n",
      "\n",
      " [[0. 1. 0.]\n",
      "  [0. 0. 0.]\n",
      "  [0. 0. 0.]]\n",
      "\n",
      " [[0. 0. 1.]\n",
      "  [0. 0. 0.]\n",
      "  [0. 0. 0.]]\n",
      "\n",
      " [[0. 0. 0.]\n",
      "  [1. 0. 0.]\n",
      "  [0. 0. 0.]]\n",
      "\n",
      " [[0. 0. 0.]\n",
      "  [0. 1. 0.]\n",
      "  [0. 0. 0.]]\n",
      "\n",
      " [[0. 0. 0.]\n",
      "  [0. 0. 1.]\n",
      "  [0. 0. 0.]]\n",
      "\n",
      " [[0. 0. 0.]\n",
      "  [0. 0. 0.]\n",
      "  [1. 0. 0.]]\n",
      "\n",
      " [[0. 0. 0.]\n",
      "  [0. 0. 0.]\n",
      "  [0. 1. 0.]]\n",
      "\n",
      " [[0. 0. 0.]\n",
      "  [0. 0. 0.]\n",
      "  [0. 0. 1.]]]\n"
     ]
    }
   ],
   "source": [
    "ejemplo = np.identity(9)\n",
    "print (descomponer3x3(ejemplo))"
   ]
  },
  {
   "cell_type": "markdown",
   "metadata": {},
   "source": [
    "Again, me está ganando el tiempo PERO intentaré el inciso c el fin de semana. "
   ]
  },
  {
   "cell_type": "markdown",
   "metadata": {},
   "source": [
    "**Pregunta 5**\n",
    "\n",
    "Utiliza el archivo sunspots.txt (localizado en la carpeta data), el cual contiene el número de manchas solares por cada mes desde enero de 1749. La primera columna es el mes, el segundo el número de manchas.\n",
    "\n",
    "(a) Escribe el código que lea el archivo y haga una gráfica de las manchas en función del tiempo. Formatea el eje 𝑥 para que se muestren cada 25 años empezando en 1750.\n",
    "\n",
    "(b) Calcula el promedio móvil. Dibújalo sobre el dibujo original."
   ]
  },
  {
   "cell_type": "code",
   "execution_count": 60,
   "metadata": {},
   "outputs": [
    {
     "ename": "SyntaxError",
     "evalue": "invalid syntax (<ipython-input-60-0d6dcca26638>, line 13)",
     "output_type": "error",
     "traceback": [
      "\u001b[0;36m  File \u001b[0;32m\"<ipython-input-60-0d6dcca26638>\"\u001b[0;36m, line \u001b[0;32m13\u001b[0m\n\u001b[0;31m    manchas = manchas.append(float(datos2[i][1]))\u001b[0m\n\u001b[0m    ^\u001b[0m\n\u001b[0;31mSyntaxError\u001b[0m\u001b[0;31m:\u001b[0m invalid syntax\n"
     ]
    }
   ],
   "source": [
    "archivo = open('sunspots.txt')\n",
    "datos1 = archivo.read()\n",
    "archivo.close()\n",
    "print (datos1) #lo usé para verificar\n",
    "\n",
    "datos2 = datos2.split('\\n') #separo mes y manchas\n",
    "datos2 = [i.split(' ') for i in datos2] \n",
    "mes = []\n",
    "manchas = []\n",
    "\n",
    "for i in range(len(datos1)-1): #porque el cero es natural :P\n",
    "    mes = mes.append((float((datos2[i][0]))\n",
    "    manchas = manchas.append(float(datos2[i][1]))"
   ]
  },
  {
   "cell_type": "markdown",
   "metadata": {},
   "source": [
    "**Pregunta 6**\n",
    "\n",
    "Utiliza el archivo stars.txt (localizado en la carpeta data), el cual contiene la temperatura y magnitud de varias estrellas en la Vía Lactea. Usa esta información para dibujar un scatter plot del logaritmo del brillo vs. la temperatura (en K). Este diagrama se conoce como diagrama de Hertzsprung-Russell."
   ]
  },
  {
   "cell_type": "code",
   "execution_count": 58,
   "metadata": {},
   "outputs": [
    {
     "ename": "SyntaxError",
     "evalue": "invalid syntax (<ipython-input-58-738d8a53ad15>, line 13)",
     "output_type": "error",
     "traceback": [
      "\u001b[0;36m  File \u001b[0;32m\"<ipython-input-58-738d8a53ad15>\"\u001b[0;36m, line \u001b[0;32m13\u001b[0m\n\u001b[0;31m    tempe = tempe.append(float(datos2[i][1]))\u001b[0m\n\u001b[0m    ^\u001b[0m\n\u001b[0;31mSyntaxError\u001b[0m\u001b[0;31m:\u001b[0m invalid syntax\n"
     ]
    }
   ],
   "source": [
    "archivo = open('stars.txt')\n",
    "datos2 = archivo.read()\n",
    "archivo.close()\n",
    "#print (datos2) lo usé para verificar\n",
    "\n",
    "datos2 = datos2.split('\\n') #separo brillo y temperatura\n",
    "datos2 = [i.split(' ') for i in datos2] \n",
    "brillo = []\n",
    "tempe = []\n",
    "\n",
    "for i in range(len(datos2)-1): #porque el cero es natural :P\n",
    "    brillo = brillo.append((float((datos2[i][0]))\n",
    "    tempe = tempe.append(float(datos2[i][1]))\n",
    "    \n",
    "plt.figure(figsize=(12, 8), dpi=80)\n",
    "    \n",
    "plt.scatter(brillo,temp,color=color['color'], linewidth=.5, linestyle=\"-\")"
   ]
  },
  {
   "cell_type": "markdown",
   "metadata": {},
   "source": [
    "**Pequeña nota para el profesor**\n",
    "\n",
    "Prof, tengo el mismo error en la 4 y en la 5 pero ya es muy tarde y la verdad no he encontrado solución al problema y creo que hasta estoy googoleando mal. Aunque no cuente para la entrega de la tarea le voy a dar una segunda vez el fin de semana y espero que salga, no me voy a rendir jajajaja. ¡Muchas gracias y lindo fin!"
   ]
  }
 ],
 "metadata": {
  "kernelspec": {
   "display_name": "Python 3",
   "language": "python",
   "name": "python3"
  },
  "language_info": {
   "codemirror_mode": {
    "name": "ipython",
    "version": 3
   },
   "file_extension": ".py",
   "mimetype": "text/x-python",
   "name": "python",
   "nbconvert_exporter": "python",
   "pygments_lexer": "ipython3",
   "version": "3.8.5"
  }
 },
 "nbformat": 4,
 "nbformat_minor": 4
}
