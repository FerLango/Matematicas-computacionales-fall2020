{
 "cells": [
  {
   "cell_type": "markdown",
   "metadata": {},
   "source": [
    "# TAREA R PARTE 3"
   ]
  },
  {
   "cell_type": "markdown",
   "metadata": {},
   "source": [
    "Laura González 162848"
   ]
  },
  {
   "cell_type": "markdown",
   "metadata": {},
   "source": [
    "Hacer todos los ejercicios hechos durante la clase.\n",
    "\n",
    "Ejercicios durante la sesión 1\n",
    "Visualizaciones interactivas para el cruce de variables filtrado por sexo."
   ]
  },
  {
   "cell_type": "markdown",
   "metadata": {},
   "source": [
    "### Ejercicio 1: Velocidad de la luz\n",
    "Tenemos 5 experimentos con 20 corridas de mediciones de la velocidad de la luz.\n",
    "\n",
    "¿Cómo exponen los resultados? ¿Los resultados se ven equivalentes entre los experimentos?"
   ]
  },
  {
   "cell_type": "code",
   "execution_count": 7,
   "metadata": {},
   "outputs": [
    {
     "data": {
      "text/html": [
       "<table>\n",
       "<caption>A data.frame: 100 × 3</caption>\n",
       "<thead>\n",
       "\t<tr><th></th><th scope=col>Speed</th><th scope=col>Run</th><th scope=col>Expt</th></tr>\n",
       "\t<tr><th></th><th scope=col>&lt;int&gt;</th><th scope=col>&lt;fct&gt;</th><th scope=col>&lt;fct&gt;</th></tr>\n",
       "</thead>\n",
       "<tbody>\n",
       "\t<tr><th scope=row>1</th><td> 850</td><td>1 </td><td>1</td></tr>\n",
       "\t<tr><th scope=row>2</th><td> 740</td><td>2 </td><td>1</td></tr>\n",
       "\t<tr><th scope=row>3</th><td> 900</td><td>3 </td><td>1</td></tr>\n",
       "\t<tr><th scope=row>4</th><td>1070</td><td>4 </td><td>1</td></tr>\n",
       "\t<tr><th scope=row>5</th><td> 930</td><td>5 </td><td>1</td></tr>\n",
       "\t<tr><th scope=row>6</th><td> 850</td><td>6 </td><td>1</td></tr>\n",
       "\t<tr><th scope=row>7</th><td> 950</td><td>7 </td><td>1</td></tr>\n",
       "\t<tr><th scope=row>8</th><td> 980</td><td>8 </td><td>1</td></tr>\n",
       "\t<tr><th scope=row>9</th><td> 980</td><td>9 </td><td>1</td></tr>\n",
       "\t<tr><th scope=row>10</th><td> 880</td><td>10</td><td>1</td></tr>\n",
       "\t<tr><th scope=row>11</th><td>1000</td><td>11</td><td>1</td></tr>\n",
       "\t<tr><th scope=row>12</th><td> 980</td><td>12</td><td>1</td></tr>\n",
       "\t<tr><th scope=row>13</th><td> 930</td><td>13</td><td>1</td></tr>\n",
       "\t<tr><th scope=row>14</th><td> 650</td><td>14</td><td>1</td></tr>\n",
       "\t<tr><th scope=row>15</th><td> 760</td><td>15</td><td>1</td></tr>\n",
       "\t<tr><th scope=row>16</th><td> 810</td><td>16</td><td>1</td></tr>\n",
       "\t<tr><th scope=row>17</th><td>1000</td><td>17</td><td>1</td></tr>\n",
       "\t<tr><th scope=row>18</th><td>1000</td><td>18</td><td>1</td></tr>\n",
       "\t<tr><th scope=row>19</th><td> 960</td><td>19</td><td>1</td></tr>\n",
       "\t<tr><th scope=row>20</th><td> 960</td><td>20</td><td>1</td></tr>\n",
       "\t<tr><th scope=row>21</th><td> 960</td><td>1 </td><td>2</td></tr>\n",
       "\t<tr><th scope=row>22</th><td> 940</td><td>2 </td><td>2</td></tr>\n",
       "\t<tr><th scope=row>23</th><td> 960</td><td>3 </td><td>2</td></tr>\n",
       "\t<tr><th scope=row>24</th><td> 940</td><td>4 </td><td>2</td></tr>\n",
       "\t<tr><th scope=row>25</th><td> 880</td><td>5 </td><td>2</td></tr>\n",
       "\t<tr><th scope=row>26</th><td> 800</td><td>6 </td><td>2</td></tr>\n",
       "\t<tr><th scope=row>27</th><td> 850</td><td>7 </td><td>2</td></tr>\n",
       "\t<tr><th scope=row>28</th><td> 880</td><td>8 </td><td>2</td></tr>\n",
       "\t<tr><th scope=row>29</th><td> 900</td><td>9 </td><td>2</td></tr>\n",
       "\t<tr><th scope=row>30</th><td> 840</td><td>10</td><td>2</td></tr>\n",
       "\t<tr><th scope=row>⋮</th><td>⋮</td><td>⋮</td><td>⋮</td></tr>\n",
       "\t<tr><th scope=row>71</th><td>910</td><td>11</td><td>4</td></tr>\n",
       "\t<tr><th scope=row>72</th><td>920</td><td>12</td><td>4</td></tr>\n",
       "\t<tr><th scope=row>73</th><td>890</td><td>13</td><td>4</td></tr>\n",
       "\t<tr><th scope=row>74</th><td>860</td><td>14</td><td>4</td></tr>\n",
       "\t<tr><th scope=row>75</th><td>880</td><td>15</td><td>4</td></tr>\n",
       "\t<tr><th scope=row>76</th><td>720</td><td>16</td><td>4</td></tr>\n",
       "\t<tr><th scope=row>77</th><td>840</td><td>17</td><td>4</td></tr>\n",
       "\t<tr><th scope=row>78</th><td>850</td><td>18</td><td>4</td></tr>\n",
       "\t<tr><th scope=row>79</th><td>850</td><td>19</td><td>4</td></tr>\n",
       "\t<tr><th scope=row>80</th><td>780</td><td>20</td><td>4</td></tr>\n",
       "\t<tr><th scope=row>81</th><td>890</td><td>1 </td><td>5</td></tr>\n",
       "\t<tr><th scope=row>82</th><td>840</td><td>2 </td><td>5</td></tr>\n",
       "\t<tr><th scope=row>83</th><td>780</td><td>3 </td><td>5</td></tr>\n",
       "\t<tr><th scope=row>84</th><td>810</td><td>4 </td><td>5</td></tr>\n",
       "\t<tr><th scope=row>85</th><td>760</td><td>5 </td><td>5</td></tr>\n",
       "\t<tr><th scope=row>86</th><td>810</td><td>6 </td><td>5</td></tr>\n",
       "\t<tr><th scope=row>87</th><td>790</td><td>7 </td><td>5</td></tr>\n",
       "\t<tr><th scope=row>88</th><td>810</td><td>8 </td><td>5</td></tr>\n",
       "\t<tr><th scope=row>89</th><td>820</td><td>9 </td><td>5</td></tr>\n",
       "\t<tr><th scope=row>90</th><td>850</td><td>10</td><td>5</td></tr>\n",
       "\t<tr><th scope=row>91</th><td>870</td><td>11</td><td>5</td></tr>\n",
       "\t<tr><th scope=row>92</th><td>870</td><td>12</td><td>5</td></tr>\n",
       "\t<tr><th scope=row>93</th><td>810</td><td>13</td><td>5</td></tr>\n",
       "\t<tr><th scope=row>94</th><td>740</td><td>14</td><td>5</td></tr>\n",
       "\t<tr><th scope=row>95</th><td>810</td><td>15</td><td>5</td></tr>\n",
       "\t<tr><th scope=row>96</th><td>940</td><td>16</td><td>5</td></tr>\n",
       "\t<tr><th scope=row>97</th><td>950</td><td>17</td><td>5</td></tr>\n",
       "\t<tr><th scope=row>98</th><td>800</td><td>18</td><td>5</td></tr>\n",
       "\t<tr><th scope=row>99</th><td>810</td><td>19</td><td>5</td></tr>\n",
       "\t<tr><th scope=row>100</th><td>870</td><td>20</td><td>5</td></tr>\n",
       "</tbody>\n",
       "</table>\n"
      ],
      "text/latex": [
       "A data.frame: 100 × 3\n",
       "\\begin{tabular}{r|lll}\n",
       "  & Speed & Run & Expt\\\\\n",
       "  & <int> & <fct> & <fct>\\\\\n",
       "\\hline\n",
       "\t1 &  850 & 1  & 1\\\\\n",
       "\t2 &  740 & 2  & 1\\\\\n",
       "\t3 &  900 & 3  & 1\\\\\n",
       "\t4 & 1070 & 4  & 1\\\\\n",
       "\t5 &  930 & 5  & 1\\\\\n",
       "\t6 &  850 & 6  & 1\\\\\n",
       "\t7 &  950 & 7  & 1\\\\\n",
       "\t8 &  980 & 8  & 1\\\\\n",
       "\t9 &  980 & 9  & 1\\\\\n",
       "\t10 &  880 & 10 & 1\\\\\n",
       "\t11 & 1000 & 11 & 1\\\\\n",
       "\t12 &  980 & 12 & 1\\\\\n",
       "\t13 &  930 & 13 & 1\\\\\n",
       "\t14 &  650 & 14 & 1\\\\\n",
       "\t15 &  760 & 15 & 1\\\\\n",
       "\t16 &  810 & 16 & 1\\\\\n",
       "\t17 & 1000 & 17 & 1\\\\\n",
       "\t18 & 1000 & 18 & 1\\\\\n",
       "\t19 &  960 & 19 & 1\\\\\n",
       "\t20 &  960 & 20 & 1\\\\\n",
       "\t21 &  960 & 1  & 2\\\\\n",
       "\t22 &  940 & 2  & 2\\\\\n",
       "\t23 &  960 & 3  & 2\\\\\n",
       "\t24 &  940 & 4  & 2\\\\\n",
       "\t25 &  880 & 5  & 2\\\\\n",
       "\t26 &  800 & 6  & 2\\\\\n",
       "\t27 &  850 & 7  & 2\\\\\n",
       "\t28 &  880 & 8  & 2\\\\\n",
       "\t29 &  900 & 9  & 2\\\\\n",
       "\t30 &  840 & 10 & 2\\\\\n",
       "\t⋮ & ⋮ & ⋮ & ⋮\\\\\n",
       "\t71 & 910 & 11 & 4\\\\\n",
       "\t72 & 920 & 12 & 4\\\\\n",
       "\t73 & 890 & 13 & 4\\\\\n",
       "\t74 & 860 & 14 & 4\\\\\n",
       "\t75 & 880 & 15 & 4\\\\\n",
       "\t76 & 720 & 16 & 4\\\\\n",
       "\t77 & 840 & 17 & 4\\\\\n",
       "\t78 & 850 & 18 & 4\\\\\n",
       "\t79 & 850 & 19 & 4\\\\\n",
       "\t80 & 780 & 20 & 4\\\\\n",
       "\t81 & 890 & 1  & 5\\\\\n",
       "\t82 & 840 & 2  & 5\\\\\n",
       "\t83 & 780 & 3  & 5\\\\\n",
       "\t84 & 810 & 4  & 5\\\\\n",
       "\t85 & 760 & 5  & 5\\\\\n",
       "\t86 & 810 & 6  & 5\\\\\n",
       "\t87 & 790 & 7  & 5\\\\\n",
       "\t88 & 810 & 8  & 5\\\\\n",
       "\t89 & 820 & 9  & 5\\\\\n",
       "\t90 & 850 & 10 & 5\\\\\n",
       "\t91 & 870 & 11 & 5\\\\\n",
       "\t92 & 870 & 12 & 5\\\\\n",
       "\t93 & 810 & 13 & 5\\\\\n",
       "\t94 & 740 & 14 & 5\\\\\n",
       "\t95 & 810 & 15 & 5\\\\\n",
       "\t96 & 940 & 16 & 5\\\\\n",
       "\t97 & 950 & 17 & 5\\\\\n",
       "\t98 & 800 & 18 & 5\\\\\n",
       "\t99 & 810 & 19 & 5\\\\\n",
       "\t100 & 870 & 20 & 5\\\\\n",
       "\\end{tabular}\n"
      ],
      "text/markdown": [
       "\n",
       "A data.frame: 100 × 3\n",
       "\n",
       "| <!--/--> | Speed &lt;int&gt; | Run &lt;fct&gt; | Expt &lt;fct&gt; |\n",
       "|---|---|---|---|\n",
       "| 1 |  850 | 1  | 1 |\n",
       "| 2 |  740 | 2  | 1 |\n",
       "| 3 |  900 | 3  | 1 |\n",
       "| 4 | 1070 | 4  | 1 |\n",
       "| 5 |  930 | 5  | 1 |\n",
       "| 6 |  850 | 6  | 1 |\n",
       "| 7 |  950 | 7  | 1 |\n",
       "| 8 |  980 | 8  | 1 |\n",
       "| 9 |  980 | 9  | 1 |\n",
       "| 10 |  880 | 10 | 1 |\n",
       "| 11 | 1000 | 11 | 1 |\n",
       "| 12 |  980 | 12 | 1 |\n",
       "| 13 |  930 | 13 | 1 |\n",
       "| 14 |  650 | 14 | 1 |\n",
       "| 15 |  760 | 15 | 1 |\n",
       "| 16 |  810 | 16 | 1 |\n",
       "| 17 | 1000 | 17 | 1 |\n",
       "| 18 | 1000 | 18 | 1 |\n",
       "| 19 |  960 | 19 | 1 |\n",
       "| 20 |  960 | 20 | 1 |\n",
       "| 21 |  960 | 1  | 2 |\n",
       "| 22 |  940 | 2  | 2 |\n",
       "| 23 |  960 | 3  | 2 |\n",
       "| 24 |  940 | 4  | 2 |\n",
       "| 25 |  880 | 5  | 2 |\n",
       "| 26 |  800 | 6  | 2 |\n",
       "| 27 |  850 | 7  | 2 |\n",
       "| 28 |  880 | 8  | 2 |\n",
       "| 29 |  900 | 9  | 2 |\n",
       "| 30 |  840 | 10 | 2 |\n",
       "| ⋮ | ⋮ | ⋮ | ⋮ |\n",
       "| 71 | 910 | 11 | 4 |\n",
       "| 72 | 920 | 12 | 4 |\n",
       "| 73 | 890 | 13 | 4 |\n",
       "| 74 | 860 | 14 | 4 |\n",
       "| 75 | 880 | 15 | 4 |\n",
       "| 76 | 720 | 16 | 4 |\n",
       "| 77 | 840 | 17 | 4 |\n",
       "| 78 | 850 | 18 | 4 |\n",
       "| 79 | 850 | 19 | 4 |\n",
       "| 80 | 780 | 20 | 4 |\n",
       "| 81 | 890 | 1  | 5 |\n",
       "| 82 | 840 | 2  | 5 |\n",
       "| 83 | 780 | 3  | 5 |\n",
       "| 84 | 810 | 4  | 5 |\n",
       "| 85 | 760 | 5  | 5 |\n",
       "| 86 | 810 | 6  | 5 |\n",
       "| 87 | 790 | 7  | 5 |\n",
       "| 88 | 810 | 8  | 5 |\n",
       "| 89 | 820 | 9  | 5 |\n",
       "| 90 | 850 | 10 | 5 |\n",
       "| 91 | 870 | 11 | 5 |\n",
       "| 92 | 870 | 12 | 5 |\n",
       "| 93 | 810 | 13 | 5 |\n",
       "| 94 | 740 | 14 | 5 |\n",
       "| 95 | 810 | 15 | 5 |\n",
       "| 96 | 940 | 16 | 5 |\n",
       "| 97 | 950 | 17 | 5 |\n",
       "| 98 | 800 | 18 | 5 |\n",
       "| 99 | 810 | 19 | 5 |\n",
       "| 100 | 870 | 20 | 5 |\n",
       "\n"
      ],
      "text/plain": [
       "    Speed Run Expt\n",
       "1    850  1   1   \n",
       "2    740  2   1   \n",
       "3    900  3   1   \n",
       "4   1070  4   1   \n",
       "5    930  5   1   \n",
       "6    850  6   1   \n",
       "7    950  7   1   \n",
       "8    980  8   1   \n",
       "9    980  9   1   \n",
       "10   880  10  1   \n",
       "11  1000  11  1   \n",
       "12   980  12  1   \n",
       "13   930  13  1   \n",
       "14   650  14  1   \n",
       "15   760  15  1   \n",
       "16   810  16  1   \n",
       "17  1000  17  1   \n",
       "18  1000  18  1   \n",
       "19   960  19  1   \n",
       "20   960  20  1   \n",
       "21   960  1   2   \n",
       "22   940  2   2   \n",
       "23   960  3   2   \n",
       "24   940  4   2   \n",
       "25   880  5   2   \n",
       "26   800  6   2   \n",
       "27   850  7   2   \n",
       "28   880  8   2   \n",
       "29   900  9   2   \n",
       "30   840  10  2   \n",
       "⋮   ⋮     ⋮   ⋮   \n",
       "71  910   11  4   \n",
       "72  920   12  4   \n",
       "73  890   13  4   \n",
       "74  860   14  4   \n",
       "75  880   15  4   \n",
       "76  720   16  4   \n",
       "77  840   17  4   \n",
       "78  850   18  4   \n",
       "79  850   19  4   \n",
       "80  780   20  4   \n",
       "81  890   1   5   \n",
       "82  840   2   5   \n",
       "83  780   3   5   \n",
       "84  810   4   5   \n",
       "85  760   5   5   \n",
       "86  810   6   5   \n",
       "87  790   7   5   \n",
       "88  810   8   5   \n",
       "89  820   9   5   \n",
       "90  850   10  5   \n",
       "91  870   11  5   \n",
       "92  870   12  5   \n",
       "93  810   13  5   \n",
       "94  740   14  5   \n",
       "95  810   15  5   \n",
       "96  940   16  5   \n",
       "97  950   17  5   \n",
       "98  800   18  5   \n",
       "99  810   19  5   \n",
       "100 870   20  5   "
      ]
     },
     "metadata": {},
     "output_type": "display_data"
    }
   ],
   "source": [
    "library(MASS) #Primero descargamos la librería que nos da el ejercicio\n",
    "vl <- data.frame(michelson) #Hacemos los datos en data frame \n",
    "vl #Los imprimirmos para ver los datos que tenemos"
   ]
  },
  {
   "cell_type": "code",
   "execution_count": 8,
   "metadata": {},
   "outputs": [
    {
     "name": "stderr",
     "output_type": "stream",
     "text": [
      "Updating HTML index of packages in '.Library'\n",
      "\n",
      "Making 'packages.html' ...\n",
      " done\n",
      "\n",
      "\n",
      "Attaching package: ‘dplyr’\n",
      "\n",
      "\n",
      "The following object is masked from ‘package:MASS’:\n",
      "\n",
      "    select\n",
      "\n",
      "\n",
      "The following objects are masked from ‘package:stats’:\n",
      "\n",
      "    filter, lag\n",
      "\n",
      "\n",
      "The following objects are masked from ‘package:base’:\n",
      "\n",
      "    intersect, setdiff, setequal, union\n",
      "\n",
      "\n"
     ]
    }
   ],
   "source": [
    "library(ggplot2)\n",
    "install.packages('ggthemes')\n",
    "library(dplyr)"
   ]
  },
  {
   "cell_type": "code",
   "execution_count": 9,
   "metadata": {},
   "outputs": [
    {
     "data": {
      "image/png": "[encoded data removed]",
      "text/plain": [
       "plot without title"
      ]
     },
     "metadata": {
      "image/png": {
       "height": 420,
       "width": 420
      }
     },
     "output_type": "display_data"
    }
   ],
   "source": [
    "ggplot(vl, aes(Speed, fill=Expt)) + \n",
    "    geom_histogram(binwidth = 100) + xlab(\"Speed (?)\") + \n",
    "    ylab(\"Run\") + facet_grid(~Expt) +\n",
    "    theme(legend.position = 'none')"
   ]
  },
  {
   "cell_type": "markdown",
   "metadata": {},
   "source": [
    "Las variables que nos importan son speed (velocidad de la luz) y run (las corridas). Expusimos los resultados con las gráficas de barras. Podemos observar que el grupo 5 tiene varias corridas con 800 de speed, así como en la 2 y en la 4. En el grupo 1 y 3 el speed está más hacia el 1000"
   ]
  },
  {
   "cell_type": "markdown",
   "metadata": {},
   "source": [
    "### Ejercicio 2: Pima Indians\n",
    "¿Qué dice este gráfico de barras?"
   ]
  },
  {
   "cell_type": "code",
   "execution_count": 4,
   "metadata": {},
   "outputs": [
    {
     "data": {
      "image/png": "[encoded data removed]",
      "text/plain": [
       "plot without title"
      ]
     },
     "metadata": {
      "image/png": {
       "height": 420,
       "width": 420
      }
     },
     "output_type": "display_data"
    }
   ],
   "source": [
    "ggplot(Pima.tr2, aes(type))+geom_bar()"
   ]
  },
  {
   "cell_type": "markdown",
   "metadata": {},
   "source": [
    "Con la función help(Pima.tr2) podemos observar que es una base de datos de Pima Indian Heritage de mujeres de 21 años en adelante con datos de diabetes, por lo que el gráfico nos indica la cantidad de mujeres que no tiene diabetes (NO) y las que sí (YES)"
   ]
  },
  {
   "cell_type": "markdown",
   "metadata": {},
   "source": [
    "### ¿Por qué la parte superior izquierda está vacía?"
   ]
  },
  {
   "cell_type": "code",
   "execution_count": 5,
   "metadata": {},
   "outputs": [
    {
     "data": {
      "image/png": "[encoded data removed]",
      "text/plain": [
       "plot without title"
      ]
     },
     "metadata": {
      "image/png": {
       "height": 420,
       "width": 420
      }
     },
     "output_type": "display_data"
    }
   ],
   "source": [
    "ggplot(Pima.tr2, aes(age,npreg))+geom_point()"
   ]
  },
  {
   "cell_type": "markdown",
   "metadata": {},
   "source": [
    "Para esta gráfica se tomaron los datos de edad y número de embarazos. La parte superior izquierda está vacía porque los embarazos tienen una duración de 9 meses, por lo cual no pueden tener más embarazos justo porque tienen que esperar mínimo 9 meses para empezar con el siguiente "
   ]
  },
  {
   "cell_type": "markdown",
   "metadata": {},
   "source": [
    "### Ejercicio 3: Titanic\n",
    "¿Qué se les ocurre para graficar todo?\n",
    "\n",
    "¿Cuántos pasajeros en total viajaban por clase?\n",
    "\n",
    "Exploren una por una las otras variables categóricas del dataset"
   ]
  },
  {
   "cell_type": "code",
   "execution_count": 10,
   "metadata": {},
   "outputs": [
    {
     "data": {
      "text/html": [
       "<table>\n",
       "<caption>A data.frame: 6 × 5</caption>\n",
       "<thead>\n",
       "\t<tr><th></th><th scope=col>Class</th><th scope=col>Sex</th><th scope=col>Age</th><th scope=col>Survived</th><th scope=col>Freq</th></tr>\n",
       "\t<tr><th></th><th scope=col>&lt;fct&gt;</th><th scope=col>&lt;fct&gt;</th><th scope=col>&lt;fct&gt;</th><th scope=col>&lt;fct&gt;</th><th scope=col>&lt;dbl&gt;</th></tr>\n",
       "</thead>\n",
       "<tbody>\n",
       "\t<tr><th scope=row>1</th><td>1st </td><td>Male  </td><td>Child</td><td>No</td><td> 0</td></tr>\n",
       "\t<tr><th scope=row>2</th><td>2nd </td><td>Male  </td><td>Child</td><td>No</td><td> 0</td></tr>\n",
       "\t<tr><th scope=row>3</th><td>3rd </td><td>Male  </td><td>Child</td><td>No</td><td>35</td></tr>\n",
       "\t<tr><th scope=row>4</th><td>Crew</td><td>Male  </td><td>Child</td><td>No</td><td> 0</td></tr>\n",
       "\t<tr><th scope=row>5</th><td>1st </td><td>Female</td><td>Child</td><td>No</td><td> 0</td></tr>\n",
       "\t<tr><th scope=row>6</th><td>2nd </td><td>Female</td><td>Child</td><td>No</td><td> 0</td></tr>\n",
       "</tbody>\n",
       "</table>\n"
      ],
      "text/latex": [
       "A data.frame: 6 × 5\n",
       "\\begin{tabular}{r|lllll}\n",
       "  & Class & Sex & Age & Survived & Freq\\\\\n",
       "  & <fct> & <fct> & <fct> & <fct> & <dbl>\\\\\n",
       "\\hline\n",
       "\t1 & 1st  & Male   & Child & No &  0\\\\\n",
       "\t2 & 2nd  & Male   & Child & No &  0\\\\\n",
       "\t3 & 3rd  & Male   & Child & No & 35\\\\\n",
       "\t4 & Crew & Male   & Child & No &  0\\\\\n",
       "\t5 & 1st  & Female & Child & No &  0\\\\\n",
       "\t6 & 2nd  & Female & Child & No &  0\\\\\n",
       "\\end{tabular}\n"
      ],
      "text/markdown": [
       "\n",
       "A data.frame: 6 × 5\n",
       "\n",
       "| <!--/--> | Class &lt;fct&gt; | Sex &lt;fct&gt; | Age &lt;fct&gt; | Survived &lt;fct&gt; | Freq &lt;dbl&gt; |\n",
       "|---|---|---|---|---|---|\n",
       "| 1 | 1st  | Male   | Child | No |  0 |\n",
       "| 2 | 2nd  | Male   | Child | No |  0 |\n",
       "| 3 | 3rd  | Male   | Child | No | 35 |\n",
       "| 4 | Crew | Male   | Child | No |  0 |\n",
       "| 5 | 1st  | Female | Child | No |  0 |\n",
       "| 6 | 2nd  | Female | Child | No |  0 |\n",
       "\n"
      ],
      "text/plain": [
       "  Class Sex    Age   Survived Freq\n",
       "1 1st   Male   Child No        0  \n",
       "2 2nd   Male   Child No        0  \n",
       "3 3rd   Male   Child No       35  \n",
       "4 Crew  Male   Child No        0  \n",
       "5 1st   Female Child No        0  \n",
       "6 2nd   Female Child No        0  "
      ]
     },
     "metadata": {},
     "output_type": "display_data"
    }
   ],
   "source": [
    "head(data.frame(Titanic))"
   ]
  },
  {
   "cell_type": "code",
   "execution_count": 20,
   "metadata": {},
   "outputs": [
    {
     "data": {
      "image/png": "[encoded data removed]",
      "text/plain": [
       "Plot with title “Titanic”"
      ]
     },
     "metadata": {
      "image/png": {
       "height": 420,
       "width": 420
      }
     },
     "output_type": "display_data"
    }
   ],
   "source": [
    "plot(Titanic)"
   ]
  },
  {
   "cell_type": "markdown",
   "metadata": {},
   "source": [
    "Se me ocurrió utilizar la función plot para que pudiéramos ver todo el comportamiento. Por ejemplo ve,os que hay más hombres adultos de la 3a clase e igual con muejeres y niños "
   ]
  },
  {
   "cell_type": "markdown",
   "metadata": {},
   "source": [
    "### Viajeros por clase"
   ]
  },
  {
   "cell_type": "code",
   "execution_count": 11,
   "metadata": {},
   "outputs": [
    {
     "name": "stderr",
     "output_type": "stream",
     "text": [
      "`summarise()` ungrouping output (override with `.groups` argument)\n",
      "\n"
     ]
    },
    {
     "data": {
      "text/html": [
       "<table>\n",
       "<caption>A tibble: 4 × 2</caption>\n",
       "<thead>\n",
       "\t<tr><th scope=col>Class</th><th scope=col>count</th></tr>\n",
       "\t<tr><th scope=col>&lt;fct&gt;</th><th scope=col>&lt;dbl&gt;</th></tr>\n",
       "</thead>\n",
       "<tbody>\n",
       "\t<tr><td>1st </td><td>325</td></tr>\n",
       "\t<tr><td>2nd </td><td>285</td></tr>\n",
       "\t<tr><td>3rd </td><td>706</td></tr>\n",
       "\t<tr><td>Crew</td><td>885</td></tr>\n",
       "</tbody>\n",
       "</table>\n"
      ],
      "text/latex": [
       "A tibble: 4 × 2\n",
       "\\begin{tabular}{ll}\n",
       " Class & count\\\\\n",
       " <fct> & <dbl>\\\\\n",
       "\\hline\n",
       "\t 1st  & 325\\\\\n",
       "\t 2nd  & 285\\\\\n",
       "\t 3rd  & 706\\\\\n",
       "\t Crew & 885\\\\\n",
       "\\end{tabular}\n"
      ],
      "text/markdown": [
       "\n",
       "A tibble: 4 × 2\n",
       "\n",
       "| Class &lt;fct&gt; | count &lt;dbl&gt; |\n",
       "|---|---|\n",
       "| 1st  | 325 |\n",
       "| 2nd  | 285 |\n",
       "| 3rd  | 706 |\n",
       "| Crew | 885 |\n",
       "\n"
      ],
      "text/plain": [
       "  Class count\n",
       "1 1st   325  \n",
       "2 2nd   285  \n",
       "3 3rd   706  \n",
       "4 Crew  885  "
      ]
     },
     "metadata": {},
     "output_type": "display_data"
    }
   ],
   "source": [
    "data.frame(Titanic)%>% #Hacemos ahora un data frame de las personas que viajaban por clase\n",
    "group_by(Class) %>%\n",
    "summarise(count = sum(Freq))"
   ]
  },
  {
   "cell_type": "markdown",
   "metadata": {},
   "source": [
    "### Exploración de variables categóricas"
   ]
  },
  {
   "cell_type": "code",
   "execution_count": 12,
   "metadata": {},
   "outputs": [
    {
     "name": "stderr",
     "output_type": "stream",
     "text": [
      "`summarise()` ungrouping output (override with `.groups` argument)\n",
      "\n"
     ]
    },
    {
     "data": {
      "text/html": [
       "<table>\n",
       "<caption>A tibble: 2 × 2</caption>\n",
       "<thead>\n",
       "\t<tr><th scope=col>Sex</th><th scope=col>count</th></tr>\n",
       "\t<tr><th scope=col>&lt;fct&gt;</th><th scope=col>&lt;dbl&gt;</th></tr>\n",
       "</thead>\n",
       "<tbody>\n",
       "\t<tr><td>Male  </td><td>1731</td></tr>\n",
       "\t<tr><td>Female</td><td> 470</td></tr>\n",
       "</tbody>\n",
       "</table>\n"
      ],
      "text/latex": [
       "A tibble: 2 × 2\n",
       "\\begin{tabular}{ll}\n",
       " Sex & count\\\\\n",
       " <fct> & <dbl>\\\\\n",
       "\\hline\n",
       "\t Male   & 1731\\\\\n",
       "\t Female &  470\\\\\n",
       "\\end{tabular}\n"
      ],
      "text/markdown": [
       "\n",
       "A tibble: 2 × 2\n",
       "\n",
       "| Sex &lt;fct&gt; | count &lt;dbl&gt; |\n",
       "|---|---|\n",
       "| Male   | 1731 |\n",
       "| Female |  470 |\n",
       "\n"
      ],
      "text/plain": [
       "  Sex    count\n",
       "1 Male   1731 \n",
       "2 Female  470 "
      ]
     },
     "metadata": {},
     "output_type": "display_data"
    }
   ],
   "source": [
    "data.frame(Titanic)%>% #Hacemos ahora un data frame de las personas que viajaban por sexo (Mujeres y Hombres)\n",
    "group_by(Sex) %>%\n",
    "summarise(count = sum(Freq))"
   ]
  },
  {
   "cell_type": "code",
   "execution_count": 13,
   "metadata": {},
   "outputs": [
    {
     "name": "stderr",
     "output_type": "stream",
     "text": [
      "`summarise()` ungrouping output (override with `.groups` argument)\n",
      "\n"
     ]
    },
    {
     "data": {
      "text/html": [
       "<table>\n",
       "<caption>A tibble: 2 × 2</caption>\n",
       "<thead>\n",
       "\t<tr><th scope=col>Age</th><th scope=col>count</th></tr>\n",
       "\t<tr><th scope=col>&lt;fct&gt;</th><th scope=col>&lt;dbl&gt;</th></tr>\n",
       "</thead>\n",
       "<tbody>\n",
       "\t<tr><td>Child</td><td> 109</td></tr>\n",
       "\t<tr><td>Adult</td><td>2092</td></tr>\n",
       "</tbody>\n",
       "</table>\n"
      ],
      "text/latex": [
       "A tibble: 2 × 2\n",
       "\\begin{tabular}{ll}\n",
       " Age & count\\\\\n",
       " <fct> & <dbl>\\\\\n",
       "\\hline\n",
       "\t Child &  109\\\\\n",
       "\t Adult & 2092\\\\\n",
       "\\end{tabular}\n"
      ],
      "text/markdown": [
       "\n",
       "A tibble: 2 × 2\n",
       "\n",
       "| Age &lt;fct&gt; | count &lt;dbl&gt; |\n",
       "|---|---|\n",
       "| Child |  109 |\n",
       "| Adult | 2092 |\n",
       "\n"
      ],
      "text/plain": [
       "  Age   count\n",
       "1 Child  109 \n",
       "2 Adult 2092 "
      ]
     },
     "metadata": {},
     "output_type": "display_data"
    }
   ],
   "source": [
    "data.frame(Titanic)%>% #Hacemos ahora un data frame de las personas que viajaban por edad (Adultos y Niños)\n",
    "group_by(Age) %>%\n",
    "summarise(count = sum(Freq))"
   ]
  },
  {
   "cell_type": "code",
   "execution_count": 14,
   "metadata": {},
   "outputs": [
    {
     "name": "stderr",
     "output_type": "stream",
     "text": [
      "`summarise()` ungrouping output (override with `.groups` argument)\n",
      "\n"
     ]
    },
    {
     "data": {
      "text/html": [
       "<table>\n",
       "<caption>A tibble: 2 × 2</caption>\n",
       "<thead>\n",
       "\t<tr><th scope=col>Survived</th><th scope=col>count</th></tr>\n",
       "\t<tr><th scope=col>&lt;fct&gt;</th><th scope=col>&lt;dbl&gt;</th></tr>\n",
       "</thead>\n",
       "<tbody>\n",
       "\t<tr><td>No </td><td>1490</td></tr>\n",
       "\t<tr><td>Yes</td><td> 711</td></tr>\n",
       "</tbody>\n",
       "</table>\n"
      ],
      "text/latex": [
       "A tibble: 2 × 2\n",
       "\\begin{tabular}{ll}\n",
       " Survived & count\\\\\n",
       " <fct> & <dbl>\\\\\n",
       "\\hline\n",
       "\t No  & 1490\\\\\n",
       "\t Yes &  711\\\\\n",
       "\\end{tabular}\n"
      ],
      "text/markdown": [
       "\n",
       "A tibble: 2 × 2\n",
       "\n",
       "| Survived &lt;fct&gt; | count &lt;dbl&gt; |\n",
       "|---|---|\n",
       "| No  | 1490 |\n",
       "| Yes |  711 |\n",
       "\n"
      ],
      "text/plain": [
       "  Survived count\n",
       "1 No       1490 \n",
       "2 Yes       711 "
      ]
     },
     "metadata": {},
     "output_type": "display_data"
    }
   ],
   "source": [
    "data.frame(Titanic)%>% #Hacemos ahora un data frame de las personas que sobrevivieron\n",
    "group_by(Survived) %>%\n",
    "summarise(count = sum(Freq))"
   ]
  },
  {
   "cell_type": "markdown",
   "metadata": {},
   "source": [
    "Podemos observar que había más hombres que mujeres, más adultos que niños, más de 3ra clase que de las otras 2 y hubo casi la mitad de sobrevivientes"
   ]
  },
  {
   "cell_type": "markdown",
   "metadata": {},
   "source": [
    "### Ejercicio 4: Swiss\n",
    "Tenemos datos de fertilidad y otras variables socioeconómicas de 47 provincias franco-parlantes en Swiza en 1888.\n",
    "¿Cómo conjuntarían todas las variables?\n",
    "Hagan gráficas para cada variable. ¿Se ve algo especial o raro?\n",
    "Hagan un scatterplot de Fertilidad vs el porcentaje de católicos. ¿Se ve algo interesante?\n",
    "¿Hay relación entre agricultura y Educación?"
   ]
  },
  {
   "cell_type": "code",
   "execution_count": 21,
   "metadata": {},
   "outputs": [
    {
     "data": {
      "text/html": [
       "<table>\n",
       "<caption>A data.frame: 6 × 6</caption>\n",
       "<thead>\n",
       "\t<tr><th></th><th scope=col>Fertility</th><th scope=col>Agriculture</th><th scope=col>Examination</th><th scope=col>Education</th><th scope=col>Catholic</th><th scope=col>Infant.Mortality</th></tr>\n",
       "\t<tr><th></th><th scope=col>&lt;dbl&gt;</th><th scope=col>&lt;dbl&gt;</th><th scope=col>&lt;int&gt;</th><th scope=col>&lt;int&gt;</th><th scope=col>&lt;dbl&gt;</th><th scope=col>&lt;dbl&gt;</th></tr>\n",
       "</thead>\n",
       "<tbody>\n",
       "\t<tr><th scope=row>Courtelary</th><td>80.2</td><td>17.0</td><td>15</td><td>12</td><td> 9.96</td><td>22.2</td></tr>\n",
       "\t<tr><th scope=row>Delemont</th><td>83.1</td><td>45.1</td><td> 6</td><td> 9</td><td>84.84</td><td>22.2</td></tr>\n",
       "\t<tr><th scope=row>Franches-Mnt</th><td>92.5</td><td>39.7</td><td> 5</td><td> 5</td><td>93.40</td><td>20.2</td></tr>\n",
       "\t<tr><th scope=row>Moutier</th><td>85.8</td><td>36.5</td><td>12</td><td> 7</td><td>33.77</td><td>20.3</td></tr>\n",
       "\t<tr><th scope=row>Neuveville</th><td>76.9</td><td>43.5</td><td>17</td><td>15</td><td> 5.16</td><td>20.6</td></tr>\n",
       "\t<tr><th scope=row>Porrentruy</th><td>76.1</td><td>35.3</td><td> 9</td><td> 7</td><td>90.57</td><td>26.6</td></tr>\n",
       "</tbody>\n",
       "</table>\n"
      ],
      "text/latex": [
       "A data.frame: 6 × 6\n",
       "\\begin{tabular}{r|llllll}\n",
       "  & Fertility & Agriculture & Examination & Education & Catholic & Infant.Mortality\\\\\n",
       "  & <dbl> & <dbl> & <int> & <int> & <dbl> & <dbl>\\\\\n",
       "\\hline\n",
       "\tCourtelary & 80.2 & 17.0 & 15 & 12 &  9.96 & 22.2\\\\\n",
       "\tDelemont & 83.1 & 45.1 &  6 &  9 & 84.84 & 22.2\\\\\n",
       "\tFranches-Mnt & 92.5 & 39.7 &  5 &  5 & 93.40 & 20.2\\\\\n",
       "\tMoutier & 85.8 & 36.5 & 12 &  7 & 33.77 & 20.3\\\\\n",
       "\tNeuveville & 76.9 & 43.5 & 17 & 15 &  5.16 & 20.6\\\\\n",
       "\tPorrentruy & 76.1 & 35.3 &  9 &  7 & 90.57 & 26.6\\\\\n",
       "\\end{tabular}\n"
      ],
      "text/markdown": [
       "\n",
       "A data.frame: 6 × 6\n",
       "\n",
       "| <!--/--> | Fertility &lt;dbl&gt; | Agriculture &lt;dbl&gt; | Examination &lt;int&gt; | Education &lt;int&gt; | Catholic &lt;dbl&gt; | Infant.Mortality &lt;dbl&gt; |\n",
       "|---|---|---|---|---|---|---|\n",
       "| Courtelary | 80.2 | 17.0 | 15 | 12 |  9.96 | 22.2 |\n",
       "| Delemont | 83.1 | 45.1 |  6 |  9 | 84.84 | 22.2 |\n",
       "| Franches-Mnt | 92.5 | 39.7 |  5 |  5 | 93.40 | 20.2 |\n",
       "| Moutier | 85.8 | 36.5 | 12 |  7 | 33.77 | 20.3 |\n",
       "| Neuveville | 76.9 | 43.5 | 17 | 15 |  5.16 | 20.6 |\n",
       "| Porrentruy | 76.1 | 35.3 |  9 |  7 | 90.57 | 26.6 |\n",
       "\n"
      ],
      "text/plain": [
       "             Fertility Agriculture Examination Education Catholic\n",
       "Courtelary   80.2      17.0        15          12         9.96   \n",
       "Delemont     83.1      45.1         6           9        84.84   \n",
       "Franches-Mnt 92.5      39.7         5           5        93.40   \n",
       "Moutier      85.8      36.5        12           7        33.77   \n",
       "Neuveville   76.9      43.5        17          15         5.16   \n",
       "Porrentruy   76.1      35.3         9           7        90.57   \n",
       "             Infant.Mortality\n",
       "Courtelary   22.2            \n",
       "Delemont     22.2            \n",
       "Franches-Mnt 20.2            \n",
       "Moutier      20.3            \n",
       "Neuveville   20.6            \n",
       "Porrentruy   26.6            "
      ]
     },
     "metadata": {},
     "output_type": "display_data"
    }
   ],
   "source": [
    "head(data.frame(swiss))"
   ]
  },
  {
   "cell_type": "markdown",
   "metadata": {},
   "source": [
    "Podemos conjuntar todas las variables con un boxplot para observar su comportamiento"
   ]
  },
  {
   "cell_type": "code",
   "execution_count": 42,
   "metadata": {},
   "outputs": [
    {
     "data": {
      "image/png": "[encoded data removed]",
      "text/plain": [
       "plot without title"
      ]
     },
     "metadata": {
      "image/png": {
       "height": 420,
       "width": 420
      }
     },
     "output_type": "display_data"
    }
   ],
   "source": [
    "boxplot(data.frame(swiss))"
   ]
  },
  {
   "cell_type": "code",
   "execution_count": 49,
   "metadata": {},
   "outputs": [],
   "source": [
    "library(gridExtra)"
   ]
  },
  {
   "cell_type": "code",
   "execution_count": 51,
   "metadata": {},
   "outputs": [
    {
     "name": "stderr",
     "output_type": "stream",
     "text": [
      "`stat_bin()` using `bins = 30`. Pick better value with `binwidth`.\n",
      "\n",
      "`stat_bin()` using `bins = 30`. Pick better value with `binwidth`.\n",
      "\n",
      "`stat_bin()` using `bins = 30`. Pick better value with `binwidth`.\n",
      "\n",
      "`stat_bin()` using `bins = 30`. Pick better value with `binwidth`.\n",
      "\n",
      "`stat_bin()` using `bins = 30`. Pick better value with `binwidth`.\n",
      "\n",
      "`stat_bin()` using `bins = 30`. Pick better value with `binwidth`.\n",
      "\n"
     ]
    },
    {
     "data": {
      "image/png": "[encoded data removed]",
      "text/plain": [
       "plot without title"
      ]
     },
     "metadata": {
      "image/png": {
       "height": 420,
       "width": 420
      }
     },
     "output_type": "display_data"
    }
   ],
   "source": [
    "Suiza <- data.frame(swiss)\n",
    "h1 <- ggplot(data=Suiza, aes(Fertility)) + geom_histogram()\n",
    "h2 <- ggplot(data=Suiza, aes(Agriculture)) + geom_histogram()\n",
    "h3 <- ggplot(data=Suiza, aes(Examination)) + geom_histogram()\n",
    "h4 <- ggplot(data=Suiza, aes(Education)) + geom_histogram()\n",
    "h5 <- ggplot(data=Suiza, aes(Catholic)) + geom_histogram()\n",
    "h6 <- ggplot(data=Suiza, aes(Infant.Mortality)) + geom_histogram()\n",
    "grid.arrange(h1, h2, h3, h4, h5, h6, nrow=3)"
   ]
  },
  {
   "cell_type": "code",
   "execution_count": 39,
   "metadata": {},
   "outputs": [
    {
     "data": {
      "image/png": "[encoded data removed]",
      "text/plain": [
       "Plot with title “Fertilidad vs Católicos (%)”"
      ]
     },
     "metadata": {
      "image/png": {
       "height": 420,
       "width": 420
      }
     },
     "output_type": "display_data"
    }
   ],
   "source": [
    "plot(swiss$Fertility, swiss$Catholic, main=\"Fertilidad vs Católicos (%)\",\n",
    "   xlab=\"Fertility \", ylab=\"Catholics \", pch=19)"
   ]
  },
  {
   "cell_type": "markdown",
   "metadata": {},
   "source": [
    "La fertilidad es muy alta en Suiza pero el %de Católicos varía en cada región, hay lugares que no tienen nada de católicos y hay otros que casi toda su población es católica. Por lo cual no podemos decir que existe una relacción de causalidad pero sí están correlacionados"
   ]
  },
  {
   "cell_type": "code",
   "execution_count": 40,
   "metadata": {},
   "outputs": [
    {
     "data": {
      "image/png": "[encoded data removed]",
      "text/plain": [
       "Plot with title “Agricultura vs Educación (%)”"
      ]
     },
     "metadata": {
      "image/png": {
       "height": 420,
       "width": 420
      }
     },
     "output_type": "display_data"
    }
   ],
   "source": [
    "plot(swiss$Agriculture, swiss$Education, main=\"Agricultura vs Educación (%)\",\n",
    "   xlab=\"Agriculture \", ylab=\"Education \", pch=19)"
   ]
  },
  {
   "cell_type": "markdown",
   "metadata": {},
   "source": [
    "En esta gráfica podemos observar que estas variables están un poco relacionadas. Entra mayor sea el porcentaje educativo menor es el procentaje de agricultura y viceversa. Entre Menor sea el porcentaje educativo, mayor es el porcentaje de agricultura"
   ]
  },
  {
   "cell_type": "markdown",
   "metadata": {},
   "source": [
    "### Ejercicio 5: Galaxias\n",
    "Usando el conjunto galaxies de MASS, que contiene velocidades para 82 planetas.\n",
    "\n",
    "Hagan histogramas, boxplots y la aproximación de la densidad.\n",
    "Cambien los anchos de las bandas y expliquen cuál es el mejor?\n",
    "Elijan el número de gráficas que se requieren para este experimento"
   ]
  },
  {
   "cell_type": "code",
   "execution_count": 54,
   "metadata": {},
   "outputs": [],
   "source": [
    "library(MASS)\n",
    "vl <- data.frame(michelson)"
   ]
  },
  {
   "cell_type": "code",
   "execution_count": 55,
   "metadata": {},
   "outputs": [
    {
     "data": {
      "image/png": "[encoded data removed]",
      "text/plain": [
       "plot without title"
      ]
     },
     "metadata": {
      "image/png": {
       "height": 420,
       "width": 420
      }
     },
     "output_type": "display_data"
    }
   ],
   "source": [
    "#HACEMOS EL HISTOGRAMA\n",
    "ggplot(vl, aes(Speed, fill=Expt)) + \n",
    "    geom_histogram(binwidth = 100) + xlab(\"Speed (?)\") + \n",
    "    ylab(\"Run\") + facet_grid(~Expt) +\n",
    "    theme(legend.position = 'none')"
   ]
  },
  {
   "cell_type": "code",
   "execution_count": 56,
   "metadata": {},
   "outputs": [
    {
     "data": {
      "image/png": "[encoded data removed]",
      "text/plain": [
       "plot without title"
      ]
     },
     "metadata": {
      "image/png": {
       "height": 420,
       "width": 420
      }
     },
     "output_type": "display_data"
    }
   ],
   "source": [
    "boxplot(data.frame(michelson)) #GRAFICAMOS EL BOXPLOT"
   ]
  },
  {
   "cell_type": "code",
   "execution_count": null,
   "metadata": {},
   "outputs": [],
   "source": []
  },
  {
   "cell_type": "markdown",
   "metadata": {},
   "source": [
    "### Ejercicio 6:Estudiantes.\n",
    "El conjunto survey contiene información de estudiantes tomando su primer curso de estadística:\n",
    "\n",
    "Hacer el histograma y poner encima la estimación de la densidad, ¿hay bimodalidad?\n",
    "Jueguen con los anchos para tener mejores estimaciones de la densidad, ¿cuál es mejor?\n",
    "Comparen las distribuciones de hombres y mujeres, que compartan la escala, con distintas estimaciones de densidad"
   ]
  },
  {
   "cell_type": "code",
   "execution_count": 57,
   "metadata": {},
   "outputs": [
    {
     "data": {
      "text/html": [
       "<table>\n",
       "<caption>A data.frame: 237 × 12</caption>\n",
       "<thead>\n",
       "\t<tr><th></th><th scope=col>Sex</th><th scope=col>Wr.Hnd</th><th scope=col>NW.Hnd</th><th scope=col>W.Hnd</th><th scope=col>Fold</th><th scope=col>Pulse</th><th scope=col>Clap</th><th scope=col>Exer</th><th scope=col>Smoke</th><th scope=col>Height</th><th scope=col>M.I</th><th scope=col>Age</th></tr>\n",
       "\t<tr><th></th><th scope=col>&lt;fct&gt;</th><th scope=col>&lt;dbl&gt;</th><th scope=col>&lt;dbl&gt;</th><th scope=col>&lt;fct&gt;</th><th scope=col>&lt;fct&gt;</th><th scope=col>&lt;int&gt;</th><th scope=col>&lt;fct&gt;</th><th scope=col>&lt;fct&gt;</th><th scope=col>&lt;fct&gt;</th><th scope=col>&lt;dbl&gt;</th><th scope=col>&lt;fct&gt;</th><th scope=col>&lt;dbl&gt;</th></tr>\n",
       "</thead>\n",
       "<tbody>\n",
       "\t<tr><th scope=row>1</th><td>Female</td><td>18.5</td><td>18.0</td><td>Right</td><td>R on L </td><td> 92</td><td>Left   </td><td>Some</td><td>Never</td><td>173.00</td><td>Metric  </td><td>18.250</td></tr>\n",
       "\t<tr><th scope=row>2</th><td>Male  </td><td>19.5</td><td>20.5</td><td>Left </td><td>R on L </td><td>104</td><td>Left   </td><td>None</td><td>Regul</td><td>177.80</td><td>Imperial</td><td>17.583</td></tr>\n",
       "\t<tr><th scope=row>3</th><td>Male  </td><td>18.0</td><td>13.3</td><td>Right</td><td>L on R </td><td> 87</td><td>Neither</td><td>None</td><td>Occas</td><td>    NA</td><td>NA      </td><td>16.917</td></tr>\n",
       "\t<tr><th scope=row>4</th><td>Male  </td><td>18.8</td><td>18.9</td><td>Right</td><td>R on L </td><td> NA</td><td>Neither</td><td>None</td><td>Never</td><td>160.00</td><td>Metric  </td><td>20.333</td></tr>\n",
       "\t<tr><th scope=row>5</th><td>Male  </td><td>20.0</td><td>20.0</td><td>Right</td><td>Neither</td><td> 35</td><td>Right  </td><td>Some</td><td>Never</td><td>165.00</td><td>Metric  </td><td>23.667</td></tr>\n",
       "\t<tr><th scope=row>6</th><td>Female</td><td>18.0</td><td>17.7</td><td>Right</td><td>L on R </td><td> 64</td><td>Right  </td><td>Some</td><td>Never</td><td>172.72</td><td>Imperial</td><td>21.000</td></tr>\n",
       "\t<tr><th scope=row>7</th><td>Male  </td><td>17.7</td><td>17.7</td><td>Right</td><td>L on R </td><td> 83</td><td>Right  </td><td>Freq</td><td>Never</td><td>182.88</td><td>Imperial</td><td>18.833</td></tr>\n",
       "\t<tr><th scope=row>8</th><td>Female</td><td>17.0</td><td>17.3</td><td>Right</td><td>R on L </td><td> 74</td><td>Right  </td><td>Freq</td><td>Never</td><td>157.00</td><td>Metric  </td><td>35.833</td></tr>\n",
       "\t<tr><th scope=row>9</th><td>Male  </td><td>20.0</td><td>19.5</td><td>Right</td><td>R on L </td><td> 72</td><td>Right  </td><td>Some</td><td>Never</td><td>175.00</td><td>Metric  </td><td>19.000</td></tr>\n",
       "\t<tr><th scope=row>10</th><td>Male  </td><td>18.5</td><td>18.5</td><td>Right</td><td>R on L </td><td> 90</td><td>Right  </td><td>Some</td><td>Never</td><td>167.00</td><td>Metric  </td><td>22.333</td></tr>\n",
       "\t<tr><th scope=row>11</th><td>Female</td><td>17.0</td><td>17.2</td><td>Right</td><td>L on R </td><td> 80</td><td>Right  </td><td>Freq</td><td>Never</td><td>156.20</td><td>Imperial</td><td>28.500</td></tr>\n",
       "\t<tr><th scope=row>12</th><td>Male  </td><td>21.0</td><td>21.0</td><td>Right</td><td>R on L </td><td> 68</td><td>Left   </td><td>Freq</td><td>Never</td><td>    NA</td><td>NA      </td><td>18.250</td></tr>\n",
       "\t<tr><th scope=row>13</th><td>Female</td><td>16.0</td><td>16.0</td><td>Right</td><td>L on R </td><td> NA</td><td>Right  </td><td>Some</td><td>Never</td><td>155.00</td><td>Metric  </td><td>18.750</td></tr>\n",
       "\t<tr><th scope=row>14</th><td>Female</td><td>19.5</td><td>20.2</td><td>Right</td><td>L on R </td><td> 66</td><td>Neither</td><td>Some</td><td>Never</td><td>155.00</td><td>Metric  </td><td>17.500</td></tr>\n",
       "\t<tr><th scope=row>15</th><td>Male  </td><td>16.0</td><td>15.5</td><td>Right</td><td>R on L </td><td> 60</td><td>Right  </td><td>Some</td><td>Never</td><td>    NA</td><td>NA      </td><td>17.167</td></tr>\n",
       "\t<tr><th scope=row>16</th><td>Female</td><td>17.5</td><td>17.0</td><td>Right</td><td>R on L </td><td> NA</td><td>Right  </td><td>Freq</td><td>Never</td><td>156.00</td><td>Metric  </td><td>17.167</td></tr>\n",
       "\t<tr><th scope=row>17</th><td>Female</td><td>18.0</td><td>18.0</td><td>Right</td><td>L on R </td><td> 89</td><td>Neither</td><td>Freq</td><td>Never</td><td>157.00</td><td>Metric  </td><td>19.333</td></tr>\n",
       "\t<tr><th scope=row>18</th><td>Male  </td><td>19.4</td><td>19.2</td><td>Left </td><td>R on L </td><td> 74</td><td>Right  </td><td>Some</td><td>Never</td><td>182.88</td><td>Imperial</td><td>18.333</td></tr>\n",
       "\t<tr><th scope=row>19</th><td>Male  </td><td>20.5</td><td>20.5</td><td>Right</td><td>L on R </td><td> NA</td><td>Left   </td><td>Some</td><td>Never</td><td>190.50</td><td>Imperial</td><td>19.750</td></tr>\n",
       "\t<tr><th scope=row>20</th><td>Male  </td><td>21.0</td><td>20.9</td><td>Right</td><td>R on L </td><td> 78</td><td>Right  </td><td>Freq</td><td>Never</td><td>177.00</td><td>Metric  </td><td>17.917</td></tr>\n",
       "\t<tr><th scope=row>21</th><td>Male  </td><td>21.5</td><td>22.0</td><td>Right</td><td>R on L </td><td> 72</td><td>Left   </td><td>Freq</td><td>Never</td><td>190.50</td><td>Imperial</td><td>17.917</td></tr>\n",
       "\t<tr><th scope=row>22</th><td>Male  </td><td>20.1</td><td>20.7</td><td>Right</td><td>L on R </td><td> 72</td><td>Right  </td><td>Freq</td><td>Never</td><td>180.34</td><td>Imperial</td><td>18.167</td></tr>\n",
       "\t<tr><th scope=row>23</th><td>Male  </td><td>18.5</td><td>18.0</td><td>Right</td><td>L on R </td><td> 64</td><td>Right  </td><td>Freq</td><td>Never</td><td>180.34</td><td>Imperial</td><td>17.833</td></tr>\n",
       "\t<tr><th scope=row>24</th><td>Male  </td><td>21.5</td><td>21.2</td><td>Right</td><td>R on L </td><td> 62</td><td>Right  </td><td>Some</td><td>Never</td><td>184.00</td><td>Metric  </td><td>18.250</td></tr>\n",
       "\t<tr><th scope=row>25</th><td>Female</td><td>17.0</td><td>17.5</td><td>Right</td><td>R on L </td><td> 64</td><td>Left   </td><td>Some</td><td>Never</td><td>    NA</td><td>NA      </td><td>19.167</td></tr>\n",
       "\t<tr><th scope=row>26</th><td>Male  </td><td>18.5</td><td>18.5</td><td>Right</td><td>Neither</td><td> 90</td><td>Neither</td><td>Some</td><td>Never</td><td>    NA</td><td>NA      </td><td>17.583</td></tr>\n",
       "\t<tr><th scope=row>27</th><td>Male  </td><td>21.0</td><td>20.7</td><td>Right</td><td>R on L </td><td> 90</td><td>Right  </td><td>Some</td><td>Never</td><td>172.72</td><td>Imperial</td><td>17.500</td></tr>\n",
       "\t<tr><th scope=row>28</th><td>Male  </td><td>20.8</td><td>21.4</td><td>Right</td><td>R on L </td><td> 62</td><td>Neither</td><td>Freq</td><td>Never</td><td>175.26</td><td>Imperial</td><td>18.083</td></tr>\n",
       "\t<tr><th scope=row>29</th><td>Male  </td><td>17.8</td><td>17.8</td><td>Right</td><td>L on R </td><td> 76</td><td>Neither</td><td>Freq</td><td>Never</td><td>    NA</td><td>NA      </td><td>21.917</td></tr>\n",
       "\t<tr><th scope=row>30</th><td>Male  </td><td>19.5</td><td>19.5</td><td>Right</td><td>L on R </td><td> 79</td><td>Right  </td><td>Some</td><td>Never</td><td>167.00</td><td>Metric  </td><td>19.250</td></tr>\n",
       "\t<tr><th scope=row>⋮</th><td>⋮</td><td>⋮</td><td>⋮</td><td>⋮</td><td>⋮</td><td>⋮</td><td>⋮</td><td>⋮</td><td>⋮</td><td>⋮</td><td>⋮</td><td>⋮</td></tr>\n",
       "\t<tr><th scope=row>208</th><td>Male  </td><td>17.5</td><td>17.6</td><td>Right</td><td>R on L </td><td>84</td><td>Right  </td><td>Some</td><td>Never</td><td>160.00</td><td>Metric  </td><td>18.583</td></tr>\n",
       "\t<tr><th scope=row>209</th><td>Male  </td><td>17.5</td><td>17.0</td><td>Left </td><td>L on R </td><td>97</td><td>Neither</td><td>None</td><td>Never</td><td>165.00</td><td>Metric  </td><td>19.500</td></tr>\n",
       "\t<tr><th scope=row>210</th><td>Female</td><td>20.8</td><td>20.7</td><td>Right</td><td>R on L </td><td>NA</td><td>Neither</td><td>Freq</td><td>Never</td><td>171.50</td><td>Metric  </td><td>18.500</td></tr>\n",
       "\t<tr><th scope=row>211</th><td>Female</td><td>18.6</td><td>18.6</td><td>Right</td><td>L on R </td><td>74</td><td>Right  </td><td>Some</td><td>Never</td><td>160.00</td><td>Metric  </td><td>17.167</td></tr>\n",
       "\t<tr><th scope=row>212</th><td>Female</td><td>17.5</td><td>17.5</td><td>Left </td><td>R on L </td><td>83</td><td>Neither</td><td>Some</td><td>Never</td><td>163.00</td><td>Metric  </td><td>17.250</td></tr>\n",
       "\t<tr><th scope=row>213</th><td>Male  </td><td>18.0</td><td>18.5</td><td>Right</td><td>R on L </td><td>78</td><td>Right  </td><td>Freq</td><td>Never</td><td>    NA</td><td>NA      </td><td>17.500</td></tr>\n",
       "\t<tr><th scope=row>214</th><td>Male  </td><td>17.0</td><td>17.5</td><td>Right</td><td>R on L </td><td>65</td><td>Right  </td><td>Some</td><td>Never</td><td>165.00</td><td>Metric  </td><td>20.417</td></tr>\n",
       "\t<tr><th scope=row>215</th><td>Female</td><td>18.0</td><td>17.8</td><td>Right</td><td>L on R </td><td>68</td><td>Right  </td><td>Some</td><td>Never</td><td>168.90</td><td>Imperial</td><td>17.083</td></tr>\n",
       "\t<tr><th scope=row>216</th><td>Male  </td><td>19.5</td><td>20.0</td><td>Right</td><td>Neither</td><td>NA</td><td>Right  </td><td>Some</td><td>Never</td><td>170.00</td><td>Metric  </td><td>21.250</td></tr>\n",
       "\t<tr><th scope=row>217</th><td>Female</td><td>16.3</td><td>16.2</td><td>Right</td><td>L on R </td><td>NA</td><td>Right  </td><td>None</td><td>Never</td><td>    NA</td><td>NA      </td><td>19.250</td></tr>\n",
       "\t<tr><th scope=row>218</th><td>Male  </td><td>18.2</td><td>19.8</td><td>Right</td><td>R on L </td><td>88</td><td>Right  </td><td>Freq</td><td>Never</td><td>185.00</td><td>Metric  </td><td>19.333</td></tr>\n",
       "\t<tr><th scope=row>219</th><td>Female</td><td>17.0</td><td>17.3</td><td>Right</td><td>L on R </td><td>NA</td><td>Neither</td><td>Freq</td><td>Never</td><td>173.00</td><td>Metric  </td><td>19.167</td></tr>\n",
       "\t<tr><th scope=row>220</th><td>Male  </td><td>23.2</td><td>23.2</td><td>Right</td><td>L on R </td><td>75</td><td>Right  </td><td>Freq</td><td>Never</td><td>188.00</td><td>Metric  </td><td>18.917</td></tr>\n",
       "\t<tr><th scope=row>221</th><td>Male  </td><td>23.2</td><td>23.3</td><td>Right</td><td>L on R </td><td>NA</td><td>Right  </td><td>None</td><td>Heavy</td><td>171.00</td><td>Metric  </td><td>20.917</td></tr>\n",
       "\t<tr><th scope=row>222</th><td>Female</td><td>15.9</td><td>16.5</td><td>Right</td><td>R on L </td><td>70</td><td>Right  </td><td>Freq</td><td>Never</td><td>167.64</td><td>Imperial</td><td>17.333</td></tr>\n",
       "\t<tr><th scope=row>223</th><td>Female</td><td>17.5</td><td>18.4</td><td>Right</td><td>R on L </td><td>88</td><td>Right  </td><td>Some</td><td>Never</td><td>162.56</td><td>Imperial</td><td>18.167</td></tr>\n",
       "\t<tr><th scope=row>224</th><td>Female</td><td>17.5</td><td>17.6</td><td>Right</td><td>L on R </td><td>NA</td><td>Right  </td><td>Freq</td><td>Never</td><td>150.00</td><td>Metric  </td><td>20.750</td></tr>\n",
       "\t<tr><th scope=row>225</th><td>Female</td><td>17.6</td><td>17.2</td><td>Right</td><td>L on R </td><td>NA</td><td>Right  </td><td>Some</td><td>Never</td><td>    NA</td><td>NA      </td><td>19.917</td></tr>\n",
       "\t<tr><th scope=row>226</th><td>Female</td><td>17.5</td><td>17.8</td><td>Right</td><td>R on L </td><td>96</td><td>Right  </td><td>Some</td><td>Never</td><td>    NA</td><td>NA      </td><td>18.667</td></tr>\n",
       "\t<tr><th scope=row>227</th><td>Female</td><td>18.8</td><td>18.3</td><td>Right</td><td>R on L </td><td>80</td><td>Right  </td><td>Some</td><td>Heavy</td><td>170.18</td><td>Imperial</td><td>18.417</td></tr>\n",
       "\t<tr><th scope=row>228</th><td>Male  </td><td>20.0</td><td>19.8</td><td>Right</td><td>L on R </td><td>68</td><td>Right  </td><td>Freq</td><td>Never</td><td>185.00</td><td>Metric  </td><td>17.417</td></tr>\n",
       "\t<tr><th scope=row>229</th><td>Female</td><td>18.6</td><td>18.8</td><td>Right</td><td>L on R </td><td>70</td><td>Right  </td><td>Freq</td><td>Regul</td><td>167.00</td><td>Metric  </td><td>20.333</td></tr>\n",
       "\t<tr><th scope=row>230</th><td>Male  </td><td>18.6</td><td>19.6</td><td>Right</td><td>L on R </td><td>71</td><td>Right  </td><td>Freq</td><td>Occas</td><td>185.00</td><td>Metric  </td><td>19.333</td></tr>\n",
       "\t<tr><th scope=row>231</th><td>Female</td><td>18.8</td><td>18.5</td><td>Right</td><td>R on L </td><td>80</td><td>Right  </td><td>Some</td><td>Never</td><td>169.00</td><td>Metric  </td><td>18.167</td></tr>\n",
       "\t<tr><th scope=row>232</th><td>Male  </td><td>18.0</td><td>16.0</td><td>Right</td><td>R on L </td><td>NA</td><td>Right  </td><td>Some</td><td>Never</td><td>180.34</td><td>Imperial</td><td>20.750</td></tr>\n",
       "\t<tr><th scope=row>233</th><td>Female</td><td>18.0</td><td>18.0</td><td>Right</td><td>L on R </td><td>85</td><td>Right  </td><td>Some</td><td>Never</td><td>165.10</td><td>Imperial</td><td>17.667</td></tr>\n",
       "\t<tr><th scope=row>234</th><td>Female</td><td>18.5</td><td>18.0</td><td>Right</td><td>L on R </td><td>88</td><td>Right  </td><td>Some</td><td>Never</td><td>160.00</td><td>Metric  </td><td>16.917</td></tr>\n",
       "\t<tr><th scope=row>235</th><td>Female</td><td>17.5</td><td>16.5</td><td>Right</td><td>R on L </td><td>NA</td><td>Right  </td><td>Some</td><td>Never</td><td>170.00</td><td>Metric  </td><td>18.583</td></tr>\n",
       "\t<tr><th scope=row>236</th><td>Male  </td><td>21.0</td><td>21.5</td><td>Right</td><td>R on L </td><td>90</td><td>Right  </td><td>Some</td><td>Never</td><td>183.00</td><td>Metric  </td><td>17.167</td></tr>\n",
       "\t<tr><th scope=row>237</th><td>Female</td><td>17.6</td><td>17.3</td><td>Right</td><td>R on L </td><td>85</td><td>Right  </td><td>Freq</td><td>Never</td><td>168.50</td><td>Metric  </td><td>17.750</td></tr>\n",
       "</tbody>\n",
       "</table>\n"
      ],
      "text/latex": [
       "A data.frame: 237 × 12\n",
       "\\begin{tabular}{r|llllllllllll}\n",
       "  & Sex & Wr.Hnd & NW.Hnd & W.Hnd & Fold & Pulse & Clap & Exer & Smoke & Height & M.I & Age\\\\\n",
       "  & <fct> & <dbl> & <dbl> & <fct> & <fct> & <int> & <fct> & <fct> & <fct> & <dbl> & <fct> & <dbl>\\\\\n",
       "\\hline\n",
       "\t1 & Female & 18.5 & 18.0 & Right & R on L  &  92 & Left    & Some & Never & 173.00 & Metric   & 18.250\\\\\n",
       "\t2 & Male   & 19.5 & 20.5 & Left  & R on L  & 104 & Left    & None & Regul & 177.80 & Imperial & 17.583\\\\\n",
       "\t3 & Male   & 18.0 & 13.3 & Right & L on R  &  87 & Neither & None & Occas &     NA & NA       & 16.917\\\\\n",
       "\t4 & Male   & 18.8 & 18.9 & Right & R on L  &  NA & Neither & None & Never & 160.00 & Metric   & 20.333\\\\\n",
       "\t5 & Male   & 20.0 & 20.0 & Right & Neither &  35 & Right   & Some & Never & 165.00 & Metric   & 23.667\\\\\n",
       "\t6 & Female & 18.0 & 17.7 & Right & L on R  &  64 & Right   & Some & Never & 172.72 & Imperial & 21.000\\\\\n",
       "\t7 & Male   & 17.7 & 17.7 & Right & L on R  &  83 & Right   & Freq & Never & 182.88 & Imperial & 18.833\\\\\n",
       "\t8 & Female & 17.0 & 17.3 & Right & R on L  &  74 & Right   & Freq & Never & 157.00 & Metric   & 35.833\\\\\n",
       "\t9 & Male   & 20.0 & 19.5 & Right & R on L  &  72 & Right   & Some & Never & 175.00 & Metric   & 19.000\\\\\n",
       "\t10 & Male   & 18.5 & 18.5 & Right & R on L  &  90 & Right   & Some & Never & 167.00 & Metric   & 22.333\\\\\n",
       "\t11 & Female & 17.0 & 17.2 & Right & L on R  &  80 & Right   & Freq & Never & 156.20 & Imperial & 28.500\\\\\n",
       "\t12 & Male   & 21.0 & 21.0 & Right & R on L  &  68 & Left    & Freq & Never &     NA & NA       & 18.250\\\\\n",
       "\t13 & Female & 16.0 & 16.0 & Right & L on R  &  NA & Right   & Some & Never & 155.00 & Metric   & 18.750\\\\\n",
       "\t14 & Female & 19.5 & 20.2 & Right & L on R  &  66 & Neither & Some & Never & 155.00 & Metric   & 17.500\\\\\n",
       "\t15 & Male   & 16.0 & 15.5 & Right & R on L  &  60 & Right   & Some & Never &     NA & NA       & 17.167\\\\\n",
       "\t16 & Female & 17.5 & 17.0 & Right & R on L  &  NA & Right   & Freq & Never & 156.00 & Metric   & 17.167\\\\\n",
       "\t17 & Female & 18.0 & 18.0 & Right & L on R  &  89 & Neither & Freq & Never & 157.00 & Metric   & 19.333\\\\\n",
       "\t18 & Male   & 19.4 & 19.2 & Left  & R on L  &  74 & Right   & Some & Never & 182.88 & Imperial & 18.333\\\\\n",
       "\t19 & Male   & 20.5 & 20.5 & Right & L on R  &  NA & Left    & Some & Never & 190.50 & Imperial & 19.750\\\\\n",
       "\t20 & Male   & 21.0 & 20.9 & Right & R on L  &  78 & Right   & Freq & Never & 177.00 & Metric   & 17.917\\\\\n",
       "\t21 & Male   & 21.5 & 22.0 & Right & R on L  &  72 & Left    & Freq & Never & 190.50 & Imperial & 17.917\\\\\n",
       "\t22 & Male   & 20.1 & 20.7 & Right & L on R  &  72 & Right   & Freq & Never & 180.34 & Imperial & 18.167\\\\\n",
       "\t23 & Male   & 18.5 & 18.0 & Right & L on R  &  64 & Right   & Freq & Never & 180.34 & Imperial & 17.833\\\\\n",
       "\t24 & Male   & 21.5 & 21.2 & Right & R on L  &  62 & Right   & Some & Never & 184.00 & Metric   & 18.250\\\\\n",
       "\t25 & Female & 17.0 & 17.5 & Right & R on L  &  64 & Left    & Some & Never &     NA & NA       & 19.167\\\\\n",
       "\t26 & Male   & 18.5 & 18.5 & Right & Neither &  90 & Neither & Some & Never &     NA & NA       & 17.583\\\\\n",
       "\t27 & Male   & 21.0 & 20.7 & Right & R on L  &  90 & Right   & Some & Never & 172.72 & Imperial & 17.500\\\\\n",
       "\t28 & Male   & 20.8 & 21.4 & Right & R on L  &  62 & Neither & Freq & Never & 175.26 & Imperial & 18.083\\\\\n",
       "\t29 & Male   & 17.8 & 17.8 & Right & L on R  &  76 & Neither & Freq & Never &     NA & NA       & 21.917\\\\\n",
       "\t30 & Male   & 19.5 & 19.5 & Right & L on R  &  79 & Right   & Some & Never & 167.00 & Metric   & 19.250\\\\\n",
       "\t⋮ & ⋮ & ⋮ & ⋮ & ⋮ & ⋮ & ⋮ & ⋮ & ⋮ & ⋮ & ⋮ & ⋮ & ⋮\\\\\n",
       "\t208 & Male   & 17.5 & 17.6 & Right & R on L  & 84 & Right   & Some & Never & 160.00 & Metric   & 18.583\\\\\n",
       "\t209 & Male   & 17.5 & 17.0 & Left  & L on R  & 97 & Neither & None & Never & 165.00 & Metric   & 19.500\\\\\n",
       "\t210 & Female & 20.8 & 20.7 & Right & R on L  & NA & Neither & Freq & Never & 171.50 & Metric   & 18.500\\\\\n",
       "\t211 & Female & 18.6 & 18.6 & Right & L on R  & 74 & Right   & Some & Never & 160.00 & Metric   & 17.167\\\\\n",
       "\t212 & Female & 17.5 & 17.5 & Left  & R on L  & 83 & Neither & Some & Never & 163.00 & Metric   & 17.250\\\\\n",
       "\t213 & Male   & 18.0 & 18.5 & Right & R on L  & 78 & Right   & Freq & Never &     NA & NA       & 17.500\\\\\n",
       "\t214 & Male   & 17.0 & 17.5 & Right & R on L  & 65 & Right   & Some & Never & 165.00 & Metric   & 20.417\\\\\n",
       "\t215 & Female & 18.0 & 17.8 & Right & L on R  & 68 & Right   & Some & Never & 168.90 & Imperial & 17.083\\\\\n",
       "\t216 & Male   & 19.5 & 20.0 & Right & Neither & NA & Right   & Some & Never & 170.00 & Metric   & 21.250\\\\\n",
       "\t217 & Female & 16.3 & 16.2 & Right & L on R  & NA & Right   & None & Never &     NA & NA       & 19.250\\\\\n",
       "\t218 & Male   & 18.2 & 19.8 & Right & R on L  & 88 & Right   & Freq & Never & 185.00 & Metric   & 19.333\\\\\n",
       "\t219 & Female & 17.0 & 17.3 & Right & L on R  & NA & Neither & Freq & Never & 173.00 & Metric   & 19.167\\\\\n",
       "\t220 & Male   & 23.2 & 23.2 & Right & L on R  & 75 & Right   & Freq & Never & 188.00 & Metric   & 18.917\\\\\n",
       "\t221 & Male   & 23.2 & 23.3 & Right & L on R  & NA & Right   & None & Heavy & 171.00 & Metric   & 20.917\\\\\n",
       "\t222 & Female & 15.9 & 16.5 & Right & R on L  & 70 & Right   & Freq & Never & 167.64 & Imperial & 17.333\\\\\n",
       "\t223 & Female & 17.5 & 18.4 & Right & R on L  & 88 & Right   & Some & Never & 162.56 & Imperial & 18.167\\\\\n",
       "\t224 & Female & 17.5 & 17.6 & Right & L on R  & NA & Right   & Freq & Never & 150.00 & Metric   & 20.750\\\\\n",
       "\t225 & Female & 17.6 & 17.2 & Right & L on R  & NA & Right   & Some & Never &     NA & NA       & 19.917\\\\\n",
       "\t226 & Female & 17.5 & 17.8 & Right & R on L  & 96 & Right   & Some & Never &     NA & NA       & 18.667\\\\\n",
       "\t227 & Female & 18.8 & 18.3 & Right & R on L  & 80 & Right   & Some & Heavy & 170.18 & Imperial & 18.417\\\\\n",
       "\t228 & Male   & 20.0 & 19.8 & Right & L on R  & 68 & Right   & Freq & Never & 185.00 & Metric   & 17.417\\\\\n",
       "\t229 & Female & 18.6 & 18.8 & Right & L on R  & 70 & Right   & Freq & Regul & 167.00 & Metric   & 20.333\\\\\n",
       "\t230 & Male   & 18.6 & 19.6 & Right & L on R  & 71 & Right   & Freq & Occas & 185.00 & Metric   & 19.333\\\\\n",
       "\t231 & Female & 18.8 & 18.5 & Right & R on L  & 80 & Right   & Some & Never & 169.00 & Metric   & 18.167\\\\\n",
       "\t232 & Male   & 18.0 & 16.0 & Right & R on L  & NA & Right   & Some & Never & 180.34 & Imperial & 20.750\\\\\n",
       "\t233 & Female & 18.0 & 18.0 & Right & L on R  & 85 & Right   & Some & Never & 165.10 & Imperial & 17.667\\\\\n",
       "\t234 & Female & 18.5 & 18.0 & Right & L on R  & 88 & Right   & Some & Never & 160.00 & Metric   & 16.917\\\\\n",
       "\t235 & Female & 17.5 & 16.5 & Right & R on L  & NA & Right   & Some & Never & 170.00 & Metric   & 18.583\\\\\n",
       "\t236 & Male   & 21.0 & 21.5 & Right & R on L  & 90 & Right   & Some & Never & 183.00 & Metric   & 17.167\\\\\n",
       "\t237 & Female & 17.6 & 17.3 & Right & R on L  & 85 & Right   & Freq & Never & 168.50 & Metric   & 17.750\\\\\n",
       "\\end{tabular}\n"
      ],
      "text/markdown": [
       "\n",
       "A data.frame: 237 × 12\n",
       "\n",
       "| <!--/--> | Sex &lt;fct&gt; | Wr.Hnd &lt;dbl&gt; | NW.Hnd &lt;dbl&gt; | W.Hnd &lt;fct&gt; | Fold &lt;fct&gt; | Pulse &lt;int&gt; | Clap &lt;fct&gt; | Exer &lt;fct&gt; | Smoke &lt;fct&gt; | Height &lt;dbl&gt; | M.I &lt;fct&gt; | Age &lt;dbl&gt; |\n",
       "|---|---|---|---|---|---|---|---|---|---|---|---|---|\n",
       "| 1 | Female | 18.5 | 18.0 | Right | R on L  |  92 | Left    | Some | Never | 173.00 | Metric   | 18.250 |\n",
       "| 2 | Male   | 19.5 | 20.5 | Left  | R on L  | 104 | Left    | None | Regul | 177.80 | Imperial | 17.583 |\n",
       "| 3 | Male   | 18.0 | 13.3 | Right | L on R  |  87 | Neither | None | Occas |     NA | NA       | 16.917 |\n",
       "| 4 | Male   | 18.8 | 18.9 | Right | R on L  |  NA | Neither | None | Never | 160.00 | Metric   | 20.333 |\n",
       "| 5 | Male   | 20.0 | 20.0 | Right | Neither |  35 | Right   | Some | Never | 165.00 | Metric   | 23.667 |\n",
       "| 6 | Female | 18.0 | 17.7 | Right | L on R  |  64 | Right   | Some | Never | 172.72 | Imperial | 21.000 |\n",
       "| 7 | Male   | 17.7 | 17.7 | Right | L on R  |  83 | Right   | Freq | Never | 182.88 | Imperial | 18.833 |\n",
       "| 8 | Female | 17.0 | 17.3 | Right | R on L  |  74 | Right   | Freq | Never | 157.00 | Metric   | 35.833 |\n",
       "| 9 | Male   | 20.0 | 19.5 | Right | R on L  |  72 | Right   | Some | Never | 175.00 | Metric   | 19.000 |\n",
       "| 10 | Male   | 18.5 | 18.5 | Right | R on L  |  90 | Right   | Some | Never | 167.00 | Metric   | 22.333 |\n",
       "| 11 | Female | 17.0 | 17.2 | Right | L on R  |  80 | Right   | Freq | Never | 156.20 | Imperial | 28.500 |\n",
       "| 12 | Male   | 21.0 | 21.0 | Right | R on L  |  68 | Left    | Freq | Never |     NA | NA       | 18.250 |\n",
       "| 13 | Female | 16.0 | 16.0 | Right | L on R  |  NA | Right   | Some | Never | 155.00 | Metric   | 18.750 |\n",
       "| 14 | Female | 19.5 | 20.2 | Right | L on R  |  66 | Neither | Some | Never | 155.00 | Metric   | 17.500 |\n",
       "| 15 | Male   | 16.0 | 15.5 | Right | R on L  |  60 | Right   | Some | Never |     NA | NA       | 17.167 |\n",
       "| 16 | Female | 17.5 | 17.0 | Right | R on L  |  NA | Right   | Freq | Never | 156.00 | Metric   | 17.167 |\n",
       "| 17 | Female | 18.0 | 18.0 | Right | L on R  |  89 | Neither | Freq | Never | 157.00 | Metric   | 19.333 |\n",
       "| 18 | Male   | 19.4 | 19.2 | Left  | R on L  |  74 | Right   | Some | Never | 182.88 | Imperial | 18.333 |\n",
       "| 19 | Male   | 20.5 | 20.5 | Right | L on R  |  NA | Left    | Some | Never | 190.50 | Imperial | 19.750 |\n",
       "| 20 | Male   | 21.0 | 20.9 | Right | R on L  |  78 | Right   | Freq | Never | 177.00 | Metric   | 17.917 |\n",
       "| 21 | Male   | 21.5 | 22.0 | Right | R on L  |  72 | Left    | Freq | Never | 190.50 | Imperial | 17.917 |\n",
       "| 22 | Male   | 20.1 | 20.7 | Right | L on R  |  72 | Right   | Freq | Never | 180.34 | Imperial | 18.167 |\n",
       "| 23 | Male   | 18.5 | 18.0 | Right | L on R  |  64 | Right   | Freq | Never | 180.34 | Imperial | 17.833 |\n",
       "| 24 | Male   | 21.5 | 21.2 | Right | R on L  |  62 | Right   | Some | Never | 184.00 | Metric   | 18.250 |\n",
       "| 25 | Female | 17.0 | 17.5 | Right | R on L  |  64 | Left    | Some | Never |     NA | NA       | 19.167 |\n",
       "| 26 | Male   | 18.5 | 18.5 | Right | Neither |  90 | Neither | Some | Never |     NA | NA       | 17.583 |\n",
       "| 27 | Male   | 21.0 | 20.7 | Right | R on L  |  90 | Right   | Some | Never | 172.72 | Imperial | 17.500 |\n",
       "| 28 | Male   | 20.8 | 21.4 | Right | R on L  |  62 | Neither | Freq | Never | 175.26 | Imperial | 18.083 |\n",
       "| 29 | Male   | 17.8 | 17.8 | Right | L on R  |  76 | Neither | Freq | Never |     NA | NA       | 21.917 |\n",
       "| 30 | Male   | 19.5 | 19.5 | Right | L on R  |  79 | Right   | Some | Never | 167.00 | Metric   | 19.250 |\n",
       "| ⋮ | ⋮ | ⋮ | ⋮ | ⋮ | ⋮ | ⋮ | ⋮ | ⋮ | ⋮ | ⋮ | ⋮ | ⋮ |\n",
       "| 208 | Male   | 17.5 | 17.6 | Right | R on L  | 84 | Right   | Some | Never | 160.00 | Metric   | 18.583 |\n",
       "| 209 | Male   | 17.5 | 17.0 | Left  | L on R  | 97 | Neither | None | Never | 165.00 | Metric   | 19.500 |\n",
       "| 210 | Female | 20.8 | 20.7 | Right | R on L  | NA | Neither | Freq | Never | 171.50 | Metric   | 18.500 |\n",
       "| 211 | Female | 18.6 | 18.6 | Right | L on R  | 74 | Right   | Some | Never | 160.00 | Metric   | 17.167 |\n",
       "| 212 | Female | 17.5 | 17.5 | Left  | R on L  | 83 | Neither | Some | Never | 163.00 | Metric   | 17.250 |\n",
       "| 213 | Male   | 18.0 | 18.5 | Right | R on L  | 78 | Right   | Freq | Never |     NA | NA       | 17.500 |\n",
       "| 214 | Male   | 17.0 | 17.5 | Right | R on L  | 65 | Right   | Some | Never | 165.00 | Metric   | 20.417 |\n",
       "| 215 | Female | 18.0 | 17.8 | Right | L on R  | 68 | Right   | Some | Never | 168.90 | Imperial | 17.083 |\n",
       "| 216 | Male   | 19.5 | 20.0 | Right | Neither | NA | Right   | Some | Never | 170.00 | Metric   | 21.250 |\n",
       "| 217 | Female | 16.3 | 16.2 | Right | L on R  | NA | Right   | None | Never |     NA | NA       | 19.250 |\n",
       "| 218 | Male   | 18.2 | 19.8 | Right | R on L  | 88 | Right   | Freq | Never | 185.00 | Metric   | 19.333 |\n",
       "| 219 | Female | 17.0 | 17.3 | Right | L on R  | NA | Neither | Freq | Never | 173.00 | Metric   | 19.167 |\n",
       "| 220 | Male   | 23.2 | 23.2 | Right | L on R  | 75 | Right   | Freq | Never | 188.00 | Metric   | 18.917 |\n",
       "| 221 | Male   | 23.2 | 23.3 | Right | L on R  | NA | Right   | None | Heavy | 171.00 | Metric   | 20.917 |\n",
       "| 222 | Female | 15.9 | 16.5 | Right | R on L  | 70 | Right   | Freq | Never | 167.64 | Imperial | 17.333 |\n",
       "| 223 | Female | 17.5 | 18.4 | Right | R on L  | 88 | Right   | Some | Never | 162.56 | Imperial | 18.167 |\n",
       "| 224 | Female | 17.5 | 17.6 | Right | L on R  | NA | Right   | Freq | Never | 150.00 | Metric   | 20.750 |\n",
       "| 225 | Female | 17.6 | 17.2 | Right | L on R  | NA | Right   | Some | Never |     NA | NA       | 19.917 |\n",
       "| 226 | Female | 17.5 | 17.8 | Right | R on L  | 96 | Right   | Some | Never |     NA | NA       | 18.667 |\n",
       "| 227 | Female | 18.8 | 18.3 | Right | R on L  | 80 | Right   | Some | Heavy | 170.18 | Imperial | 18.417 |\n",
       "| 228 | Male   | 20.0 | 19.8 | Right | L on R  | 68 | Right   | Freq | Never | 185.00 | Metric   | 17.417 |\n",
       "| 229 | Female | 18.6 | 18.8 | Right | L on R  | 70 | Right   | Freq | Regul | 167.00 | Metric   | 20.333 |\n",
       "| 230 | Male   | 18.6 | 19.6 | Right | L on R  | 71 | Right   | Freq | Occas | 185.00 | Metric   | 19.333 |\n",
       "| 231 | Female | 18.8 | 18.5 | Right | R on L  | 80 | Right   | Some | Never | 169.00 | Metric   | 18.167 |\n",
       "| 232 | Male   | 18.0 | 16.0 | Right | R on L  | NA | Right   | Some | Never | 180.34 | Imperial | 20.750 |\n",
       "| 233 | Female | 18.0 | 18.0 | Right | L on R  | 85 | Right   | Some | Never | 165.10 | Imperial | 17.667 |\n",
       "| 234 | Female | 18.5 | 18.0 | Right | L on R  | 88 | Right   | Some | Never | 160.00 | Metric   | 16.917 |\n",
       "| 235 | Female | 17.5 | 16.5 | Right | R on L  | NA | Right   | Some | Never | 170.00 | Metric   | 18.583 |\n",
       "| 236 | Male   | 21.0 | 21.5 | Right | R on L  | 90 | Right   | Some | Never | 183.00 | Metric   | 17.167 |\n",
       "| 237 | Female | 17.6 | 17.3 | Right | R on L  | 85 | Right   | Freq | Never | 168.50 | Metric   | 17.750 |\n",
       "\n"
      ],
      "text/plain": [
       "    Sex    Wr.Hnd NW.Hnd W.Hnd Fold    Pulse Clap    Exer Smoke Height M.I     \n",
       "1   Female 18.5   18.0   Right R on L   92   Left    Some Never 173.00 Metric  \n",
       "2   Male   19.5   20.5   Left  R on L  104   Left    None Regul 177.80 Imperial\n",
       "3   Male   18.0   13.3   Right L on R   87   Neither None Occas     NA NA      \n",
       "4   Male   18.8   18.9   Right R on L   NA   Neither None Never 160.00 Metric  \n",
       "5   Male   20.0   20.0   Right Neither  35   Right   Some Never 165.00 Metric  \n",
       "6   Female 18.0   17.7   Right L on R   64   Right   Some Never 172.72 Imperial\n",
       "7   Male   17.7   17.7   Right L on R   83   Right   Freq Never 182.88 Imperial\n",
       "8   Female 17.0   17.3   Right R on L   74   Right   Freq Never 157.00 Metric  \n",
       "9   Male   20.0   19.5   Right R on L   72   Right   Some Never 175.00 Metric  \n",
       "10  Male   18.5   18.5   Right R on L   90   Right   Some Never 167.00 Metric  \n",
       "11  Female 17.0   17.2   Right L on R   80   Right   Freq Never 156.20 Imperial\n",
       "12  Male   21.0   21.0   Right R on L   68   Left    Freq Never     NA NA      \n",
       "13  Female 16.0   16.0   Right L on R   NA   Right   Some Never 155.00 Metric  \n",
       "14  Female 19.5   20.2   Right L on R   66   Neither Some Never 155.00 Metric  \n",
       "15  Male   16.0   15.5   Right R on L   60   Right   Some Never     NA NA      \n",
       "16  Female 17.5   17.0   Right R on L   NA   Right   Freq Never 156.00 Metric  \n",
       "17  Female 18.0   18.0   Right L on R   89   Neither Freq Never 157.00 Metric  \n",
       "18  Male   19.4   19.2   Left  R on L   74   Right   Some Never 182.88 Imperial\n",
       "19  Male   20.5   20.5   Right L on R   NA   Left    Some Never 190.50 Imperial\n",
       "20  Male   21.0   20.9   Right R on L   78   Right   Freq Never 177.00 Metric  \n",
       "21  Male   21.5   22.0   Right R on L   72   Left    Freq Never 190.50 Imperial\n",
       "22  Male   20.1   20.7   Right L on R   72   Right   Freq Never 180.34 Imperial\n",
       "23  Male   18.5   18.0   Right L on R   64   Right   Freq Never 180.34 Imperial\n",
       "24  Male   21.5   21.2   Right R on L   62   Right   Some Never 184.00 Metric  \n",
       "25  Female 17.0   17.5   Right R on L   64   Left    Some Never     NA NA      \n",
       "26  Male   18.5   18.5   Right Neither  90   Neither Some Never     NA NA      \n",
       "27  Male   21.0   20.7   Right R on L   90   Right   Some Never 172.72 Imperial\n",
       "28  Male   20.8   21.4   Right R on L   62   Neither Freq Never 175.26 Imperial\n",
       "29  Male   17.8   17.8   Right L on R   76   Neither Freq Never     NA NA      \n",
       "30  Male   19.5   19.5   Right L on R   79   Right   Some Never 167.00 Metric  \n",
       "⋮   ⋮      ⋮      ⋮      ⋮     ⋮       ⋮     ⋮       ⋮    ⋮     ⋮      ⋮       \n",
       "208 Male   17.5   17.6   Right R on L  84    Right   Some Never 160.00 Metric  \n",
       "209 Male   17.5   17.0   Left  L on R  97    Neither None Never 165.00 Metric  \n",
       "210 Female 20.8   20.7   Right R on L  NA    Neither Freq Never 171.50 Metric  \n",
       "211 Female 18.6   18.6   Right L on R  74    Right   Some Never 160.00 Metric  \n",
       "212 Female 17.5   17.5   Left  R on L  83    Neither Some Never 163.00 Metric  \n",
       "213 Male   18.0   18.5   Right R on L  78    Right   Freq Never     NA NA      \n",
       "214 Male   17.0   17.5   Right R on L  65    Right   Some Never 165.00 Metric  \n",
       "215 Female 18.0   17.8   Right L on R  68    Right   Some Never 168.90 Imperial\n",
       "216 Male   19.5   20.0   Right Neither NA    Right   Some Never 170.00 Metric  \n",
       "217 Female 16.3   16.2   Right L on R  NA    Right   None Never     NA NA      \n",
       "218 Male   18.2   19.8   Right R on L  88    Right   Freq Never 185.00 Metric  \n",
       "219 Female 17.0   17.3   Right L on R  NA    Neither Freq Never 173.00 Metric  \n",
       "220 Male   23.2   23.2   Right L on R  75    Right   Freq Never 188.00 Metric  \n",
       "221 Male   23.2   23.3   Right L on R  NA    Right   None Heavy 171.00 Metric  \n",
       "222 Female 15.9   16.5   Right R on L  70    Right   Freq Never 167.64 Imperial\n",
       "223 Female 17.5   18.4   Right R on L  88    Right   Some Never 162.56 Imperial\n",
       "224 Female 17.5   17.6   Right L on R  NA    Right   Freq Never 150.00 Metric  \n",
       "225 Female 17.6   17.2   Right L on R  NA    Right   Some Never     NA NA      \n",
       "226 Female 17.5   17.8   Right R on L  96    Right   Some Never     NA NA      \n",
       "227 Female 18.8   18.3   Right R on L  80    Right   Some Heavy 170.18 Imperial\n",
       "228 Male   20.0   19.8   Right L on R  68    Right   Freq Never 185.00 Metric  \n",
       "229 Female 18.6   18.8   Right L on R  70    Right   Freq Regul 167.00 Metric  \n",
       "230 Male   18.6   19.6   Right L on R  71    Right   Freq Occas 185.00 Metric  \n",
       "231 Female 18.8   18.5   Right R on L  80    Right   Some Never 169.00 Metric  \n",
       "232 Male   18.0   16.0   Right R on L  NA    Right   Some Never 180.34 Imperial\n",
       "233 Female 18.0   18.0   Right L on R  85    Right   Some Never 165.10 Imperial\n",
       "234 Female 18.5   18.0   Right L on R  88    Right   Some Never 160.00 Metric  \n",
       "235 Female 17.5   16.5   Right R on L  NA    Right   Some Never 170.00 Metric  \n",
       "236 Male   21.0   21.5   Right R on L  90    Right   Some Never 183.00 Metric  \n",
       "237 Female 17.6   17.3   Right R on L  85    Right   Freq Never 168.50 Metric  \n",
       "    Age   \n",
       "1   18.250\n",
       "2   17.583\n",
       "3   16.917\n",
       "4   20.333\n",
       "5   23.667\n",
       "6   21.000\n",
       "7   18.833\n",
       "8   35.833\n",
       "9   19.000\n",
       "10  22.333\n",
       "11  28.500\n",
       "12  18.250\n",
       "13  18.750\n",
       "14  17.500\n",
       "15  17.167\n",
       "16  17.167\n",
       "17  19.333\n",
       "18  18.333\n",
       "19  19.750\n",
       "20  17.917\n",
       "21  17.917\n",
       "22  18.167\n",
       "23  17.833\n",
       "24  18.250\n",
       "25  19.167\n",
       "26  17.583\n",
       "27  17.500\n",
       "28  18.083\n",
       "29  21.917\n",
       "30  19.250\n",
       "⋮   ⋮     \n",
       "208 18.583\n",
       "209 19.500\n",
       "210 18.500\n",
       "211 17.167\n",
       "212 17.250\n",
       "213 17.500\n",
       "214 20.417\n",
       "215 17.083\n",
       "216 21.250\n",
       "217 19.250\n",
       "218 19.333\n",
       "219 19.167\n",
       "220 18.917\n",
       "221 20.917\n",
       "222 17.333\n",
       "223 18.167\n",
       "224 20.750\n",
       "225 19.917\n",
       "226 18.667\n",
       "227 18.417\n",
       "228 17.417\n",
       "229 20.333\n",
       "230 19.333\n",
       "231 18.167\n",
       "232 20.750\n",
       "233 17.667\n",
       "234 16.917\n",
       "235 18.583\n",
       "236 17.167\n",
       "237 17.750"
      ]
     },
     "metadata": {},
     "output_type": "display_data"
    }
   ],
   "source": [
    "estudiantes <- data.frame(survey)\n",
    "estudiantes"
   ]
  },
  {
   "cell_type": "code",
   "execution_count": null,
   "metadata": {},
   "outputs": [],
   "source": []
  },
  {
   "cell_type": "markdown",
   "metadata": {},
   "source": [
    "### Ejercicio 7: Presupuesto\n",
    "El conjunto zuni del paquete lawstat, contiene 3 variables, distrito, ingreso por estudiante en dólares y el número de estudiantes.\n",
    "\n",
    "¿Considerarías el 5% más bajo outliers o extremos?\n",
    "Quitando el 5% inferior hagan el gráfico de estimación de densidad ¿Es simétrico?\n",
    "Hagan un Q-Q plot y comenten si es normal o no."
   ]
  },
  {
   "cell_type": "code",
   "execution_count": 63,
   "metadata": {},
   "outputs": [
    {
     "name": "stderr",
     "output_type": "stream",
     "text": [
      "Updating HTML index of packages in '.Library'\n",
      "\n",
      "Making 'packages.html' ...\n",
      " done\n",
      "\n"
     ]
    }
   ],
   "source": [
    "install.packages(\"lawstat\")\n",
    "library(lawstat)"
   ]
  },
  {
   "cell_type": "code",
   "execution_count": 73,
   "metadata": {},
   "outputs": [],
   "source": [
    "z <- data.frame(zuni)"
   ]
  },
  {
   "cell_type": "code",
   "execution_count": 72,
   "metadata": {},
   "outputs": [
    {
     "ename": "ERROR",
     "evalue": "Error in hist.default(z, freq = F): 'x' must be numeric\n",
     "output_type": "error",
     "traceback": [
      "Error in hist.default(z, freq = F): 'x' must be numeric\nTraceback:\n",
      "1. hist(z, freq = F)",
      "2. hist.default(z, freq = F)",
      "3. stop(\"'x' must be numeric\")"
     ]
    }
   ],
   "source": [
    "hist(z, freq = F)\n",
    "lines(density(z))"
   ]
  },
  {
   "cell_type": "code",
   "execution_count": null,
   "metadata": {},
   "outputs": [],
   "source": []
  }
 ],
 "metadata": {
  "kernelspec": {
   "display_name": "R",
   "language": "R",
   "name": "ir"
  },
  "language_info": {
   "codemirror_mode": "r",
   "file_extension": ".r",
   "mimetype": "text/x-r-source",
   "name": "R",
   "pygments_lexer": "r",
   "version": "3.6.3"
  }
 },
 "nbformat": 4,
 "nbformat_minor": 4
}
