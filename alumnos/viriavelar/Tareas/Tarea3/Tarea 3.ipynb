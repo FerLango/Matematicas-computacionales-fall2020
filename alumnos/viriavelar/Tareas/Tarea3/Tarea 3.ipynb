{
 "cells": [
  {
   "cell_type": "markdown",
   "metadata": {},
   "source": [
    "# Parte 1"
   ]
  },
  {
   "cell_type": "markdown",
   "metadata": {},
   "source": [
    "De la base de datos de proyecciones poblacionales de CONAPO (aquí la base), hacer al menos 5 visualizaciones para entender el crecimiento poblacional. Se tienen muchas variables y categorías por explorar, se espera un análisis y contexto de las gráficas así como una interpretación."
   ]
  },
  {
   "cell_type": "code",
   "execution_count": 2,
   "metadata": {},
   "outputs": [],
   "source": [
    "pob <- read.csv(\"pob.csv\",header=TRUE, sep=\",\",fileEncoding=\"iso-8859-1\")"
   ]
  },
  {
   "cell_type": "code",
   "execution_count": 6,
   "metadata": {},
   "outputs": [
    {
     "name": "stdout",
     "output_type": "stream",
     "text": [
      "'data.frame':\t592460 obs. of  7 variables:\n",
      " $ RENGLON  : int  1 2 3 4 5 6 7 8 9 10 ...\n",
      " $ AÑO      : int  1950 1950 1950 1950 1950 1950 1950 1950 1950 1950 ...\n",
      " $ ENTIDAD  : Factor w/ 33 levels \"Aguascalientes\",..: 24 24 24 24 24 24 24 24 24 24 ...\n",
      " $ CVE_GEO  : int  0 0 0 0 0 0 0 0 0 0 ...\n",
      " $ EDAD     : int  0 0 1 1 2 2 3 3 4 4 ...\n",
      " $ SEXO     : Factor w/ 2 levels \"Hombres\",\"Mujeres\": 1 2 1 2 1 2 1 2 1 2 ...\n",
      " $ POBLACION: int  572103 559162 514540 505269 478546 469322 451932 442707 430010 420903 ...\n"
     ]
    }
   ],
   "source": [
    "str(pob)"
   ]
  },
  {
   "cell_type": "code",
   "execution_count": 5,
   "metadata": {},
   "outputs": [
    {
     "data": {
      "text/html": [
       "<style>\n",
       ".list-inline {list-style: none; margin:0; padding: 0}\n",
       ".list-inline>li {display: inline-block}\n",
       ".list-inline>li:not(:last-child)::after {content: \"\\00b7\"; padding: 0 .5ex}\n",
       "</style>\n",
       "<ol class=list-inline><li>'RENGLON'</li><li>'AÑO'</li><li>'ENTIDAD'</li><li>'CVE_GEO'</li><li>'EDAD'</li><li>'SEXO'</li><li>'POBLACION'</li></ol>\n"
      ],
      "text/latex": [
       "\\begin{enumerate*}\n",
       "\\item 'RENGLON'\n",
       "\\item 'AÑO'\n",
       "\\item 'ENTIDAD'\n",
       "\\item 'CVE\\_GEO'\n",
       "\\item 'EDAD'\n",
       "\\item 'SEXO'\n",
       "\\item 'POBLACION'\n",
       "\\end{enumerate*}\n"
      ],
      "text/markdown": [
       "1. 'RENGLON'\n",
       "2. 'AÑO'\n",
       "3. 'ENTIDAD'\n",
       "4. 'CVE_GEO'\n",
       "5. 'EDAD'\n",
       "6. 'SEXO'\n",
       "7. 'POBLACION'\n",
       "\n",
       "\n"
      ],
      "text/plain": [
       "[1] \"RENGLON\"   \"AÑO\"       \"ENTIDAD\"   \"CVE_GEO\"   \"EDAD\"      \"SEXO\"     \n",
       "[7] \"POBLACION\""
      ]
     },
     "metadata": {},
     "output_type": "display_data"
    }
   ],
   "source": [
    "names(pob)"
   ]
  },
  {
   "cell_type": "markdown",
   "metadata": {},
   "source": [
    "# Parte 2"
   ]
  },
  {
   "cell_type": "markdown",
   "metadata": {},
   "source": [
    "Con la misma base de datos, se requiere hacer todas las visualizaciones interactivas; las mismas 5 o más visualizaciones, ahora interactivas (recuerden plot.ly). Sugerencia: el año tiene que ser una de estas categorías ya que son proyecciones.\n",
    "\n"
   ]
  },
  {
   "cell_type": "markdown",
   "metadata": {},
   "source": [
    "# Parte 3"
   ]
  },
  {
   "cell_type": "markdown",
   "metadata": {},
   "source": [
    "* Hacer 1 ejercicio de cada sección de cada clase\n",
    "\n",
    "Visualizaciones interactivas para el cruce de variables filtrado por sexo."
   ]
  },
  {
   "cell_type": "code",
   "execution_count": null,
   "metadata": {},
   "outputs": [],
   "source": []
  }
 ],
 "metadata": {
  "kernelspec": {
   "display_name": "R",
   "language": "R",
   "name": "ir"
  },
  "language_info": {
   "codemirror_mode": "r",
   "file_extension": ".r",
   "mimetype": "text/x-r-source",
   "name": "R",
   "pygments_lexer": "r",
   "version": "3.6.3"
  }
 },
 "nbformat": 4,
 "nbformat_minor": 4
}
