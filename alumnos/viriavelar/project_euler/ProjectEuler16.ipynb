{
 "cells": [
  {
   "cell_type": "markdown",
   "metadata": {},
   "source": [
    "# Proyecto 16 - Power digit sum"
   ]
  },
  {
   "cell_type": "markdown",
   "metadata": {},
   "source": [
    "2^15 = 32768 and the sum of its digits is 3 + 2 + 7 + 6 + 8 = 26.\n",
    "\n",
    "What is the sum of the digits of the number 2^1000?"
   ]
  },
  {
   "cell_type": "code",
   "execution_count": 1,
   "metadata": {},
   "outputs": [
    {
     "name": "stdout",
     "output_type": "stream",
     "text": [
      "La suma de los dígitos de 2 a la 1000 es: 1366\n"
     ]
    }
   ],
   "source": [
    "import math\n",
    "\n",
    "numero = str(int(math.pow(2,1000))) #Calcula 2^1000 \n",
    "\n",
    "lista = 0  #La lista empieza en 0 \n",
    "\n",
    "lista = [int(i) for i in numero] #Crea una lista con todos los números convertidos para poder sumar\n",
    "\n",
    "suma = str(sum(lista)) #Suma todos los números y lo vuelve string para poder imprimirlo\n",
    "\n",
    "print(\"La suma de los dígitos de 2 a la 1000 es: \" + suma)"
   ]
  },
  {
   "cell_type": "code",
   "execution_count": null,
   "metadata": {},
   "outputs": [],
   "source": []
  }
 ],
 "metadata": {
  "kernelspec": {
   "display_name": "Python 3",
   "language": "python",
   "name": "python3"
  },
  "language_info": {
   "codemirror_mode": {
    "name": "ipython",
    "version": 3
   },
   "file_extension": ".py",
   "mimetype": "text/x-python",
   "name": "python",
   "nbconvert_exporter": "python",
   "pygments_lexer": "ipython3",
   "version": "3.8.5"
  }
 },
 "nbformat": 4,
 "nbformat_minor": 4
}
